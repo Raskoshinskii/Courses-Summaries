{
 "cells": [
  {
   "cell_type": "markdown",
   "id": "cb005c38-b04d-4e2c-ab2b-9063fa264f48",
   "metadata": {},
   "source": [
    "### Model Management "
   ]
  },
  {
   "cell_type": "code",
   "execution_count": 18,
   "id": "0212d424-6a50-41b2-81d3-add31e2aef73",
   "metadata": {},
   "outputs": [
    {
     "data": {
      "text/plain": [
       "<Experiment: artifact_location='./mlruns/1', experiment_id='1', lifecycle_stage='active', name='experiment_1', tags={}>"
      ]
     },
     "execution_count": 18,
     "metadata": {},
     "output_type": "execute_result"
    }
   ],
   "source": [
    "import pandas as pd\n",
    "import warnings\n",
    "import mlflow\n",
    "import pickle\n",
    "\n",
    "from sklearn.linear_model import Lasso\n",
    "from sklearn.metrics import mean_squared_error\n",
    "\n",
    "warnings.filterwarnings('ignore')\n",
    "mlflow.set_tracking_uri('sqlite:///mlflow.db')\n",
    "mlflow.set_experiment('experiment_1')"
   ]
  },
  {
   "cell_type": "code",
   "execution_count": 4,
   "id": "aae7832e-5bd5-49f4-adf2-f6d374ae70bf",
   "metadata": {},
   "outputs": [],
   "source": [
    "# 1. Create a func for features obtaining \n",
    "def prepare_df(filename):\n",
    "    data = pd.read_parquet(filename)\n",
    "    \n",
    "    # Target Creation\n",
    "    data['duration'] = data['lpep_dropoff_datetime'] - data['lpep_pickup_datetime']\n",
    "    data['duration'] = data['duration'].apply(lambda x: x.total_seconds() / 60)\n",
    "    \n",
    "    # Filtering\n",
    "    data = data[(data['duration'] >= 1) & (data['duration'] <= 60)]\n",
    "    return data\n",
    "\n",
    "def transform_df(df, cat_columns, num_columns):\n",
    "    cat_dummies = pd.get_dummies(data=df[cat_columns], columns=cat_columns, prefix_sep='_is_')\n",
    "    data = pd.concat([df[num_columns], cat_dummies], axis='columns')\n",
    "    data['duration'] = df['duration']\n",
    "    return data"
   ]
  },
  {
   "cell_type": "code",
   "execution_count": 5,
   "id": "3da4549a-9abc-4ef6-b74f-94dc562eb354",
   "metadata": {},
   "outputs": [
    {
     "name": "stdout",
     "output_type": "stream",
     "text": [
      "Train Shape:  (73908, 496)\n",
      "Validation Shape:  (61921, 496)\n"
     ]
    }
   ],
   "source": [
    "df_train = prepare_df('../data/green_tripdata_2021-01.parquet')\n",
    "df_val = prepare_df('../data/green_tripdata_2021-02.parquet')\n",
    "\n",
    "cat_columns = ['PULocationID', 'DOLocationID']\n",
    "num_columns = ['trip_distance']\n",
    "\n",
    "df_train = transform_df(df_train, cat_columns=cat_columns, num_columns=num_columns)\n",
    "df_val = transform_df(df_val, cat_columns=cat_columns, num_columns=num_columns)\n",
    "\n",
    "\n",
    "common_features = set(df_train.columns).intersection(df_val.columns)\n",
    "df_train = df_train[common_features]\n",
    "df_val = df_val[common_features]\n",
    "\n",
    "print('Train Shape: ', df_train.shape)\n",
    "print('Validation Shape: ', df_val.shape)\n",
    "\n",
    "# Train/Validation Data\n",
    "X_train = df_train.drop(columns=['duration'])\n",
    "y_train = df_train['duration']\n",
    "\n",
    "X_test = df_val.drop(columns=['duration'])\n",
    "y_test = df_val['duration']"
   ]
  },
  {
   "cell_type": "markdown",
   "id": "9e56e36c-b0f1-4aba-a18b-9f6d80c008fb",
   "metadata": {},
   "source": [
    "### Model Logging \n",
    "Model can be logged as:\n",
    "- Artifact: `mlflow.log_artifact('model_name', artifact_path='...')`\n",
    "- Using `log_model`"
   ]
  },
  {
   "cell_type": "code",
   "execution_count": 17,
   "id": "c3667a81-2ebf-440f-94d5-a89bdb21b6ae",
   "metadata": {},
   "outputs": [],
   "source": [
    "with mlflow.start_run():\n",
    "    mlflow.set_tag('MLE', 'vlad') # tag info\n",
    "    # Keep track of used data\n",
    "    mlflow.log_param('train_data_path', '../data/green_tripdata_2021-01.parquet')\n",
    "    mlflow.log_param('valid_data_path', '../data/green_tripdata_2021-02.parquet')\n",
    "    \n",
    "    alpha = 0.01\n",
    "    mlflow.log_param('alpha', alpha) # log hyperparameters\n",
    "    \n",
    "    model = Lasso(alpha)\n",
    "    model.fit(X_train, y_train)\n",
    "\n",
    "    preds_train = model.predict(X_train)\n",
    "    preds_val = model.predict(X_test)\n",
    "    \n",
    "    rmse_train = mean_squared_error(y_train, preds_train, squared=False)\n",
    "    rmse_val = mean_squared_error(y_test, preds_val, squared=False)\n",
    "    \n",
    "    # Log the metrics\n",
    "    mlflow.log_metric('rmse_train', rmse_train)\n",
    "    mlflow.log_metric('rmse_val', rmse_val)\n",
    "    \n",
    "    # Save the train_data\n",
    "    with open('artifacts/train_data.b', 'wb') as f_out:\n",
    "        pickle.dump(df_train, f_out)\n",
    "    \n",
    "    # Log the model\n",
    "    mlflow.sklearn.log_model(model, artifact_path='models_mlflow')\n",
    "    \n",
    "    # Log the model data\n",
    "    mlflow.log_artifact('artifacts/train_data.b', artifact_path='model_features')"
   ]
  },
  {
   "cell_type": "markdown",
   "id": "4f31e6c6-483a-4dcb-b6ed-821268ca4a39",
   "metadata": {},
   "source": [
    "### Model Loading from MLFlow"
   ]
  },
  {
   "cell_type": "code",
   "execution_count": 20,
   "id": "ffd1acc2-e950-427f-aa2c-a38561032867",
   "metadata": {},
   "outputs": [
    {
     "data": {
      "text/plain": [
       "mlflow.pyfunc.loaded_model:\n",
       "  artifact_path: models_mlflow\n",
       "  flavor: mlflow.sklearn\n",
       "  run_id: a8429de221ce4154923a9ad2c8dce145"
      ]
     },
     "execution_count": 20,
     "metadata": {},
     "output_type": "execute_result"
    }
   ],
   "source": [
    "# Option 1\n",
    "logged_model = 'runs:/a8429de221ce4154923a9ad2c8dce145/models_mlflow'\n",
    "\n",
    "# Load model as a PyFuncModel.\n",
    "loaded_model = mlflow.pyfunc.load_model(logged_model)\n",
    "loaded_model"
   ]
  },
  {
   "cell_type": "code",
   "execution_count": 21,
   "id": "89c454ef-addb-4848-838e-d81fe1d5723b",
   "metadata": {},
   "outputs": [
    {
     "data": {
      "text/plain": [
       "Lasso(alpha=0.01)"
      ]
     },
     "execution_count": 21,
     "metadata": {},
     "output_type": "execute_result"
    }
   ],
   "source": [
    "# Option 2\n",
    "loaded_model = mlflow.sklearn.load_model(logged_model)\n",
    "loaded_model"
   ]
  },
  {
   "cell_type": "code",
   "execution_count": 22,
   "id": "fe3d3bea-47b6-4a47-91c8-74014447c10d",
   "metadata": {},
   "outputs": [
    {
     "data": {
      "text/plain": [
       "array([16.8474768 , 15.80225383, 21.1961692 , ..., 10.66641814,\n",
       "       10.27469823,  9.10592686])"
      ]
     },
     "execution_count": 22,
     "metadata": {},
     "output_type": "execute_result"
    }
   ],
   "source": [
    "model_preds = loaded_model.predict(X_test)\n",
    "model_preds"
   ]
  },
  {
   "cell_type": "code",
   "execution_count": null,
   "id": "e726591d-f1de-4716-9b9b-3f9e8cf74b5b",
   "metadata": {},
   "outputs": [],
   "source": []
  }
 ],
 "metadata": {
  "kernelspec": {
   "display_name": "Python 3",
   "language": "python",
   "name": "python3"
  },
  "language_info": {
   "codemirror_mode": {
    "name": "ipython",
    "version": 3
   },
   "file_extension": ".py",
   "mimetype": "text/x-python",
   "name": "python",
   "nbconvert_exporter": "python",
   "pygments_lexer": "ipython3",
   "version": "3.7.9"
  }
 },
 "nbformat": 4,
 "nbformat_minor": 5
}
