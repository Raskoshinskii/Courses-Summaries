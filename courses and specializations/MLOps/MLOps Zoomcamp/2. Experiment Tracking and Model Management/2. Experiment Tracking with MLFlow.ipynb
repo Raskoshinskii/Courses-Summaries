{
 "cells": [
  {
   "cell_type": "code",
   "execution_count": 3,
   "id": "ddafd9ef-5b85-4ef5-9d6e-77b69b8c7699",
   "metadata": {},
   "outputs": [
    {
     "data": {
      "text/plain": [
       "<Experiment: artifact_location='./mlruns/1', experiment_id='1', lifecycle_stage='active', name='experiment_1', tags={}>"
      ]
     },
     "execution_count": 3,
     "metadata": {},
     "output_type": "execute_result"
    }
   ],
   "source": [
    "import pandas as pd\n",
    "import seaborn as sns \n",
    "import matplotlib.pyplot as plt\n",
    "import warnings\n",
    "import mlflow\n",
    "\n",
    "import xgboost as xgb\n",
    "\n",
    "from hyperopt import fmin, tpe, hp, STATUS_OK, Trials\n",
    "from hyperopt.pyll import scope\n",
    "from sklearn.metrics import mean_squared_error\n",
    "\n",
    "warnings.filterwarnings('ignore')\n",
    "\n",
    "mlflow.set_tracking_uri('sqlite:///mlflow.db')\n",
    "mlflow.set_experiment('experiment_1')"
   ]
  },
  {
   "cell_type": "code",
   "execution_count": 4,
   "id": "42c98f38-cb8d-4f98-9c63-a1b08884c611",
   "metadata": {},
   "outputs": [],
   "source": [
    "# 1. Create a func for features obtaining \n",
    "def prepare_df(filename):\n",
    "    data = pd.read_parquet(filename)\n",
    "    \n",
    "    # Target Creation\n",
    "    data['duration'] = data['lpep_dropoff_datetime'] - data['lpep_pickup_datetime']\n",
    "    data['duration'] = data['duration'].apply(lambda x: x.total_seconds() / 60)\n",
    "    \n",
    "    # Filtering\n",
    "    data = data[(data['duration'] >= 1) & (data['duration'] <= 60)]\n",
    "    return data\n",
    "\n",
    "def transform_df(df, cat_columns, num_columns):\n",
    "    cat_dummies = pd.get_dummies(data=df[cat_columns], columns=cat_columns, prefix_sep='_is_')\n",
    "    data = pd.concat([df[num_columns], cat_dummies], axis='columns')\n",
    "    data['duration'] = df['duration']\n",
    "    return data"
   ]
  },
  {
   "cell_type": "code",
   "execution_count": 5,
   "id": "b8703200-1744-4ef5-ac06-4a49e1a42462",
   "metadata": {},
   "outputs": [
    {
     "name": "stdout",
     "output_type": "stream",
     "text": [
      "Train Shape:  (73908, 496)\n",
      "Validation Shape:  (61921, 496)\n"
     ]
    }
   ],
   "source": [
    "df_train = prepare_df('../data/green_tripdata_2021-01.parquet')\n",
    "df_val = prepare_df('../data/green_tripdata_2021-02.parquet')\n",
    "\n",
    "cat_columns = ['PULocationID', 'DOLocationID']\n",
    "num_columns = ['trip_distance']\n",
    "\n",
    "df_train = transform_df(df_train, cat_columns=cat_columns, num_columns=num_columns)\n",
    "df_val = transform_df(df_val, cat_columns=cat_columns, num_columns=num_columns)\n",
    "\n",
    "\n",
    "common_features = set(df_train.columns).intersection(df_val.columns)\n",
    "df_train = df_train[common_features]\n",
    "df_val = df_val[common_features]\n",
    "\n",
    "print('Train Shape: ', df_train.shape)\n",
    "print('Validation Shape: ', df_val.shape)\n",
    "\n",
    "# Train/Validation Data\n",
    "X_train = df_train.drop(columns=['duration'])\n",
    "y_train = df_train['duration']\n",
    "\n",
    "X_test = df_val.drop(columns=['duration'])\n",
    "y_test = df_val['duration']"
   ]
  },
  {
   "cell_type": "code",
   "execution_count": null,
   "id": "278eef77-2f11-4529-85c0-21747336d87b",
   "metadata": {},
   "outputs": [],
   "source": [
    "train_data = xgb.DMatrix(X_train, label=y_train)\n",
    "valid_data = xgb.DMatrix(X_test, label=y_test)"
   ]
  },
  {
   "cell_type": "code",
   "execution_count": 19,
   "id": "94e6fab5-cfb4-44cf-938e-8019fffc6f24",
   "metadata": {},
   "outputs": [],
   "source": [
    "def objective(params):\n",
    "    with mlflow.start_run():\n",
    "        mlflow.set_tag('model', 'xgboost')\n",
    "        mlflow.log_params(params)\n",
    "        xgb_tree = xgb.train(params=params,\n",
    "                             dtrain=train_data,\n",
    "                             num_boost_round=25,\n",
    "                             evals=[(valid_data, 'valid_data')],\n",
    "                             early_stopping_rounds=50,\n",
    "                             verbose_eval=False)\n",
    "        y_pred = xgb_tree.predict(valid_data)\n",
    "        rmse_val = mean_squared_error(y_test, y_pred, squared=False)\n",
    "        mlflow.log_metric('rmse_val', rmse_val)\n",
    "    return {'loss': rmse_val, 'status': STATUS_OK}"
   ]
  },
  {
   "cell_type": "code",
   "execution_count": 14,
   "id": "aef43672-c25a-4914-a0ed-556c129459cd",
   "metadata": {},
   "outputs": [],
   "source": [
    "searc_hspace = {\n",
    "    'max_depth': scope.int(hp.quniform('max_depth', 4, 100, 1)),\n",
    "    'learning_rate': hp.loguniform('learning_rate', -3, 0),\n",
    "    'reg_alpha': hp.loguniform('reg_alpha', -5, -1),\n",
    "    'reg_lambda': hp.loguniform('reg_lambda', -6, -1),\n",
    "    'min_child_weight': hp.loguniform('min_child_weight', -1, 3),\n",
    "    'objective': 'reg:linear',\n",
    "    'seed': 42\n",
    "}"
   ]
  },
  {
   "cell_type": "code",
   "execution_count": 18,
   "id": "5932bfe4-af8e-49ba-a0e6-210fc9a7c94d",
   "metadata": {},
   "outputs": [
    {
     "name": "stdout",
     "output_type": "stream",
     "text": [
      "[06:15:07] WARNING: C:/Users/Administrator/workspace/xgboost-win64_release_1.4.0/src/objective/regression_obj.cu:171: reg:linear is now deprecated in favor of reg:squarederror.\n",
      "[06:16:34] WARNING: C:/Users/Administrator/workspace/xgboost-win64_release_1.4.0/src/objective/regression_obj.cu:171: reg:linear is now deprecated in favor of reg:squarederror.\n",
      "[06:18:07] WARNING: C:/Users/Administrator/workspace/xgboost-win64_release_1.4.0/src/objective/regression_obj.cu:171: reg:linear is now deprecated in favor of reg:squarederror.\n",
      "[06:20:11] WARNING: C:/Users/Administrator/workspace/xgboost-win64_release_1.4.0/src/objective/regression_obj.cu:171: reg:linear is now deprecated in favor of reg:squarederror.\n",
      "[06:21:52] WARNING: C:/Users/Administrator/workspace/xgboost-win64_release_1.4.0/src/objective/regression_obj.cu:171: reg:linear is now deprecated in favor of reg:squarederror.\n",
      "100%|██████████| 5/5 [09:42<00:00, 116.42s/trial, best loss: 39.501860764902304]\n"
     ]
    }
   ],
   "source": [
    "best_result = fmin(fn=objective,\n",
    "                   space=searc_hspace,\n",
    "                   algo=tpe.suggest,\n",
    "                   max_evals=5,\n",
    "                   trials=Trials())"
   ]
  },
  {
   "cell_type": "markdown",
   "id": "4160f0ef-5b98-4578-99c8-f8de4e0214ef",
   "metadata": {},
   "source": [
    "**There is Automatic Logging:** https://mlflow.org/docs/latest/tracking.html#automatic-logging"
   ]
  },
  {
   "cell_type": "code",
   "execution_count": 21,
   "id": "daa3c6b8-a793-497b-909d-f682817b581d",
   "metadata": {},
   "outputs": [
    {
     "name": "stderr",
     "output_type": "stream",
     "text": [
      "2022/06/22 06:54:10 INFO mlflow.utils.autologging_utils: Created MLflow autologging run with ID '9a82df152df847b88532925d0ccefed3', which will track hyperparameters, performance metrics, model artifacts, and lineage information for the current xgboost workflow\n"
     ]
    },
    {
     "name": "stdout",
     "output_type": "stream",
     "text": [
      "[06:54:10] WARNING: C:/Users/Administrator/workspace/xgboost-win64_release_1.4.0/src/objective/regression_obj.cu:171: reg:linear is now deprecated in favor of reg:squarederror.\n"
     ]
    },
    {
     "name": "stderr",
     "output_type": "stream",
     "text": [
      "2022/06/22 06:56:07 WARNING mlflow.xgboost: Failed to infer model signature: could not sample data to infer model signature: please ensure that autologging is enabled before constructing the dataset.\n"
     ]
    }
   ],
   "source": [
    "# Best hyperparameters combination \n",
    "optimal_params = {\n",
    "    'learning_rate': 0.5652421328091554,\n",
    "    'max_depth': 86,\n",
    "    'min_child_weight': 19.718184879586808,\n",
    "    'objective': 'reg:linear',\n",
    "    'reg_alpha': 0.009935323656046538,\n",
    "    'reg_lambda': 0.16021002681628055,\n",
    "    'seed': 42\n",
    "}\n",
    "\n",
    "# Let's apply Automatic Logging\n",
    "mlflow.xgboost.autolog()\n",
    "\n",
    "# Train optimal Model\n",
    "xgb_tree = xgb.train(params=optimal_params,\n",
    "                     dtrain=train_data,\n",
    "                     num_boost_round=25,\n",
    "                     evals=[(valid_data, 'valid_data')],\n",
    "                     early_stopping_rounds=50,\n",
    "                     verbose_eval=False)"
   ]
  }
 ],
 "metadata": {
  "kernelspec": {
   "display_name": "Python 3",
   "language": "python",
   "name": "python3"
  },
  "language_info": {
   "codemirror_mode": {
    "name": "ipython",
    "version": 3
   },
   "file_extension": ".py",
   "mimetype": "text/x-python",
   "name": "python",
   "nbconvert_exporter": "python",
   "pygments_lexer": "ipython3",
   "version": "3.7.9"
  }
 },
 "nbformat": 4,
 "nbformat_minor": 5
}
