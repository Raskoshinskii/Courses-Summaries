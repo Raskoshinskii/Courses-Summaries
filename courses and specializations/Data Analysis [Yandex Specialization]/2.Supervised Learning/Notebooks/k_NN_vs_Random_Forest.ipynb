{
 "cells": [
  {
   "cell_type": "markdown",
   "metadata": {},
   "source": [
    "### 1NN против RandomForest\n",
    "В этом задании будет использоваться датасет ```digits``` из ```sklearn.datasets```. Оставьте последние 25% объектов для контроля качества, разделив x и y на ```x_train, y_train и x_test, y_test```.\n",
    "\n",
    "Целью задания будет реализовать самый простой метрический классификатор — метод ближайшего соседа, а также сравнить качество работы реализованного вами 1NN с ```RandomForestClassifier``` из sklearn на 1000 деревьях.\n",
    "\n",
    "**1)** Реализуйте самостоятельно метод одного ближайшего соседа с евклидовой метрикой для задачи классификации. Можно не извлекать корень из суммы квадратов отклонений, т.к. корень — монотонное преобразование и не влияет на результат работы алгоритма.\n",
    "\n",
    "Никакой дополнительной работы с признаками в этом задании делать не нужно — мы еще успеем этим заняться в других курсах. Ваша реализация может быть устроена следующим образом: можно для каждого классифицируемого объекта составлять список пар (расстояние до точки из обучающей выборки, метка класса в этой точке), затем сортировать этот список (по умолчанию сортировка будет сначала по первому элементу пары, затем по второму), а затем брать первый элемент (с наименьшим расстоянием).\n",
    "\n",
    "Сортировка массива длиной N требует порядка N log N сравнений (строже говоря, она работает за O(N log N)). Подумайте, как можно легко улучшить получившееся время работы. Кроме простого способа найти ближайший объект всего за N сравнений, можно попробовать придумать, как разбить пространство признаков на части и сделать структуру данных, которая позволит быстро искать соседей каждой точки. За выбор метода поиска ближайших соседей в KNeighborsClassifier из sklearn отвечает параметр algorithm — если у вас уже есть некоторый бэкграунд в алгоритмах и структурах данных, вам может быть интересно познакомиться со структурами данных ball tree и kd tree.\n",
    "\n",
    "Доля ошибок, допускаемых 1NN на тестовой выборке, — ответ в задании 1."
   ]
  },
  {
   "cell_type": "code",
   "execution_count": 96,
   "metadata": {},
   "outputs": [],
   "source": [
    "from sklearn.datasets import load_digits\n",
    "from sklearn.ensemble import RandomForestClassifier\n",
    "from sklearn.metrics import accuracy_score\n",
    "\n",
    "import numpy as np"
   ]
  },
  {
   "cell_type": "markdown",
   "metadata": {},
   "source": [
    "### Загрузка данных"
   ]
  },
  {
   "cell_type": "code",
   "execution_count": 89,
   "metadata": {},
   "outputs": [],
   "source": [
    "digits = load_digits()\n",
    "\n",
    "# На проверку оставляем 25% последних объектов, т.е. 450 объектов\n",
    "x_train, y_train, x_test, y_test = digits.data[:-450], digits.target[:-450], digits.data[-450:], digits.target[-450:]"
   ]
  },
  {
   "cell_type": "markdown",
   "metadata": {},
   "source": [
    "### 1 NN Implementation"
   ]
  },
  {
   "cell_type": "code",
   "execution_count": 93,
   "metadata": {},
   "outputs": [],
   "source": [
    "def find_nearest_neighbor(data_point, x, y):\n",
    "    n_objects = x.shape[0]\n",
    "    distances = {}\n",
    "    for indx in range(n_objects):\n",
    "        distances[indx] = np.sum((data_point - x[indx])**2)\n",
    "        \n",
    "    min_distance = sorted(distances.values())[0]\n",
    "    min_indx_obj = list(distances.values()).index(min_distance)\n",
    "    pred_label = y[min_indx_obj]\n",
    "    return pred_label\n",
    "\n",
    "def calculate_accuracy(x,y):\n",
    "    pred_labels = []\n",
    "    for indx in range(x.shape[0]):\n",
    "        pred_labels.append(find_nearest_neighbor(data_point=x[indx], x=x_train, y=y_train))\n",
    "    \n",
    "    return np.sum(pred_labels == y)/y.shape[0]\n",
    "\n",
    "def write_answ(file_name, value):\n",
    "    with open(file_name, 'w') as f:\n",
    "        f.write(str(value))"
   ]
  },
  {
   "cell_type": "code",
   "execution_count": 91,
   "metadata": {},
   "outputs": [
    {
     "name": "stdout",
     "output_type": "stream",
     "text": [
      "Test Accuracy:  0.9622222222222222\n",
      "Test Error:  0.0377777777777778\n"
     ]
    }
   ],
   "source": [
    "accuracy_test = calculate_accuracy(x_test, y_test)\n",
    "print('Test Accuracy: ', accuracy_test)\n",
    "print('Test Error: ', 1-accuracy_test)"
   ]
  },
  {
   "cell_type": "code",
   "execution_count": 94,
   "metadata": {},
   "outputs": [],
   "source": [
    "write_answ('answ_1.txt', 1-accuracy_test)"
   ]
  },
  {
   "cell_type": "markdown",
   "metadata": {},
   "source": [
    "### Random Forest\n",
    "**2)** Теперь обучите на обучающей выборке ```RandomForestClassifier(n_estimators=1000)``` из ```sklearn```. Сделайте прогнозы на тестовой выборке и оцените долю ошибок классификации на ней. Эта доля — ответ в задании 2. \n",
    "\n",
    "Обратите внимание на то, как соотносится качество работы случайного леса с качеством работы, пожалуй, одного из самых простых методов — 1NN. Такое различие — особенность данного датасета, но нужно всегда помнить, что такая ситуация тоже может иметь место, и не забывать про простые методы."
   ]
  },
  {
   "cell_type": "code",
   "execution_count": 100,
   "metadata": {},
   "outputs": [
    {
     "name": "stdout",
     "output_type": "stream",
     "text": [
      "Test Accuracy:  0.9355555555555556\n",
      "Test Error:  0.06444444444444442\n"
     ]
    }
   ],
   "source": [
    "# Обучаем лес\n",
    "rm_forest = RandomForestClassifier(n_estimators=1000)\n",
    "rm_forest.fit(x_train, y_train)\n",
    "\n",
    "preds = rm_forest.predict(x_test)\n",
    "accuracy = accuracy_score(y_test, preds)\n",
    "\n",
    "print('Test Accuracy: ', accuracy)\n",
    "print('Test Error: ', 1-accuracy)"
   ]
  },
  {
   "cell_type": "code",
   "execution_count": 101,
   "metadata": {},
   "outputs": [],
   "source": [
    "write_answ('answ_2.txt', 1-accuracy)"
   ]
  }
 ],
 "metadata": {
  "kernelspec": {
   "display_name": "Python 3",
   "language": "python",
   "name": "python3"
  },
  "language_info": {
   "codemirror_mode": {
    "name": "ipython",
    "version": 3
   },
   "file_extension": ".py",
   "mimetype": "text/x-python",
   "name": "python",
   "nbconvert_exporter": "python",
   "pygments_lexer": "ipython3",
   "version": "3.7.9"
  }
 },
 "nbformat": 4,
 "nbformat_minor": 4
}
