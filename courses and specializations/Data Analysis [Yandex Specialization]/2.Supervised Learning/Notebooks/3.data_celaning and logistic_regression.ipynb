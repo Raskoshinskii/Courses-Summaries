{
 "cells": [
  {
   "cell_type": "markdown",
   "metadata": {},
   "source": [
    "## Предобработка данных и логистическая регрессия для задачи бинарной классификации"
   ]
  },
  {
   "cell_type": "markdown",
   "metadata": {},
   "source": [
    "В задании вам будет предложено ознакомиться с основными техниками предобработки данных, а так же применить их для обучения модели логистической регрессии. Ответ потребуется загрузить в соответствующую форму в виде 6 текстовых файлов."
   ]
  },
  {
   "cell_type": "code",
   "execution_count": 3,
   "metadata": {},
   "outputs": [],
   "source": [
    "import pandas as pd\n",
    "import numpy as np\n",
    "import matplotlib\n",
    "from matplotlib import pyplot as plt\n",
    "matplotlib.style.use('ggplot')\n",
    "%matplotlib inline\n",
    "\n",
    "import warnings\n",
    "warnings.filterwarnings('ignore')"
   ]
  },
  {
   "cell_type": "markdown",
   "metadata": {},
   "source": [
    "## Описание датасета"
   ]
  },
  {
   "cell_type": "markdown",
   "metadata": {},
   "source": [
    "Задача: по 38 признакам, связанных с заявкой на грант (область исследований учёных, информация по их академическому бэкграунду, размер гранта, область, в которой он выдаётся) предсказать, будет ли заявка принята. Датасет включает в себя информацию по 6000 заявкам на гранты, которые были поданы в университете Мельбурна в период с 2004 по 2008 год.\n",
    "\n",
    "Полную версию данных с большим количеством признаков можно найти на https://www.kaggle.com/c/unimelb."
   ]
  },
  {
   "cell_type": "code",
   "execution_count": 4,
   "metadata": {},
   "outputs": [
    {
     "name": "stdout",
     "output_type": "stream",
     "text": [
      "C:\\Users\\vlad\\1. Machine Learning\\Yandex Specialization\\2.Learning on Labeled Data\\Data\n"
     ]
    }
   ],
   "source": [
    "cd C:\\Users\\vlad\\1. Machine Learning\\Yandex Specialization\\2.Learning on Labeled Data\\Data"
   ]
  },
  {
   "cell_type": "code",
   "execution_count": 5,
   "metadata": {},
   "outputs": [
    {
     "data": {
      "text/plain": [
       "(6000, 39)"
      ]
     },
     "execution_count": 5,
     "metadata": {},
     "output_type": "execute_result"
    }
   ],
   "source": [
    "data = pd.read_csv('data.csv')\n",
    "data.shape"
   ]
  },
  {
   "cell_type": "markdown",
   "metadata": {},
   "source": [
    "Выделим из датасета целевую переменную Grant.Status и обозначим её за ```y```\n",
    "\n",
    "Теперь ```x``` обозначает обучающую выборку, ```y``` - ответы на ней"
   ]
  },
  {
   "cell_type": "code",
   "execution_count": 6,
   "metadata": {},
   "outputs": [],
   "source": [
    "x = data.drop('Grant.Status', 1)\n",
    "y = data['Grant.Status']"
   ]
  },
  {
   "cell_type": "markdown",
   "metadata": {},
   "source": [
    "## Теория по логистической регрессии"
   ]
  },
  {
   "cell_type": "markdown",
   "metadata": {},
   "source": [
    "После осознания того, какую именно задачу требуется решить на этих данных, следующим шагом при реальном анализе был бы подбор подходящего метода. В данном задании выбор метода было произведён за вас, это логистическая регрессия. Кратко напомним вам используемую модель.\n",
    "\n",
    "Логистическая регрессия предсказывает вероятности принадлежности объекта к каждому классу. Сумма ответов логистической регрессии на одном объекте для всех классов равна единице.\n",
    "\n",
    "$$ \\sum_{k=1}^K \\pi_{ik} = 1, \\quad \\pi_k \\equiv P\\,(y_i = k \\mid x_i, \\theta), $$\n",
    "\n",
    "где:\n",
    "- $\\pi_{ik}$ - вероятность принадлежности объекта $x_i$ из выборки $X$ к классу $k$\n",
    "- $\\theta$ - внутренние параметры алгоритма, которые настраиваются в процессе обучения, в случае логистической регрессии - $w, b$\n",
    "\n",
    "Из этого свойства модели в случае бинарной классификации требуется вычислить лишь вероятность принадлежности объекта к одному из классов (вторая вычисляется из условия нормировки вероятностей). Эта вероятность вычисляется, используя логистическую функцию:\n",
    "\n",
    "$$ P\\,(y_i = 1 \\mid x_i, \\theta) = \\frac{1}{1 + \\exp(-w^T x_i-b)} $$\n",
    "\n",
    "Параметры $w$ и $b$ находятся, как решения следующей задачи оптимизации (указаны функционалы с L1 и L2 регуляризацией, с которыми вы познакомились в предыдущих заданиях):\n",
    "\n",
    "L2-regularization:\n",
    "\n",
    "$$ Q(X, y, \\theta) = \\frac{1}{2} w^T w + C \\sum_{i=1}^l \\log ( 1 + \\exp(-y_i (w^T x_i + b ) ) ) \\longrightarrow \\min\\limits_{w,b} $$\n",
    "\n",
    "L1-regularization:\n",
    "\n",
    "$$ Q(X, y, \\theta) = \\sum_{d=1}^D |w_d| + C \\sum_{i=1}^l \\log ( 1 + \\exp(-y_i (w^T x_i + b ) ) ) \\longrightarrow \\min\\limits_{w,b} $$\n",
    "\n",
    "$C$ - это стандартный гиперпараметр модели, который регулирует то, насколько сильно мы позволяем модели подстраиваться под данные."
   ]
  },
  {
   "cell_type": "markdown",
   "metadata": {},
   "source": [
    "## Предобработка данных"
   ]
  },
  {
   "cell_type": "markdown",
   "metadata": {},
   "source": [
    "Из свойств данной модели следует, что:\n",
    "- все $X$ должны быть числовыми данными (в случае наличия среди них категорий, их требуется некоторым способом преобразовать в вещественные числа)\n",
    "- среди $X$ не должно быть пропущенных значений (т.е. все пропущенные значения перед применением модели следует каким-то образом заполнить)\n",
    "\n",
    "Поэтому базовым этапом в предобработке любого датасета для логистической регрессии будет **кодирование категориальных признаков**, а так же **удаление или интерпретация пропущенных значений** (при наличии того или другого)."
   ]
  },
  {
   "cell_type": "code",
   "execution_count": 7,
   "metadata": {},
   "outputs": [
    {
     "data": {
      "text/html": [
       "<div>\n",
       "<style scoped>\n",
       "    .dataframe tbody tr th:only-of-type {\n",
       "        vertical-align: middle;\n",
       "    }\n",
       "\n",
       "    .dataframe tbody tr th {\n",
       "        vertical-align: top;\n",
       "    }\n",
       "\n",
       "    .dataframe thead th {\n",
       "        text-align: right;\n",
       "    }\n",
       "</style>\n",
       "<table border=\"1\" class=\"dataframe\">\n",
       "  <thead>\n",
       "    <tr style=\"text-align: right;\">\n",
       "      <th></th>\n",
       "      <th>Grant.Status</th>\n",
       "      <th>Sponsor.Code</th>\n",
       "      <th>Grant.Category.Code</th>\n",
       "      <th>Contract.Value.Band...see.note.A</th>\n",
       "      <th>RFCD.Code.1</th>\n",
       "      <th>RFCD.Percentage.1</th>\n",
       "      <th>RFCD.Code.2</th>\n",
       "      <th>RFCD.Percentage.2</th>\n",
       "      <th>RFCD.Code.3</th>\n",
       "      <th>RFCD.Percentage.3</th>\n",
       "      <th>...</th>\n",
       "      <th>Dept.No..1</th>\n",
       "      <th>Faculty.No..1</th>\n",
       "      <th>With.PHD.1</th>\n",
       "      <th>No..of.Years.in.Uni.at.Time.of.Grant.1</th>\n",
       "      <th>Number.of.Successful.Grant.1</th>\n",
       "      <th>Number.of.Unsuccessful.Grant.1</th>\n",
       "      <th>A..1</th>\n",
       "      <th>A.1</th>\n",
       "      <th>B.1</th>\n",
       "      <th>C.1</th>\n",
       "    </tr>\n",
       "  </thead>\n",
       "  <tbody>\n",
       "    <tr>\n",
       "      <th>0</th>\n",
       "      <td>1</td>\n",
       "      <td>21A</td>\n",
       "      <td>50A</td>\n",
       "      <td>A</td>\n",
       "      <td>230202.0</td>\n",
       "      <td>50.0</td>\n",
       "      <td>230203.0</td>\n",
       "      <td>30.0</td>\n",
       "      <td>230204.0</td>\n",
       "      <td>20.0</td>\n",
       "      <td>...</td>\n",
       "      <td>3098.0</td>\n",
       "      <td>31.0</td>\n",
       "      <td>Yes</td>\n",
       "      <td>&gt;=0 to 5</td>\n",
       "      <td>2.0</td>\n",
       "      <td>0.0</td>\n",
       "      <td>0.0</td>\n",
       "      <td>4.0</td>\n",
       "      <td>2.0</td>\n",
       "      <td>0.0</td>\n",
       "    </tr>\n",
       "    <tr>\n",
       "      <th>1</th>\n",
       "      <td>1</td>\n",
       "      <td>4D</td>\n",
       "      <td>10A</td>\n",
       "      <td>D</td>\n",
       "      <td>320801.0</td>\n",
       "      <td>100.0</td>\n",
       "      <td>0.0</td>\n",
       "      <td>0.0</td>\n",
       "      <td>0.0</td>\n",
       "      <td>0.0</td>\n",
       "      <td>...</td>\n",
       "      <td>2553.0</td>\n",
       "      <td>25.0</td>\n",
       "      <td>Yes</td>\n",
       "      <td>&gt;=0 to 5</td>\n",
       "      <td>3.0</td>\n",
       "      <td>1.0</td>\n",
       "      <td>0.0</td>\n",
       "      <td>2.0</td>\n",
       "      <td>0.0</td>\n",
       "      <td>0.0</td>\n",
       "    </tr>\n",
       "    <tr>\n",
       "      <th>2</th>\n",
       "      <td>0</td>\n",
       "      <td>NaN</td>\n",
       "      <td>NaN</td>\n",
       "      <td>NaN</td>\n",
       "      <td>320602.0</td>\n",
       "      <td>50.0</td>\n",
       "      <td>321004.0</td>\n",
       "      <td>30.0</td>\n",
       "      <td>321015.0</td>\n",
       "      <td>20.0</td>\n",
       "      <td>...</td>\n",
       "      <td>2813.0</td>\n",
       "      <td>25.0</td>\n",
       "      <td>NaN</td>\n",
       "      <td>Less than 0</td>\n",
       "      <td>1.0</td>\n",
       "      <td>5.0</td>\n",
       "      <td>0.0</td>\n",
       "      <td>7.0</td>\n",
       "      <td>2.0</td>\n",
       "      <td>0.0</td>\n",
       "    </tr>\n",
       "    <tr>\n",
       "      <th>3</th>\n",
       "      <td>0</td>\n",
       "      <td>51C</td>\n",
       "      <td>20C</td>\n",
       "      <td>A</td>\n",
       "      <td>291503.0</td>\n",
       "      <td>60.0</td>\n",
       "      <td>321402.0</td>\n",
       "      <td>40.0</td>\n",
       "      <td>0.0</td>\n",
       "      <td>0.0</td>\n",
       "      <td>...</td>\n",
       "      <td>2553.0</td>\n",
       "      <td>25.0</td>\n",
       "      <td>NaN</td>\n",
       "      <td>more than 15</td>\n",
       "      <td>2.0</td>\n",
       "      <td>1.0</td>\n",
       "      <td>5.0</td>\n",
       "      <td>6.0</td>\n",
       "      <td>9.0</td>\n",
       "      <td>1.0</td>\n",
       "    </tr>\n",
       "    <tr>\n",
       "      <th>4</th>\n",
       "      <td>0</td>\n",
       "      <td>24D</td>\n",
       "      <td>30B</td>\n",
       "      <td>NaN</td>\n",
       "      <td>380107.0</td>\n",
       "      <td>100.0</td>\n",
       "      <td>0.0</td>\n",
       "      <td>0.0</td>\n",
       "      <td>0.0</td>\n",
       "      <td>0.0</td>\n",
       "      <td>...</td>\n",
       "      <td>2923.0</td>\n",
       "      <td>25.0</td>\n",
       "      <td>NaN</td>\n",
       "      <td>Less than 0</td>\n",
       "      <td>0.0</td>\n",
       "      <td>2.0</td>\n",
       "      <td>0.0</td>\n",
       "      <td>0.0</td>\n",
       "      <td>0.0</td>\n",
       "      <td>0.0</td>\n",
       "    </tr>\n",
       "  </tbody>\n",
       "</table>\n",
       "<p>5 rows × 39 columns</p>\n",
       "</div>"
      ],
      "text/plain": [
       "   Grant.Status Sponsor.Code Grant.Category.Code  \\\n",
       "0             1          21A                 50A   \n",
       "1             1           4D                 10A   \n",
       "2             0          NaN                 NaN   \n",
       "3             0          51C                 20C   \n",
       "4             0          24D                 30B   \n",
       "\n",
       "  Contract.Value.Band...see.note.A  RFCD.Code.1  RFCD.Percentage.1  \\\n",
       "0                               A      230202.0               50.0   \n",
       "1                               D      320801.0              100.0   \n",
       "2                              NaN     320602.0               50.0   \n",
       "3                               A      291503.0               60.0   \n",
       "4                              NaN     380107.0              100.0   \n",
       "\n",
       "   RFCD.Code.2  RFCD.Percentage.2  RFCD.Code.3  RFCD.Percentage.3  ...  \\\n",
       "0     230203.0               30.0     230204.0               20.0  ...   \n",
       "1          0.0                0.0          0.0                0.0  ...   \n",
       "2     321004.0               30.0     321015.0               20.0  ...   \n",
       "3     321402.0               40.0          0.0                0.0  ...   \n",
       "4          0.0                0.0          0.0                0.0  ...   \n",
       "\n",
       "   Dept.No..1  Faculty.No..1  With.PHD.1  \\\n",
       "0      3098.0           31.0        Yes    \n",
       "1      2553.0           25.0        Yes    \n",
       "2      2813.0           25.0         NaN   \n",
       "3      2553.0           25.0         NaN   \n",
       "4      2923.0           25.0         NaN   \n",
       "\n",
       "   No..of.Years.in.Uni.at.Time.of.Grant.1  Number.of.Successful.Grant.1  \\\n",
       "0                                >=0 to 5                           2.0   \n",
       "1                                >=0 to 5                           3.0   \n",
       "2                             Less than 0                           1.0   \n",
       "3                            more than 15                           2.0   \n",
       "4                             Less than 0                           0.0   \n",
       "\n",
       "   Number.of.Unsuccessful.Grant.1  A..1  A.1  B.1  C.1  \n",
       "0                             0.0   0.0  4.0  2.0  0.0  \n",
       "1                             1.0   0.0  2.0  0.0  0.0  \n",
       "2                             5.0   0.0  7.0  2.0  0.0  \n",
       "3                             1.0   5.0  6.0  9.0  1.0  \n",
       "4                             2.0   0.0  0.0  0.0  0.0  \n",
       "\n",
       "[5 rows x 39 columns]"
      ]
     },
     "execution_count": 7,
     "metadata": {},
     "output_type": "execute_result"
    }
   ],
   "source": [
    "data.head()"
   ]
  },
  {
   "cell_type": "markdown",
   "metadata": {},
   "source": [
    "Видно, что в датасете есть как числовые, так и категориальные признаки. Получим списки их названий:"
   ]
  },
  {
   "cell_type": "code",
   "execution_count": 8,
   "metadata": {},
   "outputs": [],
   "source": [
    "numeric_cols = ['RFCD.Percentage.1', 'RFCD.Percentage.2', 'RFCD.Percentage.3', \n",
    "                'RFCD.Percentage.4', 'RFCD.Percentage.5',\n",
    "                'SEO.Percentage.1', 'SEO.Percentage.2', 'SEO.Percentage.3',\n",
    "                'SEO.Percentage.4', 'SEO.Percentage.5',\n",
    "                'Year.of.Birth.1', 'Number.of.Successful.Grant.1', 'Number.of.Unsuccessful.Grant.1']\n",
    "categorical_cols = list(set(x.columns.values.tolist()) - set(numeric_cols))"
   ]
  },
  {
   "cell_type": "markdown",
   "metadata": {},
   "source": [
    "Также в нём присутствуют пропущенные значения. Очевидны решением будет исключение всех данных, у которых пропущено хотя бы одно значение. Сделаем это:"
   ]
  },
  {
   "cell_type": "code",
   "execution_count": 9,
   "metadata": {},
   "outputs": [],
   "source": [
    "# data.dropna().shape"
   ]
  },
  {
   "cell_type": "markdown",
   "metadata": {},
   "source": [
    "Видно, что тогда мы выбросим почти все данные, и такой метод решения в данном случае не сработает.\n",
    "\n",
    "Пропущенные значения можно так же интерпретировать, для этого существует несколько способов, они различаются для категориальных и вещественных признаков.\n",
    "\n",
    "Для вещественных признаков:\n",
    "- заменить на 0 (данный признак давать вклад в предсказание для данного объекта не будет)\n",
    "- заменить на среднее (каждый пропущенный признак будет давать такой же вклад, как и среднее значение признака на датасете)\n",
    "\n",
    "Для категориальных:\n",
    "- интерпретировать пропущенное значение, как ещё одну категорию (данный способ является самым естественным, так как в случае категорий у нас есть уникальная возможность не потерять информацию о наличии пропущенных значений; обратите внимание, что в случае вещественных признаков данная информация неизбежно теряется)\n",
    "\n",
    "##  Задание 1 Обработка пропущенных значений\n",
    "1. Заполните пропущенные вещественные значения в X нулями и средними по столбцам, назовите полученные датафреймы ```x_real_zeros``` и ```x_real_mean``` соответственно. Для подсчёта средних используйте описанную ниже функцию ```calculate_means()```, которой требуется передать на вход вешественные признаки из исходного датафрейма. \n",
    "\n",
    "**Для подсчета среднего можно использовать функцию ```pandas.mean()```**\n",
    "\n",
    "2. Все категориальные признаки в ```x``` преобразуйте в строки, пропущенные значения требуется также преобразовать в какие-либо строки, которые не являются категориями (например, ```'NA'```), полученный датафрейм назовите ```x_cat```\n",
    "\n",
    "Для объединения выборок здесь и далее в задании рекомендуется использовать функции\n",
    "\n",
    "    np.hstack(...)\n",
    "    np.vstack(...)"
   ]
  },
  {
   "cell_type": "code",
   "execution_count": 10,
   "metadata": {},
   "outputs": [],
   "source": [
    "# Заполняем пропуски нулями для вещественных признаков\n",
    "# x_real_zeros = pd.DataFrame()\n",
    "# for column in x[numeric_cols].columns.values:\n",
    "#     x_real_zeros[column] = x[column].apply(lambda val: 0 if pd.isnull(val) else val)\n",
    "    \n",
    "# Cамый простой способ\n",
    "x_real_zeros = x[numeric_cols].fillna(0)"
   ]
  },
  {
   "cell_type": "code",
   "execution_count": 11,
   "metadata": {},
   "outputs": [],
   "source": [
    "# Заполняем пропуски средним по столбцам для вещественных признаков, используя функцию pd.mean()\n",
    "x_real_mean = pd.DataFrame()\n",
    "for column in x[numeric_cols].columns.values:\n",
    "    column_mean = x[column].mean()\n",
    "    x_real_mean[column] = x[column].apply(lambda val: column_mean if pd.isnull(val) else val)"
   ]
  },
  {
   "cell_type": "code",
   "execution_count": 12,
   "metadata": {},
   "outputs": [],
   "source": [
    "# Чистим категориальные признаки. Создаем NaN как категорию\n",
    "\"\"\"\n",
    "Была ошибка: ненулевые значения не были преобразованы к формату str. Следовательно, каждый категориальный признак \n",
    "был по сути бинарным (т.е. NaN или нет). Следовательно, качество на валидации страдало существенно ~ 55%.\n",
    "После устрониния, получили качество в 88% !!!\n",
    "\n",
    "\"\"\"\n",
    "\n",
    "x_cat = pd.DataFrame()\n",
    "for column in x[categorical_cols].columns.values:\n",
    "    x_cat[column] = x[column].apply(lambda val: 'NaN' if pd.isnull(val) else str(val))\n",
    "    \n",
    "# Самый простой способ\n",
    "# x_cat = x[categorical_cols].fillna('NA').astype(str)"
   ]
  },
  {
   "cell_type": "markdown",
   "metadata": {},
   "source": [
    "## Преобразование категориальных признаков"
   ]
  },
  {
   "cell_type": "markdown",
   "metadata": {},
   "source": [
    "В предыдущей ячейке мы разделили наш датасет ещё на две части: в одной присутствуют только вещественные признаки, в другой только категориальные. Это понадобится нам для раздельной последующей обработке этих данных, а так же для сравнения качества работы тех или иных методов.\n",
    "\n",
    "Для использования модели регрессии требуется преобразовать категориальные признаки в вещественные. Рассмотрим основной способ преоборазования категориальных признаков в вещественные: ```one-hot encoding```. Его идея заключается в том, что мы преобразуем категориальный признак при помощи бинарного кода: каждой категории ставим в соответствие набор из нулей и единиц.\n",
    "\n",
    "Посмотрим, как данный метод работает на простом наборе данных."
   ]
  },
  {
   "cell_type": "code",
   "execution_count": 13,
   "metadata": {},
   "outputs": [
    {
     "name": "stdout",
     "output_type": "stream",
     "text": [
      "Исходные данные:\n",
      "\n",
      "      sex nationality\n",
      "0    male    American\n",
      "1  female    European\n",
      "2    male       Asian\n",
      "3  female    European\n",
      "\n",
      "Закодированные данные:\n",
      "\n",
      "[[1. 0. 0. 0. 1.]\n",
      " [0. 0. 1. 1. 0.]\n",
      " [0. 1. 0. 0. 1.]\n",
      " [0. 0. 1. 1. 0.]]\n"
     ]
    }
   ],
   "source": [
    "from sklearn.linear_model import LogisticRegression as LR\n",
    "from sklearn.feature_extraction import DictVectorizer as DV\n",
    "\n",
    "categorial_data = pd.DataFrame({'sex': ['male', 'female', 'male', 'female'], \n",
    "                                'nationality': ['American', 'European', 'Asian', 'European']})\n",
    "print('Исходные данные:\\n')\n",
    "print(categorial_data)\n",
    "encoder = DV(sparse = False)\n",
    "encoded_data = encoder.fit_transform(categorial_data.T.to_dict().values())\n",
    "print('\\nЗакодированные данные:\\n')\n",
    "print(encoded_data)"
   ]
  },
  {
   "cell_type": "markdown",
   "metadata": {},
   "source": [
    "Как видно, в первые три колонки оказалась закодированна информация о стране, а во вторые две - о поле. При этом для совпадающих элементов выборки строки будут полностью совпадать. Также из примера видно, что кодирование признаков сильно увеличивает их количество, но полностью сохраняет информацию, в том числе о наличии пропущенных значений (их наличие просто становится одним из бинарных признаков в преобразованных данных).\n",
    "\n",
    "Теперь применим ```one-hot encoding``` к категориальным признакам из исходного датасета. Обратите внимание на общий для всех методов преобработки данных интерфейс. Функция\n",
    "\n",
    "```encoder.fit_transform(x)```\n",
    "    \n",
    "позволяет вычислить необходимые параметры преобразования, впоследствии к новым данным можно уже применять функцию\n",
    "\n",
    "```encoder.transform(x)```\n",
    "    \n",
    "Очень важно применять одинаковое преобразование как к обучающим, так и тестовым данным, потому что в противном случае вы получите непредсказуемые, и, скорее всего, плохие результаты. В частности, если вы отдельно закодируете обучающую и тестовую выборку, то получите вообще говоря разные коды для одних и тех же признаков, и ваше решение работать не будет.\n",
    "\n",
    "Также параметры многих преобразований (например, рассмотренное ниже **масштабирование**) **нельзя вычислять одновременно на данных из обучения и теста**, потому что иначе подсчитанные на тесте метрики качества будут давать смещённые оценки на качество работы алгоритма. Кодирование категориальных признаков не считает на обучающей выборке никаких параметров, поэтому его можно применять сразу к всему датасету."
   ]
  },
  {
   "cell_type": "code",
   "execution_count": 14,
   "metadata": {},
   "outputs": [],
   "source": [
    "# Теперь мы можем применить one_hot_encoding, т.к. выполнен препроцессинг категориальных переменных\n",
    "encoder = DV(sparse = False)\n",
    "x_cat_one_hot = encoder.fit_transform(x_cat.T.to_dict().values())"
   ]
  },
  {
   "cell_type": "markdown",
   "metadata": {},
   "source": [
    "Для построения метрики качества по результату обучения требуется разделить исходный датасет на обучающую и тестовую выборки.\n",
    "\n",
    "Обращаем внимание на заданный параметр для генератора случайных чисел: random_state. Так как результаты на обучении и тесте будут зависеть от того, как именно вы разделите объекты, то предлагается использовать заранее определённое значение для получение результатов, согласованных с ответами в системе проверки заданий."
   ]
  },
  {
   "cell_type": "code",
   "execution_count": 15,
   "metadata": {},
   "outputs": [],
   "source": [
    "from sklearn.model_selection import train_test_split\n",
    "\n",
    "# Для выборки где заполняли пропуски нулями\n",
    "x_train_real_zeros, x_test_real_zeros, y_train, y_test = train_test_split(x_real_zeros, y, test_size = 0.3, random_state = 0)\n",
    "\n",
    "# Для выборки где пропуски заменяли средним\n",
    "x_train_real_mean, x_test_real_mean = train_test_split(x_real_mean, test_size = 0.3, random_state = 0)\n",
    "\n",
    "# Только для категорий\n",
    "x_train_one_hot, x_test_one_hot = train_test_split(x_cat_one_hot, test_size = 0.3, random_state = 0)"
   ]
  },
  {
   "cell_type": "code",
   "execution_count": 16,
   "metadata": {},
   "outputs": [],
   "source": [
    "# Объеденим выборки:\n",
    "# С нулевыми заполненными значениями\n",
    "x_train_zeros = np.hstack((x_train_real_zeros, x_train_one_hot)) # (train)\n",
    "x_test_zeros = np.hstack((x_test_real_zeros, x_test_one_hot)) # (test)\n",
    "\n",
    "# Cо средними нулевыми значениями\n",
    "x_train_mean = np.hstack((x_train_real_mean, x_train_one_hot)) # (train)\n",
    "x_test_mean = np.hstack((x_test_real_mean, x_test_one_hot)) # (test)"
   ]
  },
  {
   "cell_type": "code",
   "execution_count": 17,
   "metadata": {},
   "outputs": [],
   "source": [
    "# Чтобы не расписывать каждый раз создадим функцию объединения 2-х выборок\n",
    "def concat_samples_h(left, right):\n",
    "    return np.hstack((left, right))"
   ]
  },
  {
   "cell_type": "markdown",
   "metadata": {},
   "source": [
    "## Описание классов\n",
    "\n",
    "Итак, мы получили первые наборы данных, для которых выполнены оба ограничения логистической регрессии на входные данные. Обучим на них регрессию, используя имеющийся в библиотеке ```sklearn``` функционал по подбору гиперпараметров модели:\n",
    "    \n",
    "```optimizer = GridSearchCV(estimator, param_grid)```\n",
    "\n",
    "где:\n",
    "- ```estimator``` - обучающий алгоритм, для которого будет производиться подбор параметров\n",
    "- ```param_grid``` - словарь параметров, ключами которого являются строки-названия, которые передаются алгоритму ```estimator```, а значения - набор параметров для перебора\n",
    "\n",
    "Данный класс выполняет кросс-валидацию обучающей выборки для каждого набора параметров и находит те, на которых алгоритм работает лучше всего. Этот метод позволяет настраивать гиперпараметры по обучающей выборке, избегая переобучения. Некоторые опциональные параметры вызова данного класса, которые нам понадобятся:\n",
    "- ```scoring``` - функционал качества, максимум которого ищется кросс валидацией, по умолчанию используется функция ```score()``` класса ```esimator```\n",
    "- ```n_jobs``` - позволяет ускорить кросс-валидацию, выполняя её параллельно, число определяет количество одновременно запущенных задач\n",
    "- ```cv``` - количество фолдов, на которые разбивается выборка при кросс-валидации\n",
    "\n",
    "После инициализации класса ```GridSearchCV```, процесс подбора параметров запускается следующим методом:\n",
    "\n",
    "```optimizer.fit(X, y)```\n",
    "    \n",
    "На выходе для получения предсказаний можно пользоваться функцией для меток\n",
    "\n",
    "```optimizer.predict(X)```\n",
    "    \n",
    "или для вероятностей (**в случае использования логистической регрессии**)\n",
    "\n",
    "```optimizer.predict_proba(X)```\n",
    "    \n",
    "Также можно напрямую получить оптимальный класс ```estimator``` и оптимальные параметры, так как они является атрибутами класса ```GridSearchCV```:\n",
    "- ```best_estimator_``` - лучший алгоритм\n",
    "- ```best_params_``` - лучший набор параметров\n",
    "\n",
    "Класс логистической регрессии выглядит следующим образом:\n",
    "\n",
    "```estimator = LogisticRegression(penalty)```\n",
    "   \n",
    "```penalty``` принимает либо значение ```l2```, либо ```l1```. По умолчанию устанавливается значение ```l2```, и везде в задании, если об этом не оговорено особо, предполагается использование логистической регрессии с ```L2``` регуляризацией."
   ]
  },
  {
   "cell_type": "markdown",
   "metadata": {},
   "source": [
    "## Задание 2 Сравнение способов заполнения вещественных пропущенных значений\n",
    "1. Составьте две обучающие выборки из вещественных и категориальных признаков: в одной вещественные признаки, где пропущенные значения заполнены нулями, в другой - средними. Рекомендуется записывать в выборки сначала вещественные, а потом категориальные признаки.\n",
    "<br><br>\n",
    "2. Обучите на них логистическую регрессию, подбирая параметры из заданной сетки ```param_grid``` по методу кросс-валидации с числом фолдов ```cv=3```. **При обучении использовать параметр ```solver='liblinear'``` в этом и последующих заданиях ноутбука.**\n",
    "<br><br>\n",
    "3. Постройте два графика оценок точности +- их стандратного отклонения в зависимости от гиперпараметра и убедитесь, что вы действительно нашли её максимум. Также обратите внимание на большую дисперсию получаемых оценок (уменьшить её можно увеличением числа фолдов ```cv```).\n",
    "<br><br>\n",
    "4. Получите две метрики качества ```AUC ROC``` на тестовой выборке и сравните их между собой. Какой способ заполнения пропущенных вещественных значений работает лучше? В дальнейшем для выполнения задания в качестве вещественных признаков используйте ту выборку, которая даёт лучшее качество на тесте.\n",
    "<br><br>\n",
    "5. Передайте два значения ```AUC ROC``` (сначала для выборки, заполненной средними, потом для выборки, заполненной нулями) в функцию ```write_answer_1``` и запустите её. Полученный файл является ответом на 1 задание.\n",
    "<br><br>\n",
    "Информация для интересующихся: вообще говоря, не вполне логично оптимизировать на кросс-валидации заданный по умолчанию в классе логистической регрессии функционал accuracy, а измерять на тесте AUC ROC, но это, как и ограничение размера выборки, сделано для ускорения работы процесса кросс-валидации."
   ]
  },
  {
   "cell_type": "code",
   "execution_count": 18,
   "metadata": {},
   "outputs": [],
   "source": [
    "from sklearn.linear_model import LogisticRegression\n",
    "from sklearn.model_selection import GridSearchCV\n",
    "from sklearn.metrics import roc_auc_score\n",
    "\n",
    "def plot_scores(optimizer):\n",
    "    C_params = [row['C'] for row in optimizer.cv_results_['params']] # Храним все значения гиперпараметра С\n",
    "    mean_test_score = optimizer.cv_results_['mean_test_score'] # Качество на тестовом фолде\n",
    "    std_test_score = optimizer.cv_results_['std_test_score'] # Std \n",
    "    # Рисуем Линию\n",
    "    plt.fill_between(C_params,\n",
    "                     mean_test_score - std_test_score, # mean_test_score + std\n",
    "                     mean_test_score + std_test_score, # mean_test_score - std\n",
    "                     alpha = 0.3)\n",
    "    plt.semilogx(C_params, mean_test_score) # Масштбируем ось X к logX  \n",
    "    plt.show()\n",
    "    \n",
    "def write_answer_1(auc_1, auc_2):\n",
    "    auc = (auc_1 + auc_2)/2\n",
    "    with open(\"preprocessing_lr_answer1.txt\", \"w\") as fout:\n",
    "        fout.write(str(auc))"
   ]
  },
  {
   "cell_type": "code",
   "execution_count": 19,
   "metadata": {},
   "outputs": [],
   "source": [
    "def fit_model_and_get_auc(train_x_set, train_y_set, test_x_set, test_y_set, grid_param = None):\n",
    "    # Cоздаем экземпляр модели\n",
    "    log_reg_model = LogisticRegression()\n",
    "    # Создаем сетку GridSearch в которой перебираем параметры и кросс - валидируемся на n фолдах\n",
    "    grid_search = GridSearchCV(log_reg_model, **grid_param)\n",
    "    grid_search.fit(train_x_set, train_y_set)\n",
    "    # Отображаем лучшую модель и лучшие сочетание параметров\n",
    "    print('Лучшее сочетание параметров модели:')\n",
    "    print(grid_search.best_params_)\n",
    "    # График зависимсоти разного гиперпараметра C от качества\n",
    "    plot_scores(grid_search)\n",
    "    # Финальный score на тесте\n",
    "    auc_score = roc_auc_score(test_y_set, grid_search.best_estimator_.predict_proba(test_x_set)[:, 1])\n",
    "    return auc_score"
   ]
  },
  {
   "cell_type": "code",
   "execution_count": 20,
   "metadata": {},
   "outputs": [
    {
     "name": "stdout",
     "output_type": "stream",
     "text": [
      "Лучшее сочетание параметров модели:\n",
      "{'C': 0.05, 'solver': 'liblinear'}\n"
     ]
    },
    {
     "data": {
      "image/png": "[encoded data removed]",
      "text/plain": [
       "<Figure size 432x288 with 1 Axes>"
      ]
     },
     "metadata": {
      "needs_background": "light"
     },
     "output_type": "display_data"
    },
    {
     "name": "stdout",
     "output_type": "stream",
     "text": [
      "0.8843724749458951\n"
     ]
    }
   ],
   "source": [
    "# Для нулевой замены\n",
    "\n",
    "# Определяем параметры сетки\n",
    "model_params = {\n",
    "             'param_grid':{'solver': ['liblinear'], 'C': [0.01, 0.05, 0.1, 0.5, 1, 5, 10]},\n",
    "             'n_jobs': -1,\n",
    "             'cv': 3\n",
    "            }\n",
    "            \n",
    "        \n",
    "zero_auc = fit_model_and_get_auc(x_train_zeros, y_train, x_test_zeros, y_test, grid_param = model_params)\n",
    "print(zero_auc)"
   ]
  },
  {
   "cell_type": "code",
   "execution_count": 21,
   "metadata": {},
   "outputs": [
    {
     "name": "stdout",
     "output_type": "stream",
     "text": [
      "Лучшее сочетание параметров модели:\n",
      "{'C': 0.1, 'solver': 'liblinear'}\n"
     ]
    },
    {
     "data": {
      "image/png": "[encoded data removed]",
      "text/plain": [
       "<Figure size 432x288 with 1 Axes>"
      ]
     },
     "metadata": {
      "needs_background": "light"
     },
     "output_type": "display_data"
    },
    {
     "name": "stdout",
     "output_type": "stream",
     "text": [
      "0.8879708123853093\n"
     ]
    }
   ],
   "source": [
    "# Для замены средними значениями\n",
    "mean_auc = fit_model_and_get_auc(x_train_mean, y_train, x_test_mean, y_test, grid_param = model_params)\n",
    "print(mean_auc)"
   ]
  },
  {
   "cell_type": "code",
   "execution_count": 22,
   "metadata": {},
   "outputs": [
    {
     "name": "stdout",
     "output_type": "stream",
     "text": [
      "AUC Using Mean Values: 0.8843724749458951\n",
      "AUC Using Zero Values: 0.8879708123853093\n"
     ]
    }
   ],
   "source": [
    "# Сравним метрики на моделях с разными методами заполнения пропущенных значений \n",
    "print(f'AUC Using Mean Values: {zero_auc}\\nAUC Using Zero Values: {mean_auc}')"
   ]
  },
  {
   "cell_type": "markdown",
   "metadata": {},
   "source": [
    "Можно заметить, что заполнение пропусков средним значением увеличило score модели "
   ]
  },
  {
   "cell_type": "code",
   "execution_count": 26,
   "metadata": {},
   "outputs": [],
   "source": [
    "# Сохраняем результат \n",
    "write_answer_1(mean_auc, zero_auc)"
   ]
  },
  {
   "cell_type": "markdown",
   "metadata": {},
   "source": [
    "## Масштабирование вещественных признаков\n",
    "\n",
    "Попробуем как-то улучшить качество классификации. Для этого посмотрим на сами данные:"
   ]
  },
  {
   "cell_type": "code",
   "execution_count": 27,
   "metadata": {},
   "outputs": [
    {
     "data": {
      "image/png": "[encoded data removed]",
      "text/plain": [
       "<Figure size 720x720 with 9 Axes>"
      ]
     },
     "metadata": {
      "needs_background": "light"
     },
     "output_type": "display_data"
    }
   ],
   "source": [
    "data_numeric = pd.DataFrame(x_real_zeros, columns=numeric_cols)\n",
    "list_cols = ['Number.of.Successful.Grant.1', 'SEO.Percentage.2', 'Year.of.Birth.1']\n",
    "pd.plotting.scatter_matrix(data_numeric[list_cols], alpha=0.5, figsize=(10, 10))\n",
    "plt.show()"
   ]
  },
  {
   "cell_type": "markdown",
   "metadata": {},
   "source": [
    "Как видно из графиков, разные признаки очень сильно отличаются друг от друга по модулю значений (обратите внимание на диапазоны значений осей x и y). В случае обычной регрессии это никак не влияет на качество обучаемой модели, т.к. у меньших по модулю признаков будут большие веса, но при использовании регуляризации, которая штрафует модель за большие веса, регрессия, как правило, начинает работать хуже.\n",
    "\n",
    "В таких случаях всегда рекомендуется делать стандартизацию (масштабирование) признаков, для того чтобы они меньше отличались друг друга по модулю, но при этом не нарушались никакие другие свойства признакового пространства. **При этом даже если итоговое качество модели на тесте уменьшается, это повышает её интерпретабельность, потому что новые веса имеют смысл \"значимости\" данного признака для итоговой классификации.**\n",
    "\n",
    "Стандартизация осуществляется посредством вычета из каждого признака среднего значения и нормировки на выборочное стандартное отклонение:\n",
    "\n",
    "$$ x^{scaled}_{id} = \\dfrac{x_{id} - \\mu_d}{\\sigma_d}, \\quad \\mu_d = \\frac{1}{N} \\sum_{i=1}^l x_{id}, \\quad \\sigma_d = \\sqrt{\\frac{1}{N-1} \\sum_{i=1}^l (x_{id} - \\mu_d)^2} $$\n",
    "\n",
    "О необходимости масштабирования признаков можно узнать, сравнив среднее значения всех признаков. Если различия в средних большие (например 50, 100 или 1000), то масштабирование необходимо."
   ]
  },
  {
   "cell_type": "code",
   "execution_count": 28,
   "metadata": {},
   "outputs": [
    {
     "data": {
      "text/html": [
       "<div>\n",
       "<style scoped>\n",
       "    .dataframe tbody tr th:only-of-type {\n",
       "        vertical-align: middle;\n",
       "    }\n",
       "\n",
       "    .dataframe tbody tr th {\n",
       "        vertical-align: top;\n",
       "    }\n",
       "\n",
       "    .dataframe thead th {\n",
       "        text-align: right;\n",
       "    }\n",
       "</style>\n",
       "<table border=\"1\" class=\"dataframe\">\n",
       "  <thead>\n",
       "    <tr style=\"text-align: right;\">\n",
       "      <th></th>\n",
       "      <th>RFCD.Percentage.1</th>\n",
       "      <th>RFCD.Percentage.2</th>\n",
       "      <th>RFCD.Percentage.3</th>\n",
       "      <th>RFCD.Percentage.4</th>\n",
       "      <th>RFCD.Percentage.5</th>\n",
       "      <th>SEO.Percentage.1</th>\n",
       "      <th>SEO.Percentage.2</th>\n",
       "      <th>SEO.Percentage.3</th>\n",
       "      <th>SEO.Percentage.4</th>\n",
       "      <th>SEO.Percentage.5</th>\n",
       "      <th>Year.of.Birth.1</th>\n",
       "      <th>Number.of.Successful.Grant.1</th>\n",
       "      <th>Number.of.Unsuccessful.Grant.1</th>\n",
       "    </tr>\n",
       "  </thead>\n",
       "  <tbody>\n",
       "    <tr>\n",
       "      <th>count</th>\n",
       "      <td>6000.0000</td>\n",
       "      <td>6000.000</td>\n",
       "      <td>6000.000000</td>\n",
       "      <td>6000.0000</td>\n",
       "      <td>6000.000000</td>\n",
       "      <td>6000.00000</td>\n",
       "      <td>6000.000000</td>\n",
       "      <td>6000.0000</td>\n",
       "      <td>6000.000000</td>\n",
       "      <td>6000.000000</td>\n",
       "      <td>6000.000000</td>\n",
       "      <td>6000.000</td>\n",
       "      <td>6000.00</td>\n",
       "    </tr>\n",
       "    <tr>\n",
       "      <th>mean</th>\n",
       "      <td>69.6315</td>\n",
       "      <td>16.449</td>\n",
       "      <td>6.451167</td>\n",
       "      <td>0.4075</td>\n",
       "      <td>0.110833</td>\n",
       "      <td>66.25305</td>\n",
       "      <td>19.136217</td>\n",
       "      <td>6.4199</td>\n",
       "      <td>0.677333</td>\n",
       "      <td>0.196667</td>\n",
       "      <td>1842.413333</td>\n",
       "      <td>1.106</td>\n",
       "      <td>1.97</td>\n",
       "    </tr>\n",
       "  </tbody>\n",
       "</table>\n",
       "</div>"
      ],
      "text/plain": [
       "       RFCD.Percentage.1  RFCD.Percentage.2  RFCD.Percentage.3  \\\n",
       "count          6000.0000           6000.000        6000.000000   \n",
       "mean             69.6315             16.449           6.451167   \n",
       "\n",
       "       RFCD.Percentage.4  RFCD.Percentage.5  SEO.Percentage.1  \\\n",
       "count          6000.0000        6000.000000        6000.00000   \n",
       "mean              0.4075           0.110833          66.25305   \n",
       "\n",
       "       SEO.Percentage.2  SEO.Percentage.3  SEO.Percentage.4  SEO.Percentage.5  \\\n",
       "count       6000.000000         6000.0000       6000.000000       6000.000000   \n",
       "mean          19.136217            6.4199          0.677333          0.196667   \n",
       "\n",
       "       Year.of.Birth.1  Number.of.Successful.Grant.1  \\\n",
       "count      6000.000000                      6000.000   \n",
       "mean       1842.413333                         1.106   \n",
       "\n",
       "       Number.of.Unsuccessful.Grant.1  \n",
       "count                         6000.00  \n",
       "mean                             1.97  "
      ]
     },
     "execution_count": 28,
     "metadata": {},
     "output_type": "execute_result"
    }
   ],
   "source": [
    "x_real_zeros.describe()[:2]"
   ]
  },
  {
   "cell_type": "markdown",
   "metadata": {},
   "source": [
    "## Задание 3 Масштабирование вещественных признаков\n",
    "\n",
    "1. По аналогии с вызовом ```one-hot encoder``` примените масштабирование вещественных признаков для обучающих и тестовых выборок ```x_train_real_zeros``` и ```x_test_real_zeros```, используя класс ```StandardScaler``` и методы:\n",
    "- ```StandardScaler.fit_transform()```\n",
    "- ```StandardScaler.transform()```\n",
    "\n",
    "2. Сохраните ответ в переменные ```x_train_real_scaled``` и ```x_test_real_scaled``` соответственно"
   ]
  },
  {
   "cell_type": "code",
   "execution_count": 29,
   "metadata": {},
   "outputs": [],
   "source": [
    "# Отмасштабируем ТОЛЬКО вещественные признаки в train и test (по услвоию для нулевых пропусков)\n",
    "from sklearn.preprocessing import StandardScaler\n",
    "\n",
    "scaler = StandardScaler()\n",
    "\n",
    "# Обучаем на тренировочном наборе и потом используем только метод transform\n",
    "scaler.fit(x_train_real_zeros, y_train)\n",
    "x_train_real_scaled = scaler.transform(x_train_real_zeros)\n",
    "x_test_real_scaled = scaler.transform(x_test_real_zeros)"
   ]
  },
  {
   "cell_type": "markdown",
   "metadata": {},
   "source": [
    "## Сравнение признаковых пространств"
   ]
  },
  {
   "cell_type": "markdown",
   "metadata": {},
   "source": [
    "Построим такие же графики для преобразованных данных:"
   ]
  },
  {
   "cell_type": "code",
   "execution_count": 30,
   "metadata": {},
   "outputs": [
    {
     "data": {
      "image/png": "[encoded data removed]",
      "text/plain": [
       "<Figure size 720x720 with 9 Axes>"
      ]
     },
     "metadata": {
      "needs_background": "light"
     },
     "output_type": "display_data"
    }
   ],
   "source": [
    "data_numeric_scaled = pd.DataFrame(x_train_real_scaled, columns=numeric_cols)\n",
    "list_cols = ['Number.of.Successful.Grant.1', 'SEO.Percentage.2', 'Year.of.Birth.1']\n",
    "pd.plotting.scatter_matrix(data_numeric_scaled[list_cols], alpha=0.5, figsize=(10, 10))\n",
    "plt.show()"
   ]
  },
  {
   "cell_type": "markdown",
   "metadata": {},
   "source": [
    "Как видно из графиков, мы не поменяли свойства признакового пространства: гистограммы распределений значений признаков, как и их scatter-plots, выглядят так же, как и до нормировки, но при этом все значения теперь находятся примерно в одном диапазоне, тем самым повышая интерпретабельность результатов, а также лучше сочетаясь с идеологией регуляризации."
   ]
  },
  {
   "cell_type": "code",
   "execution_count": 31,
   "metadata": {},
   "outputs": [
    {
     "data": {
      "text/plain": [
       "array([ 2.29234621e-16,  6.25954315e-17,  1.94553368e-17,  8.45884209e-18,\n",
       "       -1.35341473e-17,  1.17577905e-16, -2.53765263e-17, -5.07530526e-17,\n",
       "        1.52259158e-17,  5.07530526e-18,  3.84877315e-17, -8.45884209e-17,\n",
       "       -4.90612841e-17])"
      ]
     },
     "execution_count": 31,
     "metadata": {},
     "output_type": "execute_result"
    }
   ],
   "source": [
    "x_train_real_scaled.mean(axis = 0)"
   ]
  },
  {
   "cell_type": "markdown",
   "metadata": {},
   "source": [
    "Значения средних теперь также не сильно отличаются"
   ]
  },
  {
   "cell_type": "markdown",
   "metadata": {},
   "source": [
    "## Задание 4 Сравнение качества классификации до и после масштабирования вещественных признаков\n",
    "1. Обучите ещё раз регрессию и гиперпараметры на новых признаках, объединив их с закодированными категориальными.\n",
    "2. Проверьте, был ли найден оптимум accuracy по гиперпараметрам во время кроссвалидации.\n",
    "3. Получите значение ROC AUC на тестовой выборке, сравните с лучшим результатом, полученными ранее.\n",
    "4. Запишите полученный ответ в файл при помощи функции write_answer_2."
   ]
  },
  {
   "cell_type": "code",
   "execution_count": 32,
   "metadata": {},
   "outputs": [],
   "source": [
    "# Объединяем отмасштабированные признаки с категориальными\n",
    "x_train_scaled = concat_samples_h(x_train_real_scaled, x_train_one_hot)\n",
    "x_test_scaled = concat_samples_h(x_test_real_scaled, x_test_one_hot)"
   ]
  },
  {
   "cell_type": "code",
   "execution_count": 35,
   "metadata": {},
   "outputs": [
    {
     "name": "stdout",
     "output_type": "stream",
     "text": [
      "Лучшее сочетание параметров модели:\n",
      "{'C': 0.05, 'solver': 'liblinear'}\n"
     ]
    },
    {
     "data": {
      "image/png": "[encoded data removed]",
      "text/plain": [
       "<Figure size 432x288 with 1 Axes>"
      ]
     },
     "metadata": {
      "needs_background": "light"
     },
     "output_type": "display_data"
    },
    {
     "name": "stdout",
     "output_type": "stream",
     "text": [
      "0.885044379082622\n"
     ]
    }
   ],
   "source": [
    "# Обучаем модель с масштабированными признаками\n",
    "\n",
    "auc_after_scaling = fit_model_and_get_auc(x_train_scaled, y_train, x_test_scaled, y_test, grid_param = model_params)\n",
    "print(auc_after_scaling)"
   ]
  },
  {
   "cell_type": "code",
   "execution_count": 37,
   "metadata": {},
   "outputs": [
    {
     "name": "stdout",
     "output_type": "stream",
     "text": [
      "AUC Without Scaling: 0.8843724749458951\n",
      "AUC After Scaling: 0.885044379082622\n"
     ]
    }
   ],
   "source": [
    "print(f'AUC Without Scaling: {zero_auc}')\n",
    "print(f'AUC After Scaling: {auc_after_scaling}')"
   ]
  },
  {
   "cell_type": "code",
   "execution_count": 38,
   "metadata": {},
   "outputs": [],
   "source": [
    "# Сохраянем ответ\n",
    "def write_answer_2(auc):\n",
    "    with open(\"preprocessing_lr_answer2.txt\", \"w\") as file:\n",
    "        file.write(str(auc))\n",
    "        \n",
    "write_answer_2(auc_after_scaling)"
   ]
  },
  {
   "cell_type": "markdown",
   "metadata": {},
   "source": [
    "## Балансировка классов"
   ]
  },
  {
   "cell_type": "markdown",
   "metadata": {},
   "source": [
    "Алгоритмы классификации могут быть очень чувствительны к несбалансированным классам. Рассмотрим пример с выборками, сэмплированными из двух гауссиан. Их мат. ожидания и матрицы ковариации заданы так, что истинная разделяющая поверхность должна проходить параллельно оси x. Поместим в обучающую выборку 20 объектов, сэмплированных из 1-й гауссианы, и 10 объектов из 2-й. После этого обучим на них линейную регрессию, и построим на графиках объекты и области классификации."
   ]
  },
  {
   "cell_type": "code",
   "execution_count": 40,
   "metadata": {},
   "outputs": [
    {
     "data": {
      "image/png": "[encoded data removed]",
      "text/plain": [
       "<Figure size 432x288 with 1 Axes>"
      ]
     },
     "metadata": {
      "needs_background": "light"
     },
     "output_type": "display_data"
    },
    {
     "name": "stdout",
     "output_type": "stream",
     "text": [
      "AUC: 0.911667\n"
     ]
    },
    {
     "data": {
      "image/png": "[encoded data removed]",
      "text/plain": [
       "<Figure size 432x288 with 1 Axes>"
      ]
     },
     "metadata": {
      "needs_background": "light"
     },
     "output_type": "display_data"
    },
    {
     "name": "stdout",
     "output_type": "stream",
     "text": [
      "AUC: 0.906667\n"
     ]
    }
   ],
   "source": [
    "np.random.seed(0)\n",
    "param_grid = {'C': [0.01, 0.05, 0.1, 0.5, 1, 5, 10]}\n",
    "cv = 3\n",
    "\n",
    "\"\"\"Сэмплируем данные из первой гауссианы\"\"\"\n",
    "data_0 = np.random.multivariate_normal([0,0], [[0.5,0],[0,0.5]], size=40)\n",
    "\n",
    "\"\"\"И из второй\"\"\"\n",
    "data_1 = np.random.multivariate_normal([0,1], [[0.5,0],[0,0.5]], size=40)\n",
    "\n",
    "\"\"\"На обучение берём 20 объектов из первого класса и 10 из второго\"\"\"\n",
    "example_data_train = np.vstack([data_0[:20,:], data_1[:10,:]])\n",
    "example_labels_train = np.concatenate([np.zeros((20)), np.ones((10))])\n",
    "\n",
    "\"\"\"На тест - 20 из первого и 30 из второго\"\"\"\n",
    "example_data_test = np.vstack([data_0[20:,:], data_1[10:,:]])\n",
    "example_labels_test = np.concatenate([np.zeros((20)), np.ones((30))])\n",
    "\n",
    "\"\"\"Задаём координатную сетку, на которой будем вычислять область классификации\"\"\"\n",
    "xx, yy = np.meshgrid(np.arange(-3, 3, 0.02), np.arange(-3, 3, 0.02))\n",
    "\n",
    "\"\"\"Обучаем LogisticRegression без балансировки по классам\"\"\"\n",
    "optimizer = GridSearchCV(LogisticRegression(), param_grid, cv=cv, n_jobs=-1)\n",
    "optimizer.fit(example_data_train, example_labels_train)\n",
    "\n",
    "\"\"\"Строим предсказания регрессии для сетки\"\"\"\n",
    "Z = optimizer.predict(np.c_[xx.ravel(), yy.ravel()]).reshape(xx.shape)\n",
    "plt.pcolormesh(xx, yy, Z, cmap=plt.cm.Pastel2)\n",
    "plt.scatter(data_0[:,0], data_0[:,1], color='red')\n",
    "plt.scatter(data_1[:,0], data_1[:,1], color='blue')\n",
    "\n",
    "\"\"\"Считаем AUC\"\"\"\n",
    "auc_wo_class_weights = roc_auc_score(example_labels_test, optimizer.predict_proba(example_data_test)[:,1])\n",
    "plt.title('Without class weights')\n",
    "plt.show()\n",
    "print('AUC: %f'%auc_wo_class_weights)\n",
    "\n",
    "\"\"\"Для второй регрессии в LogisticRegression передаём параметр class_weight='balanced'\"\"\"\n",
    "optimizer = GridSearchCV(LogisticRegression(class_weight='balanced'), param_grid, cv=cv, n_jobs=-1)\n",
    "optimizer.fit(example_data_train, example_labels_train)\n",
    "Z = optimizer.predict(np.c_[xx.ravel(), yy.ravel()]).reshape(xx.shape)\n",
    "plt.pcolormesh(xx, yy, Z, cmap=plt.cm.Pastel2)\n",
    "plt.scatter(data_0[:,0], data_0[:,1], color='red')\n",
    "plt.scatter(data_1[:,0], data_1[:,1], color='blue')\n",
    "auc_w_class_weights = roc_auc_score(example_labels_test, optimizer.predict_proba(example_data_test)[:,1])\n",
    "plt.title('With class weights')\n",
    "plt.show()\n",
    "print('AUC: %f'%auc_w_class_weights)"
   ]
  },
  {
   "cell_type": "markdown",
   "metadata": {},
   "source": [
    "Как видно, во втором случае классификатор находит разделяющую поверхность, которая ближе к истинной, т.е. меньше переобучается. Поэтому на сбалансированность классов в обучающей выборке всегда следует обращать внимание.\n",
    "\n",
    "Посмотрим, сбалансированны ли классы в нашей обучающей выборке:"
   ]
  },
  {
   "cell_type": "code",
   "execution_count": 41,
   "metadata": {},
   "outputs": [
    {
     "name": "stdout",
     "output_type": "stream",
     "text": [
      "2316\n",
      "1884\n"
     ]
    }
   ],
   "source": [
    "print(np.sum(y_train==0))\n",
    "print(np.sum(y_train==1))"
   ]
  },
  {
   "cell_type": "markdown",
   "metadata": {},
   "source": [
    "Видно, что нет.\n",
    "\n",
    "Исправить ситуацию можно разными способами, мы рассмотрим два:\n",
    "- давать объектам миноритарного класса больший вес при обучении классификатора (рассмотрен в примере выше)\n",
    "- досэмплировать объекты миноритарного класса, пока число объектов в обоих классах не сравняется"
   ]
  },
  {
   "cell_type": "markdown",
   "metadata": {},
   "source": [
    "## Задание 5 Балансировка классов\n",
    "1. Обучите логистическую регрессию и гиперпараметры с балансировкой классов, используя веса (параметр ```class_weight='balanced'``` регрессии) на отмасштабированных выборках, полученных в предыдущем задании. **Убедитесь, что вы нашли максимум accuracy по гиперпараметрам.**\n",
    "<br><br>\n",
    "2. Получите метрику ```ROC AUC``` на тестовой выборке.\n",
    "<br><br>\n",
    "3. Сбалансируйте выборку, досэмплировав в неё объекты из меньшего класса. Для получения индексов объектов, которые требуется добавить в обучающую выборку, используйте следующую комбинацию вызовов функций:\n",
    "\n",
    "```np.random.seed(0)```\n",
    "\n",
    "```indices_to_add = np.random.randint(...)```\n",
    "\n",
    "```X_train_to_add = X_train[y_train.as_matrix() == 1,:][indices_to_add,:]```\n",
    "   \n",
    "После этого добавьте эти объекты в начало или конец обучающей выборки. Дополните соответствующим образом вектор ответов.\n",
    "\n",
    "4. Получите метрику ```ROC AUC``` на тестовой выборке, сравните с предыдущим результатом.\n",
    "<br><br>\n",
    "5. Внесите ответы в выходной файл при помощи функции ```write_asnwer_3```, передав в неё сначала ```ROC AUC``` для балансировки весами, а потом балансировки выборки вручную."
   ]
  },
  {
   "cell_type": "code",
   "execution_count": 42,
   "metadata": {},
   "outputs": [
    {
     "data": {
      "text/plain": [
       "0    3259\n",
       "1    2741\n",
       "Name: Grant.Status, dtype: int64"
      ]
     },
     "execution_count": 42,
     "metadata": {},
     "output_type": "execute_result"
    }
   ],
   "source": [
    "# Посмотрим на баланс классов в датасете (весь таргет)\n",
    "y.value_counts()"
   ]
  },
  {
   "cell_type": "code",
   "execution_count": 43,
   "metadata": {},
   "outputs": [
    {
     "data": {
      "image/png": "[encoded data removed]",
      "text/plain": [
       "<Figure size 576x288 with 1 Axes>"
      ]
     },
     "metadata": {},
     "output_type": "display_data"
    }
   ],
   "source": [
    "# Отрисуем\n",
    "import seaborn as sns\n",
    "sns.set_theme(style=\"whitegrid\")\n",
    "\n",
    "plt.figure(figsize = (8,4))\n",
    "sns.barplot(x = y.value_counts().index, y = y.value_counts().values);"
   ]
  },
  {
   "cell_type": "code",
   "execution_count": 45,
   "metadata": {},
   "outputs": [
    {
     "name": "stdout",
     "output_type": "stream",
     "text": [
      "Лучшее сочетание параметров модели:\n",
      "{'C': 0.1, 'class_weight': 'balanced', 'solver': 'liblinear'}\n"
     ]
    },
    {
     "data": {
      "image/png": "[encoded data removed]",
      "text/plain": [
       "<Figure size 432x288 with 1 Axes>"
      ]
     },
     "metadata": {},
     "output_type": "display_data"
    },
    {
     "name": "stdout",
     "output_type": "stream",
     "text": [
      "0.8871850681370189\n"
     ]
    }
   ],
   "source": [
    "# Обучим LogisticRegression c гиперпараметром, учитывающим балансировку классов (class_weight = 'balanced')\n",
    "# Добавим данный параметр в сетку (model_params)\n",
    "\n",
    "model_params = {\n",
    "             'param_grid':{'solver': ['liblinear'], 'C': [0.01, 0.05, 0.1, 0.5, 1, 5, 10], 'class_weight': ['balanced']},\n",
    "             'n_jobs': -1,\n",
    "             'cv': 3\n",
    "            }\n",
    "\n",
    "\n",
    "auc_with_class_weight = fit_model_and_get_auc(x_train_scaled, y_train, x_test_scaled, y_test, grid_param = model_params)\n",
    "print(auc_with_class_weight)"
   ]
  },
  {
   "cell_type": "code",
   "execution_count": 46,
   "metadata": {},
   "outputs": [
    {
     "name": "stdout",
     "output_type": "stream",
     "text": [
      "AUC After Scaling: 0.885044379082622\n",
      "AUC After Scaling and Turning On Model Parameter class_weight: 0.8871850681370189\n"
     ]
    }
   ],
   "source": [
    "print(f'AUC After Scaling: {auc_after_scaling}')\n",
    "print(f'AUC After Scaling and Turning On Model Parameter class_weight: {auc_with_class_weight}')"
   ]
  },
  {
   "cell_type": "markdown",
   "metadata": {},
   "source": [
    "Заметно, что качество улучшилось. Теперь посмотрим как изменится качество при применении метода OverSampling "
   ]
  },
  {
   "cell_type": "code",
   "execution_count": 49,
   "metadata": {},
   "outputs": [
    {
     "name": "stdout",
     "output_type": "stream",
     "text": [
      "Train Classes Balance:\n",
      "0    2316\n",
      "1    1884\n",
      "Name: Grant.Status, dtype: int64\n",
      "\n",
      "Test Classes Balance:\n",
      "0    943\n",
      "1    857\n",
      "Name: Grant.Status, dtype: int64\n"
     ]
    },
    {
     "data": {
      "image/png": "[encoded data removed]",
      "text/plain": [
       "<Figure size 720x360 with 2 Axes>"
      ]
     },
     "metadata": {},
     "output_type": "display_data"
    }
   ],
   "source": [
    "# Смотрим на баланс классов для y_train и y_test\n",
    "class_balance_train = y_train.value_counts()\n",
    "class_balance_test = y_test.value_counts()\n",
    "print(f'Train Classes Balance:')\n",
    "print(class_balance_train)\n",
    "print()\n",
    "print(f'Test Classes Balance:')\n",
    "print(class_balance_test)\n",
    "\n",
    "# Нарисуем для красоты\n",
    "fig, axes = plt.subplots(nrows = 1 , ncols = 2, figsize = (10,5))\n",
    "axes[0].set_title('Train Target Balance')\n",
    "axes[1].set_title('Test Target Balance')\n",
    "axes[0].set_xlabel('Class')\n",
    "axes[0].set_ylabel('TNumber of Objects')\n",
    "axes[1].set_xlabel('Class')\n",
    "axes[1].set_ylabel('TNumber of Objects')\n",
    "\n",
    "sns.barplot(x = class_balance_train.index, y = class_balance_train.values, ax = axes[0])\n",
    "sns.barplot(x = class_balance_test.index, y = class_balance_test.values, ax = axes[1]);"
   ]
  },
  {
   "cell_type": "code",
   "execution_count": 50,
   "metadata": {},
   "outputs": [
    {
     "name": "stdout",
     "output_type": "stream",
     "text": [
      "Add to Train: 432\n",
      "Add To Test: 86\n",
      "\n",
      "Number of Randomly Generated Train Objects: 432\n",
      "Number of Randomly Generated Test Objects: 86\n"
     ]
    }
   ],
   "source": [
    "# Cчитаем сколько надо добавить в минорный класс объектов\n",
    "train_to_add = class_balance_train[0] - class_balance_train[1] \n",
    "test_to_add = class_balance_test[0] - class_balance_test[1] \n",
    "print(f'Add to Train: {train_to_add}\\nAdd To Test: {test_to_add}')\n",
    "\n",
    "# Досэмплируем y_train и y_test. Для начала объеденим x_train и y_train, x_test и y_test\n",
    "x_y_train = concat_samples_h(x_train_scaled, y_train.values[:, np.newaxis])\n",
    "x_y_test = concat_samples_h(x_test_scaled, y_test.values[:, np.newaxis])\n",
    "\n",
    "# Минорный класс 1, отберем из train и test значения где y = 1\n",
    "train_target_one = x_y_train[x_y_train[:, -1] == 1]\n",
    "test_target_one = x_y_test[x_y_test[:, -1] == 1]\n",
    "\n",
    "# Теперь, имея полную выборку, можем досемплировать train и test. Для этого случайно отберем объекты из класса 1 n раз\n",
    "np.random.seed(0)\n",
    "\n",
    "# Делаем OverSampling для train. Для этого лишь запомним индексы случайно выбранных объектов\n",
    "train_indexes = []\n",
    "for _ in range(train_to_add):\n",
    "    indx = np.random.randint(0, train_target_one.shape[0])\n",
    "    train_indexes.append(indx)\n",
    "    \n",
    "# Отберем случайно выбранные объекты из train_target_one\n",
    "train_selected = train_target_one[train_indexes]\n",
    "\n",
    "# Повторим для test\n",
    "test_indexes = []\n",
    "for _ in range(test_to_add):\n",
    "    indx = np.random.randint(0, test_target_one.shape[0])\n",
    "    test_indexes.append(indx)\n",
    "    \n",
    "test_selected = test_target_one[test_indexes]\n",
    "\n",
    "# Сверим размерности случайно выбранных объектов\n",
    "print()\n",
    "print(f'Number of Randomly Generated Train Objects: {train_selected.shape[0]}')\n",
    "print(f'Number of Randomly Generated Test Objects: {test_selected.shape[0]}')"
   ]
  },
  {
   "cell_type": "code",
   "execution_count": 52,
   "metadata": {},
   "outputs": [],
   "source": [
    "# Теперь добавим случайно выбранные объекты в минорный класс (1) для train и test\n",
    "x_y_train = np.vstack((x_y_train, train_selected))\n",
    "x_y_test = np.vstack((x_y_test, test_selected))\n",
    "\n",
    "# Обратно разделим выборки \n",
    "x_train, y_train = x_y_train[:, :-1], x_y_train[:,-1]\n",
    "x_test, y_test = x_y_test[:, :-1], x_y_test[:,-1]"
   ]
  },
  {
   "cell_type": "code",
   "execution_count": 54,
   "metadata": {},
   "outputs": [
    {
     "name": "stdout",
     "output_type": "stream",
     "text": [
      "Train Classes Balance:\n",
      "0.0    2316\n",
      "1.0    2316\n",
      "dtype: int64\n",
      "\n",
      "Test Classes Balance:\n",
      "1.0    943\n",
      "0.0    943\n",
      "dtype: int64\n"
     ]
    },
    {
     "data": {
      "image/png": "[encoded data removed]",
      "text/plain": [
       "<Figure size 720x360 with 2 Axes>"
      ]
     },
     "metadata": {},
     "output_type": "display_data"
    }
   ],
   "source": [
    "# Взглянем на баланс теперь\n",
    "class_balance_train = pd.Series(y_train).value_counts()\n",
    "class_balance_test = pd.Series(y_test).value_counts()\n",
    "\n",
    "print(f'Train Classes Balance:')\n",
    "print(class_balance_train)\n",
    "print()\n",
    "print(f'Test Classes Balance:')\n",
    "print(class_balance_test)\n",
    "\n",
    "# Нарисуем для красоты\n",
    "fig, axes = plt.subplots(nrows = 1 , ncols = 2, figsize = (10,5))\n",
    "axes[0].set_title('Train Target Balance')\n",
    "axes[1].set_title('Test Target Balance')\n",
    "axes[0].set_xlabel('Class')\n",
    "axes[0].set_ylabel('TNumber of Objects')\n",
    "axes[1].set_xlabel('Class')\n",
    "axes[1].set_ylabel('TNumber of Objects')\n",
    "\n",
    "sns.barplot(x = class_balance_train.index, y = class_balance_train.values, ax = axes[0])\n",
    "sns.barplot(x = class_balance_test.index, y = class_balance_test.values, ax = axes[1]);"
   ]
  },
  {
   "cell_type": "code",
   "execution_count": 57,
   "metadata": {},
   "outputs": [
    {
     "name": "stdout",
     "output_type": "stream",
     "text": [
      "Лучшее сочетание параметров модели:\n",
      "{'C': 1, 'solver': 'liblinear'}\n"
     ]
    },
    {
     "data": {
      "image/png": "[encoded data removed]",
      "text/plain": [
       "<Figure size 432x288 with 1 Axes>"
      ]
     },
     "metadata": {},
     "output_type": "display_data"
    },
    {
     "name": "stdout",
     "output_type": "stream",
     "text": [
      "0.8826633485109344\n"
     ]
    }
   ],
   "source": [
    "# Обучим LogisticRegression после примения метода Oversampling\n",
    "# Исключим параметр class_weight, т.к. классы уже сбалансированы\n",
    "\n",
    "model_params = {\n",
    "             'param_grid':{'solver': ['liblinear'], 'C': [0.01, 0.05, 0.1, 0.5, 1, 5, 10]},\n",
    "             'n_jobs': -1,\n",
    "             'cv': 3\n",
    "            }\n",
    "\n",
    "\n",
    "auc_with_oversampling = fit_model_and_get_auc(x_train, y_train, x_test, y_test, grid_param = model_params)\n",
    "print(auc_with_oversampling)"
   ]
  },
  {
   "cell_type": "code",
   "execution_count": 58,
   "metadata": {},
   "outputs": [
    {
     "name": "stdout",
     "output_type": "stream",
     "text": [
      "AUC After Scaling and Turning On Model Parameter class_weight: 0.8871850681370189\n",
      "AUC After Oversampling: 0.8826633485109344\n"
     ]
    }
   ],
   "source": [
    "print(f'AUC After Scaling and Turning On Model Parameter class_weight: {auc_with_class_weight}')\n",
    "print(f'AUC After Oversampling: {auc_with_oversampling}')"
   ]
  },
  {
   "cell_type": "markdown",
   "metadata": {},
   "source": [
    "Качество модели после применеия OverSampling не сильно улучшилось, даже чуточку стало хуже"
   ]
  },
  {
   "cell_type": "code",
   "execution_count": 59,
   "metadata": {},
   "outputs": [],
   "source": [
    "def write_answer_3(auc_1, auc_2):\n",
    "    auc = (auc_1 + auc_2) / 2\n",
    "    with open(\"preprocessing_lr_answer3.txt\", \"w\") as fout:\n",
    "        fout.write(str(auc))\n",
    "\n",
    "write_answer_3(auc_with_class_weight, auc_with_oversampling)"
   ]
  },
  {
   "cell_type": "markdown",
   "metadata": {},
   "source": [
    "## Стратификация выборок\n",
    "Рассмотрим ещё раз пример с выборками из нормальных распределений. Посмотрим ещё раз на качество классификаторов, получаемое на тестовых выборках:"
   ]
  },
  {
   "cell_type": "code",
   "execution_count": 60,
   "metadata": {},
   "outputs": [
    {
     "name": "stdout",
     "output_type": "stream",
     "text": [
      "AUC ROC for classifier without weighted classes 0.9116666666666666\n",
      "AUC ROC for classifier with weighted classes:  0.9066666666666666\n"
     ]
    }
   ],
   "source": [
    "print('AUC ROC for classifier without weighted classes', auc_wo_class_weights)\n",
    "print('AUC ROC for classifier with weighted classes: ', auc_w_class_weights)"
   ]
  },
  {
   "cell_type": "markdown",
   "metadata": {},
   "source": [
    "Насколько эти цифры реально отражают качество работы алгоритма, если учесть, что тестовая выборка так же несбалансирована, как обучающая? При этом мы уже знаем, что алгоритм логистический регрессии чувствителен к балансировке классов в обучающей выборке, т.е. в данном случае на тесте он будет давать заведомо заниженные результаты. Метрика классификатора на тесте имела бы гораздо больший смысл, если бы объекты были разделы в выборках поровну: по 20 из каждого класса на обучени и на тесте. Переформируем выборки и подсчитаем новые ошибки:"
   ]
  },
  {
   "cell_type": "code",
   "execution_count": 61,
   "metadata": {},
   "outputs": [
    {
     "data": {
      "image/png": "[encoded data removed]",
      "text/plain": [
       "<Figure size 432x288 with 1 Axes>"
      ]
     },
     "metadata": {},
     "output_type": "display_data"
    },
    {
     "name": "stdout",
     "output_type": "stream",
     "text": [
      "AUC ROC for stratified samples:  0.9125\n"
     ]
    }
   ],
   "source": [
    "\"\"\"Разделим данные по классам поровну между обучающей и тестовой выборками\"\"\"\n",
    "example_data_train = np.vstack([data_0[:20,:], data_1[:20,:]])\n",
    "example_labels_train = np.concatenate([np.zeros((20)), np.ones((20))])\n",
    "example_data_test = np.vstack([data_0[20:,:], data_1[20:,:]])\n",
    "example_labels_test = np.concatenate([np.zeros((20)), np.ones((20))])\n",
    "\n",
    "\"\"\"Обучим классификатор\"\"\"\n",
    "optimizer = GridSearchCV(LogisticRegression(class_weight='balanced'), param_grid, cv=cv, n_jobs=-1)\n",
    "optimizer.fit(example_data_train, example_labels_train)\n",
    "Z = optimizer.predict(np.c_[xx.ravel(), yy.ravel()]).reshape(xx.shape)\n",
    "plt.pcolormesh(xx, yy, Z, cmap=plt.cm.Pastel2)\n",
    "plt.scatter(data_0[:,0], data_0[:,1], color='red')\n",
    "plt.scatter(data_1[:,0], data_1[:,1], color='blue')\n",
    "auc_stratified = roc_auc_score(example_labels_test, optimizer.predict_proba(example_data_test)[:,1])\n",
    "plt.title('With class weights')\n",
    "plt.show()\n",
    "print('AUC ROC for stratified samples: ', auc_stratified)"
   ]
  },
  {
   "cell_type": "markdown",
   "metadata": {},
   "source": [
    "Как видно, после данной процедуры ответ классификатора изменился незначительно, а вот качество увеличилось. При этом, в зависимости от того, как вы разбили изначально данные на обучение и тест, после сбалансированного разделения выборок итоговая метрика на тесте может как увеличиться, так и уменьшиться, но доверять ей можно значительно больше, т.к. она построена с учётом специфики работы классификатора. Данный подход является частным случаем т.н. метода стратификации.\n",
    "\n",
    "## Задание 6 Стратификация выборки\n",
    "\n",
    "1. По аналогии с тем, как это было сделано в начале задания, разбейте выборки ```x_real_zeros``` и ```x_cat_one_hot``` на обучение и тест, передавая в функцию ```train_test_split()``` дополнительно параметр ```stratify=y```. Также обязательно передайте в функцию переменную ```random_state=0```.\n",
    "<br><br>\n",
    "2. Выполните масштабирование новых вещественных выборок, обучите классификатор и его гиперпараметры при помощи метода кросс-валидации, делая поправку на несбалансированные классы при помощи весов. Убедитесь в том, что нашли оптимум accuracy по гиперпараметрам.\n",
    "<br><br>\n",
    "3. Оцените качество классификатора метрике AUC ROC на тестовой выборке.\n",
    "<br><br>\n",
    "4. Полученный ответ передайте функции ```write_answer_4```"
   ]
  },
  {
   "cell_type": "code",
   "execution_count": 69,
   "metadata": {},
   "outputs": [],
   "source": [
    "# Осуществим стратифицированное разбиение\n",
    "x_train_strat, x_test_strat, y_train_strat, y_test_strat = train_test_split(x_real_zeros, y, test_size = 0.3, random_state = 0, stratify = y)\n",
    "\n",
    "# Только для категорий\n",
    "x_train_one_hot_strat, x_test_one_hot_strat = train_test_split(x_cat_one_hot, test_size = 0.3, random_state = 0, stratify = y)"
   ]
  },
  {
   "cell_type": "code",
   "execution_count": 70,
   "metadata": {},
   "outputs": [],
   "source": [
    "# Масштабируем признаки\n",
    "scaler = StandardScaler()\n",
    "x_train_scaled_strat = scaler.fit_transform(x_train_strat)\n",
    "x_test_scaled_strat = scaler.transform(x_test_strat)\n",
    "                                      \n",
    "# Объединяем выборки\n",
    "x_train_strat = concat_samples_h(x_train_scaled_strat, x_train_one_hot_strat)\n",
    "x_test_strat = concat_samples_h(x_test_scaled_strat, x_test_one_hot_strat)"
   ]
  },
  {
   "cell_type": "code",
   "execution_count": 71,
   "metadata": {},
   "outputs": [
    {
     "name": "stdout",
     "output_type": "stream",
     "text": [
      "Лучшее сочетание параметров модели:\n",
      "{'C': 0.1, 'class_weight': 'balanced', 'solver': 'liblinear'}\n"
     ]
    },
    {
     "data": {
      "image/png": "[encoded data removed]",
      "text/plain": [
       "<Figure size 432x288 with 1 Axes>"
      ]
     },
     "metadata": {},
     "output_type": "display_data"
    },
    {
     "name": "stdout",
     "output_type": "stream",
     "text": [
      "0.879348713049622\n"
     ]
    }
   ],
   "source": [
    "# Обучаем модель со стратифицированной выборкой\n",
    "\n",
    "model_params = {\n",
    "             'param_grid':{'solver': ['liblinear'], 'C': [0.01, 0.05, 0.1, 0.5, 1, 5, 10], 'class_weight': ['balanced']},\n",
    "             'n_jobs': -1,\n",
    "             'cv': 3\n",
    "            }\n",
    "\n",
    "\n",
    "auc_with_stratification = fit_model_and_get_auc(x_train_strat, y_train_strat, x_test_strat, y_test_strat, grid_param = model_params)\n",
    "print(auc_with_stratification)"
   ]
  },
  {
   "cell_type": "code",
   "execution_count": 72,
   "metadata": {},
   "outputs": [
    {
     "name": "stdout",
     "output_type": "stream",
     "text": [
      "AUC After Scaling and Turning On Model Parameter class_weight: 0.8871850681370189\n",
      "AUC After Oversampling: 0.8826633485109344\n",
      "AUC After Stratification: 0.879348713049622\n"
     ]
    }
   ],
   "source": [
    "print(f'AUC After Scaling and Turning On Model Parameter class_weight: {auc_with_class_weight}')\n",
    "print(f'AUC After Oversampling: {auc_with_oversampling}')\n",
    "print(f'AUC After Stratification: {auc_with_stratification}')"
   ]
  },
  {
   "cell_type": "markdown",
   "metadata": {},
   "source": [
    "Можно заметить, что стратификация показала себя лучше, чем OverSampling. Однако, самый лучший показатель качества пока был достигнут только изменение гиперпараметра ```class_weight```"
   ]
  },
  {
   "cell_type": "code",
   "execution_count": 73,
   "metadata": {},
   "outputs": [],
   "source": [
    "def write_answer_4(auc):\n",
    "    with open(\"preprocessing_lr_answer4.txt\", \"w\") as file:\n",
    "        file.write(str(auc))\n",
    "        \n",
    "write_answer_4(auc_with_stratification)"
   ]
  },
  {
   "cell_type": "markdown",
   "metadata": {},
   "source": [
    "Теперь вы разобрались с основными этапами предобработки данных для линейных классификаторов.\n",
    "Напомним основные этапы:\n",
    "- обработка пропущенных значений\n",
    "- обработка категориальных признаков\n",
    "- стратификация\n",
    "- балансировка классов\n",
    "- масштабирование\n",
    "\n",
    "Данные действия с данными рекомендуется проводить всякий раз, когда вы планируете использовать линейные методы. Рекомендация по выполнению многих из этих пунктов справедлива и для других методов машинного обучения.\n",
    "\n",
    "## Трансформация признаков\n",
    "\n",
    "Теперь рассмотрим способы преобразования признаков. Существует достаточно много различных способов трансформации признаков, которые позволяют при помощи линейных методов получать более сложные разделяющие поверхности. Самым базовым является полиномиальное преобразование признаков. Его идея заключается в том, что помимо самих признаков вы дополнительно включаете набор все полиномы степени $p$, которые можно из них построить. Для случая $p=2$ преобразование выглядит следующим образом:\n",
    "\n",
    "$$ \\phi(x_i) = [x_{i,1}^2, ..., x_{i,D}^2, x_{i,1}x_{i,2}, ..., x_{i,D} x_{i,D-1}, x_{i,1}, ..., x_{i,D}, 1] $$\n",
    "\n",
    "Рассмотрим принцип работы данных признаков на данных, сэмплированных их гауссиан:"
   ]
  },
  {
   "cell_type": "code",
   "execution_count": 74,
   "metadata": {},
   "outputs": [
    {
     "data": {
      "image/png": "[encoded data removed]",
      "text/plain": [
       "<Figure size 432x288 with 1 Axes>"
      ]
     },
     "metadata": {},
     "output_type": "display_data"
    }
   ],
   "source": [
    "from sklearn.preprocessing import PolynomialFeatures\n",
    "\n",
    "\"\"\"Инициализируем класс, который выполняет преобразование\"\"\"\n",
    "transform = PolynomialFeatures(2)\n",
    "\n",
    "\"\"\"Обучаем преобразование на обучающей выборке, применяем его к тестовой\"\"\"\n",
    "example_data_train_poly = transform.fit_transform(example_data_train)\n",
    "example_data_test_poly = transform.transform(example_data_test)\n",
    "\n",
    "\"\"\"Обращаем внимание на параметр fit_intercept=False\"\"\"\n",
    "optimizer = GridSearchCV(LogisticRegression(class_weight='balanced', fit_intercept=False), param_grid, cv=cv, n_jobs=-1)\n",
    "optimizer.fit(example_data_train_poly, example_labels_train)\n",
    "Z = optimizer.predict(transform.transform(np.c_[xx.ravel(), yy.ravel()])).reshape(xx.shape)\n",
    "plt.pcolormesh(xx, yy, Z, cmap=plt.cm.Pastel2)\n",
    "plt.scatter(data_0[:,0], data_0[:,1], color='red')\n",
    "plt.scatter(data_1[:,0], data_1[:,1], color='blue')\n",
    "plt.title('With class weights')\n",
    "plt.show()"
   ]
  },
  {
   "cell_type": "markdown",
   "metadata": {},
   "source": [
    "Видно, что данный метод преобразования данных уже позволяет строить нелинейные разделяющие поверхности, которые могут более тонко подстраиваться под данные и находить более сложные зависимости. Число признаков в новой модели:"
   ]
  },
  {
   "cell_type": "code",
   "execution_count": 75,
   "metadata": {},
   "outputs": [
    {
     "name": "stdout",
     "output_type": "stream",
     "text": [
      "(40, 6)\n"
     ]
    }
   ],
   "source": [
    "print(example_data_train_poly.shape)"
   ]
  },
  {
   "cell_type": "markdown",
   "metadata": {},
   "source": [
    "Но при этом одновременно данный метод способствует более **сильной способности модели к переобучению из-за быстрого роста числа признаков** с увеличением степени $p$. Рассмотрим пример с $p=11$:"
   ]
  },
  {
   "cell_type": "code",
   "execution_count": 76,
   "metadata": {},
   "outputs": [
    {
     "data": {
      "image/png": "[encoded data removed]",
      "text/plain": [
       "<Figure size 432x288 with 1 Axes>"
      ]
     },
     "metadata": {},
     "output_type": "display_data"
    }
   ],
   "source": [
    "transform = PolynomialFeatures(11)\n",
    "example_data_train_poly = transform.fit_transform(example_data_train)\n",
    "example_data_test_poly = transform.transform(example_data_test)\n",
    "optimizer = GridSearchCV(LogisticRegression(class_weight='balanced', fit_intercept=False), param_grid, cv=cv, n_jobs=-1)\n",
    "optimizer.fit(example_data_train_poly, example_labels_train)\n",
    "Z = optimizer.predict(transform.transform(np.c_[xx.ravel(), yy.ravel()])).reshape(xx.shape)\n",
    "plt.pcolormesh(xx, yy, Z, cmap=plt.cm.Pastel2)\n",
    "plt.scatter(data_0[:,0], data_0[:,1], color='red')\n",
    "plt.scatter(data_1[:,0], data_1[:,1], color='blue')\n",
    "plt.title('Corrected class weights')\n",
    "plt.show()"
   ]
  },
  {
   "cell_type": "markdown",
   "metadata": {},
   "source": [
    "Количество признаков в данной модели:"
   ]
  },
  {
   "cell_type": "code",
   "execution_count": 77,
   "metadata": {},
   "outputs": [
    {
     "name": "stdout",
     "output_type": "stream",
     "text": [
      "(40, 78)\n"
     ]
    }
   ],
   "source": [
    "print(example_data_train_poly.shape)"
   ]
  },
  {
   "cell_type": "markdown",
   "metadata": {},
   "source": [
    "## Задание 7 Трансформация вещественных признаков\n",
    "\n",
    "1. Реализуйте по аналогии с примером преобразование вещественных признаков модели при помощи полиномиальных признаков степени 2\n",
    "<br><br>\n",
    "2. Постройте логистическую регрессию на новых данных, одновременно подобрав оптимальные гиперпараметры. Обращаем внимание, что в преобразованных признаках **уже присутствует столбец, все значения которого равны 1**, поэтому обучать дополнительно значение $b$ не нужно, его функцию выполняет один из весов $w$. В связи с этим во избежание линейной зависимости в датасете, в вызов класса логистической регрессии требуется **передавать параметр** ```fit_intercept=False```. Для обучения используйте стратифицированные выборки с балансировкой классов при помощи весов, преобразованные признаки требуется заново отмасштабировать.\n",
    "<br><br>\n",
    "3. Получите AUC ROC на тесте и сравните данный результат с использованием обычных признаков.\n",
    "<br><br>\n",
    "4. Передайте полученный ответ в функцию ```write_answer_5```"
   ]
  },
  {
   "cell_type": "code",
   "execution_count": 78,
   "metadata": {},
   "outputs": [
    {
     "name": "stdout",
     "output_type": "stream",
     "text": [
      "Shape of x_train after creating polynomial: (4200, 105)\n"
     ]
    }
   ],
   "source": [
    "# Осуществим стратифицированное разбиение\n",
    "x_train_strat, x_test_strat, y_train_strat, y_test_strat = train_test_split(x_real_zeros, y, test_size = 0.3, random_state = 0, stratify = y)\n",
    "\n",
    "# Только для категорий\n",
    "x_train_one_hot_strat, x_test_one_hot_strat = train_test_split(x_cat_one_hot, test_size = 0.3, random_state = 0, stratify = y)\n",
    "\n",
    "# Теперь применим полином только к вещественным признакам (n = 2)\n",
    "from sklearn.preprocessing import PolynomialFeatures\n",
    "\n",
    "polynomial = PolynomialFeatures(2)\n",
    "x_train_polynomial = polynomial.fit_transform(x_train_strat)\n",
    "x_test_polynomial = polynomial.transform(x_test_strat)\n",
    "print(f'Shape of x_train after creating polynomial: {x_train_polynomial.shape}')"
   ]
  },
  {
   "cell_type": "code",
   "execution_count": 79,
   "metadata": {},
   "outputs": [],
   "source": [
    "# Масштабируем признаки\n",
    "scaler = StandardScaler()\n",
    "scaler.fit(x_train_polynomial, y_train_strat)\n",
    "x_train_poly_scaled = scaler.transform(x_train_polynomial)\n",
    "x_test_poly_scaled = scaler.transform(x_test_polynomial)\n",
    "                                      \n",
    "# Объединяем выборки\n",
    "x_train_poly = concat_samples_h(x_train_poly_scaled, x_train_one_hot_strat)\n",
    "x_test_poly = concat_samples_h(x_test_poly_scaled, x_test_one_hot_strat)"
   ]
  },
  {
   "cell_type": "code",
   "execution_count": 80,
   "metadata": {},
   "outputs": [
    {
     "name": "stdout",
     "output_type": "stream",
     "text": [
      "Лучшее сочетание параметров модели:\n",
      "{'C': 0.1, 'class_weight': 'balanced', 'fit_intercept': False, 'solver': 'liblinear'}\n"
     ]
    },
    {
     "data": {
      "image/png": "[encoded data removed]",
      "text/plain": [
       "<Figure size 432x288 with 1 Axes>"
      ]
     },
     "metadata": {},
     "output_type": "display_data"
    },
    {
     "name": "stdout",
     "output_type": "stream",
     "text": [
      "0.8869913025739008\n"
     ]
    }
   ],
   "source": [
    "# Обучаем модель\n",
    "\n",
    "model_params = {\n",
    "             'param_grid':{'solver': ['liblinear'],\n",
    "                           'C': [0.01, 0.05, 0.1, 0.5, 1, 5, 10],\n",
    "                           'class_weight': ['balanced'],\n",
    "                           'fit_intercept':[False]},\n",
    "             'n_jobs': -1,\n",
    "             'cv': 3\n",
    "            }\n",
    "\n",
    "\n",
    "auc_with_poly_features = fit_model_and_get_auc(x_train_poly, y_train_strat, x_test_poly, y_test_strat, grid_param = model_params)\n",
    "print(auc_with_poly_features)"
   ]
  },
  {
   "cell_type": "code",
   "execution_count": 81,
   "metadata": {},
   "outputs": [
    {
     "name": "stdout",
     "output_type": "stream",
     "text": [
      "AUC After Scaling and Turning On Model Parameter class_weight: 0.8871850681370189\n",
      "AUC After Oversampling: 0.8826633485109344\n",
      "AUC After Stratification: 0.879348713049622\n",
      "AUC With Polynomial Features: 0.8869913025739008\n"
     ]
    }
   ],
   "source": [
    "print(f'AUC After Scaling and Turning On Model Parameter class_weight: {auc_with_class_weight}')\n",
    "print(f'AUC After Oversampling: {auc_with_oversampling}')\n",
    "print(f'AUC After Stratification: {auc_with_stratification}')\n",
    "print(f'AUC With Polynomial Features: {auc_with_poly_features}')"
   ]
  },
  {
   "cell_type": "markdown",
   "metadata": {},
   "source": [
    "Полиномиальные признаки неплохи и улучшают качество модели"
   ]
  },
  {
   "cell_type": "code",
   "execution_count": 82,
   "metadata": {},
   "outputs": [],
   "source": [
    "def write_answer_5(auc):\n",
    "    with open(\"preprocessing_lr_answer5.txt\", \"w\") as file:\n",
    "        file.write(str(auc))\n",
    "        \n",
    "write_answer_5(auc_with_poly_features)"
   ]
  },
  {
   "cell_type": "markdown",
   "metadata": {},
   "source": [
    "## Регрессия Lasso\n",
    "К логистической регрессии также можно применить L1-регуляризацию (Lasso), вместо регуляризации L2, которая будет приводить к отбору признаков. Вам предлагается применить L1-регуляцию к исходным признакам и проинтерпретировать полученные результаты (применение отбора признаков к полиномиальным так же можно успешно применять, но в нём уже будет отсутствовать компонента интерпретации, т.к. смысловое значение оригинальных признаков известно, а полиномиальных - уже может быть достаточно нетривиально). \n",
    "\n",
    "Для вызова логистической регрессии с L1-регуляризацией достаточно передать параметр ```penalty='l1'``` в инициализацию класса."
   ]
  },
  {
   "cell_type": "markdown",
   "metadata": {},
   "source": [
    "## Задание 8 Отбор признаков при помощи регрессии Lasso\n",
    "1. Обучите регрессию Lasso на стратифицированных отмасштабированных выборках, используя балансировку классов при помощи весов. Для задания используем ```x_train_real_zeros```\n",
    "<br><br>\n",
    "2. Получите ROC AUC регрессии, сравните его с предыдущими результатами\n",
    "<br><br>\n",
    "3. Найдите номера вещественных признаков, которые имеют нулевые веса в итоговой модели.\n",
    "<br><br>\n",
    "4. Передайте их список функции ```write_answer_6```"
   ]
  },
  {
   "cell_type": "code",
   "execution_count": 132,
   "metadata": {},
   "outputs": [],
   "source": [
    "# Осуществим стратифицированное разбиение\n",
    "x_train_strat, x_test_strat, y_train_strat, y_test_strat = train_test_split(x_real_zeros, y, test_size = 0.3, random_state = 0, stratify = y)\n",
    "\n",
    "# Только для категорий\n",
    "x_train_one_hot_strat, x_test_one_hot_strat = train_test_split(x_cat_one_hot, test_size = 0.3, random_state = 0, stratify = y)"
   ]
  },
  {
   "cell_type": "code",
   "execution_count": 133,
   "metadata": {},
   "outputs": [],
   "source": [
    "# Масштабируем признаки\n",
    "scaler = StandardScaler()\n",
    "scaler.fit(x_train_strat, y_train_strat)\n",
    "\n",
    "x_train_scaled_strat = scaler.transform(x_train_strat)\n",
    "x_test_scaled_strat = scaler.transform(x_test_strat)\n",
    "                                      \n",
    "# Объединяем выборки\n",
    "x_train = concat_samples_h(x_train_scaled_strat, x_train_one_hot_strat)\n",
    "x_test = concat_samples_h(x_test_scaled_strat, x_test_one_hot_strat)"
   ]
  },
  {
   "cell_type": "code",
   "execution_count": 134,
   "metadata": {},
   "outputs": [
    {
     "data": {
      "image/png": "[encoded data removed]",
      "text/plain": [
       "<Figure size 432x288 with 1 Axes>"
      ]
     },
     "metadata": {},
     "output_type": "display_data"
    },
    {
     "name": "stdout",
     "output_type": "stream",
     "text": [
      "LogisticRegression(C=1, class_weight='balanced', fit_intercept=False,\n",
      "                   penalty='l1', solver='liblinear')\n",
      "{'C': 1}\n",
      "0.8765076201991253\n"
     ]
    }
   ],
   "source": [
    "# Обучаем модель (необходимо будет получить доступ к признакам, поэтому не используем функцию)\n",
    "\n",
    "model_params = {'C': [0.01, 0.05, 0.1, 0.5, 1, 5, 10]} \n",
    "\n",
    "model = LogisticRegression(solver='liblinear', class_weight = 'balanced', penalty='l1')\n",
    "grid_cv_lasso = GridSearchCV(model, model_params, cv = 3, n_jobs = -1)\n",
    "grid_cv_lasso.fit(x_train, y_train_strat)\n",
    "\n",
    "plot_scores(grid_cv_lasso)\n",
    "print(grid_cv_lasso.best_estimator_)\n",
    "print(grid_cv_lasso.best_params_)\n",
    "\n",
    "auc_with_l1_norm = roc_auc_score(y_test_strat, grid_cv_lasso.best_estimator_.predict_proba(x_test)[:, 1])\n",
    "print(auc_with_l1_norm)"
   ]
  },
  {
   "cell_type": "code",
   "execution_count": 135,
   "metadata": {},
   "outputs": [
    {
     "data": {
      "text/plain": [
       "5606"
      ]
     },
     "execution_count": 135,
     "metadata": {},
     "output_type": "execute_result"
    }
   ],
   "source": [
    "# Всего признаков \n",
    "x_train.shape[1]"
   ]
  },
  {
   "cell_type": "code",
   "execution_count": 138,
   "metadata": {},
   "outputs": [
    {
     "name": "stdout",
     "output_type": "stream",
     "text": [
      "Всего незначащих признаков: 5086\n",
      "Число Значащих: 520\n"
     ]
    }
   ],
   "source": [
    "zero_coef = [ indx for indx, value in enumerate(grid_cv_lasso.best_estimator_.coef_[0]) if value == 0]\n",
    "print(f'Всего незначащих признаков: {len(zero_coef)}')\n",
    "meaningful_features = x_train.shape[1] - len(zero_coef)\n",
    "print(f'Число Значащих: {meaningful_features}')"
   ]
  },
  {
   "cell_type": "code",
   "execution_count": 142,
   "metadata": {},
   "outputs": [
    {
     "name": "stdout",
     "output_type": "stream",
     "text": [
      "Число вещественных признаков: 4200\n",
      "Среди них незначащих: 3844\n"
     ]
    }
   ],
   "source": [
    "# Найдем незначащие среди вещественных\n",
    "len_x_train_real = x_train_strat.shape[0]\n",
    "print(f'Число вещественных признаков: {len_x_train_real}')\n",
    "zero_coef = [ indx for indx, value in enumerate(grid_cv_lasso.best_estimator_.coef_[0][:len_x_train_real]) if value == 0]\n",
    "print(f'Среди них незначащих: {len(zero_coef)}')"
   ]
  },
  {
   "cell_type": "code",
   "execution_count": 145,
   "metadata": {},
   "outputs": [],
   "source": [
    "def write_answer_6(features):\n",
    "    with open(\"preprocessing_lr_answer6.txt\", \"w\") as fout:\n",
    "        fout.write(\" \".join([str(num) for num in features]))\n",
    "        \n",
    "write_answer_6(zero_coef)"
   ]
  }
 ],
 "metadata": {
  "kernelspec": {
   "display_name": "Python 3",
   "language": "python",
   "name": "python3"
  },
  "language_info": {
   "codemirror_mode": {
    "name": "ipython",
    "version": 3
   },
   "file_extension": ".py",
   "mimetype": "text/x-python",
   "name": "python",
   "nbconvert_exporter": "python",
   "pygments_lexer": "ipython3",
   "version": "3.7.9"
  }
 },
 "nbformat": 4,
 "nbformat_minor": 1
}
