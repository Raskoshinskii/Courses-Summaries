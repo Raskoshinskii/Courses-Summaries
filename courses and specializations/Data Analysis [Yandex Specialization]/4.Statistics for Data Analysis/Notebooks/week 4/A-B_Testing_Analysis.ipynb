{
 "cells": [
  {
   "cell_type": "markdown",
   "metadata": {},
   "source": [
    "### Анализ результатов АБ-теста\n",
    "В данном задании вам нужно будет проанализировать АБ  тест,  проведенный на реальных пользователях Яндекса.\n",
    "- Подтвердить или опровергнуть наличие изменений в пользовательском поведении между контрольной (control)  и тестовой (exp)  группами\n",
    "- Определить характер этих изменений и практическую значимость вводимого изменения\n",
    "- Понять, какая из пользовательских групп более всего проигрывает / выигрывает от тестируемого изменения (локализовать изменение)\n",
    "\n",
    "### Описание  данных:\n",
    "- userID:  уникальный идентификатор пользователя\n",
    "- browser:  браузер, который использовал userID\n",
    "- slot: в каком статусе пользователь участвовал в исследовании (exp = видел измененную страницу, control  = видел неизменную страницу)\n",
    "- n_clicks: количество кликов, которые пользоваль совершил за n_queries\n",
    "- n_queries: количество запросов, который совершил userID, пользуясь браузером browser\n",
    "- n_nonclk_queries: количество запросов пользователя, в которых  им не было совершено ни одного клика\n",
    "\n",
    "Обращаем ваше внимание, что не все люди используют только один браузер, поэтому в столбце userID есть повторяющиеся идентификаторы. В предлагаемых данных  уникальным является сочетание userID и browser."
   ]
  },
  {
   "cell_type": "code",
   "execution_count": 1,
   "metadata": {},
   "outputs": [],
   "source": [
    "import pandas as pd\n",
    "import matplotlib.pyplot as plt\n",
    "import seaborn as sns \n",
    "import numpy as np\n",
    "import scipy \n",
    "\n",
    "from scipy import stats\n",
    "\n",
    "sns.set_style('darkgrid')"
   ]
  },
  {
   "cell_type": "code",
   "execution_count": 2,
   "metadata": {},
   "outputs": [
    {
     "name": "stdout",
     "output_type": "stream",
     "text": [
      "C:\\Users\\vlad\\Machine_Learning\\Yandex Specialization\\4. Statistics for Data Analysis\\week 4\\data\n"
     ]
    }
   ],
   "source": [
    "cd C:\\Users\\vlad\\Machine_Learning\\Yandex Specialization\\4. Statistics for Data Analysis\\week 4\\data"
   ]
  },
  {
   "cell_type": "code",
   "execution_count": 3,
   "metadata": {},
   "outputs": [
    {
     "data": {
      "text/html": [
       "<div>\n",
       "<style scoped>\n",
       "    .dataframe tbody tr th:only-of-type {\n",
       "        vertical-align: middle;\n",
       "    }\n",
       "\n",
       "    .dataframe tbody tr th {\n",
       "        vertical-align: top;\n",
       "    }\n",
       "\n",
       "    .dataframe thead th {\n",
       "        text-align: right;\n",
       "    }\n",
       "</style>\n",
       "<table border=\"1\" class=\"dataframe\">\n",
       "  <thead>\n",
       "    <tr style=\"text-align: right;\">\n",
       "      <th></th>\n",
       "      <th>userID</th>\n",
       "      <th>browser</th>\n",
       "      <th>slot</th>\n",
       "      <th>n_clicks</th>\n",
       "      <th>n_queries</th>\n",
       "      <th>n_nonclk_queries</th>\n",
       "    </tr>\n",
       "  </thead>\n",
       "  <tbody>\n",
       "    <tr>\n",
       "      <th>0</th>\n",
       "      <td>1</td>\n",
       "      <td>Browser #2</td>\n",
       "      <td>exp</td>\n",
       "      <td>23</td>\n",
       "      <td>32</td>\n",
       "      <td>19</td>\n",
       "    </tr>\n",
       "    <tr>\n",
       "      <th>1</th>\n",
       "      <td>3</td>\n",
       "      <td>Browser #4</td>\n",
       "      <td>exp</td>\n",
       "      <td>3</td>\n",
       "      <td>4</td>\n",
       "      <td>2</td>\n",
       "    </tr>\n",
       "    <tr>\n",
       "      <th>2</th>\n",
       "      <td>5</td>\n",
       "      <td>Browser #4</td>\n",
       "      <td>exp</td>\n",
       "      <td>29</td>\n",
       "      <td>35</td>\n",
       "      <td>16</td>\n",
       "    </tr>\n",
       "    <tr>\n",
       "      <th>3</th>\n",
       "      <td>6</td>\n",
       "      <td>Browser #4</td>\n",
       "      <td>control</td>\n",
       "      <td>12</td>\n",
       "      <td>6</td>\n",
       "      <td>0</td>\n",
       "    </tr>\n",
       "    <tr>\n",
       "      <th>4</th>\n",
       "      <td>7</td>\n",
       "      <td>Browser #4</td>\n",
       "      <td>exp</td>\n",
       "      <td>54</td>\n",
       "      <td>68</td>\n",
       "      <td>30</td>\n",
       "    </tr>\n",
       "    <tr>\n",
       "      <th>...</th>\n",
       "      <td>...</td>\n",
       "      <td>...</td>\n",
       "      <td>...</td>\n",
       "      <td>...</td>\n",
       "      <td>...</td>\n",
       "      <td>...</td>\n",
       "    </tr>\n",
       "    <tr>\n",
       "      <th>566129</th>\n",
       "      <td>603133</td>\n",
       "      <td>Browser #14</td>\n",
       "      <td>control</td>\n",
       "      <td>1</td>\n",
       "      <td>2</td>\n",
       "      <td>1</td>\n",
       "    </tr>\n",
       "    <tr>\n",
       "      <th>566130</th>\n",
       "      <td>603134</td>\n",
       "      <td>Browser #2</td>\n",
       "      <td>exp</td>\n",
       "      <td>4</td>\n",
       "      <td>2</td>\n",
       "      <td>0</td>\n",
       "    </tr>\n",
       "    <tr>\n",
       "      <th>566131</th>\n",
       "      <td>603135</td>\n",
       "      <td>Browser #4</td>\n",
       "      <td>control</td>\n",
       "      <td>0</td>\n",
       "      <td>1</td>\n",
       "      <td>1</td>\n",
       "    </tr>\n",
       "    <tr>\n",
       "      <th>566132</th>\n",
       "      <td>603136</td>\n",
       "      <td>Browser #4</td>\n",
       "      <td>control</td>\n",
       "      <td>2</td>\n",
       "      <td>3</td>\n",
       "      <td>1</td>\n",
       "    </tr>\n",
       "    <tr>\n",
       "      <th>566133</th>\n",
       "      <td>603137</td>\n",
       "      <td>Browser #2</td>\n",
       "      <td>exp</td>\n",
       "      <td>3</td>\n",
       "      <td>1</td>\n",
       "      <td>0</td>\n",
       "    </tr>\n",
       "  </tbody>\n",
       "</table>\n",
       "<p>566134 rows × 6 columns</p>\n",
       "</div>"
      ],
      "text/plain": [
       "        userID      browser     slot  n_clicks  n_queries  n_nonclk_queries\n",
       "0            1   Browser #2      exp        23         32                19\n",
       "1            3   Browser #4      exp         3          4                 2\n",
       "2            5   Browser #4      exp        29         35                16\n",
       "3            6   Browser #4  control        12          6                 0\n",
       "4            7   Browser #4      exp        54         68                30\n",
       "...        ...          ...      ...       ...        ...               ...\n",
       "566129  603133  Browser #14  control         1          2                 1\n",
       "566130  603134   Browser #2      exp         4          2                 0\n",
       "566131  603135   Browser #4  control         0          1                 1\n",
       "566132  603136   Browser #4  control         2          3                 1\n",
       "566133  603137   Browser #2      exp         3          1                 0\n",
       "\n",
       "[566134 rows x 6 columns]"
      ]
     },
     "execution_count": 3,
     "metadata": {},
     "output_type": "execute_result"
    }
   ],
   "source": [
    "# Загрузка данных \n",
    "data = pd.read_csv('ab_browser_test.csv')\n",
    "data"
   ]
  },
  {
   "cell_type": "code",
   "execution_count": 4,
   "metadata": {},
   "outputs": [
    {
     "name": "stdout",
     "output_type": "stream",
     "text": [
      "Exp Group Size:  281580\n",
      "Control Group Size:  284554\n"
     ]
    }
   ],
   "source": [
    "# Отберем группы \n",
    "exp_group = data[data['slot'] == 'exp']\n",
    "control_group = data[data['slot'] == 'control']\n",
    "\n",
    "print('Exp Group Size: ', exp_group.shape[0])\n",
    "print('Control Group Size: ', control_group.shape[0])"
   ]
  },
  {
   "cell_type": "markdown",
   "metadata": {},
   "source": [
    "### Задание 1 \n",
    "Основная метрика, на которой мы сосредоточимся в этой работе, — это количество пользовательских кликов на web-странице в зависимости от тестируемого изменения этой страницы. \n",
    "\n",
    "Посчитайте, насколько в группе exp больше пользовательских кликов по сравнению с группой control в процентах от числа кликов в контрольной группе.\n",
    "\n",
    "Полученный процент округлите  до третьего знака после точки. "
   ]
  },
  {
   "cell_type": "code",
   "execution_count": 5,
   "metadata": {},
   "outputs": [
    {
     "name": "stdout",
     "output_type": "stream",
     "text": [
      "1.614\n"
     ]
    }
   ],
   "source": [
    "res = ((exp_group['n_clicks'].sum()/control_group['n_clicks'].sum())-1)*100\n",
    "print('%.3f' %res)"
   ]
  },
  {
   "cell_type": "markdown",
   "metadata": {},
   "source": [
    "### Задание 2\n",
    "Давайте попробуем посмотреть более внимательно на разницу между двумя группами (control и exp) относительно количества пользовательских кликов.\n",
    "\n",
    "Для этого постройте с помощью бутстрепа 95% доверительный интервал для средних значений и медиан количества кликов в каждой из двух групп. Отметьте все верные утверждения:\n",
    "- 95% доверительный интервал для разности медиан не  содержит ноль, похоже, медианы отличаются статистически значимо\n",
    "- 95% доверительный интервал для разности медиан содержит ноль, похоже, медианы существенно не отличаются\n",
    "- Применение bootstrap на выборках такого большого размера неправомерно, потому что bootstrap делает псведовыборки с возвращениями, а с ростом объема исходной выборки  псведовыборки с возвращениями становятся более похожими на псведовыборки без возвращения\n",
    "- 95% доверительный интервал для разности средних не  содержит ноль, похоже, средние отличаются статистически значимо\n",
    "- 95% доверительный интервал для разности средних содержит ноль, похоже, средние существенно не отличаются"
   ]
  },
  {
   "cell_type": "code",
   "execution_count": 6,
   "metadata": {},
   "outputs": [
    {
     "name": "stdout",
     "output_type": "stream",
     "text": [
      "n_clicks Median (Exp Group):  5.0\n",
      "n_clicks Median (Control Group):  4.0\n"
     ]
    },
    {
     "data": {
      "image/png": "[encoded data removed]",
      "text/plain": [
       "<Figure size 1440x432 with 2 Axes>"
      ]
     },
     "metadata": {},
     "output_type": "display_data"
    }
   ],
   "source": [
    "# Отберем медианы в группах \n",
    "median_exp = exp_group['n_clicks'].median()\n",
    "median_control = control_group['n_clicks'].median()\n",
    "\n",
    "plt.figure(figsize=(20,6))\n",
    "plt.subplot(1,2,1)\n",
    "sns.histplot(exp_group['n_clicks'], bins=40, kde=True)\n",
    "plt.axvline(median_exp, color='r', linewidth=2)\n",
    "plt.title('n_clicks Distribution (Exp Group)')\n",
    "\n",
    "plt.subplot(1,2,2)\n",
    "sns.histplot(control_group['n_clicks'], bins=40, kde=True)\n",
    "plt.axvline(median_control, color='r', linewidth=2)\n",
    "plt.title('n_clicks Distribution (Control Group)');\n",
    "\n",
    "print('n_clicks Median (Exp Group): ', median_exp)\n",
    "print('n_clicks Median (Control Group): ', median_control)"
   ]
  },
  {
   "cell_type": "code",
   "execution_count": 7,
   "metadata": {},
   "outputs": [
    {
     "name": "stdout",
     "output_type": "stream",
     "text": [
      "95% Сonfidence Interval for Medians (Exp Group): [5. 5.]\n",
      "95% Confidence Interval for Medians (Control Group): [4. 4.]\n",
      "\n",
      "95% Сonfidence Interval for Means (Exp Group): [11.51494415 11.659966  ]\n",
      "95% Confidence Interval for Means (Control Group): [11.20508366 11.35837179]\n"
     ]
    }
   ],
   "source": [
    "# Определим ряд функций для получения псевдовыборок на основе бутстрепа и получение ДИ\n",
    "def get_bootstrap_samples(data, n_samples):\n",
    "    indices = np.random.randint(0, len(data), (n_samples, len(data)))\n",
    "    samples = data[indices]\n",
    "    return samples\n",
    "\n",
    "def stat_intervals(stat, alpha=0.05):\n",
    "    boundaries = np.percentile(stat, [100 * alpha / 2, 100 * (1 - alpha / 2)])\n",
    "    return boundaries\n",
    "\n",
    "# Получим псевдовыборки из медиан для каждой группы \n",
    "bootstrap_medians_exp = list(map(np.median, get_bootstrap_samples(exp_group['n_clicks'].values, 1000)))\n",
    "bootstrap_medians_control = list(map(np.median, get_bootstrap_samples(control_group['n_clicks'].values, 1000)))\n",
    "\n",
    "# Получим псевдовыборки из средних для каждой группы \n",
    "bootstrap_means_exp = list(map(np.mean, get_bootstrap_samples(exp_group['n_clicks'].values, 1000)))\n",
    "bootstrap_means_control = list(map(np.mean, get_bootstrap_samples(control_group['n_clicks'].values, 1000)))\n",
    "\n",
    "# Получим ДИ для полученных псевдовыборок (Медианы)\n",
    "print(\"95% Сonfidence Interval for Medians (Exp Group):\",  stat_intervals(bootstrap_medians_exp))\n",
    "print(\"95% Confidence Interval for Medians (Control Group):\",  stat_intervals(bootstrap_medians_control))\n",
    "print()\n",
    "# Получим ДИ для полученных псевдовыборок (Средине)\n",
    "print(\"95% Сonfidence Interval for Means (Exp Group):\",  stat_intervals(bootstrap_means_exp))\n",
    "print(\"95% Confidence Interval for Means (Control Group):\",  stat_intervals(bootstrap_means_control))"
   ]
  },
  {
   "cell_type": "markdown",
   "metadata": {},
   "source": [
    "ДИ интервалы групп средних и медиан не пересекаются, с большой вероятностью группы значимо отличаются друг от друга. Оценим интервально разность медиан и средних для групп, если интервал разности не будет содержать ноль, значит мы правы."
   ]
  },
  {
   "cell_type": "code",
   "execution_count": 8,
   "metadata": {},
   "outputs": [
    {
     "name": "stdout",
     "output_type": "stream",
     "text": [
      "95% Confidence Interval For the Difference Between Medians [1. 1.]\n",
      "95% Confidence Interval For the Difference Between Means [0.20412716 0.41665794]\n"
     ]
    }
   ],
   "source": [
    "median_diff = list(map(lambda x: x[1] - x[0], zip(bootstrap_medians_control, bootstrap_medians_exp)))\n",
    "print(\"95% Confidence Interval For the Difference Between Medians\",  stat_intervals(median_diff, 0.05))\n",
    "\n",
    "mean_diff = list(map(lambda x: x[1] - x[0], zip(bootstrap_means_control, bootstrap_means_exp)))\n",
    "print(\"95% Confidence Interval For the Difference Between Means\",  stat_intervals(mean_diff, 0.05))"
   ]
  },
  {
   "cell_type": "markdown",
   "metadata": {},
   "source": [
    "ДИ для разностей не содержит ноль, группы значимо отличаются друг от друга. Ответ: 1,4"
   ]
  },
  {
   "cell_type": "markdown",
   "metadata": {},
   "source": [
    "### Задание 3\n",
    "Поскольку данных достаточно много (порядка полумиллиона уникальных пользователей), отличие в несколько процентов может быть не только практически значимым, но и  значимым статистически. Последнее утверждение нуждается в дополнительной проверке. \n",
    "\n",
    "Посмотрите на выданные вам данные и выберите все верные варианты ответа относительно проверки гипотезы о равенстве среднего количества кликов в группах.\n",
    "\n",
    "- Для проверки гипотезы о равенстве средних категорически нельзя использовать t-критерий Стьюдента ни при каком размере выборки, потому что количество кликов, которые мы исследуем, больше походят на распределение Пуассона, которое сильно отличается от нормального. \n",
    "- Все ответы неверны\n",
    "- Используя центральную предельную теорему, мы можем заключить, что с ростом объема выборки любое исследуемое распределение, становится похожим на нормальное, а значит, учитывая большой объем нашей выборки, оптимальным критерием  в нашей задаче будет z-критерий.  \n",
    "- Для проверки гипотезы о равенстве средних в данной задаче можно использовать только параметрические критерии, потому что непараметрические, как известно, с увеличением размера выборки могут давать непредсказуемые результаты в силу случайности в определении их нулевого распределения. \n",
    "- Гипотезу о равенстве средних между двумя выборками можно проверить с помощью построения доверительного интервала для среднего объединенной выборки, потому что в силу большого объема выборки этот интервал будет очень точным, и мы сможем надежно оценить необходимый доверительный интервал\n",
    "\n",
    "Ответ: 2\n",
    "\n",
    "### Задание 4 \n",
    "t-критерий Стьюдента имеет множество достоинств, и потому его достаточно часто применяют в AB экспериментах. Иногда его применение может быть необоснованно из-за сильной скошенности распределения данных. Давайте постараемся понять, когда t-критерий можно применять и как это проверить на реальных данных, чтобы дпредположения t-критерия выполнялись необходимо:\n",
    "\n",
    "- $X$  —  среднее значение в выборке было распределено нормально N(μ,σ2/n)\n",
    "- $n/σ2*S2$  — несмещенная оценка дисперсии c масштабирующим коэффициентом была распределена по хи-квадрат  c n−1 степенями свободы  χ2(n−1) \n",
    "\n",
    "Оба этих предположения можно проверить с помощью бутстрепа. Ограничимся сейчас только контрольной группой, в которой распределение кликов будем называть данными  в рамках данного вопроса.\n",
    "\n",
    "\n",
    "**Важно** для получения одинаковых ответов нужно:\n",
    "- ```np.random.seed(0)```\n",
    "- ```n_samples = 500```\n",
    "\n",
    "Поскольку мы не знаем истинного распределения генеральной совокупности, мы можем применить бутстреп, чтобы понять, как распределены среднее значение и выборочная дисперсия. Для этого:\n",
    "- 1) Получите из данных n_boot_samples  псевдовыборок. "
   ]
  },
  {
   "cell_type": "code",
   "execution_count": 9,
   "metadata": {},
   "outputs": [],
   "source": [
    "np.random.seed(0)\n",
    "n_samples = 500\n",
    "\n",
    "n_boot_samples = get_bootstrap_samples(control_group['n_clicks'].values, n_samples)"
   ]
  },
  {
   "cell_type": "markdown",
   "metadata": {},
   "source": [
    "- 2) По каждой из этих выборок посчитайте среднее и сумму квадратов отклонения от выборочного среднего (control_boot_chi_squared)"
   ]
  },
  {
   "cell_type": "code",
   "execution_count": 10,
   "metadata": {},
   "outputs": [],
   "source": [
    "means = n_boot_samples.mean(axis=1)\n",
    "control_boot_chi_squared  = np.var(n_boot_samples, axis=1)"
   ]
  },
  {
   "cell_type": "markdown",
   "metadata": {},
   "source": [
    "- 3) Для получившегося вектора средних значений из n_boot_samples постройте q-q plot с помощью scipy.stats.probplot для нормального распределения"
   ]
  },
  {
   "cell_type": "code",
   "execution_count": 11,
   "metadata": {},
   "outputs": [
    {
     "data": {
      "image/png": "[encoded data removed]",
      "text/plain": [
       "<Figure size 432x288 with 1 Axes>"
      ]
     },
     "metadata": {},
     "output_type": "display_data"
    }
   ],
   "source": [
    "scipy.stats.probplot(means, dist=\"chi2\", sparams=(n_samples-1), plot=plt, rvalue=True);"
   ]
  },
  {
   "cell_type": "markdown",
   "metadata": {},
   "source": [
    "- 4) Для получившегося вектора  сумм квадратов отклонения от выборочного среднего постройте qq-plot с помощью scipy.stats.probplot "
   ]
  },
  {
   "cell_type": "code",
   "execution_count": 12,
   "metadata": {},
   "outputs": [
    {
     "data": {
      "image/png": "[encoded data removed]",
      "text/plain": [
       "<Figure size 432x288 with 1 Axes>"
      ]
     },
     "metadata": {},
     "output_type": "display_data"
    }
   ],
   "source": [
    "scipy.stats.probplot(control_boot_chi_squared, dist=\"chi2\", sparams=(n_samples-1), plot=plt, rvalue=True);"
   ]
  },
  {
   "cell_type": "markdown",
   "metadata": {},
   "source": [
    "В качестве ответа отметьте верные утвердения о значениях  ```R2``` при отображении qq-графиков:\n",
    "-  Одно c графика для среднего\n",
    "- Одно с графика для выборочной суммы квадратов отклонения от выборочной суммы\n",
    "\n",
    "\n",
    "- $R2$ для выборочного среднего получился меньше, чем  0.99\n",
    "- $R2$ для выборочного среднего получился больше, чем  0.99\n",
    "- $R2$ для выборочной суммы квадратов отклонения от выборочной суммы получился меньше, чем 0.99\n",
    "- $R2$ для выборочной суммы квадратов отклонения от выборочной суммы получился больше, чем 0.99\n",
    "\n",
    "Ответ: 2,4\n",
    "\n",
    "### Задание 5\n",
    "Одним из возможных аналогов t-критерия, которым можно воспрользоваться, является тест Манна-Уитни. На достаточно обширном классе распределений он является асимптотически более эффективным, чем t-критерий, и при этом не требует параметрических предположений о характере распределения.\n",
    "\n",
    "Разделите выборку на две части, соответствующие control  и exp группам. Преобразуйте данные к виду, чтобы каждому пользователю  соответствовало суммарное значение его кликов. С помощью критерия Манна-Уитни проверьте гипотезу о равенстве средних. Что можно сказать о получившемся значении достигаемого уровня значимости ? Выберите все правильные ответы:\n",
    "- Критерий Манна-Уитни в данной задаче применять нельзя, поэтому вопрос о достигаемом уровне значимости некорректен\n",
    "- Получившееся значение достигаемого уровня значимости свидетельствует о статистической значимости отличий между  двумя выборками\n",
    "- $p-value < 0.01$  поэтому можно сказать, что отличия незначительны на уровне доверия 0.05\n",
    "- Согласно полученному значению p-value,  мы вынуждены принять нулевую гипотезу"
   ]
  },
  {
   "cell_type": "code",
   "execution_count": 13,
   "metadata": {},
   "outputs": [],
   "source": [
    "# Отберем группы \n",
    "control_user_clicks = control_group.groupby('userID')['n_clicks'].sum()\n",
    "exp_user_clicks = exp_group.groupby('userID')['n_clicks'].sum()"
   ]
  },
  {
   "cell_type": "code",
   "execution_count": 14,
   "metadata": {},
   "outputs": [
    {
     "name": "stdout",
     "output_type": "stream",
     "text": [
      "n_clicks Median (Exp Group):  11.589351572215314\n",
      "n_clicks Median (Control Group):  11.287332273762974\n"
     ]
    },
    {
     "data": {
      "image/png": "[encoded data removed]",
      "text/plain": [
       "<Figure size 1440x432 with 2 Axes>"
      ]
     },
     "metadata": {},
     "output_type": "display_data"
    }
   ],
   "source": [
    "# Отберем средние в группах  \n",
    "control_user_clicks_means = control_user_clicks.mean()\n",
    "exp_user_clicks_means = exp_user_clicks.mean()\n",
    "\n",
    "plt.figure(figsize=(20,6))\n",
    "plt.subplot(1,2,1)\n",
    "sns.histplot(exp_user_clicks, bins=40, kde=True)\n",
    "plt.axvline(exp_user_clicks_means, color='r', linewidth=2)\n",
    "plt.title('n_clicks Distribution (Exp Group)')\n",
    "\n",
    "plt.subplot(1,2,2)\n",
    "sns.histplot(control_user_clicks, bins=40, kde=True)\n",
    "plt.axvline(control_user_clicks_means, color='r', linewidth=2)\n",
    "plt.title('n_clicks Distribution (Control Group)');\n",
    "\n",
    "print('n_clicks Median (Exp Group): ', exp_user_clicks_means)\n",
    "print('n_clicks Median (Control Group): ', control_user_clicks_means)"
   ]
  },
  {
   "cell_type": "code",
   "execution_count": 15,
   "metadata": {},
   "outputs": [
    {
     "data": {
      "text/plain": [
       "MannwhitneyuResult(statistic=38901259929.0, pvalue=4.3471471887604393e-75)"
      ]
     },
     "execution_count": 15,
     "metadata": {},
     "output_type": "execute_result"
    }
   ],
   "source": [
    "# Критерий Манна-Уитни\n",
    "stats.mannwhitneyu(control_user_clicks, exp_user_clicks)"
   ]
  },
  {
   "cell_type": "markdown",
   "metadata": {},
   "source": [
    "Обнаружены значимые различия между группами\n",
    "\n",
    "### Задание 6\n",
    "Проверьте, для какого из браузеров наиболее сильно выражено отличие между количеством кликов в контрольной и экспериментальной группах.\n",
    "\n",
    "Для этого примените для каждого из срезов (по каждому из уникальных значений столбца browser) критерий Манна-Уитни между control и exp группами и сделайте поправку Холма-Бонферрони на множественную проверку с ```alpha=0.05```\n",
    "\n",
    "Какое заключение можно сделать исходя из полученных результатов ?\n",
    "\n",
    "В качестве ответа введите количество незначимых изменений с точки зрения результатов, полученных после введения коррекции."
   ]
  },
  {
   "cell_type": "code",
   "execution_count": 16,
   "metadata": {},
   "outputs": [
    {
     "name": "stdout",
     "output_type": "stream",
     "text": [
      "Number of Insignificant p-values:  5\n"
     ]
    }
   ],
   "source": [
    "unique_browsers = data['browser'].unique()\n",
    "\n",
    "p_values = []\n",
    "for browser in unique_browsers:\n",
    "    exp = exp_group[exp_group['browser'] == browser]\n",
    "    control = control_group[control_group['browser'] == browser]\n",
    "    p_values.append(stats.mannwhitneyu(exp['n_clicks'], control['n_clicks']).pvalue)\n",
    "    \n",
    "import statsmodels.stats.multitest as smm\n",
    "test_res = smm.multipletests(p_values, alpha=0.05/6, method='holm')\n",
    "print('Number of Insignificant p-values: ', (~test_res[0]).sum())"
   ]
  },
  {
   "cell_type": "markdown",
   "metadata": {},
   "source": [
    "### Задание 7\n",
    "Для каждого браузера в каждой из двух групп (control  и exp) посчитайте долю запросов, в которых пользователь не кликнул ни разу. Это можно сделать, поделив сумму значений  n_nonclk_queries  на сумму значений  n_queries. Умножив это значение на 100, получим процент некликнутых запросов, который можно легче  проинтерпретировать.\n",
    "\n",
    "Сходятся ли результаты проведенного Вами анализа с показателем процента некликнутых запросов ? Отметьте все верные утверждения:\n",
    "\n",
    "- По всем браузерам мы видим незначительное уменьшение доли некликнутых запросов, поэтому делаем вывод о том, что тестируемое изменение приносит больше вреда, чем пользы.\n",
    "\n",
    "- По одному из браузеров мы видим значительное уменьшение доли некликнутых запросов, поэтому уже только на этом основании тестируемое изменение можно рекомендовать к применению для всех пользователей. \n",
    "\n",
    "- С помощью анализа, проведенного в предыдущем вопросе, мы показали, что тестируемое изменение приводит к статистически значимому отличию только для одного браузера. Для этого браузера на основе данных о доли некликнутых запросов, заключаем, что тестируемое изменение влияет на пользователей позитивно.\n",
    "\n",
    "- Тестируемое изменение можно предложить к внедрению только на тот сегмент пользователей, где локализуется изменение, то есть для того браузера, для которого  доля некликнутых запросов уменьшилась больше всего. Для прочих браузеров мы не обладаем никакой информацией относительно влияния тестируемого изменения на поведение пользователей. "
   ]
  },
  {
   "cell_type": "code",
   "execution_count": 17,
   "metadata": {},
   "outputs": [],
   "source": [
    "exp_perc = []\n",
    "cntr_perc = []\n",
    "for browser in unique_browsers:\n",
    "    exp = exp_group[exp_group['browser'] == browser]\n",
    "    control = control_group[control_group['browser'] == browser]\n",
    "    per_exp = (exp['n_nonclk_queries'].sum()/(exp['n_queries']).sum())*100\n",
    "    per_cntr = (control['n_nonclk_queries'].sum()/(control['n_queries']).sum())*100\n",
    "    \n",
    "    exp_perc.append(per_exp)\n",
    "    cntr_perc.append(per_cntr)"
   ]
  },
  {
   "cell_type": "code",
   "execution_count": 18,
   "metadata": {},
   "outputs": [
    {
     "name": "stdout",
     "output_type": "stream",
     "text": [
      "[44.982746948554706, 45.14294190358467, 43.755617361273295, 36.93741284866483, 38.97737648371716, 39.85394721969546]\n",
      "[45.96274717919465, 46.97092963514274, 57.59041136008114, 36.29936674628208, 40.540484743383296, 40.593976593513354]\n"
     ]
    }
   ],
   "source": [
    "print(exp_perc)\n",
    "print(cntr_perc)"
   ]
  },
  {
   "cell_type": "markdown",
   "metadata": {},
   "source": [
    "Ответы:"
   ]
  }
 ],
 "metadata": {
  "kernelspec": {
   "display_name": "Python 3",
   "language": "python",
   "name": "python3"
  },
  "language_info": {
   "codemirror_mode": {
    "name": "ipython",
    "version": 3
   },
   "file_extension": ".py",
   "mimetype": "text/x-python",
   "name": "python",
   "nbconvert_exporter": "python",
   "pygments_lexer": "ipython3",
   "version": "3.7.9"
  }
 },
 "nbformat": 4,
 "nbformat_minor": 4
}
