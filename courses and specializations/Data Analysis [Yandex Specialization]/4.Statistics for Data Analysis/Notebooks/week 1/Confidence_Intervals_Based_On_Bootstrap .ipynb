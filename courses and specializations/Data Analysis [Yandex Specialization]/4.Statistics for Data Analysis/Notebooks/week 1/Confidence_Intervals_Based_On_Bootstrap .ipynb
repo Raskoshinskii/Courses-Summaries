{
 "cells": [
  {
   "cell_type": "markdown",
   "metadata": {},
   "source": [
    "### Доверительные интервалы на основе Bootstrap\n",
    "Будем сэмплировать данные из известной нам выборки с возвращениями, то есть из известной выборки получать выборки такой же длины путём сэмплирования с возвращением. В этом случае мы будем сэмплировать уже не из теоретической функции распределения, а из эмпирической функции распределения, и таким образом, посчитав статистику на каждой из этих выборок, мы с вами оценим эмпирическую функцию распределения. Собственно, в этом и заключается идея Bootstrap."
   ]
  },
  {
   "cell_type": "markdown",
   "metadata": {},
   "source": [
    "Verizon — основная региональная телекоммуникационная компания (Incumbent Local Exchange Carrier, ILEC) в западной \n",
    "части США. В связи с этим данная компания обязана предоставлять сервис ремонта телекоммуникационного оборудования \n",
    "не только для своих клиентов, но и для клиентов других локальных телекоммуникационых компаний (Competing Local Exchange Carriers, CLEC). При этом в случаях, когда время ремонта оборудования для клиентов других компаний существенно выше, чем для собственных, Verizon может быть оштрафована. \n",
    "\n",
    "Загрузим доступную нам выборку и проанализируем **среднее время ремонта оборудования для клиентов компании Verizon и среднее время ремонта оборудования для клиентов других компаний.**"
   ]
  },
  {
   "cell_type": "code",
   "execution_count": 1,
   "metadata": {},
   "outputs": [],
   "source": [
    "import numpy as np\n",
    "import pandas as pd\n",
    "import matplotlib.pyplot as plt"
   ]
  },
  {
   "cell_type": "code",
   "execution_count": 2,
   "metadata": {},
   "outputs": [
    {
     "data": {
      "text/plain": [
       "(1687, 2)"
      ]
     },
     "execution_count": 2,
     "metadata": {},
     "output_type": "execute_result"
    }
   ],
   "source": [
    "data = pd.read_csv('verizon.txt', sep = '\\t')\n",
    "data.shape"
   ]
  },
  {
   "cell_type": "code",
   "execution_count": 3,
   "metadata": {},
   "outputs": [
    {
     "data": {
      "text/html": [
       "<div>\n",
       "<style scoped>\n",
       "    .dataframe tbody tr th:only-of-type {\n",
       "        vertical-align: middle;\n",
       "    }\n",
       "\n",
       "    .dataframe tbody tr th {\n",
       "        vertical-align: top;\n",
       "    }\n",
       "\n",
       "    .dataframe thead th {\n",
       "        text-align: right;\n",
       "    }\n",
       "</style>\n",
       "<table border=\"1\" class=\"dataframe\">\n",
       "  <thead>\n",
       "    <tr style=\"text-align: right;\">\n",
       "      <th></th>\n",
       "      <th>Time</th>\n",
       "      <th>Group</th>\n",
       "    </tr>\n",
       "  </thead>\n",
       "  <tbody>\n",
       "    <tr>\n",
       "      <th>0</th>\n",
       "      <td>17.50</td>\n",
       "      <td>ILEC</td>\n",
       "    </tr>\n",
       "    <tr>\n",
       "      <th>1</th>\n",
       "      <td>2.40</td>\n",
       "      <td>ILEC</td>\n",
       "    </tr>\n",
       "    <tr>\n",
       "      <th>2</th>\n",
       "      <td>0.00</td>\n",
       "      <td>ILEC</td>\n",
       "    </tr>\n",
       "    <tr>\n",
       "      <th>3</th>\n",
       "      <td>0.65</td>\n",
       "      <td>ILEC</td>\n",
       "    </tr>\n",
       "    <tr>\n",
       "      <th>4</th>\n",
       "      <td>22.23</td>\n",
       "      <td>ILEC</td>\n",
       "    </tr>\n",
       "  </tbody>\n",
       "</table>\n",
       "</div>"
      ],
      "text/plain": [
       "    Time Group\n",
       "0  17.50  ILEC\n",
       "1   2.40  ILEC\n",
       "2   0.00  ILEC\n",
       "3   0.65  ILEC\n",
       "4  22.23  ILEC"
      ]
     },
     "execution_count": 3,
     "metadata": {},
     "output_type": "execute_result"
    }
   ],
   "source": [
    "data.head()"
   ]
  },
  {
   "cell_type": "code",
   "execution_count": 4,
   "metadata": {},
   "outputs": [
    {
     "data": {
      "text/plain": [
       "ILEC    1664\n",
       "CLEC      23\n",
       "Name: Group, dtype: int64"
      ]
     },
     "execution_count": 4,
     "metadata": {},
     "output_type": "execute_result"
    }
   ],
   "source": [
    "data['Group'].value_counts()"
   ]
  },
  {
   "cell_type": "markdown",
   "metadata": {},
   "source": [
    "- ```ILEC``` - данные по ремонту оборудования для клиентов компании\n",
    "- ```CLEC``` - данные по ремонту оборудования для клиентов других компании\n",
    "\n",
    "Можем заменить, что в основном имеем данные для клиентов компании, а не для клиентов других компаний. Ничего страшного, мы все равно можем сравнить среднее время!\n",
    "\n",
    "Мы хотим каким-то образом сравнить, насколько же отличается среднее время ремонта. Ну сравнивать среднее время ремонта не очень сложно, мы с вами это уже умеем. Мы умеем строить доверительные интервалы на **средние**, поэтому давайте возьмём какую-нибудь другую статистику. Давайте сравним, как же соотносится между собой **медианное время ремонта.**\n",
    "\n",
    "Посмотрим на распределние клиентов компании и клиентов других компаний"
   ]
  },
  {
   "cell_type": "code",
   "execution_count": 5,
   "metadata": {},
   "outputs": [
    {
     "data": {
      "image/png": "[encoded data removed]",
      "text/plain": [
       "<Figure size 864x288 with 2 Axes>"
      ]
     },
     "metadata": {
      "needs_background": "light"
     },
     "output_type": "display_data"
    }
   ],
   "source": [
    "fig, axes = plt.subplots(1,2, figsize = (12, 4))\n",
    "data[data['Group'] == 'ILEC'].hist(bins = 20, range = (0,100), ax = axes[0])\n",
    "data[data['Group'] == 'CLEC'].hist(bins = 20, range = (0,100), ax = axes[1])\n",
    "axes[0].set_title('ILEC Distribution')\n",
    "axes[1].set_title('CLEC Distribution')\n",
    "plt.show()"
   ]
  },
  {
   "cell_type": "markdown",
   "metadata": {},
   "source": [
    "Можно заметить что время ремонта для клиентов компании сильно меньше, чем для клиентов других компаний (основная масса значений концетрируется около нуля). Однако оценивать это глазами не совсем корректно, оценим.\n",
    "\n",
    "### Bootstrap"
   ]
  },
  {
   "cell_type": "code",
   "execution_count": 6,
   "metadata": {},
   "outputs": [],
   "source": [
    "# Создадим функцию для получения псевдоподвыборок на основе bootstrap\n",
    "def get_bootstrap_samples(data, n_samples):\n",
    "    \"\"\"\n",
    "    n_samples - число выборок \n",
    "    data - исходная выборка (np.array)\n",
    "    \n",
    "    \"\"\"\n",
    "    indices = np.random.randint(0, len(data), (n_samples, len(data)))\n",
    "    samples = data[indices]\n",
    "    return samples"
   ]
  },
  {
   "cell_type": "code",
   "execution_count": 7,
   "metadata": {},
   "outputs": [],
   "source": [
    "# Функция для расчета статистик (квантиль)\n",
    "def stat_intervals(stat, alpha):\n",
    "    boundaries = np.percentile(stat, [100 * alpha / 2, 100 * (1 - alpha / 2)])\n",
    "    return boundaries"
   ]
  },
  {
   "cell_type": "markdown",
   "metadata": {},
   "source": [
    "### Интервальная оценка медианы"
   ]
  },
  {
   "cell_type": "code",
   "execution_count": 8,
   "metadata": {},
   "outputs": [
    {
     "name": "stdout",
     "output_type": "stream",
     "text": [
      "95% Confidence Interval For the ILEC Median Repair Time: [3.18    3.82525]\n",
      "95% Confidence Interval For the CLEC Median Repair Time: [ 5.79125 20.     ]\n"
     ]
    }
   ],
   "source": [
    "# Отделяем клиентов компании\n",
    "ilec_time_val = data[data['Group'] == 'ILEC']['Time'].values\n",
    "clec_time_val = data[data['Group'] == 'CLEC']['Time'].values\n",
    "\n",
    "np.random.seed(0)\n",
    "\n",
    "ilec_median_scores = list(map(np.median, get_bootstrap_samples(ilec_time_val, n_samples = 1000)))\n",
    "clec_median_scores = list(map(np.median, get_bootstrap_samples(clec_time_val, n_samples = 1000)))\n",
    "\n",
    "\n",
    "ilec_median_estimate = stat_intervals(ilec_median_scores, 0.05)\n",
    "clec_median_estimate = stat_intervals(clec_median_scores, 0.05)\n",
    "\n",
    "print(f'95% Confidence Interval For the ILEC Median Repair Time: {ilec_median_estimate}')\n",
    "print(f'95% Confidence Interval For the CLEC Median Repair Time: {clec_median_estimate}')"
   ]
  },
  {
   "cell_type": "markdown",
   "metadata": {},
   "source": [
    "Интервалы не  пересекаются, значит время ремонта оборудования для внутренних клиентов, действительно происходит быстрее, чем для внешних клиентов"
   ]
  },
  {
   "cell_type": "markdown",
   "metadata": {},
   "source": [
    "### Точечная оценка разности медиан"
   ]
  },
  {
   "cell_type": "code",
   "execution_count": 60,
   "metadata": {},
   "outputs": [
    {
     "name": "stdout",
     "output_type": "stream",
     "text": [
      "Difference between medians:  10.74\n"
     ]
    }
   ],
   "source": [
    "print('Difference between medians: ', np.median(clec_time_val) - np.median(ilec_time_val))"
   ]
  },
  {
   "cell_type": "markdown",
   "metadata": {},
   "source": [
    "### Интервальная оценка разности медиан\n",
    "\n",
    "Что если нам хочется получить интервальную оценку для разности медиан? Во-первых, эти интервалы получились сильно разной длины, ну и, вообще, у нас нет никаких теоретических оснований для того, чтобы просто взять и, скажем, посчитать разность левых и правых границ этого интервала.\n",
    "\n",
    "Давайте поступим следующим образом. Снова с помощью ```Bootstrap``` сгенерируем выборки для клиентов разных групп и посчитаем на этих выборках медианы независимо. Далее, по полученным данным рассчитаем следующую статистику. Посчитаем разность полученных медиан."
   ]
  },
  {
   "cell_type": "code",
   "execution_count": 64,
   "metadata": {},
   "outputs": [
    {
     "name": "stdout",
     "output_type": "stream",
     "text": [
      "95% Confidence Interval For the Difference Between Medians [ 2.04975 16.63   ]\n"
     ]
    }
   ],
   "source": [
    "delta_median_scores = list(map(lambda x: x[1] - x[0], zip(ilec_median_scores, clec_median_scores)))\n",
    "print(\"95% Confidence Interval For the Difference Between Medians\",  stat_intervals(delta_median_scores, 0.05))"
   ]
  },
  {
   "cell_type": "markdown",
   "metadata": {},
   "source": [
    "### Задания из Теста\n",
    "**1)** Давайте уточним правило трёх сигм. Утверждение: 99.7% вероятностной массы случайной величины ```X∼N(μ,σ^2)``` лежит в интервале ```μ±c⋅σ```. Чему равно точное значение константы ```c```? Округлите ответ до четырёх знаков после десятичной точки. "
   ]
  },
  {
   "cell_type": "code",
   "execution_count": 80,
   "metadata": {},
   "outputs": [
    {
     "data": {
      "text/plain": [
       "2.9677"
      ]
     },
     "execution_count": 80,
     "metadata": {},
     "output_type": "execute_result"
    }
   ],
   "source": [
    "from scipy import stats\n",
    "np.round(norm.ppf(1-(0.003/2)), 4)"
   ]
  },
  {
   "cell_type": "markdown",
   "metadata": {},
   "source": [
    "**2)** В пятилетнем рандомизированном исследовании Гарвардской медицинской школы 11037 испытуемых через день принимали аспирин, а ещё 11034 — плацебо. Исследование было слепым, то есть, испытуемые не знали, что именно они принимают.\n",
    "\n",
    "За 5 лет инфаркт случился у 104 испытуемых, принимавших аспирин, и у 189 принимавших плацебо. \n",
    "\n",
    "Оцените, насколько вероятность инфаркта снижается при приёме аспирина. Округлите ответ до четырёх знаков после десятичной точки."
   ]
  },
  {
   "cell_type": "code",
   "execution_count": 88,
   "metadata": {},
   "outputs": [
    {
     "name": "stdout",
     "output_type": "stream",
     "text": [
      "Probability of Infarkt in Aspiring Group:  0.0094\n",
      "Probability of Infarkt in Placebo Group:  0.0171\n",
      "Probability of Infarkt Decrease Taking Aspirin: 0.0077\n"
     ]
    }
   ],
   "source": [
    "# Сгенерируем данные эксперимента как данные бинарной классификации\n",
    "aspirin_sample = np.zeros(11037)\n",
    "placebo_sample = np.zeros(11034)\n",
    "\n",
    "aspirin_sample[:104] = 1\n",
    "placebo_sample[:189] = 1\n",
    "\n",
    "# Найдем вероятности инфаркта для каждой группы\n",
    "p_infarkt_aspirin = aspirin_sample.sum()/aspirin_sample.shape[0]\n",
    "p_infarkt_placebo = placebo_sample.sum()/placebo_sample.shape[0]\n",
    "\n",
    "print('Probability of Infarkt in Aspiring Group: ', round(p_infarkt_aspirin, 4))\n",
    "print('Probability of Infarkt in Placebo Group: ', round(p_infarkt_placebo, 4))\n",
    "print(f'Probability of Infarkt Decrease Taking Aspirin: {round((p_infarkt_placebo - p_infarkt_aspirin),4)}')"
   ]
  },
  {
   "cell_type": "markdown",
   "metadata": {},
   "source": [
    "**2)** Постройте теперь 95% доверительный интервал для снижения вероятности инфаркта при приёме аспирина. Чему равна его верхняя граница? Округлите ответ до четырёх знаков после десятичной точки.  "
   ]
  },
  {
   "cell_type": "code",
   "execution_count": 91,
   "metadata": {},
   "outputs": [
    {
     "name": "stdout",
     "output_type": "stream",
     "text": [
      "Confidence Interval: [0.0047, 0.0107]\n"
     ]
    }
   ],
   "source": [
    "def proportions_confint_diff_ind(sample1, sample2, alpha=0.05):    \n",
    "    z = stats.norm.ppf(1 - alpha / 2)   \n",
    "    p1 = float(sum(sample1)) / len(sample1)\n",
    "    p2 = float(sum(sample2)) / len(sample2)\n",
    "    \n",
    "    left_boundary = (p1 - p2) - z * np.sqrt(p1 * (1 - p1)/ len(sample1) + p2 * (1 - p2)/ len(sample2))\n",
    "    right_boundary = (p1 - p2) + z * np.sqrt(p1 * (1 - p1)/ len(sample1) + p2 * (1 - p2)/ len(sample2))\n",
    "    \n",
    "    return (left_boundary, right_boundary)\n",
    "\n",
    "conf_inter = proportions_confint_diff_ind(placebo_sample, aspirin_sample)\n",
    "\n",
    "print(f'Confidence Interval: [{round(conf_inter[0], 4)}, {round(conf_inter[1], 4)}]')"
   ]
  },
  {
   "cell_type": "markdown",
   "metadata": {},
   "source": [
    "**3)** Продолжим анализировать данные эксперимента Гарвардской медицинской школы.\n",
    "\n",
    "Для бернуллиевских случайных величин ```X~Ber(p)``` часто вычисляют величину ```p/1-p``` которая называется шансами (odds). Чтобы оценить шансы по выборке, вместо ```p``` нужно подставить ```p^```.\n",
    "\n",
    "Оцените, во сколько раз понижаются шансы инфаркта при регулярном приёме аспирина. Округлите ответ до четырёх знаков после десятичной точки."
   ]
  },
  {
   "cell_type": "code",
   "execution_count": 95,
   "metadata": {},
   "outputs": [
    {
     "name": "stdout",
     "output_type": "stream",
     "text": [
      "Infark Odds (Aspirin Group):  0.0095\n",
      "Infark Odds (Placebo Group):  0.0174\n",
      "Odds Ration Between Groups:  1.8321\n"
     ]
    }
   ],
   "source": [
    "# Определим функцию вычисления шансов\n",
    "def calculate_odds(data):\n",
    "    p = data.sum() / data.shape[0]\n",
    "    return p / (1 - p)\n",
    "\n",
    "# Считаем шансы для групп\n",
    "odds_aspirin = calculate_odds(aspirin_sample)\n",
    "odds_placebo = calculate_odds(placebo_sample)\n",
    "\n",
    "# Отношение шансов (во сколько раз понижаются шансы инфаркта при регулярном приёме аспирина)\n",
    "odds_ration = odds_placebo/odds_aspirin\n",
    "\n",
    "print('Infark Odds (Aspirin Group): ', round(odds_aspirin, 4))\n",
    "print('Infark Odds (Placebo Group): ', round(odds_placebo, 4))\n",
    "print('Odds Ration Between Groups: ', round(odds_ration, 4))"
   ]
  },
  {
   "cell_type": "markdown",
   "metadata": {},
   "source": [
    "**4)** Величина, которую вы оценили в предыдущем вопросе, называется отношением шансов. Постройте для отношения шансов 95% доверительный интервал с помощью бутстрепа. Чему равна его нижняя граница? Округлите ответ до 4 знаков после десятичной точки.\n",
    "\n",
    "Чтобы получить в точности такой же доверительный интервал, как у нас:\n",
    "\n",
    "- Cоставьте векторы исходов в контрольной и тестовой выборках так, чтобы в начале шли все единицы, а потом все нули;\n",
    "- Установите random ```seed=0```;\n",
    "- Cделайте по 1000 псевдовыборок из каждой группы пациентов с помощью функции ```get_bootstrap_samples```"
   ]
  },
  {
   "cell_type": "code",
   "execution_count": 138,
   "metadata": {},
   "outputs": [
    {
     "name": "stdout",
     "output_type": "stream",
     "text": [
      "Confidence Interval For Odss Ration:  [1.44419465 2.34321168]\n"
     ]
    }
   ],
   "source": [
    "np.random.seed(0)\n",
    "\n",
    "odds_aspirin_data = np.array(list(map(calculate_odds, get_bootstrap_samples(aspirin_sample, 1000))))\n",
    "odds_placebo_data = np.array(list(map(calculate_odds, get_bootstrap_samples(placebo_sample, 1000))))\n",
    "\n",
    "odds_ration = odds_placebo_data / odds_aspirin_data \n",
    "\n",
    "print('Confidence Interval For Odss Ration: ', stat_intervals(odds_ration, 0.05))"
   ]
  }
 ],
 "metadata": {
  "kernelspec": {
   "display_name": "Python 3",
   "language": "python",
   "name": "python3"
  },
  "language_info": {
   "codemirror_mode": {
    "name": "ipython",
    "version": 3
   },
   "file_extension": ".py",
   "mimetype": "text/x-python",
   "name": "python",
   "nbconvert_exporter": "python",
   "pygments_lexer": "ipython3",
   "version": "3.7.9"
  }
 },
 "nbformat": 4,
 "nbformat_minor": 4
}
