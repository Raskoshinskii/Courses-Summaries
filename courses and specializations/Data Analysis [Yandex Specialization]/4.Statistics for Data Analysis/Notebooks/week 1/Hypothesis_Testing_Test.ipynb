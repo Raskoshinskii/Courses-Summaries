{
 "cells": [
  {
   "cell_type": "markdown",
   "metadata": {},
   "source": [
    "### Практика проверки гипотез\n",
    "\n",
    "**1)** По данным опроса, 75% работников ресторанов утверждают, что испытывают на работе существенный стресс, оказывающий негативное влияние на их личную жизнь. Крупная ресторанная сеть опрашивает 100 своих работников, чтобы выяснить, отличается ли уровень стресса работников в их ресторанах от среднего. 67 из 100 работников отметили высокий уровень стресса. \n",
    "\n",
    "Посчитайте достигаемый уровень значимости, округлите ответ до четырёх знаков после десятичной точки."
   ]
  },
  {
   "cell_type": "code",
   "execution_count": 31,
   "metadata": {},
   "outputs": [],
   "source": [
    "import numpy as np\n",
    "from scipy import stats\n",
    "import matplotlib.pyplot as plt\n",
    "import pandas as pd\n",
    "from scipy import stats"
   ]
  },
  {
   "cell_type": "code",
   "execution_count": 10,
   "metadata": {},
   "outputs": [
    {
     "data": {
      "image/png": "[encoded data removed]",
      "text/plain": [
       "<Figure size 432x288 with 1 Axes>"
      ]
     },
     "metadata": {
      "needs_background": "light"
     },
     "output_type": "display_data"
    }
   ],
   "source": [
    "# Рассмотрим Биномиальное распределение (СВ - сресс есть или нет)\n",
    "n = 100\n",
    "p = 0.75\n",
    "F_H0 = stats.binom(n, p)\n",
    "\n",
    "# Нарисуем нулевое распределение \n",
    "x = np.linspace(0, 100, 101)\n",
    "plt.bar(x, F_H0.pmf(x), align = 'center');\n",
    "plt.xlim(55, 95);"
   ]
  },
  {
   "cell_type": "code",
   "execution_count": 13,
   "metadata": {},
   "outputs": [
    {
     "data": {
      "image/png": "[encoded data removed]",
      "text/plain": [
       "<Figure size 432x288 with 1 Axes>"
      ]
     },
     "metadata": {
      "needs_background": "light"
     },
     "output_type": "display_data"
    }
   ],
   "source": [
    "plt.bar(x, F_H0.pmf(x), align = 'center')\n",
    "plt.bar(np.linspace(67, 100, 34), F_H0.pmf(np.linspace(67, 100, 34)), align = 'center', color='red')\n",
    "plt.xlim(55, 95);"
   ]
  },
  {
   "cell_type": "markdown",
   "metadata": {},
   "source": [
    "График свидетельствует о справедливости ```H0```. Для строгой оценки взглянем на ```p-value```"
   ]
  },
  {
   "cell_type": "code",
   "execution_count": 17,
   "metadata": {},
   "outputs": [
    {
     "name": "stdout",
     "output_type": "stream",
     "text": [
      "p_value:  0.0822\n"
     ]
    }
   ],
   "source": [
    "p_value = stats.binom_test(67, n, p)\n",
    "print('p_value: ', round(p_value, 4))"
   ]
  },
  {
   "cell_type": "markdown",
   "metadata": {},
   "source": [
    "**2)** Представим теперь, что в другой ресторанной сети только 22 из 50 работников испытывают существенный стресс. Гипотеза о том, что 22/50 соответствует 75% по всей популяции, методом, который вы использовали в предыдущей задаче, отвергается. Чем это может объясняться? Выберите все возможные варианты:\n",
    "- Условия работы в этой сети лучше, чем в среднем \n",
    "- Сеть известна низкими зарплатами и большой текучкой кадров, поэтому туда идут работать люди, не склонные переживать о сохранении рабочего места\n",
    "- Сотрудники чрезмерно оптимистично отвечали на вопрос, потому что опрос не был анонимным\n",
    "- Эта сеть менее популярна, поэтому в её ресторанах меньше поток посетителей; отсюда меньший уровень стресса у работников"
   ]
  },
  {
   "cell_type": "markdown",
   "metadata": {},
   "source": [
    "**3)** The Wage Tract — заповедник в округе Тома, Джорджия, США, деревья в котором не затронуты деятельностью человека со времён первых поселенцев. Для участка заповедника размером 200х200 м имеется информация о координатах сосен (sn — координата в направлении север-юг, we — в направлении запад-восток, обе от 0 до 200)\n",
    "\n",
    "Проверим, можно ли пространственное распределение сосен считать равномерным, или они растут кластерами.\n",
    "\n",
    "Загрузите данные, поделите участок на 5х5 одинаковых квадратов размера 40x40 м, посчитайте количество сосен в каждом квадрате (чтобы получить такой же результат, как у нас, используйте функцию ```scipy.stats.binned_statistic_2d```.\n",
    "\n",
    "Если сосны действительно растут равномерно, какое среднее ожидаемое количество сосен в каждом квадрате? В правильном ответе два знака после десятичной точки."
   ]
  },
  {
   "cell_type": "code",
   "execution_count": 29,
   "metadata": {},
   "outputs": [
    {
     "data": {
      "text/html": [
       "<div>\n",
       "<style scoped>\n",
       "    .dataframe tbody tr th:only-of-type {\n",
       "        vertical-align: middle;\n",
       "    }\n",
       "\n",
       "    .dataframe tbody tr th {\n",
       "        vertical-align: top;\n",
       "    }\n",
       "\n",
       "    .dataframe thead th {\n",
       "        text-align: right;\n",
       "    }\n",
       "</style>\n",
       "<table border=\"1\" class=\"dataframe\">\n",
       "  <thead>\n",
       "    <tr style=\"text-align: right;\">\n",
       "      <th></th>\n",
       "      <th>sn</th>\n",
       "      <th>we</th>\n",
       "    </tr>\n",
       "  </thead>\n",
       "  <tbody>\n",
       "    <tr>\n",
       "      <th>0</th>\n",
       "      <td>200.0</td>\n",
       "      <td>8.8</td>\n",
       "    </tr>\n",
       "    <tr>\n",
       "      <th>1</th>\n",
       "      <td>199.3</td>\n",
       "      <td>10.0</td>\n",
       "    </tr>\n",
       "    <tr>\n",
       "      <th>2</th>\n",
       "      <td>193.6</td>\n",
       "      <td>22.4</td>\n",
       "    </tr>\n",
       "    <tr>\n",
       "      <th>3</th>\n",
       "      <td>167.7</td>\n",
       "      <td>35.6</td>\n",
       "    </tr>\n",
       "    <tr>\n",
       "      <th>4</th>\n",
       "      <td>183.9</td>\n",
       "      <td>45.4</td>\n",
       "    </tr>\n",
       "  </tbody>\n",
       "</table>\n",
       "</div>"
      ],
      "text/plain": [
       "      sn    we\n",
       "0  200.0   8.8\n",
       "1  199.3  10.0\n",
       "2  193.6  22.4\n",
       "3  167.7  35.6\n",
       "4  183.9  45.4"
      ]
     },
     "execution_count": 29,
     "metadata": {},
     "output_type": "execute_result"
    }
   ],
   "source": [
    "data = pd.read_csv('pines.txt', sep = '\\t')\n",
    "data.head()"
   ]
  },
  {
   "cell_type": "code",
   "execution_count": 38,
   "metadata": {},
   "outputs": [
    {
     "data": {
      "text/plain": [
       "array([[18., 26., 29., 25., 20.],\n",
       "       [14., 12., 22., 34., 25.],\n",
       "       [12., 24., 15., 50., 37.],\n",
       "       [ 8., 19., 31., 50.,  7.],\n",
       "       [ 7.,  8., 37., 27., 27.]])"
      ]
     },
     "execution_count": 38,
     "metadata": {},
     "output_type": "execute_result"
    }
   ],
   "source": [
    "sn_num, we_num = 5, 5\n",
    "\n",
    "trees_bins = stats.binned_statistic_2d(data['sn'], data['we'], None, statistic='count', bins=[sn_num, we_num])\n",
    "\n",
    "trees_squares_num = trees_bins.statistic\n",
    "trees_squares_num"
   ]
  },
  {
   "cell_type": "code",
   "execution_count": 34,
   "metadata": {},
   "outputs": [
    {
     "name": "stdout",
     "output_type": "stream",
     "text": [
      "[  0.  40.  80. 120. 160. 200.]\n",
      "[  0.  40.  80. 120. 160. 200.]\n"
     ]
    }
   ],
   "source": [
    "print(trees_bins.x_edge)\n",
    "print(trees_bins.y_edge)"
   ]
  },
  {
   "cell_type": "code",
   "execution_count": 36,
   "metadata": {},
   "outputs": [
    {
     "name": "stdout",
     "output_type": "stream",
     "text": [
      "среднее ожидаемое количество сосен в каждом квадрате:  23.36\n"
     ]
    }
   ],
   "source": [
    "# Среднее ожидаем значение сосен в каждом квадрате\n",
    "tree_mean = np.sum(trees_squares_num)/(sn_num*we_num)\n",
    "print('среднее ожидаемое количество сосен в каждом квадрате: ', tree_mean)"
   ]
  },
  {
   "cell_type": "markdown",
   "metadata": {},
   "source": [
    "**4)** Чтобы сравнить распределение сосен с равномерным, посчитайте значение статистики хи-квадрат для полученных 5х5 квадратов. Округлите ответ до двух знаков после десятичной точки."
   ]
  },
  {
   "cell_type": "code",
   "execution_count": 39,
   "metadata": {},
   "outputs": [
    {
     "data": {
      "text/plain": [
       "Power_divergenceResult(statistic=150.58904109589042, pvalue=2.574669774967279e-20)"
      ]
     },
     "execution_count": 39,
     "metadata": {},
     "output_type": "execute_result"
    }
   ],
   "source": [
    "stats.chisquare(trees_squares_num.flatten(), ddof = 0)"
   ]
  },
  {
   "cell_type": "markdown",
   "metadata": {},
   "source": [
    "Распределение неравноемерное. H0 отвергается\n",
    "\n",
    "**5)** Насколько велико это значение? Если нулевая гипотеза справедлива, с какой вероятностью его можно было получить случайно? \n",
    "\n",
    "Нулевое распределение статистики — хи-квадрат с ```25-1 = 24``` степенями свободы (поскольку у равномерного распределения, с которым мы сравниваем данные, нет ни одного оцениваемого по выборке параметра, число степеней свободы ```K-1```, где ```K``` — количество интервалов).\n",
    "\n",
    "Посчитайте достигаемый уровень значимости.  \n",
    "\n",
    "Если вы используете функцию ```scipy.stats.chi2.cdf```, в качестве значения параметра ```df``` нужно взять 24 (это число степеней свободы); если функцию ```scipy.stats.chisquare```  — параметр ```ddof``` нужно брать равным 0 (это как раз количество параметров теоретического распределения, оцениваемых по выборке).\n",
    "\n",
    "Отвергается ли гипотеза равномерности на уровне значимости 0.05?\n",
    "- Да"
   ]
  }
 ],
 "metadata": {
  "kernelspec": {
   "display_name": "Python 3",
   "language": "python",
   "name": "python3"
  },
  "language_info": {
   "codemirror_mode": {
    "name": "ipython",
    "version": 3
   },
   "file_extension": ".py",
   "mimetype": "text/x-python",
   "name": "python",
   "nbconvert_exporter": "python",
   "pygments_lexer": "ipython3",
   "version": "3.7.9"
  }
 },
 "nbformat": 4,
 "nbformat_minor": 4
}
