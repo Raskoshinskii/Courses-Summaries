{
 "cells": [
  {
   "cell_type": "markdown",
   "metadata": {},
   "source": [
    "### Непараметрические критерии (Одновыборочные)\n",
    "Начнем с **одновыборочных** задач и поприменяем **знаковые, ранговые и перестановачные критерии.**\n",
    "\n",
    "16 лабораторных мышей были помещены в двухкомнатные клетки, в одной из комнат висело зеркало. С целью установить, есть ли у мышей какие-то предпочтения насчет зеркал, измерялась доля времени, которое каждая мышь проводила в каждой из своих двух клеток.\n",
    "\n",
    "Если мыши предпочитают проводить время в комнате с зеркалом, тогда можно бы было повесить во всех комнатах зеркало и улучшить жизнь лабораторных мышей."
   ]
  },
  {
   "cell_type": "code",
   "execution_count": 10,
   "metadata": {},
   "outputs": [],
   "source": [
    "import pandas as pd\n",
    "import numpy as np \n",
    "import itertools\n",
    "import matplotlib.pyplot as plt\n",
    "\n",
    "from scipy import stats\n",
    "from statsmodels.stats.descriptivestats import sign_test\n",
    "from statsmodels.stats.weightstats import zconfint"
   ]
  },
  {
   "cell_type": "code",
   "execution_count": 8,
   "metadata": {},
   "outputs": [
    {
     "data": {
      "text/html": [
       "<div>\n",
       "<style scoped>\n",
       "    .dataframe tbody tr th:only-of-type {\n",
       "        vertical-align: middle;\n",
       "    }\n",
       "\n",
       "    .dataframe tbody tr th {\n",
       "        vertical-align: top;\n",
       "    }\n",
       "\n",
       "    .dataframe thead th {\n",
       "        text-align: right;\n",
       "    }\n",
       "</style>\n",
       "<table border=\"1\" class=\"dataframe\">\n",
       "  <thead>\n",
       "    <tr style=\"text-align: right;\">\n",
       "      <th></th>\n",
       "      <th>time_proportion</th>\n",
       "    </tr>\n",
       "  </thead>\n",
       "  <tbody>\n",
       "    <tr>\n",
       "      <th>0</th>\n",
       "      <td>0.348471</td>\n",
       "    </tr>\n",
       "    <tr>\n",
       "      <th>1</th>\n",
       "      <td>0.640620</td>\n",
       "    </tr>\n",
       "    <tr>\n",
       "      <th>2</th>\n",
       "      <td>0.549818</td>\n",
       "    </tr>\n",
       "    <tr>\n",
       "      <th>3</th>\n",
       "      <td>0.537454</td>\n",
       "    </tr>\n",
       "    <tr>\n",
       "      <th>4</th>\n",
       "      <td>0.400444</td>\n",
       "    </tr>\n",
       "  </tbody>\n",
       "</table>\n",
       "</div>"
      ],
      "text/plain": [
       "   time_proportion\n",
       "0         0.348471\n",
       "1         0.640620\n",
       "2         0.549818\n",
       "3         0.537454\n",
       "4         0.400444"
      ]
     },
     "execution_count": 8,
     "metadata": {},
     "output_type": "execute_result"
    }
   ],
   "source": [
    "# Загрузка данных\n",
    "data = pd.read_csv('mirror_mouses.txt', header = None)\n",
    "data.columns = ['time_proportion']\n",
    "data.head()"
   ]
  },
  {
   "cell_type": "code",
   "execution_count": 9,
   "metadata": {},
   "outputs": [
    {
     "data": {
      "text/html": [
       "<div>\n",
       "<style scoped>\n",
       "    .dataframe tbody tr th:only-of-type {\n",
       "        vertical-align: middle;\n",
       "    }\n",
       "\n",
       "    .dataframe tbody tr th {\n",
       "        vertical-align: top;\n",
       "    }\n",
       "\n",
       "    .dataframe thead th {\n",
       "        text-align: right;\n",
       "    }\n",
       "</style>\n",
       "<table border=\"1\" class=\"dataframe\">\n",
       "  <thead>\n",
       "    <tr style=\"text-align: right;\">\n",
       "      <th></th>\n",
       "      <th>time_proportion</th>\n",
       "    </tr>\n",
       "  </thead>\n",
       "  <tbody>\n",
       "    <tr>\n",
       "      <th>count</th>\n",
       "      <td>16.000000</td>\n",
       "    </tr>\n",
       "    <tr>\n",
       "      <th>mean</th>\n",
       "      <td>0.475289</td>\n",
       "    </tr>\n",
       "    <tr>\n",
       "      <th>std</th>\n",
       "      <td>0.066065</td>\n",
       "    </tr>\n",
       "    <tr>\n",
       "      <th>min</th>\n",
       "      <td>0.348471</td>\n",
       "    </tr>\n",
       "    <tr>\n",
       "      <th>25%</th>\n",
       "      <td>0.444566</td>\n",
       "    </tr>\n",
       "    <tr>\n",
       "      <th>50%</th>\n",
       "      <td>0.477289</td>\n",
       "    </tr>\n",
       "    <tr>\n",
       "      <th>75%</th>\n",
       "      <td>0.488859</td>\n",
       "    </tr>\n",
       "    <tr>\n",
       "      <th>max</th>\n",
       "      <td>0.640620</td>\n",
       "    </tr>\n",
       "  </tbody>\n",
       "</table>\n",
       "</div>"
      ],
      "text/plain": [
       "       time_proportion\n",
       "count        16.000000\n",
       "mean          0.475289\n",
       "std           0.066065\n",
       "min           0.348471\n",
       "25%           0.444566\n",
       "50%           0.477289\n",
       "75%           0.488859\n",
       "max           0.640620"
      ]
     },
     "execution_count": 9,
     "metadata": {},
     "output_type": "execute_result"
    }
   ],
   "source": [
    "data.describe()"
   ]
  },
  {
   "cell_type": "markdown",
   "metadata": {},
   "source": [
    "Можем заметить, что среднее время провождения в комнате ```0.5``` и время изменяется от ```0.3 - 0.6```"
   ]
  },
  {
   "cell_type": "code",
   "execution_count": 14,
   "metadata": {},
   "outputs": [
    {
     "data": {
      "image/png": "[encoded data removed]",
      "text/plain": [
       "<Figure size 432x288 with 1 Axes>"
      ]
     },
     "metadata": {
      "needs_background": "light"
     },
     "output_type": "display_data"
    }
   ],
   "source": [
    "# Взглянем на распределение признака \n",
    "plt.hist(data['time_proportion'])\n",
    "plt.grid();"
   ]
  },
  {
   "cell_type": "markdown",
   "metadata": {},
   "source": [
    "Гистограмма также подтверждает, что среднее время ```~ 0.5```\n",
    "\n",
    "Теперь необходимо ответь на вопрос: Есть ли у мышей предпочтения для комнат с зеркалами?\n",
    "\n",
    "Мы имеем дело с **одной выборкой**, поэтому будем использовать одновыборочные критерии. Самое простое что можно сделать, оценить интервально среднее время провождения в комнате с зеркалом.\n",
    "\n",
    "### Интервальная оценка среднего"
   ]
  },
  {
   "cell_type": "code",
   "execution_count": 15,
   "metadata": {},
   "outputs": [
    {
     "name": "stdout",
     "output_type": "stream",
     "text": [
      "95% Confidence Interval For the Mean Time:  (array([0.44291783]), array([0.50765996]))\n"
     ]
    }
   ],
   "source": [
    "print('95% Confidence Interval For the Mean Time: ', zconfint(data))"
   ]
  },
  {
   "cell_type": "markdown",
   "metadata": {},
   "source": [
    "Видим, что интервал смещен в левую сторону, однако выборочное среднее в него входит. Нужно воспользоваться критериями для проверки гипотез:\n",
    "\n",
    "$H_0\\colon$ медиана доли времени, проведенного в клетке с зеркалом, равна 0.5\n",
    "\n",
    "$H_1\\colon$ медиана доли времени, проведенного в клетке с зеркалом, не равна 0.5\n",
    "\n",
    "### Критерий Знаков\n",
    "Воспользуемся готовой функцией ```sign_test()```"
   ]
  },
  {
   "cell_type": "code",
   "execution_count": 18,
   "metadata": {},
   "outputs": [
    {
     "name": "stdout",
     "output_type": "stream",
     "text": [
      "T: -5.0, p-value: 0.0213\n"
     ]
    }
   ],
   "source": [
    "res = sign_test(data, 0.5)\n",
    "print(f'T: {res[0]}, p-value: {round(res[1],4)}')"
   ]
  },
  {
   "cell_type": "markdown",
   "metadata": {},
   "source": [
    "Критерий отвергает нулевую гипотезу, следовательно зеркало как-то влияет на мышей.\n",
    "\n",
    "### Критерий Ранговых Знаков Уилкоксона"
   ]
  },
  {
   "cell_type": "code",
   "execution_count": 19,
   "metadata": {},
   "outputs": [
    {
     "data": {
      "text/plain": [
       "WilcoxonResult(statistic=35.0, pvalue=0.09344482421875)"
      ]
     },
     "execution_count": 19,
     "metadata": {},
     "output_type": "execute_result"
    }
   ],
   "source": [
    "m0 = 0.5\n",
    "stats.wilcoxon(data['time_proportion'] - m0)"
   ]
  },
  {
   "cell_type": "markdown",
   "metadata": {},
   "source": [
    "### Перестановачный Критерий\n",
    "Изменим гипотезы\n",
    "\n",
    "$H_0\\colon$ среднее равно 0.5\n",
    "\n",
    "$H_1\\colon$ среднее не равно 0.5\n",
    "\n",
    "Готовой реализации перестановочного критерия нет, поэтому будем реализовывать самостоятельно."
   ]
  },
  {
   "cell_type": "code",
   "execution_count": 51,
   "metadata": {},
   "outputs": [],
   "source": [
    "# Функция расчета t - статистики\n",
    "def permutation_t_stat_1sample(sample, mean):\n",
    "    t_stat = sum(sample - mean)\n",
    "    return t_stat"
   ]
  },
  {
   "cell_type": "markdown",
   "metadata": {},
   "source": [
    "Теперь нам нужно реализовать функцию для подсчета нулевого распределения. Так как в случае, если нулевая гипотеза справедлива и каждый из элементов выборки может с одинаковой вероятностью реализоваться как справа, так и слева от своего среднего, то для получения нулевого распределения нам нужно сделать следующее. \n",
    "\n",
    "Нужно взять все элементы выборки, вычесть из них среднее и далее сгенерировать на основе получившейся выборки набор выборок со всеми возможными перестановками знаков перед каждым элементом. Ну понятно, что таких выборок очень много, их ровно 2 в степени n, где n — размер исходной выборки. Поэтому для того, чтобы иметь возможность считать этот критерий быстрее, мы вводим дополнительный параметр ```max_permutations```, то есть максимальное количество перестановок, которые мы хотим перебрать.\n",
    "\n",
    "В данном случае у нас есть следующая логика. Вместо того чтобы генерировать все возможные комбинации знаков перед элементами выборки, мы с вами сгенерируем только несколько случайных и будем оценивать нулевое распределение относительно сгенерированных случайных выборок"
   ]
  },
  {
   "cell_type": "code",
   "execution_count": 52,
   "metadata": {},
   "outputs": [],
   "source": [
    "# Функция для расчета нулевого распределения (распределение должно получиться табличным)\n",
    "def permutation_zero_distr_1sample(sample, mean, max_permutations = None):\n",
    "    centered_sample = sample - mean\n",
    "    \n",
    "    # Если задан, то генерируем случайные выборки со случайными перестановками знаков перед элементами\n",
    "    # Т.е. для больших выбарок будет достаточно лишь некоторой части перестановок\n",
    "    if max_permutations:\n",
    "        # Генерируем знаки (-1, 1)\n",
    "        signs_array = set([tuple(x) for x in 2 * np.random.randint(2, size = (max_permutations, len(sample))) - 1])\n",
    "    else:\n",
    "        signs_array = itertools.product([-1, 1], repeat = len(sample))\n",
    "        \n",
    "    zero_distribution = [sum(centered_sample * sign) for sign in signs_array]\n",
    "    \n",
    "    return zero_distribution"
   ]
  },
  {
   "cell_type": "code",
   "execution_count": 53,
   "metadata": {},
   "outputs": [],
   "source": [
    "def get_p_value_permutation_test_1sample(sample, mean, max_permutations = None, alternative = 'two-sided'):\n",
    "    if alternative not in ('two-sided', 'less', 'greater'):\n",
    "        raise ValueError ('Alternative Not Recognized!!!')\n",
    "        \n",
    "    t_stat = round(permutation_t_stat_1sample(sample, mean), 4)\n",
    "    zero_distribution = permutation_zero_distr_1sample(sample, mean, max_permutations)\n",
    "    \n",
    "    if alternative == 'two-sided':\n",
    "        return t_stat, round(sum([1 if abs(x) >= abs(t_stat) else 0 for x in zero_distribution]) / len(zero_distribution), 4)\n",
    "    \n",
    "    if alternative == 'less':\n",
    "        return t_stat, round(sum([1 if x <= t_stat else 0 for x in zero_distribution]) / len(zero_distribution), 4)\n",
    "\n",
    "    if alternative == 'greater':\n",
    "        return t_stat, round(sum([1 if x >= t_stat else 0 for x in zero_distribution]) / len(zero_distribution), 4)"
   ]
  },
  {
   "cell_type": "code",
   "execution_count": 54,
   "metadata": {},
   "outputs": [
    {
     "data": {
      "image/png": "[encoded data removed]",
      "text/plain": [
       "<Figure size 432x288 with 1 Axes>"
      ]
     },
     "metadata": {
      "needs_background": "light"
     },
     "output_type": "display_data"
    }
   ],
   "source": [
    "# Взглянем на нулевое распределение \n",
    "plt.hist(permutation_zero_distr_1sample(data['time_proportion'], mean = 0.5), bins = 15);\n",
    "plt.grid()"
   ]
  },
  {
   "cell_type": "code",
   "execution_count": 55,
   "metadata": {},
   "outputs": [
    {
     "name": "stdout",
     "output_type": "stream",
     "text": [
      "Statistics: -0.3954, p-value: 0.1577\n"
     ]
    }
   ],
   "source": [
    "# p-value для всех возможных перестановок \n",
    "p_value_1 = get_p_value_permutation_test_1sample(data['time_proportion'], mean = 0.5, alternative = 'two-sided')\n",
    "print(f'Statistics: {p_value_1[0]}, p-value: {p_value_1[1]}')"
   ]
  },
  {
   "cell_type": "code",
   "execution_count": 56,
   "metadata": {},
   "outputs": [
    {
     "name": "stdout",
     "output_type": "stream",
     "text": [
      "Statistics: -0.3954, p-value: 0.1603\n"
     ]
    }
   ],
   "source": [
    "# p-value для 10000 перестановок\n",
    "p_value_2 = get_p_value_permutation_test_1sample(data['time_proportion'], mean = 0.5, max_permutations = 10000, alternative = 'two-sided')\n",
    "print(f'Statistics: {p_value_2[0]}, p-value: {p_value_2[1]}')"
   ]
  },
  {
   "cell_type": "markdown",
   "metadata": {},
   "source": [
    "В случае перестановачных критериев мы не можем отвергнуть нулевую гипотезу"
   ]
  }
 ],
 "metadata": {
  "kernelspec": {
   "display_name": "Python 3",
   "language": "python",
   "name": "python3"
  },
  "language_info": {
   "codemirror_mode": {
    "name": "ipython",
    "version": 3
   },
   "file_extension": ".py",
   "mimetype": "text/x-python",
   "name": "python",
   "nbconvert_exporter": "python",
   "pygments_lexer": "ipython3",
   "version": "3.7.9"
  }
 },
 "nbformat": 4,
 "nbformat_minor": 4
}
