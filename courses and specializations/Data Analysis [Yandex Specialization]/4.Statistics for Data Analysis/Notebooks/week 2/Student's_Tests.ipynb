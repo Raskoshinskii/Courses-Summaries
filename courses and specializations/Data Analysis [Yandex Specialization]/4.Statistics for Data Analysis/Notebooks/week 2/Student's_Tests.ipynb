{
 "cells": [
  {
   "cell_type": "markdown",
   "metadata": {},
   "source": [
    "### Критерии Стьюдента"
   ]
  },
  {
   "cell_type": "code",
   "execution_count": 7,
   "metadata": {},
   "outputs": [],
   "source": [
    "import numpy as np\n",
    "import pandas as pd\n",
    "import matplotlib.pyplot as plt\n",
    "\n",
    "import scipy\n",
    "from statsmodels.stats.weightstats import *"
   ]
  },
  {
   "cell_type": "markdown",
   "metadata": {},
   "source": [
    "### Treatment effects of methylphenidate\n",
    "\n",
    "В рамках исследования эффективности препарата метилфенидат 24 пациента с синдромом дефицита внимания и гиперактивности в течение недели принимали либо метилфенидат, либо плацебо. В конце недели каждый пациент проходили тест на способность к подавлению импульсивных поведенческих реакций. На втором этапе плацебо и препарат менялись, и после недельного курса каждый испытуемые проходили второй тест.\n",
    "\n",
    "Требуется оценить эффект применения препарата.\n",
    "\n",
    "Pearson D.A, Santos C.W., Casat C.D., et al. (2004). Treatment effects of methylphenidate on cognitive functioning in children with mental retardation and ADHD. Journal of the American Academy of Child and Adolescent Psychiatry, 43(6), 677–685."
   ]
  },
  {
   "cell_type": "code",
   "execution_count": 5,
   "metadata": {},
   "outputs": [
    {
     "data": {
      "text/html": [
       "<div>\n",
       "<style scoped>\n",
       "    .dataframe tbody tr th:only-of-type {\n",
       "        vertical-align: middle;\n",
       "    }\n",
       "\n",
       "    .dataframe tbody tr th {\n",
       "        vertical-align: top;\n",
       "    }\n",
       "\n",
       "    .dataframe thead th {\n",
       "        text-align: right;\n",
       "    }\n",
       "</style>\n",
       "<table border=\"1\" class=\"dataframe\">\n",
       "  <thead>\n",
       "    <tr style=\"text-align: right;\">\n",
       "      <th></th>\n",
       "      <th>Placebo</th>\n",
       "      <th>Methylphenidate</th>\n",
       "    </tr>\n",
       "  </thead>\n",
       "  <tbody>\n",
       "    <tr>\n",
       "      <th>0</th>\n",
       "      <td>57</td>\n",
       "      <td>62</td>\n",
       "    </tr>\n",
       "    <tr>\n",
       "      <th>1</th>\n",
       "      <td>27</td>\n",
       "      <td>49</td>\n",
       "    </tr>\n",
       "    <tr>\n",
       "      <th>2</th>\n",
       "      <td>32</td>\n",
       "      <td>30</td>\n",
       "    </tr>\n",
       "    <tr>\n",
       "      <th>3</th>\n",
       "      <td>31</td>\n",
       "      <td>34</td>\n",
       "    </tr>\n",
       "    <tr>\n",
       "      <th>4</th>\n",
       "      <td>34</td>\n",
       "      <td>38</td>\n",
       "    </tr>\n",
       "  </tbody>\n",
       "</table>\n",
       "</div>"
      ],
      "text/plain": [
       "   Placebo  Methylphenidate\n",
       "0       57               62\n",
       "1       27               49\n",
       "2       32               30\n",
       "3       31               34\n",
       "4       34               38"
      ]
     },
     "execution_count": 5,
     "metadata": {},
     "output_type": "execute_result"
    }
   ],
   "source": [
    "# Считываем данные\n",
    "data = pd.read_csv('ADHD.txt', sep = ' ')\n",
    "data.columns = ['Placebo', 'Methylphenidate']\n",
    "data.head()"
   ]
  },
  {
   "cell_type": "code",
   "execution_count": 13,
   "metadata": {
    "scrolled": true
   },
   "outputs": [
    {
     "data": {
      "image/png": "[encoded data removed]",
      "text/plain": [
       "<Figure size 432x288 with 1 Axes>"
      ]
     },
     "metadata": {
      "needs_background": "light"
     },
     "output_type": "display_data"
    }
   ],
   "source": [
    "# Посмотрим на взаимосвязь признаков\n",
    "plt.scatter(data['Placebo'], data['Methylphenidate'])\n",
    "plt.grid()\n",
    "plt.xlim((20, 80))\n",
    "plt.ylim((20, 80))\n",
    "plt.xlabel('Placebo')\n",
    "plt.ylabel('Methylphenidate')\n",
    "plt.plot(range(100));"
   ]
  },
  {
   "cell_type": "markdown",
   "metadata": {},
   "source": [
    "Основная масса точек находится выше прямой, значит препарат действительно помогает, но это нужно оценить строго."
   ]
  },
  {
   "cell_type": "code",
   "execution_count": 23,
   "metadata": {},
   "outputs": [
    {
     "data": {
      "image/png": "[encoded data removed]",
      "text/plain": [
       "<Figure size 864x360 with 2 Axes>"
      ]
     },
     "metadata": {
      "needs_background": "light"
     },
     "output_type": "display_data"
    }
   ],
   "source": [
    "# Взглянем на гистограммы признаков\n",
    "fig, axes = plt.subplots(1,2, figsize = (12, 5))\n",
    "axes[0].hist(data['Placebo'])\n",
    "axes[0].grid()\n",
    "axes[0].set_xlabel('Placebo')\n",
    "axes[1].hist(data['Methylphenidate'], color = 'r')\n",
    "axes[1].set_xlabel('Methylphenidate')\n",
    "axes[1].grid()"
   ]
  },
  {
   "cell_type": "markdown",
   "metadata": {},
   "source": [
    "### Одновыборочный критерий Стьюдента\n",
    "\n",
    "Исходя из того, что способность к подавлению испульсивных поведенческих реакций измеряется по шкале ```[0, 100]```, можно предположить, что при хорошей калибровке теста средняя способоность к подавлению реакций в популяции составляет 50. Тогда для того, чтобы проверить гипотезу о том, что пациенты в выборке действительно в среднем хуже справляются с подавлением импульсивных реакций (нуждаются в лечении), давайте проверим, что их способность к подавлению реакций отличается от средней (не равна 50). \n",
    "\n",
    "$H_0\\colon$ среднее значение способности к подавлению испульсивных поведенческих реакций равно 50.\n",
    "\n",
    "$H_1\\colon$ не равно."
   ]
  },
  {
   "cell_type": "code",
   "execution_count": 24,
   "metadata": {},
   "outputs": [
    {
     "data": {
      "text/plain": [
       "Ttest_1sampResult(statistic=-4.438003341905128, pvalue=0.00018894293251080175)"
      ]
     },
     "execution_count": 24,
     "metadata": {},
     "output_type": "execute_result"
    }
   ],
   "source": [
    "# Одновыборочный критерий Стьюдента\n",
    "stats.ttest_1samp(data['Placebo'], 50.0)"
   ]
  },
  {
   "cell_type": "markdown",
   "metadata": {},
   "source": [
    "Критерий говорит, что среднее не равно 50"
   ]
  },
  {
   "cell_type": "code",
   "execution_count": 25,
   "metadata": {},
   "outputs": [
    {
     "name": "stdout",
     "output_type": "stream",
     "text": [
      "Confidence Interval:  (35.223272709859756, 44.276727290140244)\n"
     ]
    }
   ],
   "source": [
    "# Оценим интервально среднее для выборки\n",
    "print('Confidence Interval: ', zconfint(data['Placebo']))"
   ]
  },
  {
   "cell_type": "markdown",
   "metadata": {},
   "source": [
    "Интервал не включает 50 что еще раз подтверждает наши предположения выше.\n",
    "\n",
    "Среднее значение способности к подавлению изменяется от 35.2 до 44.3 пунктов.\n",
    "\n",
    "Теперь оценим влияние самого препарата. Действительно ли он помогает?\n",
    "\n",
    "### Двухвыборочный критерий Стьюдента (независимые выборки)\n",
    "\n",
    "Для того, чтобы использовать двухвыборочный критерий Стьюдента, **убедимся, что распределения в выборках существенно не отличаются от нормальных.** С этой целью, построим графики Q-Q plot для группы Placebo и перпарата."
   ]
  },
  {
   "cell_type": "code",
   "execution_count": 30,
   "metadata": {},
   "outputs": [
    {
     "data": {
      "image/png": "[encoded data removed]",
      "text/plain": [
       "<Figure size 864x288 with 2 Axes>"
      ]
     },
     "metadata": {
      "needs_background": "light"
     },
     "output_type": "display_data"
    }
   ],
   "source": [
    "# Строим графики Q-Q plot для нашиз признаков \n",
    "plt.figure(figsize = (12, 4))\n",
    "plt.subplot(1,2,1)\n",
    "stats.probplot(data['Placebo'], dist = 'norm', plot = plt)\n",
    "plt.title('Probability Plot (Placebo)')\n",
    "\n",
    "plt.subplot(1, 2, 2)\n",
    "stats.probplot(data['Methylphenidate'], dist = 'norm', plot = plt)\n",
    "plt.title('Probability Plot (Methylphenidate)');"
   ]
  },
  {
   "cell_type": "markdown",
   "metadata": {},
   "source": [
    "Видим, что и в том и в другом случае наши точки не сильно отличаются от прямой, они лежат не очень далеко. Это дает нам основание предполагать, что данные распределены с некоторым распределением, которое сильно от нормального не отличается. Однако для того чтобы проверить это более строго, давайте воспользуемся критерием Шапиро-Уилка.\n",
    "\n",
    "**Критерий Шапиро-Уилка:**\n",
    "\n",
    " $H_0\\colon$ способности к подавлению импульсивных реакций распредлены нормально\n",
    " \n",
    " $H_1\\colon$ не нормально"
   ]
  },
  {
   "cell_type": "code",
   "execution_count": 34,
   "metadata": {},
   "outputs": [
    {
     "name": "stdout",
     "output_type": "stream",
     "text": [
      "Shapiro Normality Test (Placebo):  ShapiroResult(statistic=0.8574873208999634, pvalue=0.00302018690854311)\n",
      "Shapiro Normality Test (Methylphenidate):  ShapiroResult(statistic=0.9164453148841858, pvalue=0.04876822605729103)\n"
     ]
    }
   ],
   "source": [
    "# Проверяем распределение признаков на нормальность строго\n",
    "print('Shapiro Normality Test (Placebo): ', stats.shapiro(data['Placebo']))\n",
    "print('Shapiro Normality Test (Methylphenidate): ', stats.shapiro(data['Methylphenidate']))"
   ]
  },
  {
   "cell_type": "markdown",
   "metadata": {},
   "source": [
    "Получается, что данные все-таки не распределены нормально. Однако если мы вернемся к предыдущем рисункам, мы видим, что да, действительно, распределение от нормального отличается, но не очень сильно. А мы знаем, что критерий Стьюдента работает в условиях, когда **распределение не является нормальным, но существенно от него не отличается.** Значит, давайте все-таки попробуем применить критерий Стьюдента.\n",
    "\n",
    "**Критерий Стьюдента:**\n",
    "\n",
    "$H_0\\colon$ средние значения способности к подавлению испульсивных поведенческих реакций одинаковы для пациентов, принимавших препарат, и для пациентов, принимавших плацебо.\n",
    "\n",
    "$H_0\\colon$ не одинаковы."
   ]
  },
  {
   "cell_type": "code",
   "execution_count": 35,
   "metadata": {},
   "outputs": [
    {
     "data": {
      "text/plain": [
       "Ttest_indResult(statistic=-1.4521635018159091, pvalue=0.1532919977404709)"
      ]
     },
     "execution_count": 35,
     "metadata": {},
     "output_type": "execute_result"
    }
   ],
   "source": [
    "# equal_var = False (т.к. у нас нет информации о том, что дисперсии одинаковы)\n",
    "stats.ttest_ind(data['Placebo'], data['Methylphenidate'], equal_var = False) # ind stands for independent (samples)"
   ]
  },
  {
   "cell_type": "markdown",
   "metadata": {},
   "source": [
    "Нулевую гипотезу отвергнуть не можем, оценим интервально разность по этим 2м выборкам"
   ]
  },
  {
   "cell_type": "code",
   "execution_count": 37,
   "metadata": {},
   "outputs": [
    {
     "name": "stdout",
     "output_type": "stream",
     "text": [
      "Confidence Interval:  (-1.914589250238282, 11.831255916904954)\n"
     ]
    }
   ],
   "source": [
    "means_diff = CompareMeans(DescrStatsW(data['Methylphenidate']), DescrStatsW(data['Placebo']))\n",
    "print('Confidence Interval: ', means_diff.tconfint_diff(alpha = 0.05))"
   ]
  },
  {
   "cell_type": "markdown",
   "metadata": {},
   "source": [
    "Доверительный интервал получился следующим: от −2 до 12. То есть фактически наше среднее все-таки скорее больше, чем 0, однако 0 лежит в этом интервале. Получается, что однозначно сказать довольно сложно.\n",
    "\n",
    "На самом деле выборки ```связанные```, используем:\n",
    "\n",
    "### Двухвыборочный критерий Стьюдента (зависмые выборки)\n",
    "\n",
    "Для того, чтобы использовать критерй Стьюдента для связанных выборок, давайте проверим, что распределение **попарных разностей существенно не отличается от нормального.** Для этого используем Q-Q plot."
   ]
  },
  {
   "cell_type": "code",
   "execution_count": 39,
   "metadata": {},
   "outputs": [
    {
     "data": {
      "image/png": "[encoded data removed]",
      "text/plain": [
       "<Figure size 432x288 with 1 Axes>"
      ]
     },
     "metadata": {
      "needs_background": "light"
     },
     "output_type": "display_data"
    }
   ],
   "source": [
    "stats.probplot(data['Placebo'] - data['Methylphenidate'], dist = 'norm', plot = plt);"
   ]
  },
  {
   "cell_type": "markdown",
   "metadata": {},
   "source": [
    "Распределение скорее всего похоже на нормальное. Оценим строго:\n",
    "\n",
    "**Критерий Шапиро-Уилка:**\n",
    "\n",
    "$H_0\\colon$ попарные разности распределены нормально.\n",
    "\n",
    "$H_1\\colon$ не нормально."
   ]
  },
  {
   "cell_type": "code",
   "execution_count": 40,
   "metadata": {},
   "outputs": [
    {
     "name": "stdout",
     "output_type": "stream",
     "text": [
      "Shapiro Normality Test:  ShapiroResult(statistic=0.9798052906990051, pvalue=0.8922504186630249)\n"
     ]
    }
   ],
   "source": [
    "print('Shapiro Normality Test: ', stats.shapiro(data['Placebo'] - data['Methylphenidate']))"
   ]
  },
  {
   "cell_type": "markdown",
   "metadata": {},
   "source": [
    "Действительно, **попарные разности распределены нормально**\n",
    "\n",
    "**Критерий Стьюдента:**\n",
    "\n",
    "$H_0\\colon$ средние значения способности к подавлению испульсивных поведенческих реакций одинаковы для пациентов, принимавших препарат, и для пациентов, принимавших плацебо.\n",
    "\n",
    "$H_1\\colon$ не одинаковы."
   ]
  },
  {
   "cell_type": "code",
   "execution_count": 41,
   "metadata": {},
   "outputs": [
    {
     "data": {
      "text/plain": [
       "Ttest_relResult(statistic=3.2223624451230406, pvalue=0.003771488176381471)"
      ]
     },
     "execution_count": 41,
     "metadata": {},
     "output_type": "execute_result"
    }
   ],
   "source": [
    "stats.ttest_rel(data['Methylphenidate'], data['Placebo']) # rel stands for relative"
   ]
  },
  {
   "cell_type": "markdown",
   "metadata": {},
   "source": [
    "Обнаружены статистически значимые различия, препарат влияет."
   ]
  },
  {
   "cell_type": "code",
   "execution_count": 44,
   "metadata": {},
   "outputs": [
    {
     "name": "stdout",
     "output_type": "stream",
     "text": [
      "Confidence Interval:  (1.7752357893192365, 8.14143087734743)\n"
     ]
    }
   ],
   "source": [
    "# Оценим ДИ для разностей\n",
    "print('Confidence Interval: ', DescrStatsW(data['Methylphenidate'] - data['Placebo']).tconfint_mean())"
   ]
  },
  {
   "cell_type": "markdown",
   "metadata": {},
   "source": [
    "Видим, что разность в среднем изменяется от 2 до 8 и правее 0"
   ]
  },
  {
   "cell_type": "markdown",
   "metadata": {},
   "source": [
    "### Задания из теста\n",
    "\n",
    "**1)** Имеются данные о стоимости и размерах 53940 бриллиантов.\n",
    "\n",
    "Отделите 25% случайных наблюдений в тестовую выборку с помощью функции ```sklearn.cross_validation.train_test_split``` \n",
    "\n",
    "Зафиксируйте ```random state = 1```. На обучающей выборке настройте две регрессионные модели:\n",
    "- Линейную регрессию с помощью LinearRegression без параметров\n",
    "- Случайный лес из 10 деревьев с помощью RandomForestRegressor с ```random_state=1```\n",
    "\n",
    "Какая из моделей лучше предсказывает цену бриллиантов? Сделайте предсказания на тестовой выборке, посчитайте модули отклонений предсказаний от истинных цен. Проверьте гипотезу об одинаковом среднем качестве предсказаний, вычислите достигаемый уровень значимости. \n",
    "\n",
    "Отвергается ли гипотеза об одинаковом качестве моделей против двусторонней альтернативы на уровне значимости ```α=0.05```?"
   ]
  },
  {
   "cell_type": "code",
   "execution_count": 81,
   "metadata": {},
   "outputs": [],
   "source": [
    "from sklearn.model_selection import train_test_split\n",
    "from sklearn.linear_model import LinearRegression\n",
    "from sklearn.metrics import mean_absolute_error\n",
    "from sklearn.ensemble import RandomForestRegressor"
   ]
  },
  {
   "cell_type": "code",
   "execution_count": 50,
   "metadata": {
    "scrolled": true
   },
   "outputs": [
    {
     "data": {
      "text/html": [
       "<div>\n",
       "<style scoped>\n",
       "    .dataframe tbody tr th:only-of-type {\n",
       "        vertical-align: middle;\n",
       "    }\n",
       "\n",
       "    .dataframe tbody tr th {\n",
       "        vertical-align: top;\n",
       "    }\n",
       "\n",
       "    .dataframe thead th {\n",
       "        text-align: right;\n",
       "    }\n",
       "</style>\n",
       "<table border=\"1\" class=\"dataframe\">\n",
       "  <thead>\n",
       "    <tr style=\"text-align: right;\">\n",
       "      <th></th>\n",
       "      <th>carat</th>\n",
       "      <th>depth</th>\n",
       "      <th>table</th>\n",
       "      <th>price</th>\n",
       "      <th>x</th>\n",
       "      <th>y</th>\n",
       "      <th>z</th>\n",
       "    </tr>\n",
       "  </thead>\n",
       "  <tbody>\n",
       "    <tr>\n",
       "      <th>0</th>\n",
       "      <td>0.23</td>\n",
       "      <td>61.5</td>\n",
       "      <td>55.0</td>\n",
       "      <td>326</td>\n",
       "      <td>3.95</td>\n",
       "      <td>3.98</td>\n",
       "      <td>2.43</td>\n",
       "    </tr>\n",
       "    <tr>\n",
       "      <th>1</th>\n",
       "      <td>0.21</td>\n",
       "      <td>59.8</td>\n",
       "      <td>61.0</td>\n",
       "      <td>326</td>\n",
       "      <td>3.89</td>\n",
       "      <td>3.84</td>\n",
       "      <td>2.31</td>\n",
       "    </tr>\n",
       "    <tr>\n",
       "      <th>2</th>\n",
       "      <td>0.23</td>\n",
       "      <td>56.9</td>\n",
       "      <td>65.0</td>\n",
       "      <td>327</td>\n",
       "      <td>4.05</td>\n",
       "      <td>4.07</td>\n",
       "      <td>2.31</td>\n",
       "    </tr>\n",
       "    <tr>\n",
       "      <th>3</th>\n",
       "      <td>0.29</td>\n",
       "      <td>62.4</td>\n",
       "      <td>58.0</td>\n",
       "      <td>334</td>\n",
       "      <td>4.20</td>\n",
       "      <td>4.23</td>\n",
       "      <td>2.63</td>\n",
       "    </tr>\n",
       "    <tr>\n",
       "      <th>4</th>\n",
       "      <td>0.31</td>\n",
       "      <td>63.3</td>\n",
       "      <td>58.0</td>\n",
       "      <td>335</td>\n",
       "      <td>4.34</td>\n",
       "      <td>4.35</td>\n",
       "      <td>2.75</td>\n",
       "    </tr>\n",
       "  </tbody>\n",
       "</table>\n",
       "</div>"
      ],
      "text/plain": [
       "   carat  depth  table  price     x     y     z\n",
       "0   0.23   61.5   55.0    326  3.95  3.98  2.43\n",
       "1   0.21   59.8   61.0    326  3.89  3.84  2.31\n",
       "2   0.23   56.9   65.0    327  4.05  4.07  2.31\n",
       "3   0.29   62.4   58.0    334  4.20  4.23  2.63\n",
       "4   0.31   63.3   58.0    335  4.34  4.35  2.75"
      ]
     },
     "execution_count": 50,
     "metadata": {},
     "output_type": "execute_result"
    }
   ],
   "source": [
    "# Считываем данные\n",
    "data = pd.read_csv('diamonds.txt', sep = '\\t')\n",
    "data.head()"
   ]
  },
  {
   "cell_type": "code",
   "execution_count": 70,
   "metadata": {},
   "outputs": [],
   "source": [
    "# Отбираем признаки и таргет\n",
    "features = data.columns[data.columns != 'price']\n",
    "x = data[features]\n",
    "y = data['price']\n",
    "\n",
    "# Осуществляем разбиение \n",
    "x_train, x_test, y_train, y_test = train_test_split(x, y, test_size = 0.25, shuffle = True, random_state = 1)"
   ]
  },
  {
   "cell_type": "code",
   "execution_count": 80,
   "metadata": {},
   "outputs": [
    {
     "name": "stdout",
     "output_type": "stream",
     "text": [
      "Linear Regression MAE:  890.3764004285584\n"
     ]
    }
   ],
   "source": [
    "# Обучаем линейную регрессию без параметров\n",
    "regression_model = LinearRegression(n_jobs= -1)\n",
    "\n",
    "regression_model.fit(x_train, y_train)\n",
    "regression_preds = regression_model.predict(x_test)\n",
    "\n",
    "print('Linear Regression MAE: ', mean_absolute_error(y_test, regression_preds))"
   ]
  },
  {
   "cell_type": "code",
   "execution_count": 82,
   "metadata": {},
   "outputs": [
    {
     "name": "stdout",
     "output_type": "stream",
     "text": [
      "Random Forest MAE:  779.7117583558185\n"
     ]
    }
   ],
   "source": [
    "# Обучаем случайный лес\n",
    "rm_forest_model = RandomForestRegressor(n_jobs = -1, random_state = 1)\n",
    "\n",
    "rm_forest_model.fit(x_train, y_train)\n",
    "rm_forest_preds = rm_forest_model.predict(x_test)\n",
    "\n",
    "print('Random Forest MAE: ', mean_absolute_error(y_test, regression_preds))"
   ]
  },
  {
   "cell_type": "markdown",
   "metadata": {},
   "source": [
    "Можем заметить что ```Random Forest``` лучше, но действительно ли это так? Cформулирем ряд гипотез:\n",
    "\n",
    "$H_0\\colon$ среднее качества предсказаний одинаково (модели не отличаются)\n",
    "\n",
    "$H_1\\colon$ не одинаковы (модели существенно отличаются друг от друга)\n",
    "\n",
    "Для проверки данных гипотез, воспользуемся Двухвыборочным критерием Стьюдента (зависмые выборки), предварительно проверив распределение попарных разностей между предсказаниями и истинными ответами."
   ]
  },
  {
   "cell_type": "code",
   "execution_count": 141,
   "metadata": {},
   "outputs": [],
   "source": [
    "# Ошибки предсказаний для моделей (без модулей)\n",
    "reg_diff = regression_preds - y_test\n",
    "rf_forest_diff = rm_forest_preds - y_test"
   ]
  },
  {
   "cell_type": "code",
   "execution_count": 142,
   "metadata": {},
   "outputs": [
    {
     "data": {
      "image/png": "[encoded data removed]",
      "text/plain": [
       "<Figure size 864x360 with 2 Axes>"
      ]
     },
     "metadata": {
      "needs_background": "light"
     },
     "output_type": "display_data"
    }
   ],
   "source": [
    "# Взглянем на распределение ошибок и график Q - Q plot (Линейная Регрессия)\n",
    "fig, axes = plt.subplots(1,2, figsize = (12, 5))\n",
    "axes[0].hist(reg_diff)\n",
    "axes[0].set_title('Linear Regression Errors Distribution')\n",
    "axes[0].grid()\n",
    "axes[1] = stats.probplot(reg_diff, dist = 'norm', plot = plt)"
   ]
  },
  {
   "cell_type": "code",
   "execution_count": 143,
   "metadata": {},
   "outputs": [
    {
     "data": {
      "image/png": "[encoded data removed]",
      "text/plain": [
       "<Figure size 864x360 with 2 Axes>"
      ]
     },
     "metadata": {
      "needs_background": "light"
     },
     "output_type": "display_data"
    }
   ],
   "source": [
    "# Взглянем на распределение ошибок и график Q - Q plot (Случайный Лес)\n",
    "fig, axes = plt.subplots(1, 2, figsize = (12, 5))\n",
    "axes[0].hist(rf_forest_diff)\n",
    "axes[0].set_title('Random Forest Errors Distribution')\n",
    "axes[0].grid()\n",
    "axes[1] = stats.probplot(rf_forest_diff, dist = 'norm', plot = plt)"
   ]
  },
  {
   "cell_type": "markdown",
   "metadata": {},
   "source": [
    "Видно, что распределения может быть и не совсем нормальные, но не сильно отличаются от нормального. Взглянем на статистику Шапиро - Уилка."
   ]
  },
  {
   "cell_type": "code",
   "execution_count": 140,
   "metadata": {},
   "outputs": [
    {
     "name": "stdout",
     "output_type": "stream",
     "text": [
      "Shapiro Normality Test (Linear Regression):  ShapiroResult(statistic=0.6747618913650513, pvalue=0.0)\n",
      "Shapiro Normality Test (Random Forest):  ShapiroResult(statistic=0.6747618913650513, pvalue=0.0)\n"
     ]
    },
    {
     "name": "stderr",
     "output_type": "stream",
     "text": [
      "c:\\users\\vlad\\appdata\\local\\programs\\python\\python37\\lib\\site-packages\\scipy\\stats\\morestats.py:1681: UserWarning: p-value may not be accurate for N > 5000.\n",
      "  warnings.warn(\"p-value may not be accurate for N > 5000.\")\n"
     ]
    }
   ],
   "source": [
    "print('Shapiro Normality Test (Linear Regression): ', stats.shapiro(reg_diff))\n",
    "print('Shapiro Normality Test (Random Forest): ', stats.shapiro(reg_diff))"
   ]
  },
  {
   "cell_type": "markdown",
   "metadata": {},
   "source": [
    "Шапиро Уилка отрицает нормальность распределения ошибок для 2-х моделей"
   ]
  },
  {
   "cell_type": "code",
   "execution_count": 148,
   "metadata": {},
   "outputs": [
    {
     "data": {
      "text/plain": [
       "Ttest_relResult(statistic=18.03725974451083, pvalue=6.936823477600879e-72)"
      ]
     },
     "execution_count": 148,
     "metadata": {},
     "output_type": "execute_result"
    }
   ],
   "source": [
    "# Двухвыборочным критерием Стьюдента (зависмые выборки)\n",
    "# Здесь возьмем уже модули\n",
    "stats.ttest_rel(np.abs(reg_diff), np.abs(rf_forest_diff)) "
   ]
  },
  {
   "cell_type": "markdown",
   "metadata": {},
   "source": [
    "Видим, что критерий свидетельствует о значимых различиях между моделями.\n",
    "\n",
    "Модель ```Random Forest``` значимо лучше"
   ]
  },
  {
   "cell_type": "markdown",
   "metadata": {},
   "source": [
    "**2)** В предыдущей задаче посчитайте 95% доверительный интервал для разности средних абсолютных ошибок предсказаний регрессии и случайного леса. Чему равна его ближайшая к нулю граница? Округлите до десятков (поскольку случайный лес может давать немного разные предсказания в зависимости от версий библиотек, мы просим вас так сильно округлить, чтобы полученное значение наверняка совпало с нашим)."
   ]
  },
  {
   "cell_type": "code",
   "execution_count": 149,
   "metadata": {},
   "outputs": [
    {
     "name": "stdout",
     "output_type": "stream",
     "text": [
      "Confidence Interval:  (98.63852573905199, 122.69075840642812)\n"
     ]
    }
   ],
   "source": [
    "# Оценим ДИ для разностей средних абсолютных ошибок предсказаний регрессии и случайного леса\n",
    "print('Confidence Interval: ', DescrStatsW(np.abs(reg_diff) - np.abs(rf_forest_diff)).tconfint_mean())"
   ]
  },
  {
   "cell_type": "markdown",
   "metadata": {},
   "source": [
    "**3)** Уровень кальция в крови здоровых молодых женщин равен в среднем 9.5 милиграммам на децилитр и имеет характерное стандартное отклонение 0.4 ```мг/дл```. В сельской больнице Гватемалы для 160 здоровых беременных женщин при первом обращении для ведения беременности был измерен уровень кальция; среднее значение составило 9.57 ```мг/дл```. Можно ли утверждать, что средний уровень кальция в этой популяции отличается от 9.5?\n",
    "\n",
    "Посчитайте достигаемый уровень значимости. Поскольку известны только среднее и дисперсия, а не сама выборка, нельзя использовать стандартные функции критериев — нужно реализовать формулу достигаемого уровня значимости самостоятельно.\n",
    "\n",
    "Округлите ответ до четырёх знаков после десятичной точки."
   ]
  },
  {
   "cell_type": "code",
   "execution_count": 151,
   "metadata": {},
   "outputs": [],
   "source": [
    "# Опишем ГС\n",
    "population_mean = 9.5\n",
    "sigma = 0.4\n",
    "\n",
    "# Опишем выборку\n",
    "n = 160 \n",
    "sample_mean = 9.57"
   ]
  },
  {
   "cell_type": "markdown",
   "metadata": {},
   "source": [
    "Т.к. значение sigma для ГС известно, то воспользуемся одновыборочным критерием Стьюдента (Z - критерием)\n"
   ]
  },
  {
   "cell_type": "code",
   "execution_count": 150,
   "metadata": {},
   "outputs": [],
   "source": [
    "# Введем ряд функций\n",
    "def calculate_z_statistics(sample_mean, population_mean, sigma, n_samples):\n",
    "    se = sigma/np.sqrt(n_samples) # se - standard error \n",
    "    z_statistics = (sample_mean - population_mean)/se\n",
    "    return z_statistics\n",
    "\n",
    "# Т.к. нас интересуют просто отличия, то используем двустороннюю альтернативу\n",
    "def calculate_p_value(z_stat):\n",
    "    return 2 * (1 - stats.norm.cdf(z_stat))"
   ]
  },
  {
   "cell_type": "code",
   "execution_count": 152,
   "metadata": {},
   "outputs": [
    {
     "name": "stdout",
     "output_type": "stream",
     "text": [
      "Z-Score: 2.213594362117875, p_value: 0.026856695507523787\n"
     ]
    }
   ],
   "source": [
    "z_score = calculate_z_statistics(sample_mean = sample_mean,\n",
    "                               population_mean = population_mean,\n",
    "                               sigma = sigma,\n",
    "                               n_samples = n)\n",
    "\n",
    "p_value = calculate_p_value(z_score)\n",
    "print(f'Z-Score: {z_score}, p_value: {p_value}')"
   ]
  }
 ],
 "metadata": {
  "kernelspec": {
   "display_name": "Python 3",
   "language": "python",
   "name": "python3"
  },
  "language_info": {
   "codemirror_mode": {
    "name": "ipython",
    "version": 3
   },
   "file_extension": ".py",
   "mimetype": "text/x-python",
   "name": "python",
   "nbconvert_exporter": "python",
   "pygments_lexer": "ipython3",
   "version": "3.7.9"
  }
 },
 "nbformat": 4,
 "nbformat_minor": 4
}
