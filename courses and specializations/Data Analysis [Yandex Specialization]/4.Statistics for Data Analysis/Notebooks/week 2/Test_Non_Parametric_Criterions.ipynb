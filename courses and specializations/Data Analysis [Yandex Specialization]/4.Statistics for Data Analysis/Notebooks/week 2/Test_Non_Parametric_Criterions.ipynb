{
 "cells": [
  {
   "cell_type": "code",
   "execution_count": 114,
   "metadata": {},
   "outputs": [],
   "source": [
    "import numpy as np\n",
    "from scipy import stats\n",
    "import pandas as pd"
   ]
  },
  {
   "cell_type": "markdown",
   "metadata": {},
   "source": [
    "**1)** Давайте вернёмся к данным выживаемости пациентов с лейкоцитарной лимфомой из видео про критерий знаков:\n",
    "\n",
    "```49, 58, 75, 110, 112, 132, 151, 276, 281, 362*```\n",
    "\n",
    "Измерено остаточное время жизни с момента начала наблюдения (в неделях); звёздочка обозначает цензурирование сверху — исследование длилось 7 лет, и остаточное время жизни одного пациента, который дожил до конца наблюдения, неизвестно.\n",
    "\n",
    "Поскольку цензурировано только одно наблюдение, для проверки гипотезы ```H_0: medX = 200``` на этих данных можно использовать критерий знаковых рангов — можно считать, что время дожития последнего пациента в точности равно 362, на ранг этого наблюдения это никак не повлияет. \n",
    "\n",
    "**Критерием знаковых рангов** проверьте эту гипотезу против двусторонней альтернативы, введите достигаемый уровень значимости, округлённый до четырёх знаков после десятичной точки.\n",
    "\n",
    "$H_0\\colon$ медиана остаточного время жизни равна 200\n",
    "\n",
    "$H_1\\colon$ медиана остаточного время жизни не равна 200"
   ]
  },
  {
   "cell_type": "code",
   "execution_count": 117,
   "metadata": {},
   "outputs": [
    {
     "name": "stdout",
     "output_type": "stream",
     "text": [
      "Wilcoxon Criterion\n",
      "Statistics: %.1f, p-value:  WilcoxonResult(statistic=17.0, pvalue=0.322265625)\n"
     ]
    }
   ],
   "source": [
    "# Описываем выборку\n",
    "sample = np.array([49, 58, 75, 110, 112, 132, 151, 276, 281, 362])\n",
    "medX = 200\n",
    "\n",
    "# Критерий Знаковых Рангов Уилкоксона\n",
    "print('Wilcoxon Criterion\\nStatistics: %.1f, p-value: ', stats.wilcoxon(sample - medX))"
   ]
  },
  {
   "cell_type": "markdown",
   "metadata": {},
   "source": [
    "Нулевая гипотеза не отвергается, мы не модем сказать что медиана остаточного время жизни не равна 200. Возможно это так.\n",
    "\n",
    "**2)** В ходе исследования влияния лесозаготовки на биоразнообразие лесов острова Борнео собраны данные о количестве видов деревьев в ```12``` лесах, где вырубка не ведётся: ```22, 22, 15, 13, 19, 19, 18, 20, 21, 13, 13, 15``` и в 9 лесах, где идёт вырубка: ```17, 18, 18, 15, 12, 4, 14, 15, 10```\n",
    "\n",
    "Проверьте гипотезу о равенстве среднего количества видов в двух типах лесов против односторонней альтернативы о снижении биоразнообразия в вырубаемых лесах. Используйте ранговый критерий. Чему равен достигаемый уровень значимости? Округлите до четырёх знаков после десятичной точки.\n",
    "\n",
    "$H_0\\colon$ среднее количество видов в лесах с вырубкой больше\n",
    "\n",
    "$H_1\\colon$ среднее количество видов в лесах с вырубкой снижается\n",
    "\n",
    "Наши выборки независимые, следовательно нужно использовать двухвыборочные ранговые критерии для независимых выборок. В нашем случае это критерий Манна - Уитни:"
   ]
  },
  {
   "cell_type": "code",
   "execution_count": 27,
   "metadata": {},
   "outputs": [
    {
     "data": {
      "text/plain": [
       "MannwhitneyuResult(statistic=81.0, pvalue=0.02900499272087373)"
      ]
     },
     "execution_count": 27,
     "metadata": {},
     "output_type": "execute_result"
    }
   ],
   "source": [
    "# Опишем наши выборки \n",
    "sample_no_felling = np.array([22, 22, 15, 13, 19, 19, 18, 20, 21, 13, 13, 15])\n",
    "sample_felling = np.array([17, 18, 18, 15, 12, 4, 14, 15, 10])\n",
    "\n",
    "stats.mannwhitneyu(sample_no_felling, sample_felling, alternative='greater')"
   ]
  },
  {
   "cell_type": "markdown",
   "metadata": {},
   "source": [
    "Нулевая гипотеза отвергается, среднее количество видов в лесах с вырубкой снижается.\n",
    "\n",
    "**3)** 28 января 1986 года космический шаттл \"Челленджер\" взорвался при взлёте. Семь астронавтов, находившихся на борту, погибли. В ходе расследования причин катастрофы основной версией была неполадка с резиновыми уплотнительными кольцами в соединении с ракетными ускорителями. Для 23 предшествовавших катастрофе полётов \"Челленджера\" известны **температура воздуха** и появление повреждений хотя бы у одного из уплотнительных колец.\n",
    "\n",
    "С помощью бутстрепа постройте 95% доверительный интервал для **разности средних температур воздуха** при запусках, когда уплотнительные кольца повреждались, и запусках, когда повреждений не было. Чему равна его ближайшая к нулю граница? Округлите до четырёх знаков после запятой.\n",
    "\n",
    "Чтобы получить в точности такой же доверительный интервал, как у нас:\n",
    "- установите ```np.random.seed(0)``` перед первым вызовом функции ```get_bootstrap_samples()```, один раз\n",
    "- сделайте по **1000** псевдовыборок из каждой выборки."
   ]
  },
  {
   "cell_type": "code",
   "execution_count": 79,
   "metadata": {},
   "outputs": [
    {
     "data": {
      "text/html": [
       "<div>\n",
       "<style scoped>\n",
       "    .dataframe tbody tr th:only-of-type {\n",
       "        vertical-align: middle;\n",
       "    }\n",
       "\n",
       "    .dataframe tbody tr th {\n",
       "        vertical-align: top;\n",
       "    }\n",
       "\n",
       "    .dataframe thead th {\n",
       "        text-align: right;\n",
       "    }\n",
       "</style>\n",
       "<table border=\"1\" class=\"dataframe\">\n",
       "  <thead>\n",
       "    <tr style=\"text-align: right;\">\n",
       "      <th></th>\n",
       "      <th>Date</th>\n",
       "      <th>Temperature</th>\n",
       "      <th>Incident</th>\n",
       "    </tr>\n",
       "  </thead>\n",
       "  <tbody>\n",
       "    <tr>\n",
       "      <th>0</th>\n",
       "      <td>Apr12.81</td>\n",
       "      <td>18.9</td>\n",
       "      <td>0</td>\n",
       "    </tr>\n",
       "    <tr>\n",
       "      <th>1</th>\n",
       "      <td>Nov12.81</td>\n",
       "      <td>21.1</td>\n",
       "      <td>1</td>\n",
       "    </tr>\n",
       "    <tr>\n",
       "      <th>2</th>\n",
       "      <td>Mar22.82</td>\n",
       "      <td>20.6</td>\n",
       "      <td>0</td>\n",
       "    </tr>\n",
       "    <tr>\n",
       "      <th>3</th>\n",
       "      <td>Nov11.82</td>\n",
       "      <td>20.0</td>\n",
       "      <td>0</td>\n",
       "    </tr>\n",
       "    <tr>\n",
       "      <th>4</th>\n",
       "      <td>Apr04.83</td>\n",
       "      <td>19.4</td>\n",
       "      <td>0</td>\n",
       "    </tr>\n",
       "  </tbody>\n",
       "</table>\n",
       "</div>"
      ],
      "text/plain": [
       "       Date  Temperature  Incident\n",
       "0  Apr12.81         18.9         0\n",
       "1  Nov12.81         21.1         1\n",
       "2  Mar22.82         20.6         0\n",
       "3  Nov11.82         20.0         0\n",
       "4  Apr04.83         19.4         0"
      ]
     },
     "execution_count": 79,
     "metadata": {},
     "output_type": "execute_result"
    }
   ],
   "source": [
    "# Загрузка данных\n",
    "data = pd.read_csv('challenger.txt', sep = '\\t')\n",
    "data.columns = ['Date', 'Temperature', 'Incident']\n",
    "data.head()"
   ]
  },
  {
   "cell_type": "code",
   "execution_count": 100,
   "metadata": {},
   "outputs": [
    {
     "name": "stdout",
     "output_type": "stream",
     "text": [
      "Mean Temperature (Incident): 17.6143\n",
      "Mean Temperature (No Incident): 22.2812\n"
     ]
    }
   ],
   "source": [
    "# Отбираем группы (берем именно DataFrame, т.к. функция bootstrap завязана на нем)\n",
    "sample_incident = data[data['Incident'] == 1][['Temperature']]\n",
    "sample_no_incident = data[data['Incident'] == 0][['Temperature']]\n",
    "\n",
    "print('Mean Temperature (Incident): %.4f' %sample_incident.mean()[0])\n",
    "print('Mean Temperature (No Incident): %.4f' %sample_no_incident.mean()[0])"
   ]
  },
  {
   "cell_type": "code",
   "execution_count": 74,
   "metadata": {},
   "outputs": [],
   "source": [
    "# Функции для ДИ на основе бутстрепа\n",
    "\n",
    "# Создадим функцию для получения псевдоподвыборок на основе bootstrap\n",
    "def get_bootstrap_samples(data, n_samples):\n",
    "    \"\"\"\n",
    "    n_samples - число выборок \n",
    "    data - исходная выборка (np.array)\n",
    "    \n",
    "    \"\"\"\n",
    "    indices = np.random.randint(0, len(data), (n_samples, len(data)))\n",
    "    samples = data[indices]\n",
    "    return samples\n",
    "\n",
    "# Функция для расчета статистик (квантиль)\n",
    "def stat_intervals(stat, alpha):\n",
    "    boundaries = np.percentile(stat, [100 * alpha / 2, 100 * (1 - alpha / 2)])\n",
    "    return boundaries"
   ]
  },
  {
   "cell_type": "code",
   "execution_count": 93,
   "metadata": {},
   "outputs": [
    {
     "name": "stdout",
     "output_type": "stream",
     "text": [
      "95% Confidence Interval: [-8.0646, -1.4504]\n"
     ]
    }
   ],
   "source": [
    "np.random.seed(0)\n",
    "\n",
    "# Создаем бутстреп псевдовыборки. В каждой выборке оцениваем среднее.\n",
    "# Получаем средние по всем нагенерированным псевдовыборкам\n",
    "incidents_means = list(map(np.mean, get_bootstrap_samples(sample_incident['Temperature'].values, n_samples = 1000)))\n",
    "no_incidents_means = list(map(np.mean, get_bootstrap_samples(sample_no_incident['Temperature'].values, n_samples = 1000)))\n",
    "\n",
    "# Рассчитываем ДИ\n",
    "conf_int = stat_intervals(np.array(incidents_means) - np.array(no_incidents_means), alpha = 0.05)\n",
    "print(f'95% Confidence Interval: [{round(conf_int[0], 4)}, {round(conf_int[1], 4)}]')"
   ]
  },
  {
   "cell_type": "markdown",
   "metadata": {},
   "source": [
    "Видно, что выборки значимо отличаются друг от друга. ДИ смещен в лево и не включает ноль.\n",
    "\n",
    "**4)** На данных предыдущей задачи проверьте гипотезу об одинаковой средней температуре воздуха в дни, когда уплотнительный кольца повреждались, и дни, когда повреждений не было. Используйте перестановочный критерий и двустороннюю альтернативу. Чему равен достигаемый уровень значимости? Округлите до четырёх знаков после десятичной точки. \n",
    "\n",
    "Чтобы получить такое же значение, как мы:\n",
    "- установите ```np.random.seed(0)```\n",
    "- возьмите ```10000``` перестановок\n",
    "\n",
    "Выборки будут независимыми,т.к. в одни дни кольца повреждались, а в други нет. Воспользуемся готовой реализацией\n",
    "\n",
    "$H_0\\colon$ средняя температура воздуха одинакова когда уплотнительные кольца повреждаются и нет\n",
    "\n",
    "$H_1\\colon$ средняя температура воздуха отличается когда уплотнительные кольца повреждаются и нет"
   ]
  },
  {
   "cell_type": "code",
   "execution_count": 109,
   "metadata": {},
   "outputs": [],
   "source": [
    "# Расчет t - статистики для независимых выборок\n",
    "def permutation_t_stat_ind(sample_1, sample_2):\n",
    "    return sample_1.mean() - sample_2.mean()\n",
    "\n",
    "# Функция генерирования индексов для разбиения данных на первую и вторую выборку случайным образом\n",
    "def get_random_combinations(n1, n2, max_combinations):\n",
    "    \n",
    "    index = np.arange(n1 + n2)\n",
    "    indices = set([tuple(index)])\n",
    "    \n",
    "    for i in range(max_combinations - 1):\n",
    "        np.random.shuffle(index)\n",
    "        indices.add(tuple(index))\n",
    "        \n",
    "    return [(index[:n1], index[n1:]) for index in indices]\n",
    "\n",
    "def get_permutation_zero_distr_ind(sample_1, sample_2, max_combinations = None):\n",
    "    # Объединим выборки в одну и рассчитаем необходимые параметры\n",
    "    joined_sample = np.hstack((sample_1, sample_2))\n",
    "    \n",
    "    n_1 = len(sample_1)\n",
    "    n_2 = len(sample_2)\n",
    "    n = len(joined_sample)\n",
    "    \n",
    "    # Если нам задано ограничение на максимальное количество комбинаций, \n",
    "    # то сгенерируем индексы для разбиения данных на первую и вторую выборку случайным образом\n",
    "    if max_combinations:\n",
    "        indices = get_random_combinations(n_1, n_2, max_combinations)\n",
    "        \n",
    "    # Иначе явно перебираем все возможные комбинации \n",
    "    else:\n",
    "        indices = [(list(index), filter(lambda i: i not in index, range(n))) \\\n",
    "                    for index in itertools.combinations(range(n), n_1)]\n",
    "        \n",
    "    # построим разделение нашей выборки на две по соответствующим индексам \n",
    "    # Далее рассчитаем нужную статистику, то есть разницу средних по полученным разбиениям\n",
    "    \n",
    "    distr = [joined_sample[list(i[0])].mean() - joined_sample[list(i[1])].mean() \\\n",
    "             for i in indices]\n",
    "    \n",
    "    return distr\n",
    "\n",
    "# Получение p-value\n",
    "def get_p_value_permutation_test_2sample_ind(sample_1, sample_2, max_permutations = None, alternative = 'two-sided'):\n",
    "    if alternative not in ('two-sided', 'less', 'greater'):\n",
    "        raise ValueError ('Alternative Not Recognized!!!')\n",
    "        \n",
    "    t_stat = round(permutation_t_stat_ind(sample_1, sample_2), 4)\n",
    "    zero_distribution = get_permutation_zero_distr_ind(sample_1, sample_2, max_permutations)\n",
    "    \n",
    "    if alternative == 'two-sided':\n",
    "        return t_stat, round(sum([1 if abs(x) >= abs(t_stat) else 0 for x in zero_distribution]) / len(zero_distribution), 4)\n",
    "    \n",
    "    if alternative == 'less':\n",
    "        return t_stat, round(sum([1 if x <= t_stat else 0 for x in zero_distribution]) / len(zero_distribution), 4)\n",
    "\n",
    "    if alternative == 'greater':\n",
    "        return t_stat, round(sum([1 if x >= t_stat else 0 for x in zero_distribution]) / len(zero_distribution), 4)"
   ]
  },
  {
   "cell_type": "code",
   "execution_count": 113,
   "metadata": {},
   "outputs": [
    {
     "name": "stdout",
     "output_type": "stream",
     "text": [
      "Statistics: -4.667, p-value: 0.0054\n"
     ]
    }
   ],
   "source": [
    "np.random.seed(0)\n",
    "\n",
    "# p-value для 10к перестановок\n",
    "test_res_1 = get_p_value_permutation_test_2sample_ind(\n",
    "    sample_1 = sample_incident['Temperature'].values,\n",
    "    sample_2 = sample_no_incident['Temperature'].values,\n",
    "    max_permutations = 10000,\n",
    "    alternative = 'two-sided'\n",
    ")\n",
    "print(f'Statistics: {test_res_1[0]}, p-value: {test_res_1[1]}')"
   ]
  },
  {
   "cell_type": "markdown",
   "metadata": {},
   "source": [
    "Нулевая гипотеза отвергается. Обнаружены значимые различия в температуре воздуха когда кольца повреждались и нет."
   ]
  }
 ],
 "metadata": {
  "kernelspec": {
   "display_name": "Python 3",
   "language": "python",
   "name": "python3"
  },
  "language_info": {
   "codemirror_mode": {
    "name": "ipython",
    "version": 3
   },
   "file_extension": ".py",
   "mimetype": "text/x-python",
   "name": "python",
   "nbconvert_exporter": "python",
   "pygments_lexer": "ipython3",
   "version": "3.7.9"
  }
 },
 "nbformat": 4,
 "nbformat_minor": 4
}
