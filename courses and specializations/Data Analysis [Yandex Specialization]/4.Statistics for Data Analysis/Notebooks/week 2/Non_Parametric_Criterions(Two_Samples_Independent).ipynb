{
 "cells": [
  {
   "cell_type": "markdown",
   "metadata": {},
   "source": [
    "### Непараметрические критерии (Двухвыборочный для несвязанных выборок)"
   ]
  },
  {
   "cell_type": "code",
   "execution_count": 3,
   "metadata": {},
   "outputs": [],
   "source": [
    "import pandas as pd\n",
    "import numpy as np \n",
    "import itertools\n",
    "import matplotlib.pyplot as plt\n",
    "\n",
    "from scipy import stats\n",
    "from statsmodels.stats.descriptivestats import sign_test\n",
    "from statsmodels.stats.weightstats import zconfint"
   ]
  },
  {
   "cell_type": "markdown",
   "metadata": {},
   "source": [
    "### Недвижимость в Сиэттле\n",
    "Имеются данные о продажной стоимости недвижимости в Сиэтле для 50 сделок в 2001 году и 50 в 2002. Изменились ли в среднем цены?"
   ]
  },
  {
   "cell_type": "code",
   "execution_count": 8,
   "metadata": {},
   "outputs": [
    {
     "data": {
      "text/html": [
       "<div>\n",
       "<style scoped>\n",
       "    .dataframe tbody tr th:only-of-type {\n",
       "        vertical-align: middle;\n",
       "    }\n",
       "\n",
       "    .dataframe tbody tr th {\n",
       "        vertical-align: top;\n",
       "    }\n",
       "\n",
       "    .dataframe thead th {\n",
       "        text-align: right;\n",
       "    }\n",
       "</style>\n",
       "<table border=\"1\" class=\"dataframe\">\n",
       "  <thead>\n",
       "    <tr style=\"text-align: right;\">\n",
       "      <th></th>\n",
       "      <th>Price</th>\n",
       "      <th>Year</th>\n",
       "    </tr>\n",
       "  </thead>\n",
       "  <tbody>\n",
       "    <tr>\n",
       "      <th>0</th>\n",
       "      <td>142.0</td>\n",
       "      <td>2002</td>\n",
       "    </tr>\n",
       "    <tr>\n",
       "      <th>1</th>\n",
       "      <td>232.0</td>\n",
       "      <td>2002</td>\n",
       "    </tr>\n",
       "    <tr>\n",
       "      <th>2</th>\n",
       "      <td>132.5</td>\n",
       "      <td>2002</td>\n",
       "    </tr>\n",
       "    <tr>\n",
       "      <th>3</th>\n",
       "      <td>200.0</td>\n",
       "      <td>2002</td>\n",
       "    </tr>\n",
       "    <tr>\n",
       "      <th>4</th>\n",
       "      <td>362.0</td>\n",
       "      <td>2002</td>\n",
       "    </tr>\n",
       "  </tbody>\n",
       "</table>\n",
       "</div>"
      ],
      "text/plain": [
       "   Price  Year\n",
       "0  142.0  2002\n",
       "1  232.0  2002\n",
       "2  132.5  2002\n",
       "3  200.0  2002\n",
       "4  362.0  2002"
      ]
     },
     "execution_count": 8,
     "metadata": {},
     "output_type": "execute_result"
    }
   ],
   "source": [
    "data = pd.read_csv('seattle.txt', sep = '\\t')\n",
    "data.head()"
   ]
  },
  {
   "cell_type": "code",
   "execution_count": 13,
   "metadata": {},
   "outputs": [],
   "source": [
    "# Так как мы имеем цены для 2-х годов, то рассмотрим выборки отдельно \n",
    "price_2001 = data[data['Year'] == 2001]['Price']\n",
    "price_2002 = data[data['Year'] == 2002]['Price']"
   ]
  },
  {
   "cell_type": "code",
   "execution_count": 19,
   "metadata": {},
   "outputs": [
    {
     "data": {
      "image/png": "[encoded data removed]",
      "text/plain": [
       "<Figure size 864x360 with 2 Axes>"
      ]
     },
     "metadata": {
      "needs_background": "light"
     },
     "output_type": "display_data"
    }
   ],
   "source": [
    "# Взглянем на распределения цен для 2-х годов\n",
    "plt.figure(figsize = (12, 5))\n",
    "\n",
    "plt.subplot(1,2,1)\n",
    "plt.hist(price_2001, color = 'r')\n",
    "plt.grid()\n",
    "plt.xlabel('Prices In 2001')\n",
    "\n",
    "plt.subplot(1,2,2)\n",
    "plt.hist(price_2002, color = 'b')\n",
    "plt.grid()\n",
    "plt.xlabel('Prices In 2002');"
   ]
  },
  {
   "cell_type": "code",
   "execution_count": 21,
   "metadata": {},
   "outputs": [
    {
     "name": "stdout",
     "output_type": "stream",
     "text": [
      "Mean Price In 2001: 288.9265 \n",
      "Mean Price In 2002: 329.2571\n"
     ]
    }
   ],
   "source": [
    "# Взглянем на средние\n",
    "print('Mean Price In 2001: %.4f ' %price_2001.mean())\n",
    "print('Mean Price In 2002: %.4f' %price_2002.mean())"
   ]
  },
  {
   "cell_type": "markdown",
   "metadata": {},
   "source": [
    "Кажется, что цены изменились, так ли это?\n",
    "\n",
    "### Интервальная оценка\n",
    "Как всегда самый быстрый способ это начать с доверительного интервала"
   ]
  },
  {
   "cell_type": "code",
   "execution_count": 28,
   "metadata": {},
   "outputs": [
    {
     "name": "stdout",
     "output_type": "stream",
     "text": [
      "95 % Confidence Interval (Prices In 2001 Group): [245.1936, 332.6595]\n",
      "95 % Confidence Interval (Prices In 2002 Group): [241.4379, 417.0763]\n"
     ]
    }
   ],
   "source": [
    "print('95 %% Confidence Interval (Prices In 2001 Group): [%.4f, %.4f]' %zconfint(price_2001))\n",
    "print('95 %% Confidence Interval (Prices In 2002 Group): [%.4f, %.4f]' %zconfint(price_2002))"
   ]
  },
  {
   "cell_type": "markdown",
   "metadata": {},
   "source": [
    "Неудивительно, доверительные интервалы пересекаются, следовательно, необходимо использовать критерии проверки гипотез\n",
    "\n",
    "### Ранговый Критерий Манна-Уитни\n",
    "\n",
    "В случае рангового критерия мы проверяем гипотезу о том, что вероятность того, что значение из первой выборки будет больше, чем значение из второй выборки, равна вероятности того, что значение из второй выборки будет больше, чем значение из первой выборки. Альтернатива — то, что это не так. Сформулируем гипотезы (другой вариант) и воспользуемся готовой имплементацией.\n",
    "\n",
    "$H_0\\colon F_{X_1}(x) = F_{X_2}(x)$\n",
    "\n",
    "$H_1\\colon F_{X_1}(x) = F_{X_2}(x + \\Delta), \\Delta\\neq 0$"
   ]
  },
  {
   "cell_type": "code",
   "execution_count": 29,
   "metadata": {},
   "outputs": [
    {
     "data": {
      "text/plain": [
       "MannwhitneyuResult(statistic=1204.5, pvalue=0.3781936337850874)"
      ]
     },
     "execution_count": 29,
     "metadata": {},
     "output_type": "execute_result"
    }
   ],
   "source": [
    "stats.mannwhitneyu(price_2001, price_2002)"
   ]
  },
  {
   "cell_type": "markdown",
   "metadata": {},
   "source": [
    "Цены не изменились, критерий не отвергает нулевую гипотезу. Попробуем применить перестановочный критерий.\n",
    "\n",
    "### Двухвыборочный Перестановочный Критерий (независимые выборки)\n",
    "$H_0\\colon F_{X_1}(x) = F_{X_2}(x)$\n",
    "\n",
    "$H_1\\colon F_{X_1}(x) = F_{X_2}(x + \\Delta), \\Delta\\neq 0$\n",
    "\n",
    "Нулевая гипотеза состоит в том, что функции распределения для первой и второй выборки одинаковы. Они совпадают. Альтернатива следующая: функция распределения одной выборки получается сдвигом на некоторую дельту из функции распределения на другой выборке.\n",
    "\n",
    "Реализации нет, реализуем сами"
   ]
  },
  {
   "cell_type": "code",
   "execution_count": 62,
   "metadata": {},
   "outputs": [],
   "source": [
    "# Расчет t - статистики для независимых выборок\n",
    "def permutation_t_stat_ind(sample_1, sample_2):\n",
    "    return sample_1.mean() - sample_2.mean()"
   ]
  },
  {
   "cell_type": "markdown",
   "metadata": {},
   "source": [
    "Нужно научиться считать нулевое распределение. В случае справедливости нулевой гипотезы любое значение, встреченное, например, в первой выборке, мы могли бы с тем же успехом встретить и во второй выборке. То есть если нулевая гипотеза справедлива, то мы можем равновероятно получить любое разделение исходных данных на две подвыборки.\n",
    "\n",
    "Для того чтобы получить нулевое распределение, нам нужно с вами построить все возможные комбинации, все возможные разбиения данных на подвыборки, то есть, получается, построить все сочетания."
   ]
  },
  {
   "cell_type": "code",
   "execution_count": 63,
   "metadata": {},
   "outputs": [],
   "source": [
    "# Функция генерирования индексов для разбиения данных на первую и вторую выборку случайным образом\n",
    "def get_random_combinations(n1, n2, max_combinations):\n",
    "    \n",
    "    index = np.arange(n1 + n2)\n",
    "    indices = set([tuple(index)])\n",
    "    \n",
    "    for i in range(max_combinations - 1):\n",
    "        np.random.shuffle(index)\n",
    "        indices.add(tuple(index))\n",
    "        \n",
    "    return [(index[:n1], index[n1:]) for index in indices]"
   ]
  },
  {
   "cell_type": "code",
   "execution_count": 64,
   "metadata": {},
   "outputs": [],
   "source": [
    "def get_permutation_zero_distr_ind(sample_1, sample_2, max_combinations = None):\n",
    "    # Объединим выборки в одну и рассчитаем необходимые параметры\n",
    "    joined_sample = np.hstack((sample_1, sample_2))\n",
    "    \n",
    "    n_1 = len(sample_1)\n",
    "    n_2 = len(sample_2)\n",
    "    n = len(joined_sample)\n",
    "    \n",
    "    # Если нам задано ограничение на максимальное количество комбинаций, \n",
    "    # то сгенерируем индексы для разбиения данных на первую и вторую выборку случайным образом\n",
    "    if max_combinations:\n",
    "        indices = get_random_combinations(n_1, n_2, max_combinations)\n",
    "        \n",
    "    # Иначе явно перебираем все возможные комбинации \n",
    "    else:\n",
    "        indices = [(list(index), filter(lambda i: i not in index, range(n))) \\\n",
    "                    for index in itertools.combinations(range(n), n_1)]\n",
    "        \n",
    "    # построим разделение нашей выборки на две по соответствующим индексам \n",
    "    # Далее рассчитаем нужную статистику, то есть разницу средних по полученным разбиениям\n",
    "    \n",
    "    distr = [joined_sample[list(i[0])].mean() - joined_sample[list(i[1])].mean() \\\n",
    "             for i in indices]\n",
    "    \n",
    "    return distr"
   ]
  },
  {
   "cell_type": "code",
   "execution_count": 67,
   "metadata": {},
   "outputs": [
    {
     "data": {
      "image/png": "[encoded data removed]",
      "text/plain": [
       "<Figure size 432x288 with 1 Axes>"
      ]
     },
     "metadata": {
      "needs_background": "light"
     },
     "output_type": "display_data"
    }
   ],
   "source": [
    "# Взглянем на нулевое распределение\n",
    "plt.hist(get_permutation_zero_distr_ind(price_2001, price_2002, max_combinations = 1000))\n",
    "plt.grid()\n",
    "plt.title('Zero Distribution');"
   ]
  },
  {
   "cell_type": "markdown",
   "metadata": {},
   "source": [
    "Выглядит как нормальное"
   ]
  },
  {
   "cell_type": "code",
   "execution_count": 69,
   "metadata": {},
   "outputs": [],
   "source": [
    "# Получение p-value\n",
    "def get_p_value_permutation_test_2sample_ind(sample_1, sample_2, max_permutations = None, alternative = 'two-sided'):\n",
    "    if alternative not in ('two-sided', 'less', 'greater'):\n",
    "        raise ValueError ('Alternative Not Recognized!!!')\n",
    "        \n",
    "    t_stat = round(permutation_t_stat_ind(sample_1, sample_2), 4)\n",
    "    zero_distribution = get_permutation_zero_distr_ind(sample_1, sample_2, max_permutations)\n",
    "    \n",
    "    if alternative == 'two-sided':\n",
    "        return t_stat, round(sum([1 if abs(x) >= abs(t_stat) else 0 for x in zero_distribution]) / len(zero_distribution), 4)\n",
    "    \n",
    "    if alternative == 'less':\n",
    "        return t_stat, round(sum([1 if x <= t_stat else 0 for x in zero_distribution]) / len(zero_distribution), 4)\n",
    "\n",
    "    if alternative == 'greater':\n",
    "        return t_stat, round(sum([1 if x >= t_stat else 0 for x in zero_distribution]) / len(zero_distribution), 4)"
   ]
  },
  {
   "cell_type": "code",
   "execution_count": 72,
   "metadata": {},
   "outputs": [
    {
     "name": "stdout",
     "output_type": "stream",
     "text": [
      "Statistics: -40.3306, p-value: 0.4471\n"
     ]
    }
   ],
   "source": [
    "# p-value для 10к перестановок\n",
    "test_res_1 = get_p_value_permutation_test_2sample_ind(\n",
    "    sample_1 = price_2001,\n",
    "    sample_2 = price_2002,\n",
    "    max_permutations = 10000,\n",
    "    alternative = 'two-sided'\n",
    ")\n",
    "print(f'Statistics: {test_res_1[0]}, p-value: {test_res_1[1]}')"
   ]
  },
  {
   "cell_type": "code",
   "execution_count": 1,
   "metadata": {},
   "outputs": [
    {
     "ename": "NameError",
     "evalue": "name 'get_p_value_permutation_test_2sample_ind' is not defined",
     "output_type": "error",
     "traceback": [
      "\u001b[1;31m---------------------------------------------------------------------------\u001b[0m",
      "\u001b[1;31mNameError\u001b[0m                                 Traceback (most recent call last)",
      "\u001b[1;32m<ipython-input-1-10c21c63fcd4>\u001b[0m in \u001b[0;36m<module>\u001b[1;34m\u001b[0m\n\u001b[0;32m      1\u001b[0m \u001b[1;31m# p-value для 50к перестановок\u001b[0m\u001b[1;33m\u001b[0m\u001b[1;33m\u001b[0m\u001b[1;33m\u001b[0m\u001b[0m\n\u001b[1;32m----> 2\u001b[1;33m test_res_2 = get_p_value_permutation_test_2sample_ind(\n\u001b[0m\u001b[0;32m      3\u001b[0m     \u001b[0msample_1\u001b[0m \u001b[1;33m=\u001b[0m \u001b[0mprice_2001\u001b[0m\u001b[1;33m,\u001b[0m\u001b[1;33m\u001b[0m\u001b[1;33m\u001b[0m\u001b[0m\n\u001b[0;32m      4\u001b[0m     \u001b[0msample_2\u001b[0m \u001b[1;33m=\u001b[0m \u001b[0mprice_2002\u001b[0m\u001b[1;33m,\u001b[0m\u001b[1;33m\u001b[0m\u001b[1;33m\u001b[0m\u001b[0m\n\u001b[0;32m      5\u001b[0m     \u001b[0mmax_permutations\u001b[0m \u001b[1;33m=\u001b[0m \u001b[1;36m50000\u001b[0m\u001b[1;33m,\u001b[0m\u001b[1;33m\u001b[0m\u001b[1;33m\u001b[0m\u001b[0m\n",
      "\u001b[1;31mNameError\u001b[0m: name 'get_p_value_permutation_test_2sample_ind' is not defined"
     ]
    }
   ],
   "source": [
    "# p-value для 50к перестановок\n",
    "test_res_2 = get_p_value_permutation_test_2sample_ind(\n",
    "    sample_1 = price_2001,\n",
    "    sample_2 = price_2002,\n",
    "    max_permutations = 50000,\n",
    "    alternative = 'two-sided'\n",
    ")\n",
    "print(f'Statistics: {test_res_2[0]}, p-value: {test_res_2[1]}')"
   ]
  },
  {
   "cell_type": "markdown",
   "metadata": {},
   "source": [
    "Не один из критериев не позволяет нам отвергнуть нулевую гипотезу, следовательно, цены значимо не изменились, хотя по выборке кажется, что изменились. Поэтому всегда нужно проверять гипотезы при помощи статистических критериев"
   ]
  }
 ],
 "metadata": {
  "kernelspec": {
   "display_name": "Python 3",
   "language": "python",
   "name": "python3"
  },
  "language_info": {
   "codemirror_mode": {
    "name": "ipython",
    "version": 3
   },
   "file_extension": ".py",
   "mimetype": "text/x-python",
   "name": "python",
   "nbconvert_exporter": "python",
   "pygments_lexer": "ipython3",
   "version": "3.7.9"
  }
 },
 "nbformat": 4,
 "nbformat_minor": 4
}
