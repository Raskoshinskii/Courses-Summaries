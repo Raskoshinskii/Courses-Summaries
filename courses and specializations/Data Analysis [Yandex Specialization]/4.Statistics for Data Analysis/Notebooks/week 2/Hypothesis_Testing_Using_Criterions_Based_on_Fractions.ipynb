{
 "cells": [
  {
   "cell_type": "markdown",
   "metadata": {},
   "source": [
    "### Z-критерий для двух долей "
   ]
  },
  {
   "cell_type": "code",
   "execution_count": 87,
   "metadata": {},
   "outputs": [],
   "source": [
    "import pandas as pd\n",
    "import numpy as np\n",
    "\n",
    "import scipy\n",
    "from statsmodels.stats.weightstats import *\n",
    "from statsmodels.stats.proportion import proportion_confint"
   ]
  },
  {
   "cell_type": "markdown",
   "metadata": {},
   "source": [
    "Предположим, что мы хотим рекламировать некоторую услугу или товар с помощью рекламного баннера. Для этого у нас уже есть некоторый стандартный баннер, но дизайнеры разработали для нас новый, более прекрасный баннер. Нам с вами хочется проверить, правда ли, что новый баннер действительно лучше, чем старый, и нам имеет смысл заменить старый баннер на новый. Мы собрали 2 группы разных пользователей, по 1000 в каждой."
   ]
  },
  {
   "cell_type": "code",
   "execution_count": 7,
   "metadata": {},
   "outputs": [
    {
     "data": {
      "text/html": [
       "<div>\n",
       "<style scoped>\n",
       "    .dataframe tbody tr th:only-of-type {\n",
       "        vertical-align: middle;\n",
       "    }\n",
       "\n",
       "    .dataframe tbody tr th {\n",
       "        vertical-align: top;\n",
       "    }\n",
       "\n",
       "    .dataframe thead th {\n",
       "        text-align: right;\n",
       "    }\n",
       "</style>\n",
       "<table border=\"1\" class=\"dataframe\">\n",
       "  <thead>\n",
       "    <tr style=\"text-align: right;\">\n",
       "      <th></th>\n",
       "      <th>banner_a</th>\n",
       "      <th>banner_b</th>\n",
       "    </tr>\n",
       "  </thead>\n",
       "  <tbody>\n",
       "    <tr>\n",
       "      <th>0</th>\n",
       "      <td>1</td>\n",
       "      <td>1</td>\n",
       "    </tr>\n",
       "    <tr>\n",
       "      <th>1</th>\n",
       "      <td>0</td>\n",
       "      <td>0</td>\n",
       "    </tr>\n",
       "    <tr>\n",
       "      <th>2</th>\n",
       "      <td>0</td>\n",
       "      <td>0</td>\n",
       "    </tr>\n",
       "    <tr>\n",
       "      <th>3</th>\n",
       "      <td>0</td>\n",
       "      <td>0</td>\n",
       "    </tr>\n",
       "    <tr>\n",
       "      <th>4</th>\n",
       "      <td>0</td>\n",
       "      <td>0</td>\n",
       "    </tr>\n",
       "  </tbody>\n",
       "</table>\n",
       "</div>"
      ],
      "text/plain": [
       "   banner_a  banner_b\n",
       "0         1         1\n",
       "1         0         0\n",
       "2         0         0\n",
       "3         0         0\n",
       "4         0         0"
      ]
     },
     "execution_count": 7,
     "metadata": {},
     "output_type": "execute_result"
    }
   ],
   "source": [
    "# Загрузка данных\n",
    "data = pd.read_csv('banner_click_stat.txt', sep = '\\t')\n",
    "data.columns = ['banner_a', 'banner_b']\n",
    "data.head()"
   ]
  },
  {
   "cell_type": "code",
   "execution_count": 13,
   "metadata": {},
   "outputs": [
    {
     "data": {
      "text/html": [
       "<div>\n",
       "<style scoped>\n",
       "    .dataframe tbody tr th:only-of-type {\n",
       "        vertical-align: middle;\n",
       "    }\n",
       "\n",
       "    .dataframe tbody tr th {\n",
       "        vertical-align: top;\n",
       "    }\n",
       "\n",
       "    .dataframe thead th {\n",
       "        text-align: right;\n",
       "    }\n",
       "</style>\n",
       "<table border=\"1\" class=\"dataframe\">\n",
       "  <thead>\n",
       "    <tr style=\"text-align: right;\">\n",
       "      <th></th>\n",
       "      <th>banner_a</th>\n",
       "      <th>banner_b</th>\n",
       "    </tr>\n",
       "  </thead>\n",
       "  <tbody>\n",
       "    <tr>\n",
       "      <th>count</th>\n",
       "      <td>999.000000</td>\n",
       "      <td>999.000000</td>\n",
       "    </tr>\n",
       "    <tr>\n",
       "      <th>mean</th>\n",
       "      <td>0.037037</td>\n",
       "      <td>0.053053</td>\n",
       "    </tr>\n",
       "    <tr>\n",
       "      <th>std</th>\n",
       "      <td>0.188947</td>\n",
       "      <td>0.224252</td>\n",
       "    </tr>\n",
       "    <tr>\n",
       "      <th>min</th>\n",
       "      <td>0.000000</td>\n",
       "      <td>0.000000</td>\n",
       "    </tr>\n",
       "    <tr>\n",
       "      <th>25%</th>\n",
       "      <td>0.000000</td>\n",
       "      <td>0.000000</td>\n",
       "    </tr>\n",
       "    <tr>\n",
       "      <th>50%</th>\n",
       "      <td>0.000000</td>\n",
       "      <td>0.000000</td>\n",
       "    </tr>\n",
       "    <tr>\n",
       "      <th>75%</th>\n",
       "      <td>0.000000</td>\n",
       "      <td>0.000000</td>\n",
       "    </tr>\n",
       "    <tr>\n",
       "      <th>max</th>\n",
       "      <td>1.000000</td>\n",
       "      <td>1.000000</td>\n",
       "    </tr>\n",
       "  </tbody>\n",
       "</table>\n",
       "</div>"
      ],
      "text/plain": [
       "         banner_a    banner_b\n",
       "count  999.000000  999.000000\n",
       "mean     0.037037    0.053053\n",
       "std      0.188947    0.224252\n",
       "min      0.000000    0.000000\n",
       "25%      0.000000    0.000000\n",
       "50%      0.000000    0.000000\n",
       "75%      0.000000    0.000000\n",
       "max      1.000000    1.000000"
      ]
     },
     "execution_count": 13,
     "metadata": {},
     "output_type": "execute_result"
    }
   ],
   "source": [
    "data.describe()"
   ]
  },
  {
   "cell_type": "markdown",
   "metadata": {},
   "source": [
    "Среднее значение для ```banner_b``` больше, возможно новый баннер и вправду красивый и больше нравится пользователям.\n",
    "\n",
    "Самое первое и самое простое, что мы можем сделать, это построить интервальную оценку для доли. То есть посмотреть, в каком диапазоне эта доля изменяется.\n",
    "\n",
    "### Интервальная оценка для доли \n",
    "$$\\hat{p}\\pm z_{1-\\frac{\\alpha}{2}} \\sqrt{\\frac{\\hat{p}\\left(1-\\hat{p}\\right)}{n}}$$\n",
    "\n",
    "Построим доверительные интервалы для 2-х баннеров и попробуем ответить на наш вопрос."
   ]
  },
  {
   "cell_type": "code",
   "execution_count": 15,
   "metadata": {},
   "outputs": [
    {
     "name": "stdout",
     "output_type": "stream",
     "text": [
      "95% Confidence Interval (Banner A):  (0.02532619139352041, 0.04874788268055366)\n",
      "95% Confidence Interval (Banner B):  (0.03915405923744482, 0.06695204686866128)\n"
     ]
    }
   ],
   "source": [
    "conf_interval_banner_a = proportion_confint(sum(data['banner_a']), data.shape[0], method = 'normal')\n",
    "conf_interval_banner_b = proportion_confint(sum(data['banner_b']), data.shape[0], method = 'normal')\n",
    "\n",
    "print('95% Confidence Interval (Banner A): ', conf_interval_banner_a)\n",
    "print('95% Confidence Interval (Banner B): ', conf_interval_banner_b)"
   ]
  },
  {
   "cell_type": "markdown",
   "metadata": {},
   "source": [
    "Интервалы пересекаются, значит однозначных выводов о том, что новый баннер лучше мы сделать не можем.\n",
    "\n",
    "Попробуем оценить разность 2-х долей. Это можно сделать 2-мя способами:\n",
    "- Построить доверительный интервал на разность 2-х долей (формула ниже)\n",
    "- Воспользоваться Z - критерием для доли и проверить гипотезу о том, что доли разные\n",
    "\n",
    "### Z-критерий для разности долей (независимые выборки)\n",
    "\n",
    "$$\\text{Доверительный интервал для разности 2-х долей:} p_1 - p_2\\colon \\;\\; \\hat{p}_1 - \\hat{p}_2 \\pm z_{1-\\frac{\\alpha}{2}}\\sqrt{\\frac{\\hat{p}_1(1 - \\hat{p}_1)}{n_1} + \\frac{\\hat{p}_2(1 - \\hat{p}_2)}{n_2}}$$\n",
    "\n",
    "$$Z-статистика: Z({X_1, X_2}) =  \\frac{\\hat{p}_1 - \\hat{p}_2}{\\sqrt{P(1 - P)(\\frac{1}{n_1} + \\frac{1}{n_2})}}$$\n",
    "$$P = \\frac{\\hat{p}_1{n_1} + \\hat{p}_2{n_2}}{{n_1} + {n_2}} $$"
   ]
  },
  {
   "cell_type": "code",
   "execution_count": 16,
   "metadata": {},
   "outputs": [],
   "source": [
    "# Функция для построения доверительного интервала для разности 2-х долей\n",
    "def proportions_diff_confint_ind(sample1, sample2, alpha = 0.05):    \n",
    "    z = scipy.stats.norm.ppf(1 - alpha / 2)\n",
    "    \n",
    "    p1 = float(sum(sample1)) / len(sample1)\n",
    "    p2 = float(sum(sample2)) / len(sample2)\n",
    "    \n",
    "    left_boundary = (p1 - p2) - z * np.sqrt(p1 * (1 - p1)/ len(sample1) + p2 * (1 - p2)/ len(sample2))\n",
    "    right_boundary = (p1 - p2) + z * np.sqrt(p1 * (1 - p1)/ len(sample1) + p2 * (1 - p2)/ len(sample2))\n",
    "    \n",
    "    return (left_boundary, right_boundary)"
   ]
  },
  {
   "cell_type": "code",
   "execution_count": 18,
   "metadata": {},
   "outputs": [],
   "source": [
    "# Функция для расчета Z - статистики\n",
    "def proportions_diff_z_stat_ind(sample1, sample2):\n",
    "    n1 = len(sample1)\n",
    "    n2 = len(sample2)\n",
    "    \n",
    "    p1 = float(sum(sample1)) / n1\n",
    "    p2 = float(sum(sample2)) / n2 \n",
    "    P = float(p1*n1 + p2*n2) / (n1 + n2)\n",
    "    \n",
    "    return (p1 - p2) / np.sqrt(P * (1 - P) * (1/n1 + 1/n2))"
   ]
  },
  {
   "cell_type": "code",
   "execution_count": 75,
   "metadata": {},
   "outputs": [],
   "source": [
    "# Функция для расчета p - value\n",
    "def calculate_p_value(z_stat, alternative = 'two-sided'):\n",
    "    if alternative not in ('two-sided', 'less', 'greater'):\n",
    "        raise ValueError(\"alternative not recognized\\n\"\n",
    "                         \"should be 'two-sided', 'less' or 'greater'\")\n",
    "    \n",
    "    if alternative == 'two-sided':\n",
    "        return 2 * (1 - scipy.stats.norm.cdf(np.abs(z_stat)))\n",
    "    \n",
    "    if alternative == 'less':\n",
    "        return scipy.stats.norm.cdf(z_stat)\n",
    "\n",
    "    if alternative == 'greater':\n",
    "        return 1 - scipy.stats.norm.cdf(z_stat)"
   ]
  },
  {
   "cell_type": "code",
   "execution_count": 32,
   "metadata": {},
   "outputs": [
    {
     "name": "stdout",
     "output_type": "stream",
     "text": [
      "95% Confidence Interval For Proportion Difference:  (-0.03419088698591806, 0.0021588549538860274)\n"
     ]
    }
   ],
   "source": [
    "prop_conf_int_ind = proportions_diff_confint_ind(data['banner_a'], data['banner_b'], alpha = 0.05)\n",
    "print('95% Confidence Interval For Proportion Difference: ', prop_conf_int_ind)"
   ]
  },
  {
   "cell_type": "markdown",
   "metadata": {},
   "source": [
    "Ноль входит, возможно различий нет. Взглянем на ```p-value```"
   ]
  },
  {
   "cell_type": "code",
   "execution_count": 33,
   "metadata": {},
   "outputs": [
    {
     "name": "stdout",
     "output_type": "stream",
     "text": [
      "Z-Score For Proportion (independent Samples):  -1.7258668408081945\n",
      "P-Value:  0.08437137142549567\n"
     ]
    }
   ],
   "source": [
    "z_score_ind = proportions_diff_z_stat_ind(data['banner_a'], data['banner_b'])\n",
    "p_value = calculate_p_value(z_score_ind, alternative = 'two-sided')\n",
    "print('Z-Score For Proportion (independent Samples): ', z_score_ind)\n",
    "print('P-Value: ', p_value)"
   ]
  },
  {
   "cell_type": "markdown",
   "metadata": {},
   "source": [
    "На двусторонней альтернативе мы не можем отвергнуть нулевую гипотезу.\n",
    "\n",
    "Поробуем сипользовать одностороннюю альтернативу ```less``` (т.е. нулевой гипотезой будет: новый баннер хуже)"
   ]
  },
  {
   "cell_type": "code",
   "execution_count": 34,
   "metadata": {},
   "outputs": [
    {
     "name": "stdout",
     "output_type": "stream",
     "text": [
      "P-Value:  0.042185685712747785\n"
     ]
    }
   ],
   "source": [
    "p_value = calculate_p_value(z_score_ind, alternative = 'less')\n",
    "print('P-Value: ', p_value)"
   ]
  },
  {
   "cell_type": "markdown",
   "metadata": {},
   "source": [
    "Нулевая гипотеза отвергается, следовательно, баннер явно не хуже прежнего, возможно даже лучше.\n",
    "\n",
    "Теперь предположим, что пользователи были одни и теже (т.е. группы становятся связанными). Мы также можем использовать пердыдущие методы, но с поправкой на зависимость.\n",
    "\n",
    "Для расчета доверительного интервала и ```Z-статистики```, необходимо воспользоваться **таблицей сопряженности** и следующими формулами:\n",
    "\n",
    "### Z-критерий для разности долей (зависимые выборки)\n",
    "\n",
    "$$ \\hat{p}_1 = \\frac{e + f}{n}$$\n",
    "\n",
    "$$ \\hat{p}_2 = \\frac{e + g}{n}$$\n",
    "\n",
    "$$ \\hat{p}_1 - \\hat{p}_2 = \\frac{f - g}{n}$$\n",
    "\n",
    "\n",
    "$$\\text{Доверительный интервал для }p_1 - p_2\\colon \\;\\;  \\frac{f - g}{n} \\pm z_{1-\\frac{\\alpha}{2}}\\sqrt{\\frac{f + g}{n^2} - \\frac{(f - g)^2}{n^3}}$$\n",
    "\n",
    "$$Z-статистика: Z({X_1, X_2}) = \\frac{f - g}{\\sqrt{f + g - \\frac{(f-g)^2}{n}}}$$"
   ]
  },
  {
   "cell_type": "code",
   "execution_count": 69,
   "metadata": {},
   "outputs": [],
   "source": [
    "# Функция для расчета доверительного интервала\n",
    "def proportions_diff_confint_rel(sample1, sample2, alpha = 0.05):\n",
    "    z = scipy.stats.norm.ppf(1 - alpha/2)\n",
    "    sample = list(zip(sample1, sample2))\n",
    "    n = len(sample)\n",
    "        \n",
    "    f = sum([1 if (x[0] == 1 and x[1] == 0) else 0 for x in sample])\n",
    "    g = sum([1 if (x[0] == 0 and x[1] == 1) else 0 for x in sample])\n",
    "    \n",
    "    left_boundary = float(f - g) / n  - z * np.sqrt(float((f + g)) / n**2 - float((f - g)**2) / n**3)\n",
    "    right_boundary = float(f - g) / n  + z * np.sqrt(float((f + g)) / n**2 - float((f - g)**2) / n**3)\n",
    "    return (left_boundary, right_boundary)"
   ]
  },
  {
   "cell_type": "code",
   "execution_count": 72,
   "metadata": {},
   "outputs": [],
   "source": [
    "# Функция расчета Z - статистики\n",
    "def proportions_diff_z_stat_rel(sample1, sample2):\n",
    "    sample = list(zip(sample1, sample2))\n",
    "    n = len(sample)\n",
    "    \n",
    "    f = sum([1 if (x[0] == 1 and x[1] == 0) else 0 for x in sample])\n",
    "    g = sum([1 if (x[0] == 0 and x[1] == 1) else 0 for x in sample])\n",
    "    \n",
    "    return float(f - g) / np.sqrt(f + g - float((f - g)**2) / n )"
   ]
  },
  {
   "cell_type": "code",
   "execution_count": 37,
   "metadata": {},
   "outputs": [
    {
     "name": "stdout",
     "output_type": "stream",
     "text": [
      "95% Confidence Interval For Proportion Difference:  (-0.02671593324626175, -0.0053160987857702804)\n"
     ]
    }
   ],
   "source": [
    "prop_conf_int_rel = proportions_diff_confint_rel(data['banner_a'], data['banner_b'], alpha = 0.05)\n",
    "print('95% Confidence Interval For Proportion Difference: ', prop_conf_int_rel)"
   ]
  },
  {
   "cell_type": "markdown",
   "metadata": {},
   "source": [
    "Ноль теперь не входит, возиожно различия есть и баннер лучше. Взглянем на ```p-value```"
   ]
  },
  {
   "cell_type": "code",
   "execution_count": 39,
   "metadata": {},
   "outputs": [
    {
     "name": "stdout",
     "output_type": "stream",
     "text": [
      "Z-Score For Proportion (Dependent Samples):  -2.9337436815375386\n",
      "P-Value:  0.0033490064943413334\n"
     ]
    }
   ],
   "source": [
    "z_score_rel = proportions_diff_z_stat_rel(data['banner_a'], data['banner_b'])\n",
    "p_value = calculate_p_value(z_score_rel, alternative = 'two-sided')\n",
    "print('Z-Score For Proportion (Dependent Samples): ', z_score_rel)\n",
    "print('P-Value: ', p_value)"
   ]
  },
  {
   "cell_type": "markdown",
   "metadata": {},
   "source": [
    "Проверим также одностороннюю альтернативу"
   ]
  },
  {
   "cell_type": "code",
   "execution_count": 41,
   "metadata": {},
   "outputs": [
    {
     "name": "stdout",
     "output_type": "stream",
     "text": [
      "P-Value:  0.0016745032471706873\n"
     ]
    }
   ],
   "source": [
    "p_value = calculate_p_value(z_score_rel, alternative = 'less')\n",
    "print('P-Value: ', p_value)"
   ]
  },
  {
   "cell_type": "markdown",
   "metadata": {},
   "source": [
    "```P-value``` еще меньше, т.е. мы еще более увереннее можем отвергнуть нулевую гипотезу"
   ]
  },
  {
   "cell_type": "markdown",
   "metadata": {},
   "source": [
    "### Задания из теста"
   ]
  },
  {
   "cell_type": "markdown",
   "metadata": {},
   "source": [
    "**1)** В одном из выпусков программы \"Разрушители легенд\" проверялось, действительно ли заразительна зевота. В эксперименте участвовало 50 испытуемых, проходивших собеседование на программу. Каждый из них разговаривал с рекрутером; в конце 34 из 50 бесед рекрутер зевал. Затем испытуемых просили подождать решения рекрутера в соседней пустой комнате. \n",
    "\n",
    "Во время ожидания 10 из 34 испытуемых экспериментальной группы и 4 из 16 испытуемых контрольной начали зевать. Таким образом, разница в доле зевающих людей в этих двух группах составила примерно 4.4%. Ведущие заключили, что миф о заразительности зевоты подтверждён. \n",
    "\n",
    "Можно ли утверждать, что доли зевающих в контрольной и экспериментальной группах отличаются статистически значимо? Посчитайте достигаемый уровень значимости при альтернативе заразительности зевоты, округлите до четырёх знаков после десятичной точки."
   ]
  },
  {
   "cell_type": "code",
   "execution_count": 95,
   "metadata": {},
   "outputs": [],
   "source": [
    "# Опишем эксперимент \n",
    "n_samples_a = 34\n",
    "n_samples_b = 16\n",
    "\n",
    "# Доли успехов в 2-х независимых группах\n",
    "p_a = 10 / n_samples_a\n",
    "p_b = 4 / n_samples_b"
   ]
  },
  {
   "cell_type": "markdown",
   "metadata": {},
   "source": [
    "Воспользуемся Z - критерием для 2-х долей (выборки независимые)"
   ]
  },
  {
   "cell_type": "code",
   "execution_count": 96,
   "metadata": {},
   "outputs": [],
   "source": [
    "# Не будем вводить функцию, а просто посчтитаем\n",
    "P = ((p_a*n_samples_a) + (p_b*n_samples_b))/(n_samples_a + n_samples_b)\n",
    "z_score = (p_a - p_b)/np.sqrt(P*(1-P)*((1/n_samples_a) + (1/n_samples_b)))"
   ]
  },
  {
   "cell_type": "code",
   "execution_count": 97,
   "metadata": {},
   "outputs": [
    {
     "name": "stdout",
     "output_type": "stream",
     "text": [
      "P-Value:  0.3729\n"
     ]
    }
   ],
   "source": [
    "# Достигаемый уровень значимости\n",
    "p_value = calculate_p_value(z_score, alternative = 'greater')\n",
    "print('P-Value: ', round(p_value,4))"
   ]
  },
  {
   "cell_type": "markdown",
   "metadata": {},
   "source": [
    "Значения между группами не отличаются значимо. Значит, по данному эксперименту, зевота не является заразительной\n",
    "\n",
    "**2)** Имеются данные измерений двухсот швейцарских тысячефранковых банкнот, бывших в обращении в первой половине XX века. Сто из банкнот были настоящими, и сто — поддельными. На рисунке ниже показаны измеренные признаки.\n",
    "\n",
    "Отделите 50 случайных наблюдений в тестовую выборку с помощью функции ```sklearn.cross_validation.train_test_split```, зафиксируйте random ```state = 1```. На оставшихся 150 настройте два классификатора поддельности банкнот:\n",
    "\n",
    "- логистическая регрессия по признакам х1, х2, х3\n",
    "- логистическая регрессия по признакам x4, x5, x6 \n",
    "\n",
    "Каждым из классификаторов сделайте предсказания меток классов на тестовой выборке. Одинаковы ли доли ошибочных предсказаний двух классификаторов? Проверьте гипотезу, вычислите достигаемый уровень значимости. Введите номер первой значащей цифры (например, если вы получили ```5.5*10^-8``` нужно ввести -8."
   ]
  },
  {
   "cell_type": "code",
   "execution_count": 98,
   "metadata": {},
   "outputs": [],
   "source": [
    "from sklearn.model_selection import train_test_split\n",
    "from sklearn.linear_model import LogisticRegression\n",
    "from sklearn.metrics import accuracy_score"
   ]
  },
  {
   "cell_type": "code",
   "execution_count": 99,
   "metadata": {},
   "outputs": [
    {
     "data": {
      "text/html": [
       "<div>\n",
       "<style scoped>\n",
       "    .dataframe tbody tr th:only-of-type {\n",
       "        vertical-align: middle;\n",
       "    }\n",
       "\n",
       "    .dataframe tbody tr th {\n",
       "        vertical-align: top;\n",
       "    }\n",
       "\n",
       "    .dataframe thead th {\n",
       "        text-align: right;\n",
       "    }\n",
       "</style>\n",
       "<table border=\"1\" class=\"dataframe\">\n",
       "  <thead>\n",
       "    <tr style=\"text-align: right;\">\n",
       "      <th></th>\n",
       "      <th>X1</th>\n",
       "      <th>X2</th>\n",
       "      <th>X3</th>\n",
       "      <th>X4</th>\n",
       "      <th>X5</th>\n",
       "      <th>X6</th>\n",
       "      <th>real</th>\n",
       "    </tr>\n",
       "  </thead>\n",
       "  <tbody>\n",
       "    <tr>\n",
       "      <th>0</th>\n",
       "      <td>214.8</td>\n",
       "      <td>131.0</td>\n",
       "      <td>131.1</td>\n",
       "      <td>9.0</td>\n",
       "      <td>9.7</td>\n",
       "      <td>141.0</td>\n",
       "      <td>1</td>\n",
       "    </tr>\n",
       "    <tr>\n",
       "      <th>1</th>\n",
       "      <td>214.6</td>\n",
       "      <td>129.7</td>\n",
       "      <td>129.7</td>\n",
       "      <td>8.1</td>\n",
       "      <td>9.5</td>\n",
       "      <td>141.7</td>\n",
       "      <td>1</td>\n",
       "    </tr>\n",
       "    <tr>\n",
       "      <th>2</th>\n",
       "      <td>214.8</td>\n",
       "      <td>129.7</td>\n",
       "      <td>129.7</td>\n",
       "      <td>8.7</td>\n",
       "      <td>9.6</td>\n",
       "      <td>142.2</td>\n",
       "      <td>1</td>\n",
       "    </tr>\n",
       "    <tr>\n",
       "      <th>3</th>\n",
       "      <td>214.8</td>\n",
       "      <td>129.7</td>\n",
       "      <td>129.6</td>\n",
       "      <td>7.5</td>\n",
       "      <td>10.4</td>\n",
       "      <td>142.0</td>\n",
       "      <td>1</td>\n",
       "    </tr>\n",
       "    <tr>\n",
       "      <th>4</th>\n",
       "      <td>215.0</td>\n",
       "      <td>129.6</td>\n",
       "      <td>129.7</td>\n",
       "      <td>10.4</td>\n",
       "      <td>7.7</td>\n",
       "      <td>141.8</td>\n",
       "      <td>1</td>\n",
       "    </tr>\n",
       "  </tbody>\n",
       "</table>\n",
       "</div>"
      ],
      "text/plain": [
       "      X1     X2     X3    X4    X5     X6  real\n",
       "0  214.8  131.0  131.1   9.0   9.7  141.0     1\n",
       "1  214.6  129.7  129.7   8.1   9.5  141.7     1\n",
       "2  214.8  129.7  129.7   8.7   9.6  142.2     1\n",
       "3  214.8  129.7  129.6   7.5  10.4  142.0     1\n",
       "4  215.0  129.6  129.7  10.4   7.7  141.8     1"
      ]
     },
     "execution_count": 99,
     "metadata": {},
     "output_type": "execute_result"
    }
   ],
   "source": [
    "# Загрузка данных\n",
    "data = pd.read_csv('banknotes.txt', sep = '\\t')\n",
    "data.head()"
   ]
  },
  {
   "cell_type": "code",
   "execution_count": 100,
   "metadata": {},
   "outputs": [
    {
     "data": {
      "text/plain": [
       "1    100\n",
       "0    100\n",
       "Name: real, dtype: int64"
      ]
     },
     "execution_count": 100,
     "metadata": {},
     "output_type": "execute_result"
    }
   ],
   "source": [
    "# Взглянем на балансы классов\n",
    "data['real'].value_counts()"
   ]
  },
  {
   "cell_type": "code",
   "execution_count": 101,
   "metadata": {},
   "outputs": [],
   "source": [
    "# Отделим матрицу признаков и таргет\n",
    "x = data.iloc[:, :-1]\n",
    "y = data.iloc[:, -1]"
   ]
  },
  {
   "cell_type": "code",
   "execution_count": 102,
   "metadata": {},
   "outputs": [],
   "source": [
    "# Создаем выборки согласно заданиям \n",
    "x_train, x_test, y_train, y_test = train_test_split(x, y, test_size = 50, shuffle = True, random_state = 1)"
   ]
  },
  {
   "cell_type": "code",
   "execution_count": 103,
   "metadata": {},
   "outputs": [],
   "source": [
    "log_reg_model_1 = LogisticRegression(random_state = 1, n_jobs = -1)\n",
    "log_reg_model_2 = LogisticRegression(random_state = 1, n_jobs = -1)\n",
    "\n",
    "# Отберем необходимые признаки согласно заданию (х1, х2, х3)\n",
    "x_train_1, x_test_1 = x_train.iloc[:, :3], x_test.iloc[:, :3]\n",
    "\n",
    "# Отберем необходимые признаки согласно заданию (x4, x5, x6)\n",
    "x_train_2, x_test_2 = x_train.iloc[:, 3:], x_test.iloc[:, 3:]"
   ]
  },
  {
   "cell_type": "code",
   "execution_count": 104,
   "metadata": {},
   "outputs": [
    {
     "name": "stdout",
     "output_type": "stream",
     "text": [
      "Accuracy (Model 1):  0.8\n",
      "Accuracy (Model 2):  0.98\n",
      "\n",
      "Error (Model 1):  0.19999999999999996\n",
      "Error (Model 2):  0.020000000000000018\n"
     ]
    }
   ],
   "source": [
    "# Обучаем модели\n",
    "log_reg_model_1.fit(x_train_1, y_train)\n",
    "log_reg_model_2.fit(x_train_2, y_train)\n",
    "\n",
    "# Предсказываем\n",
    "log_reg_preds_1 = log_reg_model_1.predict(x_test_1)\n",
    "log_reg_preds_2 = log_reg_model_2.predict(x_test_2)\n",
    "\n",
    "# Доля верных ответов (точность) моделей\n",
    "accuracy_1 = accuracy_score(y_test, log_reg_preds_1)\n",
    "accuracy_2 = accuracy_score(y_test, log_reg_preds_2)\n",
    "\n",
    "print('Accuracy (Model 1): ', accuracy_1)\n",
    "print('Accuracy (Model 2): ', accuracy_2)\n",
    "print()\n",
    "print('Error (Model 1): ', 1 - accuracy_1)\n",
    "print('Error (Model 2): ', 1 - accuracy_2)"
   ]
  },
  {
   "cell_type": "markdown",
   "metadata": {},
   "source": [
    "Видно, что ошибки 2-х классификаторов существенно отличаются. Но значимы ли эти отличия?\n",
    "\n",
    "Сформулируем ряд гипотез:\n",
    "\n",
    "$H_0\\colon$ различий между 2-мя классификаторами нет\n",
    "\n",
    "$H_1\\colon$ различия есть"
   ]
  },
  {
   "cell_type": "code",
   "execution_count": 105,
   "metadata": {},
   "outputs": [],
   "source": [
    "# Сформулируем доли верных ответов для 2-х моделей\n",
    "error_portion_1 = [1 if log_reg_preds_1[indx] == y_test.values[indx] else 0 for indx in range(len(log_reg_preds_1))]\n",
    "error_portion_2 = [1 if log_reg_preds_2[indx] == y_test.values[indx] else 0 for indx in range(len(log_reg_preds_2))]"
   ]
  },
  {
   "cell_type": "code",
   "execution_count": 107,
   "metadata": {},
   "outputs": [
    {
     "name": "stdout",
     "output_type": "stream",
     "text": [
      "p-value:  0.0009\n"
     ]
    }
   ],
   "source": [
    "# Расчитаем Z - статистику\n",
    "z_score = proportions_diff_z_stat_rel(error_portion_1, error_portion_2)\n",
    "p_val = calculate_p_value(z_score, alternative = 'two-sided')\n",
    "print('p-value: ', round(p_val, 4))"
   ]
  },
  {
   "cell_type": "markdown",
   "metadata": {},
   "source": [
    "Обнаружены значимые различия. Качество действительно отличается.\n",
    "\n",
    "**3)** В предыдущей задаче посчитайте 95% доверительный интервал для разности долей ошибок двух классификаторов. Чему равна его ближайшая к нулю граница? Округлите до четырёх знаков после десятичной точки."
   ]
  },
  {
   "cell_type": "code",
   "execution_count": 83,
   "metadata": {},
   "outputs": [
    {
     "name": "stdout",
     "output_type": "stream",
     "text": [
      "95% Confidence Interval (Dependent Samples): [-0.2865, -0.0735]\n"
     ]
    }
   ],
   "source": [
    "# Оценим 95% Доверительный интервал для зависимых выборок (функция proportions_diff_confint_rel)\n",
    "conf_interval = proportions_diff_confint_rel(error_portion_1, error_portion_2)\n",
    "print(f'95% Confidence Interval (Dependent Samples): [{round(conf_interval[0], 4)}, {round(conf_interval[1], 4)}]' )"
   ]
  },
  {
   "cell_type": "markdown",
   "metadata": {},
   "source": [
    "Ноль не входит, значит различия статистически значимы (```p-value``` также свидетельствует об этом из предыдузей задачи)"
   ]
  },
  {
   "cell_type": "markdown",
   "metadata": {},
   "source": [
    "**4)** Ежегодно более 200000 людей по всему миру сдают стандартизированный экзамен GMAT при поступлении на программы MBA. Средний результат составляет 525 баллов, стандартное отклонение — 100 баллов. \n",
    "\n",
    "Сто студентов закончили специальные подготовительные курсы и сдали экзамен. Средний полученный ими балл — 541.4. Проверьте гипотезу о неэффективности программы против односторонней альтернативы о том, что программа работает. Отвергается ли на уровне значимости 0.05 нулевая гипотеза? Введите достигаемый уровень значимости, округлённый до 4 знаков после десятичной точки. "
   ]
  },
  {
   "cell_type": "code",
   "execution_count": 84,
   "metadata": {},
   "outputs": [],
   "source": [
    "# Опишем ГС\n",
    "n_samples = 200000\n",
    "population_mean = 525\n",
    "sigma = 100\n",
    "\n",
    "# Опишем Выборку\n",
    "n = 100\n",
    "sample_mean = 541.4"
   ]
  },
  {
   "cell_type": "markdown",
   "metadata": {},
   "source": [
    "$H_0\\colon$ программа неэффективна\n",
    "\n",
    "$H_1\\colon$ программа работает\n",
    "\n",
    "В этой задаче мы имеем дело с непрерывной СВ, следовательно доли мы не рассматриваем. Так-как нам известно СКО ГС, то будем использовать одновыборочный Z - критерий."
   ]
  },
  {
   "cell_type": "code",
   "execution_count": 85,
   "metadata": {},
   "outputs": [
    {
     "name": "stdout",
     "output_type": "stream",
     "text": [
      "Z - Score:  1.6399999999999977\n"
     ]
    }
   ],
   "source": [
    "# Рассчитаем Z - статистику \n",
    "se = sigma/np.sqrt(n)\n",
    "z_score = (sample_mean - population_mean)/se\n",
    "print('Z - Score: ', z_score)"
   ]
  },
  {
   "cell_type": "code",
   "execution_count": 91,
   "metadata": {},
   "outputs": [
    {
     "name": "stdout",
     "output_type": "stream",
     "text": [
      "p-value:  0.0505\n"
     ]
    }
   ],
   "source": [
    "# Рассчитаем p - value (по условию, односторонняя альтернатива)\n",
    "p_val = 1 - stats.norm.cdf(z_score)\n",
    "print('p-value: ', round(p_val, 4))"
   ]
  },
  {
   "cell_type": "markdown",
   "metadata": {},
   "source": [
    "К сожалению, отвергнуть нулевую гипотезу мы не можем. Скорее всего программа неэффективна.\n",
    "\n",
    "**5)** Оцените теперь эффективность подготовительных курсов, средний балл 100 выпускников которых равен 541.5. Отвергается ли на уровне значимости 0.05 та же самая нулевая гипотеза против той же самой альтернативы? Введите достигаемый уровень значимости, округлённый до 4 знаков после десятичной точки. "
   ]
  },
  {
   "cell_type": "code",
   "execution_count": 92,
   "metadata": {},
   "outputs": [
    {
     "name": "stdout",
     "output_type": "stream",
     "text": [
      "Z - Score:  1.65\n"
     ]
    }
   ],
   "source": [
    "new_sample_mean = 541.5\n",
    "\n",
    "se = sigma/np.sqrt(n)\n",
    "z_score = (new_sample_mean - population_mean)/se\n",
    "print('Z - Score: ', z_score)"
   ]
  },
  {
   "cell_type": "code",
   "execution_count": 93,
   "metadata": {},
   "outputs": [
    {
     "name": "stdout",
     "output_type": "stream",
     "text": [
      "p-value:  0.0495\n"
     ]
    }
   ],
   "source": [
    "p_val = 1 - stats.norm.cdf(z_score)\n",
    "print('p-value: ', round(p_val, 4))"
   ]
  },
  {
   "cell_type": "markdown",
   "metadata": {},
   "source": [
    "Новое значение, позволяет отвергнуть нулевую гипотезу"
   ]
  }
 ],
 "metadata": {
  "kernelspec": {
   "display_name": "Python 3",
   "language": "python",
   "name": "python3"
  },
  "language_info": {
   "codemirror_mode": {
    "name": "ipython",
    "version": 3
   },
   "file_extension": ".py",
   "mimetype": "text/x-python",
   "name": "python",
   "nbconvert_exporter": "python",
   "pygments_lexer": "ipython3",
   "version": "3.7.9"
  }
 },
 "nbformat": 4,
 "nbformat_minor": 4
}
