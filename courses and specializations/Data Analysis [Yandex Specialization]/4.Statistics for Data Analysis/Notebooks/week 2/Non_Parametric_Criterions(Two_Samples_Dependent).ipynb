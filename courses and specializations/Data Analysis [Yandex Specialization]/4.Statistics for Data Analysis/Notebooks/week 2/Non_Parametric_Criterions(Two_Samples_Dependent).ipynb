{
 "cells": [
  {
   "cell_type": "markdown",
   "metadata": {},
   "source": [
    "### Непараметрические критерии (Двухвыборочный для связанных выборок)\n",
    "\n",
    "### Терапия при анорексии \n",
    "В исследовании оценивается эффективность поведенческой терапии для лечения анорексии. Для 50 пациентов известен вес до начала терапии и по её окончании. Была ли терапия эффективной?"
   ]
  },
  {
   "cell_type": "code",
   "execution_count": 2,
   "metadata": {},
   "outputs": [],
   "source": [
    "import pandas as pd\n",
    "import numpy as np \n",
    "import itertools\n",
    "import matplotlib.pyplot as plt\n",
    "\n",
    "from scipy import stats\n",
    "from statsmodels.stats.descriptivestats import sign_test\n",
    "from statsmodels.stats.weightstats import zconfint"
   ]
  },
  {
   "cell_type": "code",
   "execution_count": 8,
   "metadata": {},
   "outputs": [
    {
     "data": {
      "text/html": [
       "<div>\n",
       "<style scoped>\n",
       "    .dataframe tbody tr th:only-of-type {\n",
       "        vertical-align: middle;\n",
       "    }\n",
       "\n",
       "    .dataframe tbody tr th {\n",
       "        vertical-align: top;\n",
       "    }\n",
       "\n",
       "    .dataframe thead th {\n",
       "        text-align: right;\n",
       "    }\n",
       "</style>\n",
       "<table border=\"1\" class=\"dataframe\">\n",
       "  <thead>\n",
       "    <tr style=\"text-align: right;\">\n",
       "      <th></th>\n",
       "      <th>Before</th>\n",
       "      <th>After</th>\n",
       "    </tr>\n",
       "  </thead>\n",
       "  <tbody>\n",
       "    <tr>\n",
       "      <th>0</th>\n",
       "      <td>80.5</td>\n",
       "      <td>82.2</td>\n",
       "    </tr>\n",
       "    <tr>\n",
       "      <th>1</th>\n",
       "      <td>84.9</td>\n",
       "      <td>85.6</td>\n",
       "    </tr>\n",
       "    <tr>\n",
       "      <th>2</th>\n",
       "      <td>81.5</td>\n",
       "      <td>81.4</td>\n",
       "    </tr>\n",
       "    <tr>\n",
       "      <th>3</th>\n",
       "      <td>82.6</td>\n",
       "      <td>81.9</td>\n",
       "    </tr>\n",
       "    <tr>\n",
       "      <th>4</th>\n",
       "      <td>79.9</td>\n",
       "      <td>76.4</td>\n",
       "    </tr>\n",
       "  </tbody>\n",
       "</table>\n",
       "</div>"
      ],
      "text/plain": [
       "   Before  After\n",
       "0    80.5   82.2\n",
       "1    84.9   85.6\n",
       "2    81.5   81.4\n",
       "3    82.6   81.9\n",
       "4    79.9   76.4"
      ]
     },
     "execution_count": 8,
     "metadata": {},
     "output_type": "execute_result"
    }
   ],
   "source": [
    "data = pd.read_csv('weight.txt', sep = '\\t')\n",
    "data.head()"
   ]
  },
  {
   "cell_type": "code",
   "execution_count": 13,
   "metadata": {},
   "outputs": [
    {
     "data": {
      "image/png": "[encoded data removed]",
      "text/plain": [
       "<Figure size 864x360 with 2 Axes>"
      ]
     },
     "metadata": {
      "needs_background": "light"
     },
     "output_type": "display_data"
    }
   ],
   "source": [
    "# Взглянем на распределения признаков \n",
    "plt.figure(figsize=(12, 5))\n",
    "plt.subplot(1,2,1)\n",
    "plt.hist(data['Before'], color = 'r')\n",
    "plt.xlabel('Before')\n",
    "plt.grid()\n",
    "\n",
    "plt.subplot(1,2,2)\n",
    "plt.hist(data['After'], color = 'b')\n",
    "plt.xlabel('After')\n",
    "plt.grid()"
   ]
  },
  {
   "cell_type": "markdown",
   "metadata": {},
   "source": [
    "По гистограммам видно, что ```min``` и ```max``` значения без после терапии отличаются, ровно как и их средние. Но значимы ли эти отличия?"
   ]
  },
  {
   "cell_type": "code",
   "execution_count": 17,
   "metadata": {},
   "outputs": [
    {
     "name": "stdout",
     "output_type": "stream",
     "text": [
      "Therapy A Mean:  82.6897\n",
      "Therapy B Mean:  85.6966\n"
     ]
    }
   ],
   "source": [
    "print('Therapy A Mean: ', round(data['Before'].mean(), 4))\n",
    "print('Therapy B Mean: ', round(data['After'].mean(), 4))"
   ]
  },
  {
   "cell_type": "markdown",
   "metadata": {},
   "source": [
    "### Интервальная оценка среднего"
   ]
  },
  {
   "cell_type": "code",
   "execution_count": 27,
   "metadata": {},
   "outputs": [
    {
     "name": "stdout",
     "output_type": "stream",
     "text": [
      "95 Confidence Interval (Group Before): [80.9261, 84.4532]\n",
      "95 Confidence Interval (Group After): [82.6568, 88.7363]\n"
     ]
    }
   ],
   "source": [
    "print('95 %% Confidence Interval (Group Before): [%.4f, %.4f]' % zconfint(data['Before']))\n",
    "print('95 %% Confidence Interval (Group After): [%.4f, %.4f]' % zconfint(data['After']))"
   ]
  },
  {
   "cell_type": "markdown",
   "metadata": {},
   "source": [
    "Интервалы пересекаются, поэтому недостаточно использования ДИ для однозначного принятие или отвержения нулевой гипотезы. Необходимо применять критерии для проверки гипотез.\n",
    "\n",
    "### Двухвыборочные критерии для связных выборок\n",
    "Расммотрим гипотезы:\n",
    "\n",
    "$H_0\\colon$ медианы веса до и после терапии совпадает\n",
    "\n",
    "$H_1\\colon$ медианы веса до и после тепрапии отличаются\n",
    "\n",
    "Для того чтобы применять двухвыборочные критерии для проверки гипотез, для начала нам нужно посчитать попарные разности весов пациентов до и после терапии. Давайте это сделаем и посмотрим на то, как эта величина распределена."
   ]
  },
  {
   "cell_type": "code",
   "execution_count": 30,
   "metadata": {},
   "outputs": [
    {
     "data": {
      "image/png": "[encoded data removed]",
      "text/plain": [
       "<Figure size 432x288 with 1 Axes>"
      ]
     },
     "metadata": {
      "needs_background": "light"
     },
     "output_type": "display_data"
    }
   ],
   "source": [
    "plt.hist(data['After'] - data['Before']);\n",
    "plt.grid()\n",
    "plt.title('Distribution of Pair Differences');"
   ]
  },
  {
   "cell_type": "markdown",
   "metadata": {},
   "source": [
    "Видно, что основное значение колеблется около нуля.\n",
    "\n",
    "### Двухвыборочный критерий знаков\n",
    "Используем готовую реализацию критерия ```sign_test()```\n"
   ]
  },
  {
   "cell_type": "code",
   "execution_count": 33,
   "metadata": {},
   "outputs": [
    {
     "name": "stdout",
     "output_type": "stream",
     "text": [
      "Statistics: 3.50, p-value: 0.2649\n"
     ]
    }
   ],
   "source": [
    "print('Statistics: %.2f, p-value: %.4f' %sign_test(data['After'] - data['Before']))"
   ]
  },
  {
   "cell_type": "markdown",
   "metadata": {},
   "source": [
    "Нулевая гипотеза не отвергается"
   ]
  },
  {
   "cell_type": "markdown",
   "metadata": {},
   "source": [
    "### Критерий знаковых рангов (Критерий знаковых рангов Вилкоксона)\n",
    "Эту функцию можно применять по-разному. С одной стороны, мы можем передать туда две выборки, с другой стороны, мы точно так же, как и в случае с критерием знаков, можем передать туда попарные разности. Посмотрим на оба подхода"
   ]
  },
  {
   "cell_type": "code",
   "execution_count": 34,
   "metadata": {},
   "outputs": [
    {
     "data": {
      "text/plain": [
       "WilcoxonResult(statistic=131.5, pvalue=0.06291972262602667)"
      ]
     },
     "execution_count": 34,
     "metadata": {},
     "output_type": "execute_result"
    }
   ],
   "source": [
    "# Без разностей\n",
    "stats.wilcoxon(data['After'], data['Before'])"
   ]
  },
  {
   "cell_type": "code",
   "execution_count": 35,
   "metadata": {},
   "outputs": [
    {
     "data": {
      "text/plain": [
       "WilcoxonResult(statistic=131.5, pvalue=0.06291972262602667)"
      ]
     },
     "execution_count": 35,
     "metadata": {},
     "output_type": "execute_result"
    }
   ],
   "source": [
    "# Разности \n",
    "stats.wilcoxon(data['After'] - data['Before'])"
   ]
  },
  {
   "cell_type": "markdown",
   "metadata": {},
   "source": [
    "Можно приметь любой способ. Нулевая гипотеза также не отвергается\n",
    "\n",
    "### Перестановачный критерий\n",
    "В данном случае гипотезы:\n",
    "\n",
    "$H_0\\colon \\mathbb{E}(X_1 - X_2) = 0$\n",
    "\n",
    "$H_1\\colon \\mathbb{E}(X_1 - X_2) \\neq 0$\n",
    "\n",
    "Готовой реализации нет, реализуем самостоятельно"
   ]
  },
  {
   "cell_type": "code",
   "execution_count": 37,
   "metadata": {},
   "outputs": [],
   "source": [
    "# Функция расчета t - статистики\n",
    "def permutation_t_stat_1sample(sample, mean):\n",
    "    t_stat = sum(sample - mean)\n",
    "    return t_stat\n",
    "\n",
    "# Функция для расчета нулевого распределения (распределение должно получиться табличным)\n",
    "def permutation_zero_distr_1sample(sample, mean, max_permutations = None):\n",
    "    centered_sample = sample - mean\n",
    "    \n",
    "    # Если задан, то генерируем случайные выборки со случайными перестановками знаков перед элементами\n",
    "    # Т.е. для больших выбарок будет достаточно лишь некоторой части перестановок\n",
    "    if max_permutations:\n",
    "        # Генерируем знаки (-1, 1)\n",
    "        signs_array = set([tuple(x) for x in 2 * np.random.randint(2, size = (max_permutations, len(sample))) - 1])\n",
    "    else:\n",
    "        signs_array = itertools.product([-1, 1], repeat = len(sample))\n",
    "        \n",
    "    zero_distribution = [sum(centered_sample * sign) for sign in signs_array]\n",
    "    \n",
    "    return zero_distribution\n",
    "\n",
    "def get_p_value_permutation_test_1sample(sample, mean, max_permutations = None, alternative = 'two-sided'):\n",
    "    if alternative not in ('two-sided', 'less', 'greater'):\n",
    "        raise ValueError ('Alternative Not Recognized!!!')\n",
    "        \n",
    "    t_stat = round(permutation_t_stat_1sample(sample, mean), 4)\n",
    "    zero_distribution = permutation_zero_distr_1sample(sample, mean, max_permutations)\n",
    "    \n",
    "    if alternative == 'two-sided':\n",
    "        return t_stat, round(sum([1 if abs(x) >= abs(t_stat) else 0 for x in zero_distribution]) / len(zero_distribution), 4)\n",
    "    \n",
    "    if alternative == 'less':\n",
    "        return t_stat, round(sum([1 if x <= t_stat else 0 for x in zero_distribution]) / len(zero_distribution), 4)\n",
    "\n",
    "    if alternative == 'greater':\n",
    "        return t_stat, round(sum([1 if x >= t_stat else 0 for x in zero_distribution]) / len(zero_distribution), 4)"
   ]
  },
  {
   "cell_type": "code",
   "execution_count": 41,
   "metadata": {},
   "outputs": [
    {
     "data": {
      "image/png": "[encoded data removed]",
      "text/plain": [
       "<Figure size 432x288 with 1 Axes>"
      ]
     },
     "metadata": {
      "needs_background": "light"
     },
     "output_type": "display_data"
    }
   ],
   "source": [
    "# Взглянем на нулевое распределение попарных разностей \n",
    "plt.hist(permutation_zero_distr_1sample(data['After'] - data['Before'], mean = 0, max_permutations = 10000))\n",
    "plt.grid()\n",
    "plt.title('Zero Distribution For Pair Differences');"
   ]
  },
  {
   "cell_type": "code",
   "execution_count": 42,
   "metadata": {},
   "outputs": [
    {
     "name": "stdout",
     "output_type": "stream",
     "text": [
      "Statistics: 87.2, p-value: 0.044\n"
     ]
    }
   ],
   "source": [
    "test_res_1 = get_p_value_permutation_test_1sample(data['After'] - data['Before'], mean = 0, max_permutations = 1000)\n",
    "print(f'Statistics: {test_res_1[0]}, p-value: {test_res_1[1]}')"
   ]
  },
  {
   "cell_type": "code",
   "execution_count": 43,
   "metadata": {},
   "outputs": [
    {
     "name": "stdout",
     "output_type": "stream",
     "text": [
      "Statistics: 87.2, p-value: 0.034\n"
     ]
    }
   ],
   "source": [
    "# Возьмем больше перестановок\n",
    "test_res_2 = get_p_value_permutation_test_1sample(data['After'] - data['Before'], mean = 0, max_permutations = 50000)\n",
    "print(f'Statistics: {test_res_2[0]}, p-value: {test_res_2[1]}')"
   ]
  },
  {
   "cell_type": "markdown",
   "metadata": {},
   "source": [
    "Используя данный критерий мы можем отвергнуть нулевую гипотезу и утверждать, что терапия оказала эффект. Почему применяя разные критерии мы вынуждены делать разные выводы?\n",
    "\n",
    "Ну, во-первых, разные критерии по-разному оценивают среднее. В случае критерия знаков под «средним» мы с вами понимаем «медиану веса», а в случае перестановочного критерия под «средним» мы с вами понимаем «матожидание разности весов». Уже в этом месте начинаются разночтения.\n",
    "\n",
    "С другой стороны, разница есть в том, как много информации использует критерий. В частности, знаковые критерии используют только знаки перед нашими значениями и не учитывают абсолютные значения. Ранговые критерии используют только порядка. Перестановочный критерий уже использует гораздо больше информации, потому что он учитывает значение. Соответственно, в этом случае нам оказалось этого достаточно для того, чтобы отвергнуть нулевую гипотезу"
   ]
  },
  {
   "cell_type": "code",
   "execution_count": null,
   "metadata": {},
   "outputs": [],
   "source": []
  }
 ],
 "metadata": {
  "kernelspec": {
   "display_name": "Python 3",
   "language": "python",
   "name": "python3"
  },
  "language_info": {
   "codemirror_mode": {
    "name": "ipython",
    "version": 3
   },
   "file_extension": ".py",
   "mimetype": "text/x-python",
   "name": "python",
   "nbconvert_exporter": "python",
   "pygments_lexer": "ipython3",
   "version": "3.7.9"
  }
 },
 "nbformat": 4,
 "nbformat_minor": 4
}
