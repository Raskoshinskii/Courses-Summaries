{
 "cells": [
  {
   "cell_type": "markdown",
   "metadata": {},
   "source": [
    "### Готовим LDA по рецептам\n",
    "Как вы уже знаете, в тематическом моделировании делается предположение о том, что для определения тематики порядок слов в документе не важен; об этом гласит гипотеза «мешка слов». Сегодня мы будем работать с несколько нестандартной для тематического моделирования коллекцией, которую можно назвать «мешком ингредиентов», потому что на состоит из рецептов блюд разных кухонь. Тематические модели ищут слова, которые часто вместе встречаются в документах, и составляют из них темы. Мы попробуем применить эту идею к рецептам и найти кулинарные «темы». Эта коллекция хороша тем, что не требует предобработки. Кроме того, эта задача достаточно наглядно иллюстрирует принцип работы тематических моделей.\n",
    "\n",
    "Для выполнения заданий, помимо часто используемых в курсе библиотек, потребуются модули ```json``` и ```gensim```. Первый входит в дистрибутив Anaconda, второй можно поставить командой \n",
    "\n",
    "```pip install gensim```\n",
    "\n",
    "Построение модели занимает некоторое время. На ноутбуке с процессором Intel Core i7 и тактовой частотой 2400 МГц на построение одной модели уходит менее 10 минут.\n"
   ]
  },
  {
   "cell_type": "code",
   "execution_count": 345,
   "metadata": {},
   "outputs": [],
   "source": [
    "import json\n",
    "from gensim import corpora, models\n",
    "import numpy as np"
   ]
  },
  {
   "cell_type": "markdown",
   "metadata": {},
   "source": [
    "\n",
    "### Загрузка данных\n",
    "Коллекция дана в json-формате: для каждого рецепта известны его id, кухня (cuisine) и список ингредиентов, в него входящих. Загрузить данные можно с помощью модуля json (он входит в дистрибутив Anaconda):"
   ]
  },
  {
   "cell_type": "code",
   "execution_count": 346,
   "metadata": {},
   "outputs": [
    {
     "name": "stdout",
     "output_type": "stream",
     "text": [
      "C:\\Users\\vlad\\1. Machine Learning\\Yandex Specialization\\3.Unsupervised Learning\\data\n"
     ]
    }
   ],
   "source": [
    "cd C:\\Users\\vlad\\1. Machine Learning\\Yandex Specialization\\3.Unsupervised Learning\\data"
   ]
  },
  {
   "cell_type": "code",
   "execution_count": 347,
   "metadata": {},
   "outputs": [
    {
     "name": "stdout",
     "output_type": "stream",
     "text": [
      "{'id': 10259, 'cuisine': 'greek', 'ingredients': ['romaine lettuce', 'black olives', 'grape tomatoes', 'garlic', 'pepper', 'purple onion', 'seasoning', 'garbanzo beans', 'feta cheese crumbles']}\n"
     ]
    }
   ],
   "source": [
    "with open(\"recipes.json\") as f:\n",
    "    recipes = json.load(f)\n",
    "    \n",
    "print(recipes[0])"
   ]
  },
  {
   "cell_type": "code",
   "execution_count": 348,
   "metadata": {},
   "outputs": [
    {
     "name": "stdout",
     "output_type": "stream",
     "text": [
      "Total Number of Recipes:  39774\n"
     ]
    }
   ],
   "source": [
    "print('Total Number of Recipes: ', len(recipes))"
   ]
  },
  {
   "cell_type": "markdown",
   "metadata": {},
   "source": [
    "### Составление корпуса\n",
    "\n",
    "Наша коллекция небольшая, и целиком помещается в оперативную память. Gensim может работать с такими данными и не требует их сохранения на диск в специальном формате. Для этого коллекция должна быть представлена в виде списка списков, каждый внутренний список соответствует отдельному документу и состоит из его слов. Пример коллекции из двух документов: \n",
    "\n",
    "[[\"hello\", \"world\"], [\"programming\", \"in\", \"python\"]]\n",
    "\n",
    "Преобразуем наши данные в такой формат, а затем создадим объекты corpus и dictionary, с которыми будет работать модель."
   ]
  },
  {
   "cell_type": "code",
   "execution_count": 349,
   "metadata": {},
   "outputs": [],
   "source": [
    "texts = [recipe[\"ingredients\"] for recipe in recipes] # создаем список слов каждого документа (рецепта)\n",
    "dictionary = corpora.Dictionary(texts)   # составляем словарь\n",
    "corpus = [dictionary.doc2bow(text) for text in texts]  # составляем корпус документов"
   ]
  },
  {
   "cell_type": "code",
   "execution_count": 198,
   "metadata": {},
   "outputs": [
    {
     "name": "stdout",
     "output_type": "stream",
     "text": [
      "['romaine lettuce', 'black olives', 'grape tomatoes', 'garlic', 'pepper', 'purple onion', 'seasoning', 'garbanzo beans', 'feta cheese crumbles']\n",
      "[(0, 1), (1, 1), (2, 1), (3, 1), (4, 1), (5, 1), (6, 1), (7, 1), (8, 1)]\n"
     ]
    }
   ],
   "source": [
    "print(texts[0])\n",
    "print(corpus[0])"
   ]
  },
  {
   "cell_type": "markdown",
   "metadata": {},
   "source": [
    "У объекта dictionary есть полезная переменная dictionary.token2id, позволяющая находить соответствие между ингредиентами и их индексами."
   ]
  },
  {
   "cell_type": "markdown",
   "metadata": {},
   "source": [
    "### Обучение модели\n",
    "Вам может понадобиться [документация](https://radimrehurek.com/gensim/models/ldamodel.html) LDA в gensim."
   ]
  },
  {
   "cell_type": "markdown",
   "metadata": {},
   "source": [
    "__Задание 1.__ Обучите модель LDA с 40 темами, установив количество проходов по коллекции 5 и оставив остальные параметры по умолчанию. \n",
    "\n",
    "\n",
    "Затем вызовите метод модели ```show_topics```, указав количество тем 40 и количество токенов 10, и сохраните результат (топы ингредиентов в темах) в отдельную переменную. Если при вызове метода ```show_topics``` указать параметр ```formatted=True```, то топы ингредиентов будет удобно выводить на печать, если ```formatted=False```, будет удобно работать со списком программно. Выведите топы на печать, рассмотрите темы, а затем ответьте на вопрос:\n",
    "\n",
    "Сколько раз ингредиенты \"salt\", \"sugar\", \"water\", \"mushrooms\", \"chicken\", \"eggs\" встретились среди топов-10 всех 40 тем? При ответе __не нужно__ учитывать составные ингредиенты, например, \"hot water\".\n",
    "\n",
    "Передайте 6 чисел в функцию save_answers1 и загрузите сгенерированный файл в форму.\n",
    "\n",
    "У gensim нет возможности фиксировать случайное приближение через параметры метода, но библиотека использует numpy для инициализации матриц. Поэтому, по утверждению автора библиотеки, фиксировать случайное приближение нужно командой, которая написана в следующей ячейке. __Перед строкой кода с построением модели обязательно вставляйте указанную строку фиксации random.seed.__"
   ]
  },
  {
   "cell_type": "code",
   "execution_count": 201,
   "metadata": {},
   "outputs": [
    {
     "name": "stdout",
     "output_type": "stream",
     "text": [
      "Wall time: 27.4 s\n"
     ]
    }
   ],
   "source": [
    "%%time\n",
    "# Обучаем Модель (берем ldamulticore)\n",
    "np.random.seed(76543)\n",
    "\n",
    "# Модели нужно выделить 40 тем из всего множества рецептов \n",
    "lda_model = models.LdaMulticore(corpus, id2word=dictionary, num_topics=40, passes=5, workers=4)"
   ]
  },
  {
   "cell_type": "code",
   "execution_count": 206,
   "metadata": {},
   "outputs": [
    {
     "data": {
      "text/plain": [
       "[('salt', 0.0349691),\n",
       " ('onions', 0.033011828),\n",
       " ('garlic cloves', 0.02529485),\n",
       " ('olive oil', 0.025144804),\n",
       " ('water', 0.024956865),\n",
       " ('curry powder', 0.022702279),\n",
       " ('vegetable broth', 0.020683654),\n",
       " ('carrots', 0.019469772),\n",
       " ('tumeric', 0.018765576),\n",
       " ('cauliflower', 0.017139578)]"
      ]
     },
     "execution_count": 206,
     "metadata": {},
     "output_type": "execute_result"
    }
   ],
   "source": [
    "# Среди выделенных 40 тем выведем самые популярные, например топ-10 слов для каждой найденной темы\n",
    "top_words_per_recipe = []\n",
    "for t, top_words in lda_model.show_topics(num_topics=40, num_words=10, formatted=False):\n",
    "    top_words_per_recipe.append(top_words)\n",
    "    \n",
    "# Взглянем на топы слов 1-ой темы\n",
    "top_words_per_recipe[0]"
   ]
  },
  {
   "cell_type": "code",
   "execution_count": 207,
   "metadata": {},
   "outputs": [],
   "source": [
    "# Считаем сколько раз определенные ингридиенты встретились в топах слов среди всех 40 тем (для удобства создадим функцию)\n",
    "def count_word_freq_in_tops(word, tops_of_words_in_themes):\n",
    "    all_words = []\n",
    "    for topic in tops_of_words_in_themes:\n",
    "        for top_words in topic:\n",
    "            all_words.append(top_words[0])\n",
    "    return all_words.count(word)"
   ]
  },
  {
   "cell_type": "code",
   "execution_count": 208,
   "metadata": {},
   "outputs": [
    {
     "data": {
      "text/plain": [
       "{'salt': 39, 'sugar': 10, 'water': 15, 'mushrooms': 0, 'chicken': 0, 'eggs': 4}"
      ]
     },
     "execution_count": 208,
     "metadata": {},
     "output_type": "execute_result"
    }
   ],
   "source": [
    "words_to_count = [\"salt\", \"sugar\", \"water\", \"mushrooms\", \"chicken\", \"eggs\"]\n",
    "word_freq = {}\n",
    "\n",
    "for word in words_to_count:\n",
    "    word_freq[word] = count_word_freq_in_tops(word, top_words_per_recipe)\n",
    "    \n",
    "word_freq"
   ]
  },
  {
   "cell_type": "code",
   "execution_count": 209,
   "metadata": {},
   "outputs": [
    {
     "name": "stdout",
     "output_type": "stream",
     "text": [
      "C:\\Users\\vlad\\1. Machine Learning\\Yandex Specialization\\3.Unsupervised Learning\\submissions\\Theme_Modelling\n"
     ]
    }
   ],
   "source": [
    "cd C:\\Users\\vlad\\1. Machine Learning\\Yandex Specialization\\3.Unsupervised Learning\\submissions\\Theme_Modelling"
   ]
  },
  {
   "cell_type": "code",
   "execution_count": 210,
   "metadata": {},
   "outputs": [],
   "source": [
    "# Сохраняем результат\n",
    "def save_answers1(words):\n",
    "    with open(\"recipes_LDA_task1.txt\", \"w\") as file:\n",
    "        file.write(\" \".join([str(el) for el in words]))\n",
    "        \n",
    "save_answers1(word_freq.values())"
   ]
  },
  {
   "cell_type": "markdown",
   "metadata": {},
   "source": [
    "### Фильтрация словаря\n",
    "В топах тем гораздо чаще встречаются первые три рассмотренных ингредиента, чем последние три. При этом наличие в рецепте курицы, яиц и грибов яснее дает понять, что мы будем готовить, чем наличие соли, сахара и воды. Таким образом, даже в рецептах есть слова, часто встречающиеся в текстах и не несущие смысловой нагрузки, и поэтому их не желательно видеть в темах. Наиболее простой прием борьбы с такими фоновыми элементами — **фильтрация словаря по частоте.**\n",
    "\n",
    "Обычно словарь фильтруют с двух сторон:\n",
    "- убирают очень редкие слова (в целях экономии памяти) \n",
    "- убирают очень очень частые слова (в целях повышения интерпретируемости тем)\n",
    "\n",
    "Мы уберем только частые слова."
   ]
  },
  {
   "cell_type": "code",
   "execution_count": 212,
   "metadata": {},
   "outputs": [],
   "source": [
    "import copy\n",
    "dictionary2 = copy.deepcopy(dictionary)"
   ]
  },
  {
   "cell_type": "markdown",
   "metadata": {},
   "source": [
    "__Задание 2.__ У объекта ```dictionary2``` есть переменная ```dfs``` — это словарь, ключами которого являются ```id``` токена, а элементами — число раз, сколько слово встретилось во всей коллекции.\n",
    "\n",
    "Сохраните в отдельный список ингредиенты, которые встретились в коллекции больше **4000 раз.** Вызовите метод словаря ```filter_tokens```, подав в качестве первого аргумента полученный список популярных ингредиентов. Вычислите две величины: ```dict_size_before``` и ```dict_size_after``` — размер словаря до и после фильтрации.\n",
    "\n",
    "Затем, используя новый словарь, создайте новый корпус документов, ```corpus2```, по аналогии с тем, как это сделано в начале ноутбука. Вычислите две величины: ```corpus_size_before``` и ```corpus_size_after``` — суммарное количество ингредиентов в корпусе (для каждого документа вычислите число различных ингредиентов в нем и просуммируйте по всем документам) до и после фильтрации.\n",
    "\n",
    "Передайте величины ```dict_size_before, dict_size_after, corpus_size_before, corpus_size_after``` в функцию ```save_answers2``` и загрузите сгенерированный файл в форму."
   ]
  },
  {
   "cell_type": "code",
   "execution_count": 213,
   "metadata": {},
   "outputs": [
    {
     "data": {
      "text/plain": [
       "[3, 5, 15]"
      ]
     },
     "execution_count": 213,
     "metadata": {},
     "output_type": "execute_result"
    }
   ],
   "source": [
    "# Отберем самые частые слова (больше 4к раз)\n",
    "too_freq_tokens = []\n",
    "for token, token_count in dictionary2.dfs.items():\n",
    "    if token_count > 4000:\n",
    "        too_freq_tokens.append(token)\n",
    "        \n",
    "too_freq_tokens[:3]"
   ]
  },
  {
   "cell_type": "code",
   "execution_count": 214,
   "metadata": {},
   "outputs": [
    {
     "name": "stdout",
     "output_type": "stream",
     "text": [
      "Dict Size Before Cleaning:  6714\n",
      "Dict Size After Cleaning:  6702\n"
     ]
    }
   ],
   "source": [
    "# Взглянем на размеры словарей до и после фильтрации\n",
    "dict_size_before = len(dictionary2)\n",
    "print('Dict Size Before Cleaning: ', dict_size_before)\n",
    "\n",
    "dictionary2.filter_tokens(bad_ids = too_freq_tokens)\n",
    "dict_size_after = len(dictionary2)\n",
    "print('Dict Size After Cleaning: ', dict_size_after)"
   ]
  },
  {
   "cell_type": "code",
   "execution_count": 215,
   "metadata": {},
   "outputs": [
    {
     "name": "stdout",
     "output_type": "stream",
     "text": [
      "Corpus Size Before Cleaning:  39774\n",
      "Corpus Size After Cleaning:  39774\n"
     ]
    }
   ],
   "source": [
    "# Число документов не изменилось, а вот число слов (ингридиентов) должно теперь быть меньше\n",
    "# Убедимся, что число документов не изменилось\n",
    "corpus_size_before = len(corpus)\n",
    "print('Corpus Size Before Cleaning: ', corpus_size_before)\n",
    "\n",
    "corpus2 = [dictionary2.doc2bow(text) for text in texts] \n",
    "corpus_size_after = len(corpus2)\n",
    "print('Corpus Size After Cleaning: ', corpus_size_after)"
   ]
  },
  {
   "cell_type": "code",
   "execution_count": 216,
   "metadata": {},
   "outputs": [
    {
     "name": "stdout",
     "output_type": "stream",
     "text": [
      "Number of Ingredients (Original Corpus):  428249\n",
      "Number of Ingredients (Reduced Corpus):  343665\n"
     ]
    }
   ],
   "source": [
    "# Сравним число слов (ингридиентов) в каждом документе для 2-х наших корпусов\n",
    "corpus_size_before = 0\n",
    "for ingredients in corpus:\n",
    "    corpus_size_before += len(ingredients)\n",
    "    \n",
    "corpus_size_after = 0\n",
    "for ingredients in corpus2:\n",
    "    corpus_size_after += len(ingredients)\n",
    "\n",
    "print('Number of Ingredients (Original Corpus): ', corpus_size_before)\n",
    "print('Number of Ingredients (Reduced Corpus): ', corpus_size_after)"
   ]
  },
  {
   "cell_type": "code",
   "execution_count": 217,
   "metadata": {},
   "outputs": [],
   "source": [
    "# Сохраняем результаты\n",
    "def save_answers2(dict_size_before, dict_size_after, corpus_size_before, corpus_size_after):\n",
    "    with open(\"recipes_LDA_task2.txt\", \"w\") as fout:\n",
    "        fout.write(\" \".join([str(el) for el in [dict_size_before, dict_size_after, corpus_size_before, corpus_size_after]]))\n",
    "        \n",
    "save_answers2(dict_size_before, dict_size_after, corpus_size_before, corpus_size_after)"
   ]
  },
  {
   "cell_type": "markdown",
   "metadata": {},
   "source": [
    "### Сравнение когерентностей\n",
    "__Задание 3.__ Постройте еще одну модель по корпусу ```corpus2``` и словарю ```dictionary2```, остальные параметры оставьте такими же, как при первом построении модели. Сохраните новую модель в другую переменную (не перезаписывайте предыдущую модель). Не забудьте про фиксирование ```seed!```\n",
    "\n",
    "Затем воспользуйтесь методом ```top_topics``` модели, чтобы вычислить ее когерентность. Передайте в качестве аргумента соответствующий модели корпус. Метод вернет список кортежей (топ токенов, когерентность), отсортированных по убыванию последней. Вычислите среднюю по всем темам когерентность для каждой из двух моделей и передайте в функцию ```save_answers3``` "
   ]
  },
  {
   "cell_type": "code",
   "execution_count": 218,
   "metadata": {},
   "outputs": [
    {
     "name": "stdout",
     "output_type": "stream",
     "text": [
      "Wall time: 25.1 s\n"
     ]
    }
   ],
   "source": [
    "%%time\n",
    "# Обучаем еще одну модель для усеченных корпуса и словаря\n",
    "np.random.seed(76543)\n",
    "\n",
    "lda_model_2 = models.LdaMulticore(corpus2, id2word=dictionary2, num_topics=40, passes=5, workers=4)"
   ]
  },
  {
   "cell_type": "code",
   "execution_count": 221,
   "metadata": {},
   "outputs": [
    {
     "name": "stdout",
     "output_type": "stream",
     "text": [
      "Mean Coherence (Model 1):  -3.769582895990088\n",
      "Mean Coherence (Model 2):  -5.840896726456025\n"
     ]
    }
   ],
   "source": [
    "# Рассчитываем когерентности для 2-х моделей\n",
    "coherences_model_1 = lda_model.top_topics(corpus=corpus)\n",
    "coherences_model_2 = lda_model_2.top_topics(corpus=corpus2)\n",
    "\n",
    "# Cредняя по всем темам когерентность\n",
    "mean_coherence_model_1 = np.mean([ topic[1] for topic in coherences_model_1 ])\n",
    "mean_coherence_model_2 = np.mean([ topic[1] for topic in coherences_model_2 ])\n",
    "\n",
    "print('Mean Coherence (Model 1): ', mean_coherence_model_1)\n",
    "print('Mean Coherence (Model 2): ', mean_coherence_model_2)"
   ]
  },
  {
   "cell_type": "code",
   "execution_count": 222,
   "metadata": {},
   "outputs": [],
   "source": [
    "# Сохраняем результаты\n",
    "def save_answers3(coherence, coherence2):\n",
    "    with open(\"recipes_LDA_task3.txt\", \"w\") as file:\n",
    "        file.write(\" \".join([\"%3f\"%el for el in [coherence, coherence2]]))\n",
    "    \n",
    "save_answers3(mean_coherence_model_1,mean_coherence_model_2)  "
   ]
  },
  {
   "cell_type": "markdown",
   "metadata": {},
   "source": [
    "Считается, что когерентность хорошо соотносится с человеческими оценками интерпретируемости тем. Поэтому на больших текстовых коллекциях когерентность обычно повышается, если убрать фоновую лексику. Однако в нашем случае этого не произошло. \n",
    "\n",
    "### Изучение влияния гиперпараметра alpha\n",
    "\n",
    "В этом разделе мы будем работать со второй моделью, то есть той, которая построена по сокращенному корпусу. \n",
    "\n",
    "Пока что мы посмотрели только на матрицу темы-слова, теперь давайте посмотрим на матрицу темы-документы. Выведите темы для нулевого (или любого другого) документа из корпуса, воспользовавшись методом ```get_document_topics``` второй модели:"
   ]
  },
  {
   "cell_type": "code",
   "execution_count": 230,
   "metadata": {},
   "outputs": [
    {
     "data": {
      "text/plain": [
       "['milk']"
      ]
     },
     "execution_count": 230,
     "metadata": {},
     "output_type": "execute_result"
    }
   ],
   "source": [
    "# Выведем темы для документов (создадим функцию для удобного вывода темы)\n",
    "def show_documet_topics(doc_indx, corpus, dictionary, model, min_p = None):\n",
    "    return [ dictionary[indx] for indx, _ in model.get_document_topics(corpus[doc_indx], minimum_probability = min_p)]\n",
    "\n",
    "show_documet_topics(doc_indx=0, corpus=corpus2, dictionary=dictionary2, model=lda_model_2)"
   ]
  },
  {
   "cell_type": "markdown",
   "metadata": {},
   "source": [
    "Также выведите содержимое переменной ```.alpha``` второй модели:"
   ]
  },
  {
   "cell_type": "code",
   "execution_count": 231,
   "metadata": {},
   "outputs": [
    {
     "data": {
      "text/plain": [
       "array([0.025, 0.025, 0.025, 0.025, 0.025, 0.025, 0.025, 0.025, 0.025,\n",
       "       0.025, 0.025, 0.025, 0.025, 0.025, 0.025, 0.025, 0.025, 0.025,\n",
       "       0.025, 0.025, 0.025, 0.025, 0.025, 0.025, 0.025, 0.025, 0.025,\n",
       "       0.025, 0.025, 0.025, 0.025, 0.025, 0.025, 0.025, 0.025, 0.025,\n",
       "       0.025, 0.025, 0.025, 0.025], dtype=float32)"
      ]
     },
     "execution_count": 231,
     "metadata": {},
     "output_type": "execute_result"
    }
   ],
   "source": [
    "lda_model_2.alpha"
   ]
  },
  {
   "cell_type": "markdown",
   "metadata": {},
   "source": [
    "У вас должно получиться, что документ характеризуется небольшим числом тем. Попробуем поменять гиперпараметр ```alpha```, задающий априорное распределение Дирихле для распределений тем в документах\n",
    "\n",
    "__Задание 4.__ Обучите третью модель: используйте сокращенный корпус (corpus2 и dictionary2) и установите параметр ```alpha=1, passes=5```. Не забудьте про фиксацию **seed!**\n",
    "\n",
    "Выведите темы новой модели для нулевого документа; должно получиться, что распределение над множеством тем практически равномерное. Чтобы убедиться в том, что во второй модели документы описываются гораздо более разреженными распределениями, чем в третьей, посчитайте суммарное количество элементов, **превосходящих 0.01**, в матрицах темы-документы обеих моделей. Другими словами, запросите темы  модели **для каждого документа** с параметром ```minimum_probability=0.01``` и просуммируйте число элементов в получаемых массивах. Передайте две суммы (сначала для модели с ```alpha``` по умолчанию, затем для модели в ```alpha=1```) в функцию ```save_answers4```"
   ]
  },
  {
   "cell_type": "code",
   "execution_count": 227,
   "metadata": {},
   "outputs": [
    {
     "name": "stdout",
     "output_type": "stream",
     "text": [
      "Wall time: 13.4 s\n"
     ]
    }
   ],
   "source": [
    "%%time\n",
    "# Обучим 3-ю модель\n",
    "np.random.seed(76543)\n",
    "\n",
    "lda_model_3 = models.LdaMulticore(corpus2, id2word=dictionary2, num_topics=40, passes=5, alpha=1, workers=4)"
   ]
  },
  {
   "cell_type": "code",
   "execution_count": 255,
   "metadata": {},
   "outputs": [
    {
     "name": "stdout",
     "output_type": "stream",
     "text": [
      "Number of Topics For All Documents (Default Alpha):  121310\n",
      "Number of Topics For All Documents (Alpha = 1):  1590960\n"
     ]
    }
   ],
   "source": [
    "# Cчитаем число тем по всем документам для 2-х моделей с alpha='simmetric' и alpha=1\n",
    "num_of_elm_m2 = 0\n",
    "num_of_elm_m3 = 0\n",
    "for i in range(len(corpus2)):\n",
    "    num_of_elm_m2 += len(show_documet_topics(doc_indx=i, corpus=corpus2, dictionary=dictionary2, model=lda_model_2, min_p=0.01))\n",
    "    num_of_elm_m3 += len(show_documet_topics(doc_indx=i, corpus=corpus2, dictionary=dictionary2, model=lda_model_3, min_p=0.01))\n",
    "    \n",
    "print('Number of Topics For All Documents (Default Alpha): ', num_of_elm_m2)\n",
    "print('Number of Topics For All Documents (Alpha = 1): ', num_of_elm_m3)"
   ]
  },
  {
   "cell_type": "code",
   "execution_count": 257,
   "metadata": {},
   "outputs": [],
   "source": [
    "def save_answers4(count_model2, count_model3):\n",
    "    with open(\"recipes_LDA_task4.txt\", \"w\") as file:\n",
    "        file.write(\" \".join([str(el) for el in [count_model2, count_model3]]))\n",
    "        \n",
    "save_answers4(num_of_elm_m2, num_of_elm_m3)"
   ]
  },
  {
   "cell_type": "markdown",
   "metadata": {},
   "source": [
    "Таким образом, гиперпараметр __alpha__ влияет на разреженность распределений тем в документах. Аналогично гиперпараметр __eta__ влияет на разреженность распределений слов в темах.\n",
    "\n",
    "### LDA как способ понижения размерности\n",
    "Иногда, распределения над темами, найденные с помощью LDA, добавляют в матрицу объекты-признаки как дополнительные, семантические, признаки, и это может улучшить качество решения задачи. Для простоты давайте просто обучим **классификатор рецептов на кухни** на признаках, полученных из LDA, и измерим точность (accuracy).\n",
    "\n",
    "__Задание 5.__ Используйте модель, построенную по сокращенной выборке с ```alpha``` по умолчанию (вторую модель). Составьте матрицу $\\Theta = p(t|d)$ вероятностей тем в документах; вы можете использовать тот же метод ```get_document_topics```, а также вектор правильных ответов y (в том же порядке, в котором рецепты идут в переменной recipes). Создайте объект RandomForestClassifier со 100 деревьями, с помощью функции ```cross_val_score``` вычислите среднюю ```accuracy``` по трем фолдам (перемешивать данные не нужно) и передайте в функцию ```save_answers5```"
   ]
  },
  {
   "cell_type": "code",
   "execution_count": 334,
   "metadata": {},
   "outputs": [],
   "source": [
    "from sklearn.ensemble import RandomForestClassifier\n",
    "from sklearn.model_selection import cross_val_score\n",
    "import pandas as pd\n",
    "import matplotlib.pyplot as plt\n",
    "import seaborn as sns\n",
    "import warnings\n",
    "\n",
    "sns.set_style('darkgrid')\n",
    "warnings.filterwarnings(\"ignore\")"
   ]
  },
  {
   "cell_type": "code",
   "execution_count": 270,
   "metadata": {},
   "outputs": [],
   "source": [
    "# Необходимо составить матрицу признаков из вероятностей тем в документах\n",
    "# Т.е. для каждого документа список тем и их вероятности\n",
    "def build_main_matrix(model, docs):\n",
    "    main_matrix = {}\n",
    "    for doc_indx, doc in enumerate(docs):\n",
    "        main_matrix[doc_indx] = {}\n",
    "        topics = model.get_document_topics(doc)\n",
    "        for topic in topics:\n",
    "            main_matrix[doc_indx][topic[0]] = topic[1]\n",
    "            \n",
    "    return main_matrix\n",
    "\n",
    "# Создаем матрицу\n",
    "main_matrix = build_main_matrix(lda_model_2, docs=corpus2)"
   ]
  },
  {
   "cell_type": "markdown",
   "metadata": {},
   "source": [
    "Далее необходимо создать матрицу признаков. Полученная матрица при преобразовании в DataFrame получит в столбцах индексы документав, а в строках тему. Это неверно, нам нужно наоборот. Для этого необходимо транспонировать матрицу, чтобы индексы имели номера документов, а столбцы(признаки) вероятность темы, при этом возникнут пропуски которые необходимо будет заполнить нулями."
   ]
  },
  {
   "cell_type": "code",
   "execution_count": 284,
   "metadata": {},
   "outputs": [
    {
     "data": {
      "text/html": [
       "<div>\n",
       "<style scoped>\n",
       "    .dataframe tbody tr th:only-of-type {\n",
       "        vertical-align: middle;\n",
       "    }\n",
       "\n",
       "    .dataframe tbody tr th {\n",
       "        vertical-align: top;\n",
       "    }\n",
       "\n",
       "    .dataframe thead th {\n",
       "        text-align: right;\n",
       "    }\n",
       "</style>\n",
       "<table border=\"1\" class=\"dataframe\">\n",
       "  <thead>\n",
       "    <tr style=\"text-align: right;\">\n",
       "      <th></th>\n",
       "      <th>10</th>\n",
       "      <th>1</th>\n",
       "      <th>3</th>\n",
       "      <th>12</th>\n",
       "      <th>29</th>\n",
       "      <th>5</th>\n",
       "      <th>11</th>\n",
       "      <th>22</th>\n",
       "      <th>26</th>\n",
       "      <th>0</th>\n",
       "      <th>...</th>\n",
       "      <th>30</th>\n",
       "      <th>31</th>\n",
       "      <th>32</th>\n",
       "      <th>33</th>\n",
       "      <th>34</th>\n",
       "      <th>35</th>\n",
       "      <th>36</th>\n",
       "      <th>37</th>\n",
       "      <th>38</th>\n",
       "      <th>39</th>\n",
       "    </tr>\n",
       "  </thead>\n",
       "  <tbody>\n",
       "    <tr>\n",
       "      <th>0</th>\n",
       "      <td>0.878119</td>\n",
       "      <td>0.000000</td>\n",
       "      <td>0.000000</td>\n",
       "      <td>0.000000</td>\n",
       "      <td>0.000000</td>\n",
       "      <td>0.000000</td>\n",
       "      <td>0.000000</td>\n",
       "      <td>0.000000</td>\n",
       "      <td>0.000000</td>\n",
       "      <td>0.000000</td>\n",
       "      <td>...</td>\n",
       "      <td>0.000000</td>\n",
       "      <td>0.000000</td>\n",
       "      <td>0.000000</td>\n",
       "      <td>0.000000</td>\n",
       "      <td>0.000000</td>\n",
       "      <td>0.000000</td>\n",
       "      <td>0.000000</td>\n",
       "      <td>0.000000</td>\n",
       "      <td>0.000000</td>\n",
       "      <td>0.000000</td>\n",
       "    </tr>\n",
       "    <tr>\n",
       "      <th>1</th>\n",
       "      <td>0.000000</td>\n",
       "      <td>0.157331</td>\n",
       "      <td>0.427860</td>\n",
       "      <td>0.131784</td>\n",
       "      <td>0.183021</td>\n",
       "      <td>0.000000</td>\n",
       "      <td>0.000000</td>\n",
       "      <td>0.000000</td>\n",
       "      <td>0.000000</td>\n",
       "      <td>0.000000</td>\n",
       "      <td>...</td>\n",
       "      <td>0.000000</td>\n",
       "      <td>0.000000</td>\n",
       "      <td>0.000000</td>\n",
       "      <td>0.000000</td>\n",
       "      <td>0.000000</td>\n",
       "      <td>0.000000</td>\n",
       "      <td>0.000000</td>\n",
       "      <td>0.000000</td>\n",
       "      <td>0.000000</td>\n",
       "      <td>0.000000</td>\n",
       "    </tr>\n",
       "    <tr>\n",
       "      <th>2</th>\n",
       "      <td>0.000000</td>\n",
       "      <td>0.000000</td>\n",
       "      <td>0.092123</td>\n",
       "      <td>0.000000</td>\n",
       "      <td>0.000000</td>\n",
       "      <td>0.397954</td>\n",
       "      <td>0.131871</td>\n",
       "      <td>0.184033</td>\n",
       "      <td>0.106504</td>\n",
       "      <td>0.000000</td>\n",
       "      <td>...</td>\n",
       "      <td>0.000000</td>\n",
       "      <td>0.000000</td>\n",
       "      <td>0.000000</td>\n",
       "      <td>0.000000</td>\n",
       "      <td>0.000000</td>\n",
       "      <td>0.000000</td>\n",
       "      <td>0.000000</td>\n",
       "      <td>0.000000</td>\n",
       "      <td>0.000000</td>\n",
       "      <td>0.000000</td>\n",
       "    </tr>\n",
       "    <tr>\n",
       "      <th>3</th>\n",
       "      <td>0.012501</td>\n",
       "      <td>0.012501</td>\n",
       "      <td>0.012501</td>\n",
       "      <td>0.012501</td>\n",
       "      <td>0.012501</td>\n",
       "      <td>0.012501</td>\n",
       "      <td>0.012501</td>\n",
       "      <td>0.012501</td>\n",
       "      <td>0.012501</td>\n",
       "      <td>0.012501</td>\n",
       "      <td>...</td>\n",
       "      <td>0.012501</td>\n",
       "      <td>0.012501</td>\n",
       "      <td>0.012501</td>\n",
       "      <td>0.012501</td>\n",
       "      <td>0.012501</td>\n",
       "      <td>0.012501</td>\n",
       "      <td>0.012501</td>\n",
       "      <td>0.012501</td>\n",
       "      <td>0.012501</td>\n",
       "      <td>0.012501</td>\n",
       "    </tr>\n",
       "    <tr>\n",
       "      <th>4</th>\n",
       "      <td>0.000000</td>\n",
       "      <td>0.102899</td>\n",
       "      <td>0.000000</td>\n",
       "      <td>0.000000</td>\n",
       "      <td>0.000000</td>\n",
       "      <td>0.000000</td>\n",
       "      <td>0.000000</td>\n",
       "      <td>0.000000</td>\n",
       "      <td>0.426141</td>\n",
       "      <td>0.000000</td>\n",
       "      <td>...</td>\n",
       "      <td>0.000000</td>\n",
       "      <td>0.000000</td>\n",
       "      <td>0.104677</td>\n",
       "      <td>0.000000</td>\n",
       "      <td>0.000000</td>\n",
       "      <td>0.000000</td>\n",
       "      <td>0.000000</td>\n",
       "      <td>0.000000</td>\n",
       "      <td>0.000000</td>\n",
       "      <td>0.000000</td>\n",
       "    </tr>\n",
       "    <tr>\n",
       "      <th>...</th>\n",
       "      <td>...</td>\n",
       "      <td>...</td>\n",
       "      <td>...</td>\n",
       "      <td>...</td>\n",
       "      <td>...</td>\n",
       "      <td>...</td>\n",
       "      <td>...</td>\n",
       "      <td>...</td>\n",
       "      <td>...</td>\n",
       "      <td>...</td>\n",
       "      <td>...</td>\n",
       "      <td>...</td>\n",
       "      <td>...</td>\n",
       "      <td>...</td>\n",
       "      <td>...</td>\n",
       "      <td>...</td>\n",
       "      <td>...</td>\n",
       "      <td>...</td>\n",
       "      <td>...</td>\n",
       "      <td>...</td>\n",
       "      <td>...</td>\n",
       "    </tr>\n",
       "    <tr>\n",
       "      <th>39769</th>\n",
       "      <td>0.000000</td>\n",
       "      <td>0.000000</td>\n",
       "      <td>0.000000</td>\n",
       "      <td>0.462986</td>\n",
       "      <td>0.000000</td>\n",
       "      <td>0.000000</td>\n",
       "      <td>0.000000</td>\n",
       "      <td>0.000000</td>\n",
       "      <td>0.000000</td>\n",
       "      <td>0.000000</td>\n",
       "      <td>...</td>\n",
       "      <td>0.000000</td>\n",
       "      <td>0.000000</td>\n",
       "      <td>0.000000</td>\n",
       "      <td>0.000000</td>\n",
       "      <td>0.000000</td>\n",
       "      <td>0.000000</td>\n",
       "      <td>0.000000</td>\n",
       "      <td>0.000000</td>\n",
       "      <td>0.000000</td>\n",
       "      <td>0.000000</td>\n",
       "    </tr>\n",
       "    <tr>\n",
       "      <th>39770</th>\n",
       "      <td>0.000000</td>\n",
       "      <td>0.000000</td>\n",
       "      <td>0.000000</td>\n",
       "      <td>0.000000</td>\n",
       "      <td>0.000000</td>\n",
       "      <td>0.000000</td>\n",
       "      <td>0.132952</td>\n",
       "      <td>0.000000</td>\n",
       "      <td>0.000000</td>\n",
       "      <td>0.000000</td>\n",
       "      <td>...</td>\n",
       "      <td>0.000000</td>\n",
       "      <td>0.134714</td>\n",
       "      <td>0.000000</td>\n",
       "      <td>0.000000</td>\n",
       "      <td>0.000000</td>\n",
       "      <td>0.000000</td>\n",
       "      <td>0.000000</td>\n",
       "      <td>0.000000</td>\n",
       "      <td>0.000000</td>\n",
       "      <td>0.000000</td>\n",
       "    </tr>\n",
       "    <tr>\n",
       "      <th>39771</th>\n",
       "      <td>0.000000</td>\n",
       "      <td>0.428764</td>\n",
       "      <td>0.000000</td>\n",
       "      <td>0.325406</td>\n",
       "      <td>0.000000</td>\n",
       "      <td>0.000000</td>\n",
       "      <td>0.000000</td>\n",
       "      <td>0.000000</td>\n",
       "      <td>0.000000</td>\n",
       "      <td>0.000000</td>\n",
       "      <td>...</td>\n",
       "      <td>0.000000</td>\n",
       "      <td>0.000000</td>\n",
       "      <td>0.000000</td>\n",
       "      <td>0.000000</td>\n",
       "      <td>0.000000</td>\n",
       "      <td>0.000000</td>\n",
       "      <td>0.000000</td>\n",
       "      <td>0.000000</td>\n",
       "      <td>0.000000</td>\n",
       "      <td>0.000000</td>\n",
       "    </tr>\n",
       "    <tr>\n",
       "      <th>39772</th>\n",
       "      <td>0.000000</td>\n",
       "      <td>0.000000</td>\n",
       "      <td>0.000000</td>\n",
       "      <td>0.000000</td>\n",
       "      <td>0.000000</td>\n",
       "      <td>0.000000</td>\n",
       "      <td>0.000000</td>\n",
       "      <td>0.000000</td>\n",
       "      <td>0.000000</td>\n",
       "      <td>0.000000</td>\n",
       "      <td>...</td>\n",
       "      <td>0.000000</td>\n",
       "      <td>0.000000</td>\n",
       "      <td>0.000000</td>\n",
       "      <td>0.054516</td>\n",
       "      <td>0.000000</td>\n",
       "      <td>0.000000</td>\n",
       "      <td>0.000000</td>\n",
       "      <td>0.000000</td>\n",
       "      <td>0.000000</td>\n",
       "      <td>0.000000</td>\n",
       "    </tr>\n",
       "    <tr>\n",
       "      <th>39773</th>\n",
       "      <td>0.000000</td>\n",
       "      <td>0.000000</td>\n",
       "      <td>0.000000</td>\n",
       "      <td>0.113065</td>\n",
       "      <td>0.000000</td>\n",
       "      <td>0.000000</td>\n",
       "      <td>0.000000</td>\n",
       "      <td>0.000000</td>\n",
       "      <td>0.000000</td>\n",
       "      <td>0.000000</td>\n",
       "      <td>...</td>\n",
       "      <td>0.518426</td>\n",
       "      <td>0.000000</td>\n",
       "      <td>0.000000</td>\n",
       "      <td>0.265729</td>\n",
       "      <td>0.000000</td>\n",
       "      <td>0.000000</td>\n",
       "      <td>0.000000</td>\n",
       "      <td>0.000000</td>\n",
       "      <td>0.000000</td>\n",
       "      <td>0.000000</td>\n",
       "    </tr>\n",
       "  </tbody>\n",
       "</table>\n",
       "<p>39774 rows × 40 columns</p>\n",
       "</div>"
      ],
      "text/plain": [
       "             10        1         3         12        29        5         11  \\\n",
       "0      0.878119  0.000000  0.000000  0.000000  0.000000  0.000000  0.000000   \n",
       "1      0.000000  0.157331  0.427860  0.131784  0.183021  0.000000  0.000000   \n",
       "2      0.000000  0.000000  0.092123  0.000000  0.000000  0.397954  0.131871   \n",
       "3      0.012501  0.012501  0.012501  0.012501  0.012501  0.012501  0.012501   \n",
       "4      0.000000  0.102899  0.000000  0.000000  0.000000  0.000000  0.000000   \n",
       "...         ...       ...       ...       ...       ...       ...       ...   \n",
       "39769  0.000000  0.000000  0.000000  0.462986  0.000000  0.000000  0.000000   \n",
       "39770  0.000000  0.000000  0.000000  0.000000  0.000000  0.000000  0.132952   \n",
       "39771  0.000000  0.428764  0.000000  0.325406  0.000000  0.000000  0.000000   \n",
       "39772  0.000000  0.000000  0.000000  0.000000  0.000000  0.000000  0.000000   \n",
       "39773  0.000000  0.000000  0.000000  0.113065  0.000000  0.000000  0.000000   \n",
       "\n",
       "             22        26        0   ...        30        31        32  \\\n",
       "0      0.000000  0.000000  0.000000  ...  0.000000  0.000000  0.000000   \n",
       "1      0.000000  0.000000  0.000000  ...  0.000000  0.000000  0.000000   \n",
       "2      0.184033  0.106504  0.000000  ...  0.000000  0.000000  0.000000   \n",
       "3      0.012501  0.012501  0.012501  ...  0.012501  0.012501  0.012501   \n",
       "4      0.000000  0.426141  0.000000  ...  0.000000  0.000000  0.104677   \n",
       "...         ...       ...       ...  ...       ...       ...       ...   \n",
       "39769  0.000000  0.000000  0.000000  ...  0.000000  0.000000  0.000000   \n",
       "39770  0.000000  0.000000  0.000000  ...  0.000000  0.134714  0.000000   \n",
       "39771  0.000000  0.000000  0.000000  ...  0.000000  0.000000  0.000000   \n",
       "39772  0.000000  0.000000  0.000000  ...  0.000000  0.000000  0.000000   \n",
       "39773  0.000000  0.000000  0.000000  ...  0.518426  0.000000  0.000000   \n",
       "\n",
       "             33        34        35        36        37        38        39  \n",
       "0      0.000000  0.000000  0.000000  0.000000  0.000000  0.000000  0.000000  \n",
       "1      0.000000  0.000000  0.000000  0.000000  0.000000  0.000000  0.000000  \n",
       "2      0.000000  0.000000  0.000000  0.000000  0.000000  0.000000  0.000000  \n",
       "3      0.012501  0.012501  0.012501  0.012501  0.012501  0.012501  0.012501  \n",
       "4      0.000000  0.000000  0.000000  0.000000  0.000000  0.000000  0.000000  \n",
       "...         ...       ...       ...       ...       ...       ...       ...  \n",
       "39769  0.000000  0.000000  0.000000  0.000000  0.000000  0.000000  0.000000  \n",
       "39770  0.000000  0.000000  0.000000  0.000000  0.000000  0.000000  0.000000  \n",
       "39771  0.000000  0.000000  0.000000  0.000000  0.000000  0.000000  0.000000  \n",
       "39772  0.054516  0.000000  0.000000  0.000000  0.000000  0.000000  0.000000  \n",
       "39773  0.265729  0.000000  0.000000  0.000000  0.000000  0.000000  0.000000  \n",
       "\n",
       "[39774 rows x 40 columns]"
      ]
     },
     "execution_count": 284,
     "metadata": {},
     "output_type": "execute_result"
    }
   ],
   "source": [
    "# Создаем матрциу признаков х \n",
    "x = pd.DataFrame.from_dict(main_matrix).T.fillna(0)\n",
    "x"
   ]
  },
  {
   "cell_type": "markdown",
   "metadata": {},
   "source": [
    "Видно, что полученная матрица разреженна."
   ]
  },
  {
   "cell_type": "code",
   "execution_count": 323,
   "metadata": {},
   "outputs": [
    {
     "data": {
      "image/png": "[encoded data removed]",
      "text/plain": [
       "<Figure size 1440x720 with 1 Axes>"
      ]
     },
     "metadata": {},
     "output_type": "display_data"
    }
   ],
   "source": [
    "# Сформируем вектор ответов y и взглянем на баланс классов\n",
    "y = np.array([recipe['cuisine'] for recipe in recipes])\n",
    "\n",
    "plt.figure(figsize = (20, 10))\n",
    "plt.title('Class Balance')\n",
    "sns.countplot(y);"
   ]
  },
  {
   "cell_type": "markdown",
   "metadata": {},
   "source": [
    "Теперь все готово. Мы имеем матрицу признаков распределения вероятностей тем в документе и целевую переменную тип кухни. Теперь попробуем по теме предсказывать кухню"
   ]
  },
  {
   "cell_type": "code",
   "execution_count": 294,
   "metadata": {},
   "outputs": [
    {
     "data": {
      "text/plain": [
       "((39774, 40), (39774,))"
      ]
     },
     "execution_count": 294,
     "metadata": {},
     "output_type": "execute_result"
    }
   ],
   "source": [
    "# Убедимся, что размерности совпадают\n",
    "x.shape, y.shape"
   ]
  },
  {
   "cell_type": "code",
   "execution_count": 298,
   "metadata": {},
   "outputs": [
    {
     "name": "stdout",
     "output_type": "stream",
     "text": [
      "Mean Score:  0.5379644994217327\n"
     ]
    }
   ],
   "source": [
    "rm_forest_model = RandomForestClassifier(n_estimators=100, n_jobs=-1)\n",
    "\n",
    "score = cross_val_score(rm_forest_model, x, y, cv=3, scoring='accuracy')\n",
    "print('Mean Score: ', score.mean())"
   ]
  },
  {
   "cell_type": "markdown",
   "metadata": {},
   "source": [
    "Видно, что классификатор не очень справляется. Чуть лучше генератора случайных чисел или монетки. Однако, это всеравно неплохой показатель, учитывая такое большое количество классов. Вы можете попроовать обучать RandomForest на исходной матрице частот слов, имеющей значительно большую размерность, и увидеть, что accuracy увеличивается на 10–15%. Таким образом, LDA собрал не всю, но достаточно большую часть информации из выборки, в матрице низкого ранга."
   ]
  },
  {
   "cell_type": "code",
   "execution_count": 324,
   "metadata": {},
   "outputs": [],
   "source": [
    "# Сохраним результаты\n",
    "def save_answers5(accuracy):\n",
    "     with open(\"recipes_LDA_task5.txt\", \"w\") as file:\n",
    "        file.write(str(accuracy))\n",
    "        \n",
    "save_answers5(score.mean())"
   ]
  },
  {
   "cell_type": "markdown",
   "metadata": {},
   "source": [
    "### LDA — вероятностная модель\n",
    "Матричное разложение, использующееся в LDA, интерпретируется как следующий процесс генерации документов.\n",
    "\n",
    "Для документа $d$ длины $n_d$:\n",
    "1. Из априорного распределения Дирихле с параметром alpha сгенерировать распределение над множеством тем: $\\theta_d \\sim Dirichlet(\\alpha)$\n",
    "1. Для каждого слова $w = 1, \\dots, n_d$:\n",
    "    1. Сгенерировать тему из дискретного распределения $t \\sim \\theta_{d}$\n",
    "    1. Сгенерировать слово из дискретного распределения $w \\sim \\phi_{t}$.\n",
    "    \n",
    "Подробнее об этом в [Википедии](https://en.wikipedia.org/wiki/Latent_Dirichlet_allocation).\n",
    "\n",
    "В контексте нашей задачи получается, что, используя данный генеративный процесс, можно создавать новые рецепты. Вы можете передать в функцию модель и число ингредиентов и сгенерировать рецепт :)"
   ]
  },
  {
   "cell_type": "code",
   "execution_count": 330,
   "metadata": {},
   "outputs": [],
   "source": [
    "def generate_recipe(model, num_ingredients):\n",
    "    theta = np.random.dirichlet(model.alpha)\n",
    "    for i in range(num_ingredients):\n",
    "        t = np.random.choice(np.arange(model.num_topics), p=theta)\n",
    "        topic = model.show_topic(t, topn=model.num_terms)\n",
    "        topic_distr = [x[1] for x in topic]\n",
    "        terms = [x[0] for x in topic]\n",
    "        w = np.random.choice(terms, p=topic_distr)\n",
    "        print(w)"
   ]
  },
  {
   "cell_type": "markdown",
   "metadata": {},
   "source": [
    "### Интерпретация построенной модели\n",
    "Вы можете рассмотреть топы ингредиентов каждой темы. Большиснтво тем сами по себе похожи на рецепты; в некоторых собираются продукты одного вида, например, свежие фрукты или разные виды сыра.\n",
    "\n",
    "Попробуем эмпирически соотнести наши темы с национальными кухнями (cuisine). Построим матрицу $A$ размера темы $x$ кухни, ее элементы $a_{tc}$ — суммы $p(t|d)$ по всем документам $d$, которые отнесены к кухне $c$. Нормируем матрицу на частоты рецептов по разным кухням, чтобы избежать дисбаланса между кухнями. Следующая функция получает на вход объект модели, объект корпуса и исходные данные и возвращает нормированную матрицу $A$. Ее удобно визуализировать с помощью seaborn."
   ]
  },
  {
   "cell_type": "code",
   "execution_count": 342,
   "metadata": {},
   "outputs": [],
   "source": [
    "def compute_topic_cuisine_matrix(model, corpus, recipes):\n",
    "    # составляем вектор целевых признаков\n",
    "    targets = list(set([recipe[\"cuisine\"] for recipe in recipes]))\n",
    "    # составляем матрицу\n",
    "    tc_matrix = pd.DataFrame(data=np.zeros((model.num_topics, len(targets))), columns=targets)\n",
    "    for recipe, bow in zip(recipes, corpus):\n",
    "        recipe_topic = model.get_document_topics(bow)\n",
    "        for t, prob in recipe_topic:\n",
    "            tc_matrix[recipe[\"cuisine\"]][t] += prob\n",
    "    # нормируем матрицу\n",
    "    target_sums = pd.DataFrame(data=np.zeros((1, len(targets))), columns=targets)\n",
    "    for recipe in recipes:\n",
    "        target_sums[recipe[\"cuisine\"]] += 1\n",
    "    return pd.DataFrame(tc_matrix.values/target_sums.values, columns=tc_matrix.columns)"
   ]
  },
  {
   "cell_type": "code",
   "execution_count": 343,
   "metadata": {},
   "outputs": [],
   "source": [
    "def plot_matrix(tc_matrix):\n",
    "    plt.figure(figsize=(10, 10))\n",
    "    sns.heatmap(tc_matrix, square=True)"
   ]
  },
  {
   "cell_type": "code",
   "execution_count": 344,
   "metadata": {},
   "outputs": [
    {
     "data": {
      "image/png": "[encoded data removed]",
      "text/plain": [
       "<Figure size 720x720 with 2 Axes>"
      ]
     },
     "metadata": {},
     "output_type": "display_data"
    }
   ],
   "source": [
    "# Визуализируйте матрицу\n",
    "plot_matrix(compute_topic_cuisine_matrix(lda_model_2, corpus2, recipes))"
   ]
  },
  {
   "cell_type": "markdown",
   "metadata": {},
   "source": [
    "Чем темнее квадрат в матрице, тем больше связь этой темы с данной кухней. Мы видим, что у нас есть темы, которые связаны с несколькими кухнями. Такие темы показывают набор ингредиентов, которые популярны в кухнях нескольких народов, то есть указывают на схожесть кухонь этих народов. Некоторые темы распределены по всем кухням равномерно, они показывают наборы продуктов, которые часто используются в кулинарии всех стран. \n",
    "\n",
    "Жаль, что в датасете нет названий рецептов, иначе темы было бы проще интерпретировать...\n",
    "\n",
    "### Заключение\n",
    "В этом задании вы построили несколько моделей LDA, посмотрели, на что влияют гиперпараметры модели и как можно использовать построенную модель. "
   ]
  }
 ],
 "metadata": {
  "kernelspec": {
   "display_name": "Python 3",
   "language": "python",
   "name": "python3"
  },
  "language_info": {
   "codemirror_mode": {
    "name": "ipython",
    "version": 3
   },
   "file_extension": ".py",
   "mimetype": "text/x-python",
   "name": "python",
   "nbconvert_exporter": "python",
   "pygments_lexer": "ipython3",
   "version": "3.7.9"
  }
 },
 "nbformat": 4,
 "nbformat_minor": 1
}
