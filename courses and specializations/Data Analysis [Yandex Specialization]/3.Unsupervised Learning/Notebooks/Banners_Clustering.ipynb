{
 "cells": [
  {
   "cell_type": "code",
   "execution_count": 205,
   "metadata": {},
   "outputs": [],
   "source": [
    "import pandas as pd\n",
    "import numpy as np\n",
    "from matplotlib import pyplot as plt\n",
    "import seaborn as sns\n",
    "sns.set_theme(style=\"whitegrid\")"
   ]
  },
  {
   "cell_type": "code",
   "execution_count": 10,
   "metadata": {},
   "outputs": [
    {
     "name": "stdout",
     "output_type": "stream",
     "text": [
      "<class 'str'>\n"
     ]
    }
   ],
   "source": [
    "# Читаем данные из файла\n",
    "with open('checkins.dat') as file:\n",
    "    lines = file.readlines()"
   ]
  },
  {
   "cell_type": "code",
   "execution_count": 82,
   "metadata": {},
   "outputs": [],
   "source": [
    "# Чистим файл\n",
    "columns = [ column.strip() for column in lines[0].split('|') ]\n",
    "clean_lines = []\n",
    "for line in lines[2:]:\n",
    "    clean_line = [ element.strip() for element in line.split('|')]\n",
    "    clean_lines.append(clean_line)\n",
    "    \n",
    "# В конце 2 последних списка не нужны\n",
    "clean_lines = clean_lines[:-2]\n",
    "\n",
    "# Создаем DataFrame\n",
    "df = pd.DataFrame(clean_lines, columns = columns)\n",
    "df.head()\n",
    "\n",
    "# Сохраняем \n",
    "# df.to_csv('banners_clean.csv', index = False)\n",
    "\n",
    "# Читаем (после чтения появятся NaN values)\n",
    "# df = pd.read_csv('banners_clean.csv')\n",
    "\n",
    "# Удаляем строки с NaN values\n",
    "# df.dropna(inplace = True)\n",
    "\n",
    "# Сохраняем готовый чистый df\n",
    "# df.to_csv('banners_clean.csv', index = False)"
   ]
  },
  {
   "cell_type": "code",
   "execution_count": 114,
   "metadata": {},
   "outputs": [],
   "source": [
    "# Итоговый DataFrame\n",
    "data = pd.read_csv('banners_clean.csv')"
   ]
  },
  {
   "cell_type": "markdown",
   "metadata": {},
   "source": [
    "С помощью pandas построим DataFrame и убедимся, что все ```396634``` строки с координатами считаны успешно."
   ]
  },
  {
   "cell_type": "code",
   "execution_count": 116,
   "metadata": {},
   "outputs": [
    {
     "data": {
      "text/plain": [
       "(396634, 6)"
      ]
     },
     "execution_count": 116,
     "metadata": {},
     "output_type": "execute_result"
    }
   ],
   "source": [
    "data.shape"
   ]
  },
  {
   "cell_type": "markdown",
   "metadata": {},
   "source": [
    "Теперь необходимо кластеризовать данные координаты, чтобы выявить центры скоплений туристов. Поскольку баннеры имеют сравнительно небольшую площадь действия, нам нужен алгоритм, позволяющий ограничить размер кластера и не зависящий от количества кластеров.\n",
    "\n",
    "Эта задача — хороший повод познакомиться с алгоритмом ```MeanShift```, который мы обошли стороной в основной части лекций. Его описание при желании можно посмотреть в ```sklearn user guide```, а чуть позже появится дополнительное видео с обзором этого и некоторых других алгоритмов кластеризации. Используйте ```MeanShift```, указав ```bandwidth=0.1```, что в переводе из градусов в метры колеблется примерно от 5 до 10 км в средних широтах.\n",
    "\n",
    "**Примечание:**\n",
    "\n",
    "На ```396634``` строках кластеризация будет работать долго. Быть очень терпеливым не возбраняется — результат от этого только улучшится. Но для того, чтобы сдать задание, понадобится сабсет из первых 100 тысяч строк. Это компромисс между качеством и затраченным временем. Обучение алгоритма на всём датасете занимает около часа, а на 100 тыс. строк — примерно 2 минуты, однако этого достаточно для получения корректных результатов."
   ]
  },
  {
   "cell_type": "code",
   "execution_count": 119,
   "metadata": {},
   "outputs": [
    {
     "data": {
      "text/html": [
       "<div>\n",
       "<style scoped>\n",
       "    .dataframe tbody tr th:only-of-type {\n",
       "        vertical-align: middle;\n",
       "    }\n",
       "\n",
       "    .dataframe tbody tr th {\n",
       "        vertical-align: top;\n",
       "    }\n",
       "\n",
       "    .dataframe thead th {\n",
       "        text-align: right;\n",
       "    }\n",
       "</style>\n",
       "<table border=\"1\" class=\"dataframe\">\n",
       "  <thead>\n",
       "    <tr style=\"text-align: right;\">\n",
       "      <th></th>\n",
       "      <th>id</th>\n",
       "      <th>user_id</th>\n",
       "      <th>venue_id</th>\n",
       "      <th>latitude</th>\n",
       "      <th>longitude</th>\n",
       "      <th>created_at</th>\n",
       "    </tr>\n",
       "  </thead>\n",
       "  <tbody>\n",
       "    <tr>\n",
       "      <th>0</th>\n",
       "      <td>984222</td>\n",
       "      <td>15824</td>\n",
       "      <td>5222</td>\n",
       "      <td>38.895112</td>\n",
       "      <td>-77.036366</td>\n",
       "      <td>2012-04-21 17:43:47</td>\n",
       "    </tr>\n",
       "    <tr>\n",
       "      <th>1</th>\n",
       "      <td>984234</td>\n",
       "      <td>44652</td>\n",
       "      <td>5222</td>\n",
       "      <td>33.800745</td>\n",
       "      <td>-84.410520</td>\n",
       "      <td>2012-04-21 17:43:43</td>\n",
       "    </tr>\n",
       "    <tr>\n",
       "      <th>2</th>\n",
       "      <td>984291</td>\n",
       "      <td>105054</td>\n",
       "      <td>5222</td>\n",
       "      <td>45.523452</td>\n",
       "      <td>-122.676207</td>\n",
       "      <td>2012-04-21 17:39:22</td>\n",
       "    </tr>\n",
       "    <tr>\n",
       "      <th>3</th>\n",
       "      <td>984318</td>\n",
       "      <td>2146539</td>\n",
       "      <td>5222</td>\n",
       "      <td>40.764462</td>\n",
       "      <td>-111.904565</td>\n",
       "      <td>2012-04-21 17:35:46</td>\n",
       "    </tr>\n",
       "    <tr>\n",
       "      <th>4</th>\n",
       "      <td>984232</td>\n",
       "      <td>93870</td>\n",
       "      <td>380645</td>\n",
       "      <td>33.448377</td>\n",
       "      <td>-112.074037</td>\n",
       "      <td>2012-04-21 17:38:18</td>\n",
       "    </tr>\n",
       "    <tr>\n",
       "      <th>...</th>\n",
       "      <td>...</td>\n",
       "      <td>...</td>\n",
       "      <td>...</td>\n",
       "      <td>...</td>\n",
       "      <td>...</td>\n",
       "      <td>...</td>\n",
       "    </tr>\n",
       "    <tr>\n",
       "      <th>99995</th>\n",
       "      <td>123888</td>\n",
       "      <td>1019078</td>\n",
       "      <td>1105563</td>\n",
       "      <td>33.575000</td>\n",
       "      <td>-117.725556</td>\n",
       "      <td>2011-12-11 05:38:19</td>\n",
       "    </tr>\n",
       "    <tr>\n",
       "      <th>99996</th>\n",
       "      <td>124366</td>\n",
       "      <td>771129</td>\n",
       "      <td>329847</td>\n",
       "      <td>37.629349</td>\n",
       "      <td>-122.400087</td>\n",
       "      <td>2011-12-11 04:55:34</td>\n",
       "    </tr>\n",
       "    <tr>\n",
       "      <th>99997</th>\n",
       "      <td>125556</td>\n",
       "      <td>804990</td>\n",
       "      <td>254046</td>\n",
       "      <td>29.762884</td>\n",
       "      <td>-95.383061</td>\n",
       "      <td>2011-12-11 06:54:20</td>\n",
       "    </tr>\n",
       "    <tr>\n",
       "      <th>99998</th>\n",
       "      <td>127250</td>\n",
       "      <td>526214</td>\n",
       "      <td>34473</td>\n",
       "      <td>32.802955</td>\n",
       "      <td>-96.769923</td>\n",
       "      <td>2011-12-11 10:05:38</td>\n",
       "    </tr>\n",
       "    <tr>\n",
       "      <th>99999</th>\n",
       "      <td>127284</td>\n",
       "      <td>290973</td>\n",
       "      <td>280656</td>\n",
       "      <td>37.774929</td>\n",
       "      <td>-122.419415</td>\n",
       "      <td>2011-12-11 08:24:40</td>\n",
       "    </tr>\n",
       "  </tbody>\n",
       "</table>\n",
       "<p>100000 rows × 6 columns</p>\n",
       "</div>"
      ],
      "text/plain": [
       "           id  user_id  venue_id   latitude   longitude           created_at\n",
       "0      984222    15824      5222  38.895112  -77.036366  2012-04-21 17:43:47\n",
       "1      984234    44652      5222  33.800745  -84.410520  2012-04-21 17:43:43\n",
       "2      984291   105054      5222  45.523452 -122.676207  2012-04-21 17:39:22\n",
       "3      984318  2146539      5222  40.764462 -111.904565  2012-04-21 17:35:46\n",
       "4      984232    93870    380645  33.448377 -112.074037  2012-04-21 17:38:18\n",
       "...       ...      ...       ...        ...         ...                  ...\n",
       "99995  123888  1019078   1105563  33.575000 -117.725556  2011-12-11 05:38:19\n",
       "99996  124366   771129    329847  37.629349 -122.400087  2011-12-11 04:55:34\n",
       "99997  125556   804990    254046  29.762884  -95.383061  2011-12-11 06:54:20\n",
       "99998  127250   526214     34473  32.802955  -96.769923  2011-12-11 10:05:38\n",
       "99999  127284   290973    280656  37.774929 -122.419415  2011-12-11 08:24:40\n",
       "\n",
       "[100000 rows x 6 columns]"
      ]
     },
     "execution_count": 119,
     "metadata": {},
     "output_type": "execute_result"
    }
   ],
   "source": [
    "# Отберем первые 100к строк\n",
    "n_rows = 100000\n",
    "data = data[:n_rows]\n",
    "data"
   ]
  },
  {
   "cell_type": "code",
   "execution_count": 122,
   "metadata": {},
   "outputs": [],
   "source": [
    "# Обучим MeanShift \n",
    "from sklearn.cluster import MeanShift\n",
    "\n",
    "# Отбираем координаты\n",
    "x = data[['latitude', 'longitude']].values\n",
    "\n",
    "# Кластеризируем\n",
    "clustering = MeanShift(bandwidth=0.1).fit(x)"
   ]
  },
  {
   "cell_type": "code",
   "execution_count": 167,
   "metadata": {},
   "outputs": [
    {
     "name": "stdout",
     "output_type": "stream",
     "text": [
      "All Found Clusters: 3231\n",
      "Number of Unique Clusters: 3231\n"
     ]
    }
   ],
   "source": [
    "# Посмотрим на центры кластеров \n",
    "clustering.cluster_centers_.shape\n",
    "print(f'All Found Clusters: {clustering.cluster_centers_.shape[0]}')\n",
    "\n",
    "# Принадлежности точке кластерам\n",
    "cluster_point = clustering.labels_\n",
    "n_clusters = np.unique(cluster_point).shape[0]\n",
    "print(f'Number of Unique Clusters: {n_clusters}')"
   ]
  },
  {
   "cell_type": "markdown",
   "metadata": {},
   "source": [
    "Было найдено ```3231``` кластеров или потенциальных мест скопления туристов\n",
    "\n",
    "При желании увидеть получившиеся результаты на карте можно передать центры получившихся кластеров в один из инструментов визуализации. Например, сайт ```mapcustomizer.com``` имеет функцию Bulk Entry, куда можно вставить центры полученных кластеров в формате: long lat\n",
    "\n",
    "Некоторые из получившихся кластеров содержат слишком мало точек — такие кластеры не интересны рекламодателям. Поэтому надо **определить, какие из кластеров содержат, скажем, больше 15 элементов.** Центры этих кластеров и являются оптимальными для размещения."
   ]
  },
  {
   "cell_type": "code",
   "execution_count": 215,
   "metadata": {},
   "outputs": [],
   "source": [
    "# Посмотрим сколько точке принадлежит каждому из кластерова\n",
    "values = pd.Series(cluster_point)\n",
    "\n",
    "# Найдем индексы кластеров в которых больше 15 элементов \n",
    "selected_clusters_indexes = values.value_counts()[values.value_counts() > 15] "
   ]
  },
  {
   "cell_type": "code",
   "execution_count": 219,
   "metadata": {},
   "outputs": [
    {
     "name": "stdout",
     "output_type": "stream",
     "text": [
      "Number of clusters with more than 15 observations: 592\n"
     ]
    },
    {
     "data": {
      "image/png": "[encoded data removed]",
      "text/plain": [
       "<Figure size 864x432 with 1 Axes>"
      ]
     },
     "metadata": {},
     "output_type": "display_data"
    }
   ],
   "source": [
    "# Нарисуем гистограмму по кластерам\n",
    "plt.figure(figsize = (12,6))\n",
    "sns.barplot(x = selected_clusters_indexes.index[:20], y = selected_clusters_indexes.values[:20])\n",
    "plt.ylabel('Number of Points')\n",
    "plt.xlabel('Cluster');\n",
    "print(f'Number of clusters with more than 15 observations: {len(selected_clusters_indexes)}')"
   ]
  },
  {
   "cell_type": "markdown",
   "metadata": {},
   "source": [
    "Как мы помним, 20 баннеров надо разместить близ офисов компании. Найдем на ```Google Maps``` по запросу ```Carnival Cruise Line``` адреса всех офисов:\n",
    "- ```Los Angeles:``` 33.751277, -118.188740\n",
    "- ```Miami:``` 25.867736, -80.324116\n",
    "- ```London:``` 51.503016, -0.075479\n",
    "- ```Amsterdam:``` 52.378894, 4.885084\n",
    "- ```Beijing:``` 39.366487, 117.036146\n",
    "- ```Sydney:``` -33.868457, 151.205134"
   ]
  },
  {
   "cell_type": "markdown",
   "metadata": {},
   "source": [
    "Осталось определить 20 ближайших к ним центров кластеров. Т.е. посчитать дистанцию до ближайшего офиса для каждой точки и выбрать 20 с наименьшим значением.\n",
    "\n",
    "Примечание: при подсчете расстояний и в кластеризации можно пренебречь тем, что Земля круглая, так как в точках, расположенных близко друг к другу погрешность мала, а в остальных точках значение достаточно велико.\n",
    "\n",
    "Для сдачи задания выберите из получившихся 20 центров тот, который наименее удален от ближайшего к нему офиса. Ответ в этом задании — широта и долгота этого центра, записанные через пробел."
   ]
  },
  {
   "cell_type": "code",
   "execution_count": 295,
   "metadata": {},
   "outputs": [
    {
     "name": "stdout",
     "output_type": "stream",
     "text": [
      "Самое минимальное расстояние между офисом 5 и кластером 397\n",
      "Расстояние: 0.007834758163107856\n",
      "\n",
      "Координаты ближайшего офиса: [-33.868457 151.205134]\n",
      "Координаты ближайшего кластера: [-33.86063043 151.20477593]\n"
     ]
    }
   ],
   "source": [
    "# Отбираем нужные центры кластеров\n",
    "selected_clusters_centers = clustering.cluster_centers_[selected_clusters_indexes.index]\n",
    "\n",
    "# Создаем массив координат всех офисов\n",
    "offices = np.array([[33.751277, -118.188740],[25.867736, -80.324116], [51.503016, -0.075479], [52.378894, 4.885084],\n",
    "                   [39.366487, 117.036146], [-33.868457, 151.205134]])\n",
    "\n",
    "# Функция для расчета расстояния\n",
    "def calculate_euclidean_distance(pnt_1, pnt_2):\n",
    "    return ((pnt_1[0] - pnt_2[0])**2 + (pnt_1[1] - pnt_2[1])**2)**0.5\n",
    "\n",
    "# Считаем расстояния между всеми офисами и всеми кластерами\n",
    "all_distances = {}\n",
    "# Делаем enumerate чтобы запомнить индекс офиса и индекс кластера\n",
    "for idx, office in enumerate(offices):\n",
    "    for cluster_idx, cluster_center in enumerate(selected_clusters_centers):\n",
    "        # Cладываем все расстояния\n",
    "        all_distances[f'{idx}_{cluster_idx}'] = calculate_euclidean_distance(office, cluster_center)\n",
    "        \n",
    "# Отбираем только значения расстояний и сортируем их\n",
    "sorted_distances = sorted(list(all_distances.values()))\n",
    "\n",
    "# Отбираем 20 самых минимальных расстояний\n",
    "top_20_min_dist = sorted_distances[:20]\n",
    "\n",
    "# Находим самое минимальное расстояние (т.е.самый близкий кластер к одному из 6 офисов)\n",
    "closest_cluster_dist = top_20_min_dist[0]\n",
    "\n",
    "# Теперь найдем сам офис и ближайший до него кластер, используя closest_cluster_dist\n",
    "# Для этого найдем индекс найденного минимального расстояния в списке из словоря расстояний all_distances\n",
    "min_dist_indx = list(all_distances.values()).index(closest_cluster_dist)\n",
    "\n",
    "# Найдем нужный нам кластер и офис в словаре, сипользуя найденный индекс\n",
    "res = list(all_distances.items())[min_dist_indx]\n",
    "found_office = res[0].split('_')[0]\n",
    "found_cluster = res[0].split('_')[1]\n",
    "print(f'Самое минимальное расстояние между офисом {found_office} и кластером {found_cluster}')\n",
    "print(f'Расстояние: {res[1]}')\n",
    "print()\n",
    "# Координаты\n",
    "print(f'Координаты ближайшего офиса: {offices[5]}')\n",
    "print(f'Координаты ближайшего кластера: {selected_clusters_centers[397]}')"
   ]
  }
 ],
 "metadata": {
  "kernelspec": {
   "display_name": "Python 3",
   "language": "python",
   "name": "python3"
  },
  "language_info": {
   "codemirror_mode": {
    "name": "ipython",
    "version": 3
   },
   "file_extension": ".py",
   "mimetype": "text/x-python",
   "name": "python",
   "nbconvert_exporter": "python",
   "pygments_lexer": "ipython3",
   "version": "3.7.9"
  }
 },
 "nbformat": 4,
 "nbformat_minor": 4
}
