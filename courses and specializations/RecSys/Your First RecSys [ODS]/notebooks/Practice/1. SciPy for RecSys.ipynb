{
 "cells": [
  {
   "cell_type": "markdown",
   "metadata": {},
   "source": [
    "### Pandas & SciPy for RecSys datasets"
   ]
  },
  {
   "cell_type": "code",
   "execution_count": 1,
   "metadata": {},
   "outputs": [],
   "source": [
    "import numpy as np \n",
    "import pandas as pd \n",
    "import scipy.sparse as sp"
   ]
  },
  {
   "cell_type": "code",
   "execution_count": 3,
   "metadata": {},
   "outputs": [
    {
     "data": {
      "text/html": [
       "<div>\n",
       "<style scoped>\n",
       "    .dataframe tbody tr th:only-of-type {\n",
       "        vertical-align: middle;\n",
       "    }\n",
       "\n",
       "    .dataframe tbody tr th {\n",
       "        vertical-align: top;\n",
       "    }\n",
       "\n",
       "    .dataframe thead th {\n",
       "        text-align: right;\n",
       "    }\n",
       "</style>\n",
       "<table border=\"1\" class=\"dataframe\">\n",
       "  <thead>\n",
       "    <tr style=\"text-align: right;\">\n",
       "      <th></th>\n",
       "      <th>user_id</th>\n",
       "      <th>item_id</th>\n",
       "      <th>progress</th>\n",
       "      <th>rating</th>\n",
       "      <th>start_date</th>\n",
       "    </tr>\n",
       "  </thead>\n",
       "  <tbody>\n",
       "    <tr>\n",
       "      <th>0</th>\n",
       "      <td>126706</td>\n",
       "      <td>14433</td>\n",
       "      <td>80</td>\n",
       "      <td>NaN</td>\n",
       "      <td>2018-01-01</td>\n",
       "    </tr>\n",
       "    <tr>\n",
       "      <th>1</th>\n",
       "      <td>127290</td>\n",
       "      <td>140952</td>\n",
       "      <td>58</td>\n",
       "      <td>NaN</td>\n",
       "      <td>2018-01-01</td>\n",
       "    </tr>\n",
       "    <tr>\n",
       "      <th>2</th>\n",
       "      <td>66991</td>\n",
       "      <td>198453</td>\n",
       "      <td>89</td>\n",
       "      <td>NaN</td>\n",
       "      <td>2018-01-01</td>\n",
       "    </tr>\n",
       "    <tr>\n",
       "      <th>3</th>\n",
       "      <td>46791</td>\n",
       "      <td>83486</td>\n",
       "      <td>23</td>\n",
       "      <td>5.0</td>\n",
       "      <td>2018-01-01</td>\n",
       "    </tr>\n",
       "    <tr>\n",
       "      <th>4</th>\n",
       "      <td>79313</td>\n",
       "      <td>188770</td>\n",
       "      <td>88</td>\n",
       "      <td>5.0</td>\n",
       "      <td>2018-01-01</td>\n",
       "    </tr>\n",
       "  </tbody>\n",
       "</table>\n",
       "</div>"
      ],
      "text/plain": [
       "   user_id  item_id  progress  rating start_date\n",
       "0   126706    14433        80     NaN 2018-01-01\n",
       "1   127290   140952        58     NaN 2018-01-01\n",
       "2    66991   198453        89     NaN 2018-01-01\n",
       "3    46791    83486        23     5.0 2018-01-01\n",
       "4    79313   188770        88     5.0 2018-01-01"
      ]
     },
     "execution_count": 3,
     "metadata": {},
     "output_type": "execute_result"
    }
   ],
   "source": [
    "data = pd.read_csv('interactions.csv', parse_dates=['start_date'])\n",
    "data.head()"
   ]
  },
  {
   "cell_type": "markdown",
   "metadata": {},
   "source": [
    "### Feature Description\n",
    "- `progress` - reading progress as a percentage\n",
    "- `rating` - book's rating provided by user (from 1 to 5, a lot of missing values)\n",
    "- `start_date` - date when the user started reading the book"
   ]
  },
  {
   "cell_type": "code",
   "execution_count": 4,
   "metadata": {},
   "outputs": [
    {
     "name": "stdout",
     "output_type": "stream",
     "text": [
      "N duplicates:  160\n"
     ]
    }
   ],
   "source": [
    "# Check duplicates\n",
    "is_duplicate = data.duplicated(subset=['user_id', 'item_id'],  keep=False)\n",
    "\n",
    "print('N duplicates: ', is_duplicate.sum())"
   ]
  },
  {
   "cell_type": "code",
   "execution_count": 5,
   "metadata": {},
   "outputs": [
    {
     "data": {
      "text/html": [
       "<div>\n",
       "<style scoped>\n",
       "    .dataframe tbody tr th:only-of-type {\n",
       "        vertical-align: middle;\n",
       "    }\n",
       "\n",
       "    .dataframe tbody tr th {\n",
       "        vertical-align: top;\n",
       "    }\n",
       "\n",
       "    .dataframe thead th {\n",
       "        text-align: right;\n",
       "    }\n",
       "</style>\n",
       "<table border=\"1\" class=\"dataframe\">\n",
       "  <thead>\n",
       "    <tr style=\"text-align: right;\">\n",
       "      <th></th>\n",
       "      <th>user_id</th>\n",
       "      <th>item_id</th>\n",
       "      <th>progress</th>\n",
       "      <th>rating</th>\n",
       "      <th>start_date</th>\n",
       "    </tr>\n",
       "  </thead>\n",
       "  <tbody>\n",
       "    <tr>\n",
       "      <th>18393</th>\n",
       "      <td>142896</td>\n",
       "      <td>219838</td>\n",
       "      <td>100</td>\n",
       "      <td>NaN</td>\n",
       "      <td>2018-01-09</td>\n",
       "    </tr>\n",
       "    <tr>\n",
       "      <th>293393</th>\n",
       "      <td>142896</td>\n",
       "      <td>219838</td>\n",
       "      <td>30</td>\n",
       "      <td>5.0</td>\n",
       "      <td>2018-05-22</td>\n",
       "    </tr>\n",
       "  </tbody>\n",
       "</table>\n",
       "</div>"
      ],
      "text/plain": [
       "        user_id  item_id  progress  rating start_date\n",
       "18393    142896   219838       100     NaN 2018-01-09\n",
       "293393   142896   219838        30     5.0 2018-05-22"
      ]
     },
     "execution_count": 5,
     "metadata": {},
     "output_type": "execute_result"
    }
   ],
   "source": [
    "dup_user_ids = data[is_duplicate]['user_id'].values\n",
    "\n",
    "# Let's have a look at duplicate\n",
    "data[is_duplicate][data[is_duplicate]['user_id'] == 142896]"
   ]
  },
  {
   "cell_type": "code",
   "execution_count": 6,
   "metadata": {},
   "outputs": [],
   "source": [
    "df_duplicates = data[is_duplicate].sort_values(by=['user_id', 'start_date'])\n",
    "df = data[~is_duplicate]"
   ]
  },
  {
   "cell_type": "code",
   "execution_count": 7,
   "metadata": {},
   "outputs": [],
   "source": [
    "# Fix duplicate DataFrame\n",
    "df_duplicates = df_duplicates.groupby(['user_id', 'item_id']).agg({\n",
    "    'progress': 'max',\n",
    "    'rating': 'max',\n",
    "    'start_date': 'min'\n",
    "})\n",
    "\n",
    "df = df.append(df_duplicates.reset_index(), ignore_index=True)"
   ]
  },
  {
   "cell_type": "code",
   "execution_count": 8,
   "metadata": {},
   "outputs": [
    {
     "data": {
      "text/plain": [
       "user_id       151600\n",
       "item_id        59599\n",
       "progress         101\n",
       "rating             5\n",
       "start_date       730\n",
       "dtype: int64"
      ]
     },
     "execution_count": 8,
     "metadata": {},
     "output_type": "execute_result"
    }
   ],
   "source": [
    "# Look at unique valeus \n",
    "df.nunique()"
   ]
  },
  {
   "cell_type": "markdown",
   "metadata": {},
   "source": [
    "We have:\n",
    "- Roughly 150k unique users\n",
    "- Rougly 60k unique items\n",
    "\n",
    "But in the data we have `1.5m` rows much more than unique users, it's called `low cardinality`\n",
    "\n",
    "### Pandas \n",
    "Some types for memory optimization\n",
    "\n",
    "### CategoryDType"
   ]
  },
  {
   "cell_type": "code",
   "execution_count": 9,
   "metadata": {},
   "outputs": [],
   "source": [
    "def num_bytes_format(num_bytes, float_prec=4):\n",
    "    \"\"\"\n",
    "    Shows total df memory usage \n",
    "    \n",
    "    \"\"\"\n",
    "    units = ['bytes', 'Kb', 'Mb', 'Gb', 'Tb', 'Pb', 'Eb']\n",
    "    for unit in units[:-1]:\n",
    "        if abs(num_bytes) < 1000:\n",
    "            return f'{num_bytes:.{float_prec}f} {unit}'\n",
    "        num_bytes /= 1000\n",
    "    return f'{num_bytes:.4f} {units[-1]}'"
   ]
  },
  {
   "cell_type": "code",
   "execution_count": 10,
   "metadata": {},
   "outputs": [
    {
     "name": "stdout",
     "output_type": "stream",
     "text": [
      "<class 'pandas.core.frame.DataFrame'>\n",
      "RangeIndex: 1532998 entries, 0 to 1532997\n",
      "Data columns (total 2 columns):\n",
      " #   Column   Non-Null Count    Dtype\n",
      "---  ------   --------------    -----\n",
      " 0   user_id  1532998 non-null  int64\n",
      " 1   item_id  1532998 non-null  int64\n",
      "dtypes: int64(2)\n",
      "memory usage: 23.4 MB\n"
     ]
    }
   ],
   "source": [
    "# Select only user-item logs \n",
    "user_item_df = df[['user_id', 'item_id']].copy()\n",
    "\n",
    "# Have a look at the current columns type \n",
    "user_item_df.info()"
   ]
  },
  {
   "cell_type": "markdown",
   "metadata": {},
   "source": [
    "Let's compare memory usage for different type of columns:\n",
    "- Int\n",
    "- String\n",
    "- Category"
   ]
  },
  {
   "cell_type": "code",
   "execution_count": 11,
   "metadata": {},
   "outputs": [],
   "source": [
    "num_bytes_ints = user_item_df.memory_usage(deep=True).sum()\n",
    "num_bytes_string = user_item_df.astype('string').memory_usage(deep=True).sum()\n",
    "num_bytes_cat = user_item_df.astype('category').memory_usage(deep=True).sum()"
   ]
  },
  {
   "cell_type": "code",
   "execution_count": 12,
   "metadata": {},
   "outputs": [
    {
     "name": "stdout",
     "output_type": "stream",
     "text": [
      "Int Column Types:  24.5281 Mb\n",
      "String Column Types:  191.5619 Mb\n",
      "Category Column Types:  21.8180 Mb\n"
     ]
    }
   ],
   "source": [
    "print('Int Column Types: ', num_bytes_format(num_bytes_ints))\n",
    "print('String Column Types: ', num_bytes_format(num_bytes_string))\n",
    "print('Category Column Types: ', num_bytes_format(num_bytes_cat))"
   ]
  },
  {
   "cell_type": "markdown",
   "metadata": {},
   "source": [
    "### IntegerDType\n",
    "This type allows columns having NaN values. Provides memory reduction as well"
   ]
  },
  {
   "cell_type": "code",
   "execution_count": 13,
   "metadata": {},
   "outputs": [],
   "source": [
    "ratings = df['rating'].copy()\n",
    "\n",
    "ratings_float32 = ratings.astype(np.float32).memory_usage(deep=True)\n",
    "ratings_int32 = ratings.astype(pd.Int32Dtype()).memory_usage(deep=True)\n",
    "ratings_int8 = ratings.astype(pd.Int8Dtype()).memory_usage(deep=True)"
   ]
  },
  {
   "cell_type": "code",
   "execution_count": 14,
   "metadata": {},
   "outputs": [
    {
     "name": "stdout",
     "output_type": "stream",
     "text": [
      "Float_64  Type:  12.2641 Mb\n",
      "Float_32 Type:  6.1321 Mb\n",
      "Int_32 Type:  7.6651 Mb\n",
      "Int_8 Type: 3.0661 Mb\n"
     ]
    }
   ],
   "source": [
    "print('Float_64  Type: ', num_bytes_format(ratings.memory_usage(deep=True)))\n",
    "print('Float_32 Type: ', num_bytes_format(ratings_float32))\n",
    "print('Int_32 Type: ', num_bytes_format(ratings_int32))\n",
    "print('Int_8 Type:', num_bytes_format(ratings_int8))"
   ]
  },
  {
   "cell_type": "markdown",
   "metadata": {},
   "source": [
    "### Sparse Type\n",
    "Sparse Type - a data type for dealing with sparse data\n",
    "\n",
    "The main idea - store only \"known values\", the rest values don't store. We fill them with a constant value and store only this single constant\n",
    "\n",
    "This type is created using:\n",
    "- `dtype`\n",
    "- `fill_value` - constant for missing data"
   ]
  },
  {
   "cell_type": "code",
   "execution_count": 22,
   "metadata": {},
   "outputs": [],
   "source": [
    "# Sparse Type Creation\n",
    "sparse_type = pd.SparseDtype(np.float32, np.nan)"
   ]
  },
  {
   "cell_type": "markdown",
   "metadata": {},
   "source": [
    "We have lots of missing values in `ratings` DataFrame. Let's convert it into `pd.SparseDtype`"
   ]
  },
  {
   "cell_type": "code",
   "execution_count": 19,
   "metadata": {},
   "outputs": [
    {
     "name": "stdout",
     "output_type": "stream",
     "text": [
      "N Missing:  1247643\n"
     ]
    }
   ],
   "source": [
    "print('N Missing: ', ratings.isna().sum())"
   ]
  },
  {
   "cell_type": "code",
   "execution_count": 26,
   "metadata": {},
   "outputs": [
    {
     "name": "stdout",
     "output_type": "stream",
     "text": [
      "Sparse Type: 2.2830 Mb\n"
     ]
    }
   ],
   "source": [
    "ratings_sparse = ratings.astype(sparse_type)\n",
    "print('Sparse Type:', num_bytes_format(ratings_sparse.memory_usage(deep=True)))"
   ]
  },
  {
   "cell_type": "markdown",
   "metadata": {},
   "source": [
    "### Sparse Matrix \n",
    "Stores only known values \n",
    "\n",
    "- `coo_matrix` - A sparse matrix in COOrdinate format\n",
    "- `csc_matrix` - Compressed Sparse Column matrix\n",
    "- `csr_matrix` - Compressed Sparse Row matrix\n",
    "- `bsr_matrix` - Block Sparse Row matrix\n",
    "- `dia_matrix` - Sparse matrix with DIAgonal storage\n",
    "- `dok_matrix` - Dictionary Of Keys based sparse matrix\n",
    "- `lil_matrix` - Row-based list of lists sparse matrix\n",
    "\n",
    "**Classes for Sparse Matrix Creation**\n",
    "- `coo_matrix`: (row, column, value)\n",
    "- `dok_matrix`: (dict - key:(row, column), value:value)\n",
    "- `lil_matrix`: list of lists\n",
    "\n",
    "**Optimized Classes for Matrix Storage and Manipulation**\n",
    "- `csr_matrix`\n",
    "- `csc_matrix`\n",
    "- `bsr_matrix`\n",
    "- `dia_matrix`\n",
    "\n",
    "**Most Commonly Used**\n",
    "\n",
    "`coo_matrix, csr_matrix and csc_matrix`"
   ]
  },
  {
   "cell_type": "code",
   "execution_count": 30,
   "metadata": {},
   "outputs": [
    {
     "data": {
      "text/plain": [
       "<5x6 sparse matrix of type '<class 'numpy.float64'>'\n",
       "\twith 6 stored elements in COOrdinate format>"
      ]
     },
     "execution_count": 30,
     "metadata": {},
     "output_type": "execute_result"
    }
   ],
   "source": [
    "# coo_matrix matrix creation\n",
    "rows_indxs = [1,  1, 0,  4,   2, 2]\n",
    "cols_indx = [0,  1, 0,  5,   3, 3]\n",
    "values = [-2, 7, 19, 1.0, 6, 8]\n",
    "\n",
    "coo = sp.coo_matrix((values, (rows, cols)))\n",
    "coo"
   ]
  },
  {
   "cell_type": "code",
   "execution_count": 31,
   "metadata": {},
   "outputs": [
    {
     "data": {
      "text/plain": [
       "matrix([[19.,  0.,  0.,  0.,  0.,  0.],\n",
       "        [-2.,  7.,  0.,  0.,  0.,  0.],\n",
       "        [ 0.,  0.,  0., 14.,  0.,  0.],\n",
       "        [ 0.,  0.,  0.,  0.,  0.,  0.],\n",
       "        [ 0.,  0.,  0.,  0.,  0.,  1.]])"
      ]
     },
     "execution_count": 31,
     "metadata": {},
     "output_type": "execute_result"
    }
   ],
   "source": [
    "coo.todense()"
   ]
  },
  {
   "cell_type": "code",
   "execution_count": 32,
   "metadata": {},
   "outputs": [
    {
     "data": {
      "text/plain": [
       "(array([1, 1, 0, 4, 2, 2], dtype=int32),\n",
       " array([0, 1, 0, 5, 3, 3], dtype=int32),\n",
       " array([-2.,  7., 19.,  1.,  6.,  8.]))"
      ]
     },
     "execution_count": 32,
     "metadata": {},
     "output_type": "execute_result"
    }
   ],
   "source": [
    "# Accessing rows, columns and values\n",
    "coo.row, coo.col, coo.data"
   ]
  },
  {
   "cell_type": "code",
   "execution_count": 33,
   "metadata": {},
   "outputs": [
    {
     "data": {
      "text/plain": [
       "<5x6 sparse matrix of type '<class 'numpy.float64'>'\n",
       "\twith 5 stored elements in Compressed Sparse Row format>"
      ]
     },
     "execution_count": 33,
     "metadata": {},
     "output_type": "execute_result"
    }
   ],
   "source": [
    "# csr_matrix/csc_matrix creation\n",
    "csr = coo.tocsr()\n",
    "csr"
   ]
  },
  {
   "cell_type": "code",
   "execution_count": 34,
   "metadata": {},
   "outputs": [
    {
     "data": {
      "text/plain": [
       "matrix([[19.,  0.,  0.,  0.,  0.,  0.],\n",
       "        [-2.,  7.,  0.,  0.,  0.,  0.],\n",
       "        [ 0.,  0.,  0., 14.,  0.,  0.],\n",
       "        [ 0.,  0.,  0.,  0.,  0.,  0.],\n",
       "        [ 0.,  0.,  0.,  0.,  0.,  1.]])"
      ]
     },
     "execution_count": 34,
     "metadata": {},
     "output_type": "execute_result"
    }
   ],
   "source": [
    "csr.todense()"
   ]
  },
  {
   "cell_type": "code",
   "execution_count": 35,
   "metadata": {},
   "outputs": [
    {
     "data": {
      "text/plain": [
       "(array([0, 1, 3, 4, 4, 5], dtype=int32),\n",
       " array([0, 0, 1, 3, 5], dtype=int32),\n",
       " array([19., -2.,  7., 14.,  1.]))"
      ]
     },
     "execution_count": 35,
     "metadata": {},
     "output_type": "execute_result"
    }
   ],
   "source": [
    "csr.indptr, csr.indices, csr.data"
   ]
  },
  {
   "cell_type": "markdown",
   "metadata": {},
   "source": [
    "### Matrix Creation from the Original DataFrame"
   ]
  },
  {
   "cell_type": "code",
   "execution_count": 37,
   "metadata": {},
   "outputs": [
    {
     "data": {
      "text/html": [
       "<div>\n",
       "<style scoped>\n",
       "    .dataframe tbody tr th:only-of-type {\n",
       "        vertical-align: middle;\n",
       "    }\n",
       "\n",
       "    .dataframe tbody tr th {\n",
       "        vertical-align: top;\n",
       "    }\n",
       "\n",
       "    .dataframe thead th {\n",
       "        text-align: right;\n",
       "    }\n",
       "</style>\n",
       "<table border=\"1\" class=\"dataframe\">\n",
       "  <thead>\n",
       "    <tr style=\"text-align: right;\">\n",
       "      <th></th>\n",
       "      <th>user_id</th>\n",
       "      <th>item_id</th>\n",
       "      <th>progress</th>\n",
       "      <th>rating</th>\n",
       "      <th>start_date</th>\n",
       "    </tr>\n",
       "  </thead>\n",
       "  <tbody>\n",
       "    <tr>\n",
       "      <th>0</th>\n",
       "      <td>126706</td>\n",
       "      <td>14433</td>\n",
       "      <td>80</td>\n",
       "      <td>NaN</td>\n",
       "      <td>2018-01-01</td>\n",
       "    </tr>\n",
       "    <tr>\n",
       "      <th>1</th>\n",
       "      <td>127290</td>\n",
       "      <td>140952</td>\n",
       "      <td>58</td>\n",
       "      <td>NaN</td>\n",
       "      <td>2018-01-01</td>\n",
       "    </tr>\n",
       "    <tr>\n",
       "      <th>2</th>\n",
       "      <td>66991</td>\n",
       "      <td>198453</td>\n",
       "      <td>89</td>\n",
       "      <td>NaN</td>\n",
       "      <td>2018-01-01</td>\n",
       "    </tr>\n",
       "    <tr>\n",
       "      <th>3</th>\n",
       "      <td>46791</td>\n",
       "      <td>83486</td>\n",
       "      <td>23</td>\n",
       "      <td>5.0</td>\n",
       "      <td>2018-01-01</td>\n",
       "    </tr>\n",
       "    <tr>\n",
       "      <th>4</th>\n",
       "      <td>79313</td>\n",
       "      <td>188770</td>\n",
       "      <td>88</td>\n",
       "      <td>5.0</td>\n",
       "      <td>2018-01-01</td>\n",
       "    </tr>\n",
       "  </tbody>\n",
       "</table>\n",
       "</div>"
      ],
      "text/plain": [
       "   user_id  item_id  progress  rating start_date\n",
       "0   126706    14433        80     NaN 2018-01-01\n",
       "1   127290   140952        58     NaN 2018-01-01\n",
       "2    66991   198453        89     NaN 2018-01-01\n",
       "3    46791    83486        23     5.0 2018-01-01\n",
       "4    79313   188770        88     5.0 2018-01-01"
      ]
     },
     "execution_count": 37,
     "metadata": {},
     "output_type": "execute_result"
    }
   ],
   "source": [
    "df.head()"
   ]
  },
  {
   "cell_type": "markdown",
   "metadata": {},
   "source": [
    "Let's enumerate unique IDs and Items"
   ]
  },
  {
   "cell_type": "code",
   "execution_count": 44,
   "metadata": {},
   "outputs": [],
   "source": [
    "# Users mapping\n",
    "unique_users_indxs = dict(enumerate(df['user_id'].unique()))\n",
    "unique_users_mapping = {v: k for k, v in unique_users_indxs.items()}"
   ]
  },
  {
   "cell_type": "code",
   "execution_count": 46,
   "metadata": {},
   "outputs": [],
   "source": [
    "# Items mapping\n",
    "unique_items_indxs = dict(enumerate(df['item_id'].unique()))\n",
    "unique_items_mapping = {v: k for k, v in unique_items_indxs.items()}"
   ]
  },
  {
   "cell_type": "code",
   "execution_count": 51,
   "metadata": {},
   "outputs": [
    {
     "name": "stdout",
     "output_type": "stream",
     "text": [
      "Rows N Missing:  0\n",
      "Columns N Missing:  0\n"
     ]
    }
   ],
   "source": [
    "# The main sparse mattrix creation\n",
    "rows = df['user_id'].map(unique_users_mapping.get)\n",
    "cols = df['item_id'].map(unique_items_mapping.get)\n",
    "\n",
    "print('Rows N Missing: ', rows.isna().sum())\n",
    "print('Columns N Missing: ', cols.isna().sum())"
   ]
  },
  {
   "cell_type": "code",
   "execution_count": 52,
   "metadata": {},
   "outputs": [],
   "source": [
    "matrix = sp.coo_matrix((\n",
    "    np.ones(df.shape[0], dtype=np.int8),\n",
    "    (rows, cols)\n",
    "))"
   ]
  },
  {
   "cell_type": "markdown",
   "metadata": {},
   "source": [
    "Obtained a matrix:\n",
    "- Rows - Users\n",
    "- Columns - Items\n",
    "- Values - Binary"
   ]
  },
  {
   "cell_type": "code",
   "execution_count": 59,
   "metadata": {},
   "outputs": [
    {
     "name": "stdout",
     "output_type": "stream",
     "text": [
      "Matrix Shape:  (151600, 59599)\n",
      "Memory Usage:  13.7970 Mb\n"
     ]
    }
   ],
   "source": [
    "print('Matrix Shape: ', matrix.shape)\n",
    "print('Memory Usage: ', num_bytes_format(matrix.data.nbytes + matrix.row.nbytes + matrix.col.nbytes))"
   ]
  },
  {
   "cell_type": "code",
   "execution_count": 60,
   "metadata": {},
   "outputs": [],
   "source": [
    "# Now, lets use the progress feature and create interaction values\n",
    "df['weight'] = ((df['progress'] + 1) / 101) * (2 ** df['rating'])\n",
    "df['weight'] = df['weight'].astype(np.float32)"
   ]
  },
  {
   "cell_type": "code",
   "execution_count": 62,
   "metadata": {},
   "outputs": [
    {
     "name": "stdout",
     "output_type": "stream",
     "text": [
      "Memory Usage:  18.3960 Mb\n"
     ]
    }
   ],
   "source": [
    "# Redefine the matrix\n",
    "matrix = sp.coo_matrix((\n",
    "    df['weight'],\n",
    "    (rows, cols)\n",
    "))\n",
    "\n",
    "print('Memory Usage: ', num_bytes_format(matrix.data.nbytes + matrix.row.nbytes + matrix.col.nbytes))"
   ]
  }
 ],
 "metadata": {
  "kernelspec": {
   "display_name": "Python 3",
   "language": "python",
   "name": "python3"
  },
  "language_info": {
   "codemirror_mode": {
    "name": "ipython",
    "version": 3
   },
   "file_extension": ".py",
   "mimetype": "text/x-python",
   "name": "python",
   "nbconvert_exporter": "python",
   "pygments_lexer": "ipython3",
   "version": "3.7.9"
  }
 },
 "nbformat": 4,
 "nbformat_minor": 4
}
