{
 "cells": [
  {
   "cell_type": "markdown",
   "id": "e0a27108-0cf3-498f-bfa1-49e871ad8753",
   "metadata": {},
   "source": [
    "### Metrics, Validation Strategies and Baselines"
   ]
  },
  {
   "cell_type": "code",
   "execution_count": 202,
   "id": "27b21496-6cfb-489f-942d-72def9e8d269",
   "metadata": {},
   "outputs": [],
   "source": [
    "import pandas as pd\n",
    "import numpy as np\n",
    "\n",
    "from itertools import islice, cycle\n",
    "from more_itertools import pairwise"
   ]
  },
  {
   "cell_type": "code",
   "execution_count": 191,
   "id": "db9eef3e-f258-4e98-8c99-7197617917ad",
   "metadata": {},
   "outputs": [
    {
     "name": "stdout",
     "output_type": "stream",
     "text": [
      "D:\\GIT_REPOES\\Courses-Cheat_Sheets\\Courses\\Your First RecSys [ODS]\\data\n"
     ]
    }
   ],
   "source": [
    "cd D:\\GIT_REPOES\\Courses-Cheat_Sheets\\Courses\\Your First RecSys [ODS]\\data"
   ]
  },
  {
   "cell_type": "code",
   "execution_count": 192,
   "id": "43268bbf-2654-412c-97aa-84c3539ffb51",
   "metadata": {},
   "outputs": [],
   "source": [
    "iteractions_df = pd.read_csv('interactions.csv', parse_dates=['start_date'])\n",
    "users_df = pd.read_csv('users.csv')\n",
    "items_df = pd.read_csv('items.csv')"
   ]
  },
  {
   "cell_type": "markdown",
   "id": "db3fac93-6994-4bb1-ba50-45f236ff3fe2",
   "metadata": {},
   "source": [
    "### Data Preprocessing\n",
    "`iteractions_df` DataFrame preprocessing\n",
    "\n",
    "**Interaction** - `user_id-item_id` log"
   ]
  },
  {
   "cell_type": "code",
   "execution_count": 99,
   "id": "f0b7b10c-a6ec-4de9-908b-2421de7b10aa",
   "metadata": {},
   "outputs": [
    {
     "data": {
      "text/html": [
       "<div>\n",
       "<style scoped>\n",
       "    .dataframe tbody tr th:only-of-type {\n",
       "        vertical-align: middle;\n",
       "    }\n",
       "\n",
       "    .dataframe tbody tr th {\n",
       "        vertical-align: top;\n",
       "    }\n",
       "\n",
       "    .dataframe thead th {\n",
       "        text-align: right;\n",
       "    }\n",
       "</style>\n",
       "<table border=\"1\" class=\"dataframe\">\n",
       "  <thead>\n",
       "    <tr style=\"text-align: right;\">\n",
       "      <th></th>\n",
       "      <th>user_id</th>\n",
       "      <th>item_id</th>\n",
       "      <th>progress</th>\n",
       "      <th>rating</th>\n",
       "      <th>start_date</th>\n",
       "    </tr>\n",
       "  </thead>\n",
       "  <tbody>\n",
       "    <tr>\n",
       "      <th>0</th>\n",
       "      <td>126706</td>\n",
       "      <td>14433</td>\n",
       "      <td>80</td>\n",
       "      <td>NaN</td>\n",
       "      <td>2018-01-01</td>\n",
       "    </tr>\n",
       "    <tr>\n",
       "      <th>1</th>\n",
       "      <td>127290</td>\n",
       "      <td>140952</td>\n",
       "      <td>58</td>\n",
       "      <td>NaN</td>\n",
       "      <td>2018-01-01</td>\n",
       "    </tr>\n",
       "    <tr>\n",
       "      <th>2</th>\n",
       "      <td>66991</td>\n",
       "      <td>198453</td>\n",
       "      <td>89</td>\n",
       "      <td>NaN</td>\n",
       "      <td>2018-01-01</td>\n",
       "    </tr>\n",
       "    <tr>\n",
       "      <th>3</th>\n",
       "      <td>46791</td>\n",
       "      <td>83486</td>\n",
       "      <td>23</td>\n",
       "      <td>5.0</td>\n",
       "      <td>2018-01-01</td>\n",
       "    </tr>\n",
       "    <tr>\n",
       "      <th>4</th>\n",
       "      <td>79313</td>\n",
       "      <td>188770</td>\n",
       "      <td>88</td>\n",
       "      <td>5.0</td>\n",
       "      <td>2018-01-01</td>\n",
       "    </tr>\n",
       "  </tbody>\n",
       "</table>\n",
       "</div>"
      ],
      "text/plain": [
       "   user_id  item_id  progress  rating start_date\n",
       "0   126706    14433        80     NaN 2018-01-01\n",
       "1   127290   140952        58     NaN 2018-01-01\n",
       "2    66991   198453        89     NaN 2018-01-01\n",
       "3    46791    83486        23     5.0 2018-01-01\n",
       "4    79313   188770        88     5.0 2018-01-01"
      ]
     },
     "execution_count": 99,
     "metadata": {},
     "output_type": "execute_result"
    }
   ],
   "source": [
    "iteractions_df.head()"
   ]
  },
  {
   "cell_type": "code",
   "execution_count": 80,
   "id": "b2088924-df60-4e0d-ae7a-d994206984f0",
   "metadata": {},
   "outputs": [],
   "source": [
    "duplicates = iteractions_df.duplicated(subset=['user_id', 'item_id'], keep=False)\n",
    "df_duplicates = iteractions_df[duplicates].sort_values(by=['user_id', 'start_date'])\n",
    "\n",
    "# Remove duplicates from iteractions DataFrame\n",
    "iteractions_df = iteractions_df[~duplicates]\n",
    "\n",
    "# Fix duplicates DataFrame\n",
    "df_duplicates = df_duplicates.groupby(['user_id', 'item_id']).agg({\n",
    "    'progress': 'max',\n",
    "    'rating': 'max',\n",
    "    'start_date': 'min'\n",
    "})\n",
    "\n",
    "iteractions_df = iteractions_df.append(df_duplicates.reset_index(), ignore_index=True)\n",
    "\n",
    "# Change Data types \n",
    "iteractions_df['progress'] = iteractions_df['progress'].astype(np.int8)\n",
    "iteractions_df['rating'] = iteractions_df['rating'].astype(pd.SparseDtype(np.float32, np.nan))"
   ]
  },
  {
   "cell_type": "markdown",
   "id": "e7ec8e56-35d0-4eca-ba91-98678de2e8af",
   "metadata": {},
   "source": [
    "`users_df` DataFrame preprocessing"
   ]
  },
  {
   "cell_type": "code",
   "execution_count": 84,
   "id": "5386fe13-7c64-4f2d-9bb0-641233ef3222",
   "metadata": {},
   "outputs": [
    {
     "data": {
      "text/html": [
       "<div>\n",
       "<style scoped>\n",
       "    .dataframe tbody tr th:only-of-type {\n",
       "        vertical-align: middle;\n",
       "    }\n",
       "\n",
       "    .dataframe tbody tr th {\n",
       "        vertical-align: top;\n",
       "    }\n",
       "\n",
       "    .dataframe thead th {\n",
       "        text-align: right;\n",
       "    }\n",
       "</style>\n",
       "<table border=\"1\" class=\"dataframe\">\n",
       "  <thead>\n",
       "    <tr style=\"text-align: right;\">\n",
       "      <th></th>\n",
       "      <th>user_id</th>\n",
       "      <th>age</th>\n",
       "      <th>sex</th>\n",
       "    </tr>\n",
       "  </thead>\n",
       "  <tbody>\n",
       "    <tr>\n",
       "      <th>0</th>\n",
       "      <td>1</td>\n",
       "      <td>45_54</td>\n",
       "      <td>NaN</td>\n",
       "    </tr>\n",
       "    <tr>\n",
       "      <th>1</th>\n",
       "      <td>2</td>\n",
       "      <td>18_24</td>\n",
       "      <td>0.0</td>\n",
       "    </tr>\n",
       "    <tr>\n",
       "      <th>2</th>\n",
       "      <td>3</td>\n",
       "      <td>65_inf</td>\n",
       "      <td>0.0</td>\n",
       "    </tr>\n",
       "    <tr>\n",
       "      <th>3</th>\n",
       "      <td>4</td>\n",
       "      <td>18_24</td>\n",
       "      <td>0.0</td>\n",
       "    </tr>\n",
       "    <tr>\n",
       "      <th>4</th>\n",
       "      <td>5</td>\n",
       "      <td>35_44</td>\n",
       "      <td>0.0</td>\n",
       "    </tr>\n",
       "  </tbody>\n",
       "</table>\n",
       "</div>"
      ],
      "text/plain": [
       "   user_id     age  sex\n",
       "0        1   45_54  NaN\n",
       "1        2   18_24  0.0\n",
       "2        3  65_inf  0.0\n",
       "3        4   18_24  0.0\n",
       "4        5   35_44  0.0"
      ]
     },
     "execution_count": 84,
     "metadata": {},
     "output_type": "execute_result"
    }
   ],
   "source": [
    "users_df.head()"
   ]
  },
  {
   "cell_type": "code",
   "execution_count": 85,
   "id": "24b891d3-dfd3-43fa-af0b-6c76d69dcf3e",
   "metadata": {},
   "outputs": [],
   "source": [
    "users_df['age'] = users_df['age'].astype('category')\n",
    "users_df['sex'] = users_df['sex'].astype(pd.SparseDtype(np.float32, np.nan))"
   ]
  },
  {
   "cell_type": "code",
   "execution_count": 100,
   "id": "4e9e74d2-4256-42a8-81ed-0ba2f2991fc0",
   "metadata": {},
   "outputs": [],
   "source": [
    "# N Unique users in Interactions and Features groups \n",
    "unique_users_interactions = set(iteractions_df['user_id'])\n",
    "unique_users_features = set(users_df['user_id'])\n",
    "\n",
    "# Split users \n",
    "users_interactions_features = unique_users_interactions.intersection(unique_users_features)\n",
    "users_only_interactions = unique_users_interactions.difference(unique_users_features)\n",
    "users_only_features = unique_users_features.difference(unique_users_interactions)\n",
    "\n",
    "n_total_users = len(users_interactions_features) + len(users_only_interactions) + len(users_only_features)"
   ]
  },
  {
   "cell_type": "code",
   "execution_count": 104,
   "id": "6e282dba-17be-4140-8c7b-1123117fc893",
   "metadata": {},
   "outputs": [
    {
     "name": "stdout",
     "output_type": "stream",
     "text": [
      "N Unique Users:  158811\n",
      "Users Fraction (Only Intercations): 0.10\n",
      "Users Fraction (Only Features): 0.05\n",
      "Users Fraction (Intercations and Features): 0.85\n"
     ]
    }
   ],
   "source": [
    "# Statistics for users\n",
    "print('N Unique Users: ', n_total_users)\n",
    "print(f'Users Fraction (Only Intercations): {len(unique_users_only_interactions)/n_total_users:.2f}') \n",
    "print(f'Users Fraction (Only Features): {len(unique_users_only_features)/n_total_users:.2f}')\n",
    "print(f'Users Fraction (Intercations and Features): {len(unique_users_interactions_features)/n_total_users:.2f}') "
   ]
  },
  {
   "cell_type": "markdown",
   "id": "d903810b-243a-4b1f-9d3c-a17b2ab181ce",
   "metadata": {},
   "source": [
    "`items` DataFrame preprocessing"
   ]
  },
  {
   "cell_type": "code",
   "execution_count": 105,
   "id": "9cabc9e3-5721-44c0-b8ff-ee7c447d6da5",
   "metadata": {},
   "outputs": [
    {
     "data": {
      "text/html": [
       "<div>\n",
       "<style scoped>\n",
       "    .dataframe tbody tr th:only-of-type {\n",
       "        vertical-align: middle;\n",
       "    }\n",
       "\n",
       "    .dataframe tbody tr th {\n",
       "        vertical-align: top;\n",
       "    }\n",
       "\n",
       "    .dataframe thead th {\n",
       "        text-align: right;\n",
       "    }\n",
       "</style>\n",
       "<table border=\"1\" class=\"dataframe\">\n",
       "  <thead>\n",
       "    <tr style=\"text-align: right;\">\n",
       "      <th></th>\n",
       "      <th>id</th>\n",
       "      <th>title</th>\n",
       "      <th>genres</th>\n",
       "      <th>authors</th>\n",
       "      <th>year</th>\n",
       "    </tr>\n",
       "  </thead>\n",
       "  <tbody>\n",
       "    <tr>\n",
       "      <th>0</th>\n",
       "      <td>128115</td>\n",
       "      <td>Ворон-челобитчик</td>\n",
       "      <td>Зарубежные детские книги,Сказки,Зарубежная кла...</td>\n",
       "      <td>Михаил Салтыков-Щедрин</td>\n",
       "      <td>1886</td>\n",
       "    </tr>\n",
       "    <tr>\n",
       "      <th>1</th>\n",
       "      <td>210979</td>\n",
       "      <td>Скрипка Ротшильда</td>\n",
       "      <td>Классическая проза,Литература 19 века,Русская ...</td>\n",
       "      <td>Антон Чехов</td>\n",
       "      <td>1894</td>\n",
       "    </tr>\n",
       "    <tr>\n",
       "      <th>2</th>\n",
       "      <td>95632</td>\n",
       "      <td>Испорченные дети</td>\n",
       "      <td>Зарубежная классика,Классическая проза,Литерат...</td>\n",
       "      <td>Михаил Салтыков-Щедрин</td>\n",
       "      <td>1869</td>\n",
       "    </tr>\n",
       "    <tr>\n",
       "      <th>3</th>\n",
       "      <td>247906</td>\n",
       "      <td>Странный человек</td>\n",
       "      <td>Пьесы и драматургия,Литература 19 века</td>\n",
       "      <td>Михаил Лермонтов</td>\n",
       "      <td>1831</td>\n",
       "    </tr>\n",
       "    <tr>\n",
       "      <th>4</th>\n",
       "      <td>294280</td>\n",
       "      <td>Господа ташкентцы</td>\n",
       "      <td>Зарубежная классика,Классическая проза,Литерат...</td>\n",
       "      <td>Михаил Салтыков-Щедрин</td>\n",
       "      <td>1873</td>\n",
       "    </tr>\n",
       "  </tbody>\n",
       "</table>\n",
       "</div>"
      ],
      "text/plain": [
       "       id              title  \\\n",
       "0  128115   Ворон-челобитчик   \n",
       "1  210979  Скрипка Ротшильда   \n",
       "2   95632   Испорченные дети   \n",
       "3  247906   Странный человек   \n",
       "4  294280  Господа ташкентцы   \n",
       "\n",
       "                                              genres                 authors  \\\n",
       "0  Зарубежные детские книги,Сказки,Зарубежная кла...  Михаил Салтыков-Щедрин   \n",
       "1  Классическая проза,Литература 19 века,Русская ...             Антон Чехов   \n",
       "2  Зарубежная классика,Классическая проза,Литерат...  Михаил Салтыков-Щедрин   \n",
       "3             Пьесы и драматургия,Литература 19 века        Михаил Лермонтов   \n",
       "4  Зарубежная классика,Классическая проза,Литерат...  Михаил Салтыков-Щедрин   \n",
       "\n",
       "   year  \n",
       "0  1886  \n",
       "1  1894  \n",
       "2  1869  \n",
       "3  1831  \n",
       "4  1873  "
      ]
     },
     "execution_count": 105,
     "metadata": {},
     "output_type": "execute_result"
    }
   ],
   "source": [
    "items_df.head()"
   ]
  },
  {
   "cell_type": "code",
   "execution_count": 106,
   "id": "bed59fb3-d349-4fa5-b833-43215559a488",
   "metadata": {},
   "outputs": [
    {
     "name": "stdout",
     "output_type": "stream",
     "text": [
      "<class 'pandas.core.frame.DataFrame'>\n",
      "RangeIndex: 59599 entries, 0 to 59598\n",
      "Data columns (total 5 columns):\n",
      " #   Column   Non-Null Count  Dtype \n",
      "---  ------   --------------  ----- \n",
      " 0   id       59599 non-null  int64 \n",
      " 1   title    59599 non-null  object\n",
      " 2   genres   59568 non-null  object\n",
      " 3   authors  52714 non-null  object\n",
      " 4   year     46720 non-null  object\n",
      "dtypes: int64(1), object(4)\n",
      "memory usage: 2.3+ MB\n"
     ]
    }
   ],
   "source": [
    "items_df.info()"
   ]
  },
  {
   "cell_type": "code",
   "execution_count": 107,
   "id": "5b341f99-bedf-4af5-b340-5eed77444cd7",
   "metadata": {},
   "outputs": [
    {
     "data": {
      "text/plain": [
       "1924-1941           1\n",
       "IX в. до н.э.       1\n",
       "1667                1\n",
       "1976, 2017          1\n",
       "1889-1899           1\n",
       "1995, 1999, 2004    1\n",
       "2004, 2005          1\n",
       "1878, 2018          1\n",
       "2003, 2006, 2011    1\n",
       "1967, 1969, 1982    1\n",
       "1887,1902           1\n",
       "1926,1967           1\n",
       "1520                1\n",
       "1937, 1938          1\n",
       "1597                1\n",
       "1967, 1968          1\n",
       "1973, 1975          1\n",
       "1000                1\n",
       "1804                1\n",
       "1931, 1929, 1942    1\n",
       "Name: year, dtype: int64"
      ]
     },
     "execution_count": 107,
     "metadata": {},
     "output_type": "execute_result"
    }
   ],
   "source": [
    "# Year feature has object....Why???\n",
    "items_df['year'].value_counts().tail(20)"
   ]
  },
  {
   "cell_type": "code",
   "execution_count": 108,
   "id": "d847b25d-5057-4224-be1a-ae33ffd2a9bb",
   "metadata": {},
   "outputs": [],
   "source": [
    "# Convert columns to Category type\n",
    "for col in ['genres', 'authors', 'year']:\n",
    "    items_df[col] = items_df[col].astype('category')"
   ]
  },
  {
   "cell_type": "code",
   "execution_count": 120,
   "id": "2708ad8e-4704-4b20-949f-6c4b041ede28",
   "metadata": {},
   "outputs": [],
   "source": [
    "unique_items_interactions = set(iteractions_df['item_id'])\n",
    "unique_items_features = set(items_df['id'])\n",
    "\n",
    "# Split items\n",
    "items_interactions_features = unique_items_interactions.intersection(unique_items_features)\n",
    "items_only_interactions = unique_items_interactions.difference(unique_items_features)\n",
    "items_only_features = unique_items_features.difference(unique_items_interactions)\n",
    "\n",
    "n_total_items = len(items_interactions_features) + len(items_only_interactions) + len(items_only_features)"
   ]
  },
  {
   "cell_type": "code",
   "execution_count": 121,
   "id": "86bc94f0-75d7-4bb7-9bcc-0686bdb0975b",
   "metadata": {},
   "outputs": [
    {
     "name": "stdout",
     "output_type": "stream",
     "text": [
      "N Unique Items:  59599\n",
      "Items Fraction (Only Intercations): 0.00\n",
      "Items Fraction (Only Features): 0.00\n",
      "items Fraction (Intercations and Features): 1.00\n"
     ]
    }
   ],
   "source": [
    "# Statistics for items\n",
    "print('N Unique Items: ', n_total_items)\n",
    "print(f'Items Fraction (Only Intercations): {len(items_only_interactions)/n_total_items:.2f}') \n",
    "print(f'Items Fraction (Only Features): {len(items_only_features)/n_total_items:.2f}')\n",
    "print(f'items Fraction (Intercations and Features): {len(items_interactions_features)/n_total_items:.2f}') "
   ]
  },
  {
   "cell_type": "markdown",
   "id": "cece0b90-ae58-4252-bb20-bc8bb24bc989",
   "metadata": {},
   "source": [
    "### Key Questions to Answer\n",
    "\n",
    "- What Do We Want from the Model\n",
    "    - Target value (rating/probability)\n",
    "    - Items Ranking (Films ranking)\n",
    "     \n",
    "- How a Model is Going to be Used?\n",
    "    - Batch retraining each day\n",
    "    - Online recommendations\n",
    "    \n",
    "- Hardware Limitations\n",
    "    - The less computational power have, the simplier model is \n",
    "\n",
    "- Task Peculiarities\n",
    "    - Can recommend items that have already been seen by a user?\n",
    "    - Cold-start problem. How many new users or items do we expect?\n",
    "    - How many interactions we have "
   ]
  },
  {
   "cell_type": "markdown",
   "id": "f24bb2e7-969d-4cb6-84f6-90b48ba7da40",
   "metadata": {},
   "source": [
    "### Metrics\n",
    "How a predictions from a recommended system can be described:\n",
    "- `user_id item_id value/probability`\n",
    "- `user_id item_id rank/position`\n",
    "\n",
    "The following types of metrics can be applied\n",
    "- Regression (MAE, RMSE ...)\n",
    "- Classification (Precision@K, Recall@K, ...)\n",
    "- Ranking (DCG@K, NDCG@K, ...)"
   ]
  },
  {
   "cell_type": "markdown",
   "id": "3804ec44-55d4-4406-9bd3-ef199cc8ce2f",
   "metadata": {},
   "source": [
    "### Regression Metrics\n",
    "These metrics describe how well a model predicts a continuous value but not how good the recommendation are"
   ]
  },
  {
   "cell_type": "code",
   "execution_count": 127,
   "id": "9f28d263-8a5b-4e50-92be-db33096e8016",
   "metadata": {},
   "outputs": [],
   "source": [
    "# let's consider an example\n",
    "df_test = pd.DataFrame({\n",
    "    'user_id': ['Max', 'Kate', 'Sasha', 'Max'],\n",
    "    'item_id': ['T-Shirt', 'Dress', 'Jeans', 'Watches'],\n",
    "    'value': [4, 5, 3, 5]\n",
    "})\n",
    "\n",
    "df_preds = pd.DataFrame({\n",
    "    'user_id': ['Max', 'Kate', 'Sasha', 'Max'],\n",
    "    'item_id': ['T-Shirt', 'Dress', 'Jeans', 'Watches'],\n",
    "    'value': [3.28, 3.5, 4.06, 4.73]\n",
    "})\n",
    "\n",
    "df_test = df_test.set_index(['user_id', 'item_id'])\n",
    "df_preds = df_preds.set_index(['user_id', 'item_id'])"
   ]
  },
  {
   "cell_type": "code",
   "execution_count": 129,
   "id": "bd819261-4ddf-4196-a3f3-b01455b37df9",
   "metadata": {},
   "outputs": [
    {
     "data": {
      "text/html": [
       "<div>\n",
       "<style scoped>\n",
       "    .dataframe tbody tr th:only-of-type {\n",
       "        vertical-align: middle;\n",
       "    }\n",
       "\n",
       "    .dataframe tbody tr th {\n",
       "        vertical-align: top;\n",
       "    }\n",
       "\n",
       "    .dataframe thead th {\n",
       "        text-align: right;\n",
       "    }\n",
       "</style>\n",
       "<table border=\"1\" class=\"dataframe\">\n",
       "  <thead>\n",
       "    <tr style=\"text-align: right;\">\n",
       "      <th></th>\n",
       "      <th></th>\n",
       "      <th>value_true</th>\n",
       "      <th>value_recs</th>\n",
       "    </tr>\n",
       "    <tr>\n",
       "      <th>user_id</th>\n",
       "      <th>item_id</th>\n",
       "      <th></th>\n",
       "      <th></th>\n",
       "    </tr>\n",
       "  </thead>\n",
       "  <tbody>\n",
       "    <tr>\n",
       "      <th>Max</th>\n",
       "      <th>T-Shirt</th>\n",
       "      <td>4</td>\n",
       "      <td>3.28</td>\n",
       "    </tr>\n",
       "    <tr>\n",
       "      <th>Kate</th>\n",
       "      <th>Dress</th>\n",
       "      <td>5</td>\n",
       "      <td>3.50</td>\n",
       "    </tr>\n",
       "    <tr>\n",
       "      <th>Sasha</th>\n",
       "      <th>Jeans</th>\n",
       "      <td>3</td>\n",
       "      <td>4.06</td>\n",
       "    </tr>\n",
       "    <tr>\n",
       "      <th>Max</th>\n",
       "      <th>Watches</th>\n",
       "      <td>5</td>\n",
       "      <td>4.73</td>\n",
       "    </tr>\n",
       "  </tbody>\n",
       "</table>\n",
       "</div>"
      ],
      "text/plain": [
       "                 value_true  value_recs\n",
       "user_id item_id                        \n",
       "Max     T-Shirt           4        3.28\n",
       "Kate    Dress             5        3.50\n",
       "Sasha   Jeans             3        4.06\n",
       "Max     Watches           5        4.73"
      ]
     },
     "execution_count": 129,
     "metadata": {},
     "output_type": "execute_result"
    }
   ],
   "source": [
    "df_merged = df_test.join(df_preds, how='left', lsuffix='_true', rsuffix='_recs')\n",
    "df_merged"
   ]
  },
  {
   "cell_type": "code",
   "execution_count": 130,
   "id": "5d44446d-b5b4-4b83-b634-711c8dc9fe3f",
   "metadata": {},
   "outputs": [
    {
     "data": {
      "text/html": [
       "<div>\n",
       "<style scoped>\n",
       "    .dataframe tbody tr th:only-of-type {\n",
       "        vertical-align: middle;\n",
       "    }\n",
       "\n",
       "    .dataframe tbody tr th {\n",
       "        vertical-align: top;\n",
       "    }\n",
       "\n",
       "    .dataframe thead th {\n",
       "        text-align: right;\n",
       "    }\n",
       "</style>\n",
       "<table border=\"1\" class=\"dataframe\">\n",
       "  <thead>\n",
       "    <tr style=\"text-align: right;\">\n",
       "      <th></th>\n",
       "      <th></th>\n",
       "      <th>value_true</th>\n",
       "      <th>value_recs</th>\n",
       "      <th>MAE</th>\n",
       "      <th>MSE</th>\n",
       "    </tr>\n",
       "    <tr>\n",
       "      <th>user_id</th>\n",
       "      <th>item_id</th>\n",
       "      <th></th>\n",
       "      <th></th>\n",
       "      <th></th>\n",
       "      <th></th>\n",
       "    </tr>\n",
       "  </thead>\n",
       "  <tbody>\n",
       "    <tr>\n",
       "      <th>Max</th>\n",
       "      <th>T-Shirt</th>\n",
       "      <td>4</td>\n",
       "      <td>3.28</td>\n",
       "      <td>0.72</td>\n",
       "      <td>0.5184</td>\n",
       "    </tr>\n",
       "    <tr>\n",
       "      <th>Kate</th>\n",
       "      <th>Dress</th>\n",
       "      <td>5</td>\n",
       "      <td>3.50</td>\n",
       "      <td>1.50</td>\n",
       "      <td>2.2500</td>\n",
       "    </tr>\n",
       "    <tr>\n",
       "      <th>Sasha</th>\n",
       "      <th>Jeans</th>\n",
       "      <td>3</td>\n",
       "      <td>4.06</td>\n",
       "      <td>1.06</td>\n",
       "      <td>1.1236</td>\n",
       "    </tr>\n",
       "    <tr>\n",
       "      <th>Max</th>\n",
       "      <th>Watches</th>\n",
       "      <td>5</td>\n",
       "      <td>4.73</td>\n",
       "      <td>0.27</td>\n",
       "      <td>0.0729</td>\n",
       "    </tr>\n",
       "  </tbody>\n",
       "</table>\n",
       "</div>"
      ],
      "text/plain": [
       "                 value_true  value_recs   MAE     MSE\n",
       "user_id item_id                                      \n",
       "Max     T-Shirt           4        3.28  0.72  0.5184\n",
       "Kate    Dress             5        3.50  1.50  2.2500\n",
       "Sasha   Jeans             3        4.06  1.06  1.1236\n",
       "Max     Watches           5        4.73  0.27  0.0729"
      ]
     },
     "execution_count": 130,
     "metadata": {},
     "output_type": "execute_result"
    }
   ],
   "source": [
    "df_merged['MAE'] = (df_merged['value_true'] - df_merged['value_recs']).abs()\n",
    "df_merged['MSE'] = (df_merged['value_true'] - df_merged['value_recs']) ** 2\n",
    "df_merged"
   ]
  },
  {
   "cell_type": "markdown",
   "id": "8f923abe-3e7a-48dd-a867-9ee6ffa2bac7",
   "metadata": {},
   "source": [
    "### Classification Metrics\n",
    "Allows estimating **top-k recommendations**\n",
    "\n",
    "The most importan values - TP and TN\n",
    "- `True Positive`: Model recommended an object that has been seen/used by a user\n",
    "- `False Negative`: Model didn't recommend an object that user saw \n",
    "\n",
    "We don't take `False Positive` and `True Negative` into  account. In practie, they are very large and we simply neglect them "
   ]
  },
  {
   "cell_type": "code",
   "execution_count": 163,
   "id": "46663230-6442-4f35-98a3-0bb7c19f4964",
   "metadata": {},
   "outputs": [],
   "source": [
    "# let's consider an example\n",
    "df_test = pd.DataFrame({\n",
    "    'user_id': ['Max', 'Kate', 'Sasha', 'Max'],\n",
    "    'item_id': ['T-Shirt', 'Dress', 'Jeans', 'Watches']\n",
    "})\n",
    "\n",
    "df_preds = pd.DataFrame({\n",
    "    'user_id': [\n",
    "                'Max', 'Max', 'Max', \n",
    "                'Kate', 'Kate', 'Kate',\n",
    "                'Sasha', 'Sasha', 'Sasha'\n",
    "               ],\n",
    "    \n",
    "    'item_id': [\n",
    "        'Glasses', 'T-Shirt', 'Socks',\n",
    "        'T-Shirt', 'Dress', 'Jeans', \n",
    "        'Watches', 'Laptop', 'iPods'\n",
    "                ],\n",
    "    'rank':[\n",
    "        1, 3, 2,\n",
    "        1, 2, 3,\n",
    "        1, 2, 3\n",
    "    ]\n",
    "})"
   ]
  },
  {
   "cell_type": "code",
   "execution_count": 164,
   "id": "4d9812d3-c4a1-4e9a-b267-8962a9ab16b1",
   "metadata": {},
   "outputs": [
    {
     "data": {
      "text/html": [
       "<div>\n",
       "<style scoped>\n",
       "    .dataframe tbody tr th:only-of-type {\n",
       "        vertical-align: middle;\n",
       "    }\n",
       "\n",
       "    .dataframe tbody tr th {\n",
       "        vertical-align: top;\n",
       "    }\n",
       "\n",
       "    .dataframe thead th {\n",
       "        text-align: right;\n",
       "    }\n",
       "</style>\n",
       "<table border=\"1\" class=\"dataframe\">\n",
       "  <thead>\n",
       "    <tr style=\"text-align: right;\">\n",
       "      <th></th>\n",
       "      <th></th>\n",
       "      <th>rank</th>\n",
       "    </tr>\n",
       "    <tr>\n",
       "      <th>user_id</th>\n",
       "      <th>item_id</th>\n",
       "      <th></th>\n",
       "    </tr>\n",
       "  </thead>\n",
       "  <tbody>\n",
       "    <tr>\n",
       "      <th>Max</th>\n",
       "      <th>T-Shirt</th>\n",
       "      <td>3.0</td>\n",
       "    </tr>\n",
       "    <tr>\n",
       "      <th>Kate</th>\n",
       "      <th>Dress</th>\n",
       "      <td>2.0</td>\n",
       "    </tr>\n",
       "    <tr>\n",
       "      <th>Sasha</th>\n",
       "      <th>Jeans</th>\n",
       "      <td>NaN</td>\n",
       "    </tr>\n",
       "    <tr>\n",
       "      <th>Max</th>\n",
       "      <th>Watches</th>\n",
       "      <td>NaN</td>\n",
       "    </tr>\n",
       "  </tbody>\n",
       "</table>\n",
       "</div>"
      ],
      "text/plain": [
       "                 rank\n",
       "user_id item_id      \n",
       "Max     T-Shirt   3.0\n",
       "Kate    Dress     2.0\n",
       "Sasha   Jeans     NaN\n",
       "Max     Watches   NaN"
      ]
     },
     "execution_count": 164,
     "metadata": {},
     "output_type": "execute_result"
    }
   ],
   "source": [
    "df_test.set_index(['user_id', 'item_id'], inplace=True)\n",
    "df_preds.set_index(['user_id', 'item_id'], inplace=True)\n",
    "\n",
    "\n",
    "df_merged = df_test.join(df_preds, how='left')\n",
    "df_merged"
   ]
  },
  {
   "cell_type": "markdown",
   "id": "5196b3f0-930b-44d2-906c-d3a56614198a",
   "metadata": {},
   "source": [
    "### Consider top-2 (K=2)\n",
    "- Objects that haven't been recommended - ignore (NaN)\n",
    "- Define: what objects are in top-2\n",
    "- True Positive for each object\n",
    "- Calculate `Precision@K` for each user, then average across all users"
   ]
  },
  {
   "cell_type": "code",
   "execution_count": 165,
   "id": "a7682d1f-47d3-45e0-bc23-fdfd96fdf757",
   "metadata": {},
   "outputs": [
    {
     "data": {
      "text/html": [
       "<div>\n",
       "<style scoped>\n",
       "    .dataframe tbody tr th:only-of-type {\n",
       "        vertical-align: middle;\n",
       "    }\n",
       "\n",
       "    .dataframe tbody tr th {\n",
       "        vertical-align: top;\n",
       "    }\n",
       "\n",
       "    .dataframe thead th {\n",
       "        text-align: right;\n",
       "    }\n",
       "</style>\n",
       "<table border=\"1\" class=\"dataframe\">\n",
       "  <thead>\n",
       "    <tr style=\"text-align: right;\">\n",
       "      <th></th>\n",
       "      <th></th>\n",
       "      <th>rank</th>\n",
       "      <th>hit@2</th>\n",
       "    </tr>\n",
       "    <tr>\n",
       "      <th>user_id</th>\n",
       "      <th>item_id</th>\n",
       "      <th></th>\n",
       "      <th></th>\n",
       "    </tr>\n",
       "  </thead>\n",
       "  <tbody>\n",
       "    <tr>\n",
       "      <th>Max</th>\n",
       "      <th>T-Shirt</th>\n",
       "      <td>3.0</td>\n",
       "      <td>False</td>\n",
       "    </tr>\n",
       "    <tr>\n",
       "      <th>Kate</th>\n",
       "      <th>Dress</th>\n",
       "      <td>2.0</td>\n",
       "      <td>True</td>\n",
       "    </tr>\n",
       "    <tr>\n",
       "      <th>Sasha</th>\n",
       "      <th>Jeans</th>\n",
       "      <td>NaN</td>\n",
       "      <td>False</td>\n",
       "    </tr>\n",
       "    <tr>\n",
       "      <th>Max</th>\n",
       "      <th>Watches</th>\n",
       "      <td>NaN</td>\n",
       "      <td>False</td>\n",
       "    </tr>\n",
       "  </tbody>\n",
       "</table>\n",
       "</div>"
      ],
      "text/plain": [
       "                 rank  hit@2\n",
       "user_id item_id             \n",
       "Max     T-Shirt   3.0  False\n",
       "Kate    Dress     2.0   True\n",
       "Sasha   Jeans     NaN  False\n",
       "Max     Watches   NaN  False"
      ]
     },
     "execution_count": 165,
     "metadata": {},
     "output_type": "execute_result"
    }
   ],
   "source": [
    "df_merged['hit@2'] = df_merged['rank'] <= 2\n",
    "df_merged"
   ]
  },
  {
   "cell_type": "code",
   "execution_count": 166,
   "id": "553bf96e-f533-4f9e-a3f5-5f49239a1cc7",
   "metadata": {},
   "outputs": [
    {
     "data": {
      "text/html": [
       "<div>\n",
       "<style scoped>\n",
       "    .dataframe tbody tr th:only-of-type {\n",
       "        vertical-align: middle;\n",
       "    }\n",
       "\n",
       "    .dataframe tbody tr th {\n",
       "        vertical-align: top;\n",
       "    }\n",
       "\n",
       "    .dataframe thead th {\n",
       "        text-align: right;\n",
       "    }\n",
       "</style>\n",
       "<table border=\"1\" class=\"dataframe\">\n",
       "  <thead>\n",
       "    <tr style=\"text-align: right;\">\n",
       "      <th></th>\n",
       "      <th></th>\n",
       "      <th>rank</th>\n",
       "      <th>hit@2</th>\n",
       "      <th>hit@2/2</th>\n",
       "    </tr>\n",
       "    <tr>\n",
       "      <th>user_id</th>\n",
       "      <th>item_id</th>\n",
       "      <th></th>\n",
       "      <th></th>\n",
       "      <th></th>\n",
       "    </tr>\n",
       "  </thead>\n",
       "  <tbody>\n",
       "    <tr>\n",
       "      <th>Max</th>\n",
       "      <th>T-Shirt</th>\n",
       "      <td>3.0</td>\n",
       "      <td>False</td>\n",
       "      <td>0.0</td>\n",
       "    </tr>\n",
       "    <tr>\n",
       "      <th>Kate</th>\n",
       "      <th>Dress</th>\n",
       "      <td>2.0</td>\n",
       "      <td>True</td>\n",
       "      <td>0.5</td>\n",
       "    </tr>\n",
       "    <tr>\n",
       "      <th>Sasha</th>\n",
       "      <th>Jeans</th>\n",
       "      <td>NaN</td>\n",
       "      <td>False</td>\n",
       "      <td>0.0</td>\n",
       "    </tr>\n",
       "    <tr>\n",
       "      <th>Max</th>\n",
       "      <th>Watches</th>\n",
       "      <td>NaN</td>\n",
       "      <td>False</td>\n",
       "      <td>0.0</td>\n",
       "    </tr>\n",
       "  </tbody>\n",
       "</table>\n",
       "</div>"
      ],
      "text/plain": [
       "                 rank  hit@2  hit@2/2\n",
       "user_id item_id                      \n",
       "Max     T-Shirt   3.0  False      0.0\n",
       "Kate    Dress     2.0   True      0.5\n",
       "Sasha   Jeans     NaN  False      0.0\n",
       "Max     Watches   NaN  False      0.0"
      ]
     },
     "execution_count": 166,
     "metadata": {},
     "output_type": "execute_result"
    }
   ],
   "source": [
    "df_merged['hit@2/2'] = df_merged['hit@2'] / 2\n",
    "df_merged"
   ]
  },
  {
   "cell_type": "code",
   "execution_count": 167,
   "id": "a7acea22-a51a-48ca-a68f-c0dc29da9d4f",
   "metadata": {},
   "outputs": [
    {
     "data": {
      "text/plain": [
       "user_id\n",
       "Kate     0.5\n",
       "Max      0.0\n",
       "Sasha    0.0\n",
       "Name: hit@2/2, dtype: float64"
      ]
     },
     "execution_count": 167,
     "metadata": {},
     "output_type": "execute_result"
    }
   ],
   "source": [
    "# Because use multiindex - use level = 0 (group by user_id)\n",
    "df_prec_2 = df_merged.groupby(level='user_id')['hit@2/2'].sum()\n",
    "df_prec_2"
   ]
  },
  {
   "cell_type": "code",
   "execution_count": 168,
   "id": "a7cad50f-cc52-412b-9bae-f3b7a9e47487",
   "metadata": {},
   "outputs": [
    {
     "name": "stdout",
     "output_type": "stream",
     "text": [
      "Precision@2: 0.17\n"
     ]
    }
   ],
   "source": [
    "print(f'Precision@2: {df_prec_2.mean():.2f}', )"
   ]
  },
  {
   "cell_type": "code",
   "execution_count": 172,
   "id": "a4761202-4e8e-48f3-bb00-a1c6145377d5",
   "metadata": {},
   "outputs": [
    {
     "name": "stdout",
     "output_type": "stream",
     "text": [
      "Precision@1:  0.0\n",
      "Precision@2:  0.16666666666666666\n",
      "Precision@3:  0.2222222222222222\n"
     ]
    }
   ],
   "source": [
    "# Now, let's calculate for different K\n",
    "k_set = np.arange(1, 4)\n",
    "for k in k_set:\n",
    "    df_merged[f'hit@{k}'] = df_merged['rank'] <= k\n",
    "    df_merged[f'hit@{k}/{k}'] = df_merged[f'hit@{k}'] / k\n",
    "    print(f'Precision@{k}: ', df_merged.groupby(level=0)[f'hit@{k}/{k}'].sum().mean())"
   ]
  },
  {
   "cell_type": "code",
   "execution_count": 173,
   "id": "5953ad7c-36a2-4e0a-9b3f-d82beeb284f1",
   "metadata": {},
   "outputs": [
    {
     "data": {
      "text/html": [
       "<div>\n",
       "<style scoped>\n",
       "    .dataframe tbody tr th:only-of-type {\n",
       "        vertical-align: middle;\n",
       "    }\n",
       "\n",
       "    .dataframe tbody tr th {\n",
       "        vertical-align: top;\n",
       "    }\n",
       "\n",
       "    .dataframe thead th {\n",
       "        text-align: right;\n",
       "    }\n",
       "</style>\n",
       "<table border=\"1\" class=\"dataframe\">\n",
       "  <thead>\n",
       "    <tr style=\"text-align: right;\">\n",
       "      <th></th>\n",
       "      <th></th>\n",
       "      <th>rank</th>\n",
       "      <th>hit@2</th>\n",
       "      <th>hit@2/2</th>\n",
       "      <th>hit@1</th>\n",
       "      <th>hit@1/1</th>\n",
       "      <th>hit@3</th>\n",
       "      <th>hit@3/3</th>\n",
       "    </tr>\n",
       "    <tr>\n",
       "      <th>user_id</th>\n",
       "      <th>item_id</th>\n",
       "      <th></th>\n",
       "      <th></th>\n",
       "      <th></th>\n",
       "      <th></th>\n",
       "      <th></th>\n",
       "      <th></th>\n",
       "      <th></th>\n",
       "    </tr>\n",
       "  </thead>\n",
       "  <tbody>\n",
       "    <tr>\n",
       "      <th>Max</th>\n",
       "      <th>T-Shirt</th>\n",
       "      <td>3.0</td>\n",
       "      <td>False</td>\n",
       "      <td>0.0</td>\n",
       "      <td>False</td>\n",
       "      <td>0.0</td>\n",
       "      <td>True</td>\n",
       "      <td>0.333333</td>\n",
       "    </tr>\n",
       "    <tr>\n",
       "      <th>Kate</th>\n",
       "      <th>Dress</th>\n",
       "      <td>2.0</td>\n",
       "      <td>True</td>\n",
       "      <td>0.5</td>\n",
       "      <td>False</td>\n",
       "      <td>0.0</td>\n",
       "      <td>True</td>\n",
       "      <td>0.333333</td>\n",
       "    </tr>\n",
       "    <tr>\n",
       "      <th>Sasha</th>\n",
       "      <th>Jeans</th>\n",
       "      <td>NaN</td>\n",
       "      <td>False</td>\n",
       "      <td>0.0</td>\n",
       "      <td>False</td>\n",
       "      <td>0.0</td>\n",
       "      <td>False</td>\n",
       "      <td>0.000000</td>\n",
       "    </tr>\n",
       "    <tr>\n",
       "      <th>Max</th>\n",
       "      <th>Watches</th>\n",
       "      <td>NaN</td>\n",
       "      <td>False</td>\n",
       "      <td>0.0</td>\n",
       "      <td>False</td>\n",
       "      <td>0.0</td>\n",
       "      <td>False</td>\n",
       "      <td>0.000000</td>\n",
       "    </tr>\n",
       "  </tbody>\n",
       "</table>\n",
       "</div>"
      ],
      "text/plain": [
       "                 rank  hit@2  hit@2/2  hit@1  hit@1/1  hit@3   hit@3/3\n",
       "user_id item_id                                                       \n",
       "Max     T-Shirt   3.0  False      0.0  False      0.0   True  0.333333\n",
       "Kate    Dress     2.0   True      0.5  False      0.0   True  0.333333\n",
       "Sasha   Jeans     NaN  False      0.0  False      0.0  False  0.000000\n",
       "Max     Watches   NaN  False      0.0  False      0.0  False  0.000000"
      ]
     },
     "execution_count": 173,
     "metadata": {},
     "output_type": "execute_result"
    }
   ],
   "source": [
    "df_merged"
   ]
  },
  {
   "cell_type": "markdown",
   "id": "c4953cce-20b4-4bf2-a5c0-6f5700abb8c5",
   "metadata": {},
   "source": [
    "Similarly calculate `Recall@K` - calculate `hit@K` and devide by the number of relevant objects for a user"
   ]
  },
  {
   "cell_type": "code",
   "execution_count": 178,
   "id": "e61497ab-7151-485e-b8bd-8408f3e3ceda",
   "metadata": {},
   "outputs": [
    {
     "data": {
      "text/plain": [
       "user_id  item_id\n",
       "Max      T-Shirt    2.0\n",
       "Kate     Dress      1.0\n",
       "Sasha    Jeans      1.0\n",
       "Max      Watches    2.0\n",
       "Name: relevant_user_item_count, dtype: float64"
      ]
     },
     "execution_count": 178,
     "metadata": {},
     "output_type": "execute_result"
    }
   ],
   "source": [
    "unique_users_count = df_merged.index.get_level_values('user_id').nunique()\n",
    "\n",
    "df_merged['relevant_user_item_count'] = df_merged.groupby(level='user_id')['rank'].transform(np.size)\n",
    "df_merged['relevant_user_item_count'] "
   ]
  },
  {
   "cell_type": "code",
   "execution_count": 179,
   "id": "c639fab7-b9c1-49de-8cf0-54b496a82b71",
   "metadata": {},
   "outputs": [
    {
     "name": "stdout",
     "output_type": "stream",
     "text": [
      "Recall@1:  0.0\n",
      "Recall@2:  0.3333333333333333\n",
      "Recall@3:  0.5\n"
     ]
    }
   ],
   "source": [
    "for k in k_set:\n",
    "    print(f'Recall@{k}: ', (df_merged[f'hit@{k}'] / df_merged['relevant_user_item_count']).sum() / unique_users_count)"
   ]
  },
  {
   "cell_type": "markdown",
   "id": "fb951f97-6757-402e-a9fc-d1190268fdbb",
   "metadata": {},
   "source": [
    "### Ranking Metrics"
   ]
  },
  {
   "cell_type": "code",
   "execution_count": 182,
   "id": "fa9ca0ad-b837-45d5-9f7a-e320829198ba",
   "metadata": {},
   "outputs": [],
   "source": [
    "df_test = pd.DataFrame({\n",
    "    'user_id': ['Аня', 'Боря', 'Вася', 'Вася'],\n",
    "    'item_id': ['Мастер и Маргарита', '451° по Фаренгейту', 'Зеленая миля', 'Рита Хейуорт и спасение из Шоушенка'],\n",
    "})\n",
    "\n",
    "df_preds = pd.DataFrame({\n",
    "    'user_id': [\n",
    "        'Аня', 'Аня', 'Аня', \n",
    "        'Боря', 'Боря', 'Боря', \n",
    "        'Вася', 'Вася', 'Вася',\n",
    "    ],\n",
    "    'item_id': [\n",
    "        'Отверженные', 'Двенадцать стульев', 'Герои нашего времени', \n",
    "        '451° по Фаренгейту', '1984', 'О дивный новый мир',\n",
    "        'Десять негритят', 'Рита Хейуорт и спасение из Шоушенка', 'Зеленая миля', \n",
    "    ],\n",
    "    'rank': [\n",
    "        1, 2, 3,\n",
    "        1, 2, 3,\n",
    "        1, 2, 3,\n",
    "    ]\n",
    "})"
   ]
  },
  {
   "cell_type": "code",
   "execution_count": 183,
   "id": "3fde48d8-d91f-46c7-b248-6a33915a4271",
   "metadata": {},
   "outputs": [
    {
     "data": {
      "text/html": [
       "<div>\n",
       "<style scoped>\n",
       "    .dataframe tbody tr th:only-of-type {\n",
       "        vertical-align: middle;\n",
       "    }\n",
       "\n",
       "    .dataframe tbody tr th {\n",
       "        vertical-align: top;\n",
       "    }\n",
       "\n",
       "    .dataframe thead th {\n",
       "        text-align: right;\n",
       "    }\n",
       "</style>\n",
       "<table border=\"1\" class=\"dataframe\">\n",
       "  <thead>\n",
       "    <tr style=\"text-align: right;\">\n",
       "      <th></th>\n",
       "      <th></th>\n",
       "      <th>rank</th>\n",
       "    </tr>\n",
       "    <tr>\n",
       "      <th>user_id</th>\n",
       "      <th>item_id</th>\n",
       "      <th></th>\n",
       "    </tr>\n",
       "  </thead>\n",
       "  <tbody>\n",
       "    <tr>\n",
       "      <th>Аня</th>\n",
       "      <th>Мастер и Маргарита</th>\n",
       "      <td>NaN</td>\n",
       "    </tr>\n",
       "    <tr>\n",
       "      <th>Боря</th>\n",
       "      <th>451° по Фаренгейту</th>\n",
       "      <td>1.0</td>\n",
       "    </tr>\n",
       "    <tr>\n",
       "      <th rowspan=\"2\" valign=\"top\">Вася</th>\n",
       "      <th>Зеленая миля</th>\n",
       "      <td>3.0</td>\n",
       "    </tr>\n",
       "    <tr>\n",
       "      <th>Рита Хейуорт и спасение из Шоушенка</th>\n",
       "      <td>2.0</td>\n",
       "    </tr>\n",
       "  </tbody>\n",
       "</table>\n",
       "</div>"
      ],
      "text/plain": [
       "                                             rank\n",
       "user_id item_id                                  \n",
       "Аня     Мастер и Маргарита                    NaN\n",
       "Боря    451° по Фаренгейту                    1.0\n",
       "Вася    Зеленая миля                          3.0\n",
       "        Рита Хейуорт и спасение из Шоушенка   2.0"
      ]
     },
     "execution_count": 183,
     "metadata": {},
     "output_type": "execute_result"
    }
   ],
   "source": [
    "df_test.set_index(['user_id', 'item_id'], inplace=True)\n",
    "df_preds.set_index(['user_id', 'item_id'], inplace=True)\n",
    "\n",
    "\n",
    "df_merged = df_test.join(df_preds, how='left')\n",
    "df_merged"
   ]
  },
  {
   "cell_type": "code",
   "execution_count": 184,
   "id": "b4e0beac-b780-46d8-adac-0f45275d4a6f",
   "metadata": {},
   "outputs": [
    {
     "data": {
      "text/html": [
       "<div>\n",
       "<style scoped>\n",
       "    .dataframe tbody tr th:only-of-type {\n",
       "        vertical-align: middle;\n",
       "    }\n",
       "\n",
       "    .dataframe tbody tr th {\n",
       "        vertical-align: top;\n",
       "    }\n",
       "\n",
       "    .dataframe thead th {\n",
       "        text-align: right;\n",
       "    }\n",
       "</style>\n",
       "<table border=\"1\" class=\"dataframe\">\n",
       "  <thead>\n",
       "    <tr style=\"text-align: right;\">\n",
       "      <th></th>\n",
       "      <th></th>\n",
       "      <th>rank</th>\n",
       "      <th>reciprocal_rank</th>\n",
       "    </tr>\n",
       "    <tr>\n",
       "      <th>user_id</th>\n",
       "      <th>item_id</th>\n",
       "      <th></th>\n",
       "      <th></th>\n",
       "    </tr>\n",
       "  </thead>\n",
       "  <tbody>\n",
       "    <tr>\n",
       "      <th>Аня</th>\n",
       "      <th>Мастер и Маргарита</th>\n",
       "      <td>NaN</td>\n",
       "      <td>NaN</td>\n",
       "    </tr>\n",
       "    <tr>\n",
       "      <th>Боря</th>\n",
       "      <th>451° по Фаренгейту</th>\n",
       "      <td>1.0</td>\n",
       "      <td>1.000000</td>\n",
       "    </tr>\n",
       "    <tr>\n",
       "      <th rowspan=\"2\" valign=\"top\">Вася</th>\n",
       "      <th>Зеленая миля</th>\n",
       "      <td>3.0</td>\n",
       "      <td>0.333333</td>\n",
       "    </tr>\n",
       "    <tr>\n",
       "      <th>Рита Хейуорт и спасение из Шоушенка</th>\n",
       "      <td>2.0</td>\n",
       "      <td>0.500000</td>\n",
       "    </tr>\n",
       "  </tbody>\n",
       "</table>\n",
       "</div>"
      ],
      "text/plain": [
       "                                             rank  reciprocal_rank\n",
       "user_id item_id                                                   \n",
       "Аня     Мастер и Маргарита                    NaN              NaN\n",
       "Боря    451° по Фаренгейту                    1.0         1.000000\n",
       "Вася    Зеленая миля                          3.0         0.333333\n",
       "        Рита Хейуорт и спасение из Шоушенка   2.0         0.500000"
      ]
     },
     "execution_count": 184,
     "metadata": {},
     "output_type": "execute_result"
    }
   ],
   "source": [
    "# Reciprocal Rank\n",
    "df_merged['reciprocal_rank'] = 1 / df_merged['rank']\n",
    "df_merged"
   ]
  },
  {
   "cell_type": "code",
   "execution_count": 185,
   "id": "8987dd80-d166-4d5c-8ef9-bff5401eb617",
   "metadata": {},
   "outputs": [
    {
     "data": {
      "text/plain": [
       "user_id\n",
       "Аня     NaN\n",
       "Боря    1.0\n",
       "Вася    0.5\n",
       "Name: reciprocal_rank, dtype: float64"
      ]
     },
     "execution_count": 185,
     "metadata": {},
     "output_type": "execute_result"
    }
   ],
   "source": [
    "mrr = df_merged.groupby(level='user_id')['reciprocal_rank'].max()\n",
    "mrr"
   ]
  },
  {
   "cell_type": "code",
   "execution_count": 186,
   "id": "83d99f64-3542-4dcc-9d4a-785c55f6e6f6",
   "metadata": {},
   "outputs": [
    {
     "name": "stdout",
     "output_type": "stream",
     "text": [
      "MRR = 0.5\n"
     ]
    }
   ],
   "source": [
    "print(f\"MRR = {mrr.fillna(0).mean()}\")"
   ]
  },
  {
   "cell_type": "code",
   "execution_count": 187,
   "id": "af5af86f-a7d1-4bf1-b989-eb48aabd1769",
   "metadata": {},
   "outputs": [
    {
     "data": {
      "text/html": [
       "<div>\n",
       "<style scoped>\n",
       "    .dataframe tbody tr th:only-of-type {\n",
       "        vertical-align: middle;\n",
       "    }\n",
       "\n",
       "    .dataframe tbody tr th {\n",
       "        vertical-align: top;\n",
       "    }\n",
       "\n",
       "    .dataframe thead th {\n",
       "        text-align: right;\n",
       "    }\n",
       "</style>\n",
       "<table border=\"1\" class=\"dataframe\">\n",
       "  <thead>\n",
       "    <tr style=\"text-align: right;\">\n",
       "      <th></th>\n",
       "      <th></th>\n",
       "      <th>rank</th>\n",
       "      <th>reciprocal_rank</th>\n",
       "      <th>cumulative_rank</th>\n",
       "      <th>users_item_count</th>\n",
       "    </tr>\n",
       "    <tr>\n",
       "      <th>user_id</th>\n",
       "      <th>item_id</th>\n",
       "      <th></th>\n",
       "      <th></th>\n",
       "      <th></th>\n",
       "      <th></th>\n",
       "    </tr>\n",
       "  </thead>\n",
       "  <tbody>\n",
       "    <tr>\n",
       "      <th>Аня</th>\n",
       "      <th>Мастер и Маргарита</th>\n",
       "      <td>NaN</td>\n",
       "      <td>NaN</td>\n",
       "      <td>NaN</td>\n",
       "      <td>1.0</td>\n",
       "    </tr>\n",
       "    <tr>\n",
       "      <th>Боря</th>\n",
       "      <th>451° по Фаренгейту</th>\n",
       "      <td>1.0</td>\n",
       "      <td>1.000000</td>\n",
       "      <td>1.000000</td>\n",
       "      <td>1.0</td>\n",
       "    </tr>\n",
       "    <tr>\n",
       "      <th rowspan=\"2\" valign=\"top\">Вася</th>\n",
       "      <th>Зеленая миля</th>\n",
       "      <td>3.0</td>\n",
       "      <td>0.333333</td>\n",
       "      <td>0.333333</td>\n",
       "      <td>2.0</td>\n",
       "    </tr>\n",
       "    <tr>\n",
       "      <th>Рита Хейуорт и спасение из Шоушенка</th>\n",
       "      <td>2.0</td>\n",
       "      <td>0.500000</td>\n",
       "      <td>1.000000</td>\n",
       "      <td>2.0</td>\n",
       "    </tr>\n",
       "  </tbody>\n",
       "</table>\n",
       "</div>"
      ],
      "text/plain": [
       "                                             rank  reciprocal_rank  \\\n",
       "user_id item_id                                                      \n",
       "Аня     Мастер и Маргарита                    NaN              NaN   \n",
       "Боря    451° по Фаренгейту                    1.0         1.000000   \n",
       "Вася    Зеленая миля                          3.0         0.333333   \n",
       "        Рита Хейуорт и спасение из Шоушенка   2.0         0.500000   \n",
       "\n",
       "                                             cumulative_rank  users_item_count  \n",
       "user_id item_id                                                                 \n",
       "Аня     Мастер и Маргарита                               NaN               1.0  \n",
       "Боря    451° по Фаренгейту                          1.000000               1.0  \n",
       "Вася    Зеленая миля                                0.333333               2.0  \n",
       "        Рита Хейуорт и спасение из Шоушенка         1.000000               2.0  "
      ]
     },
     "execution_count": 187,
     "metadata": {},
     "output_type": "execute_result"
    }
   ],
   "source": [
    "df_merged['cumulative_rank'] = df_merged.groupby(level='user_id').cumcount() + 1\n",
    "df_merged['cumulative_rank'] = df_merged['cumulative_rank'] / df_merged['rank']\n",
    "df_merged['users_item_count'] = df_merged.groupby(level='user_id')['rank'].transform(np.size)\n",
    "df_merged"
   ]
  },
  {
   "cell_type": "code",
   "execution_count": 188,
   "id": "654c6b16-2f5c-4597-9eaf-0ec50551d972",
   "metadata": {},
   "outputs": [
    {
     "name": "stdout",
     "output_type": "stream",
     "text": [
      "MAP@3 = 0.5555555555555556\n"
     ]
    }
   ],
   "source": [
    "users_count = df_merged.index.get_level_values('user_id').nunique()\n",
    "map3 = (df_merged[\"cumulative_rank\"] / df_merged[\"users_item_count\"]).sum() / users_count\n",
    "print(f\"MAP@3 = {map3}\")"
   ]
  },
  {
   "cell_type": "markdown",
   "id": "ef2a5000-c102-4492-9fc1-ca1ab79647f8",
   "metadata": {},
   "source": [
    "### Validation (Time Split)\n"
   ]
  },
  {
   "cell_type": "code",
   "execution_count": 199,
   "id": "f6035ba9-066e-4448-9f03-eb6e9d820a49",
   "metadata": {},
   "outputs": [
    {
     "data": {
      "text/plain": [
       "array(['2019-12-25T00:00:00.000000000', '2019-12-26T00:00:00.000000000',\n",
       "       '2019-12-27T00:00:00.000000000', '2019-12-28T00:00:00.000000000',\n",
       "       '2019-12-29T00:00:00.000000000', '2019-12-30T00:00:00.000000000',\n",
       "       '2019-12-31T00:00:00.000000000'], dtype='datetime64[ns]')"
      ]
     },
     "execution_count": 199,
     "metadata": {},
     "output_type": "execute_result"
    }
   ],
   "source": [
    "# Select 7 last days for testing \n",
    "test_dates = iteractions_df['start_date'].unique()[-7:]\n",
    "test_dates"
   ]
  },
  {
   "cell_type": "code",
   "execution_count": 205,
   "id": "0945ca12-3ead-4977-8f6b-749e8b0d2741",
   "metadata": {},
   "outputs": [
    {
     "data": {
      "text/plain": [
       "[(numpy.datetime64('2019-12-25T00:00:00.000000000'),\n",
       "  numpy.datetime64('2019-12-26T00:00:00.000000000')),\n",
       " (numpy.datetime64('2019-12-26T00:00:00.000000000'),\n",
       "  numpy.datetime64('2019-12-27T00:00:00.000000000')),\n",
       " (numpy.datetime64('2019-12-27T00:00:00.000000000'),\n",
       "  numpy.datetime64('2019-12-28T00:00:00.000000000')),\n",
       " (numpy.datetime64('2019-12-28T00:00:00.000000000'),\n",
       "  numpy.datetime64('2019-12-29T00:00:00.000000000')),\n",
       " (numpy.datetime64('2019-12-29T00:00:00.000000000'),\n",
       "  numpy.datetime64('2019-12-30T00:00:00.000000000')),\n",
       " (numpy.datetime64('2019-12-30T00:00:00.000000000'),\n",
       "  numpy.datetime64('2019-12-31T00:00:00.000000000'))]"
      ]
     },
     "execution_count": 205,
     "metadata": {},
     "output_type": "execute_result"
    }
   ],
   "source": [
    "# Create pairwise dates\n",
    "test_dates = list(pairwise(test_dates))\n",
    "test_dates"
   ]
  },
  {
   "cell_type": "code",
   "execution_count": 220,
   "id": "9da3e053-8a7c-4729-a045-82fe703718c1",
   "metadata": {},
   "outputs": [],
   "source": [
    "# Split the dates\n",
    "split_dates = test_dates[0]\n",
    "train_data = iteractions_df[iteractions_df['start_date'] < split_dates[0]]\n",
    "\n",
    "test_data = iteractions_df[(iteractions_df['start_date'] >= split_dates[0]) & (iteractions_df['start_date'] < split_dates[1])]\n",
    "test_data = test_data[(test_data['rating'] >= 4) | (test_data['rating'].isnull())]"
   ]
  },
  {
   "cell_type": "code",
   "execution_count": 223,
   "id": "c0154ecc-3bfd-4624-bb46-03230df98ed4",
   "metadata": {},
   "outputs": [
    {
     "data": {
      "text/plain": [
       "((numpy.datetime64('2019-12-25T00:00:00.000000000'),\n",
       "  numpy.datetime64('2019-12-26T00:00:00.000000000')),\n",
       " (1518072, 5),\n",
       " (2115, 5))"
      ]
     },
     "execution_count": 223,
     "metadata": {},
     "output_type": "execute_result"
    }
   ],
   "source": [
    "split_dates, train_data.shape, test_data.shape"
   ]
  },
  {
   "cell_type": "markdown",
   "id": "23f1a34f-8774-425c-9c99-bbbe115b5322",
   "metadata": {},
   "source": [
    "### Baseline (Recommend Popular)"
   ]
  },
  {
   "cell_type": "code",
   "execution_count": 230,
   "id": "40473eda-6434-4420-a59a-f4a7b39cad92",
   "metadata": {},
   "outputs": [],
   "source": [
    "class PopularRecommender():\n",
    "    def __init__(self, max_K=100, days=30, item_column='item_id', date_column='date'):\n",
    "        self.max_K = max_K\n",
    "        self.days = days\n",
    "        self.item_column = item_column\n",
    "        self.date_column = date_column\n",
    "        self.recommendations = []\n",
    "       \n",
    "    def fit(self, df):\n",
    "        min_date = df[self.date_column].max().normalize() - pd.DateOffset(days=self.days)\n",
    "        self.recommendations = df.loc[df[self.date_column] > min_date, self.item_column].value_counts().head(self.max_K).index.values\n",
    "        \n",
    "    def recommend(self, users=None, n=10):\n",
    "        recomends = self.recommendations[:n]\n",
    "        if users is None:\n",
    "            return recomends\n",
    "        else:\n",
    "            return list(islice(cycle([recomends]), len(users)))"
   ]
  },
  {
   "cell_type": "code",
   "execution_count": 231,
   "id": "eae18690-c782-4bdc-8592-5be9d8297b14",
   "metadata": {},
   "outputs": [],
   "source": [
    "pop_model = PopularRecommender(days=7, date_column='start_date')\n",
    "pop_model.fit(train_data)"
   ]
  },
  {
   "cell_type": "code",
   "execution_count": 232,
   "id": "7d4ee372-8c98-44b8-9806-9c34307af68e",
   "metadata": {},
   "outputs": [
    {
     "data": {
      "text/plain": [
       "array([235407, 230067,  35265, 281005, 147734, 208935, 285394,  96052,\n",
       "        62715, 151190], dtype=int64)"
      ]
     },
     "execution_count": 232,
     "metadata": {},
     "output_type": "execute_result"
    }
   ],
   "source": [
    "top10_recs = pop_model.recommend()\n",
    "top10_recs"
   ]
  },
  {
   "cell_type": "code",
   "execution_count": 233,
   "id": "920a30d9-361a-4f86-8477-2745ebb89850",
   "metadata": {},
   "outputs": [
    {
     "data": {
      "text/plain": [
       "'Ворон-челобитчик'"
      ]
     },
     "execution_count": 233,
     "metadata": {},
     "output_type": "execute_result"
    }
   ],
   "source": [
    "item_titles = pd.Series(items_df['title'].values, index=items_df['id']).to_dict()\n",
    "item_titles[128115]"
   ]
  },
  {
   "cell_type": "code",
   "execution_count": 236,
   "id": "ff57f1a0-9b20-48cc-9fe7-4355d44c206f",
   "metadata": {},
   "outputs": [
    {
     "data": {
      "text/html": [
       "<div>\n",
       "<style scoped>\n",
       "    .dataframe tbody tr th:only-of-type {\n",
       "        vertical-align: middle;\n",
       "    }\n",
       "\n",
       "    .dataframe tbody tr th {\n",
       "        vertical-align: top;\n",
       "    }\n",
       "\n",
       "    .dataframe thead th {\n",
       "        text-align: right;\n",
       "    }\n",
       "</style>\n",
       "<table border=\"1\" class=\"dataframe\">\n",
       "  <thead>\n",
       "    <tr style=\"text-align: right;\">\n",
       "      <th></th>\n",
       "      <th>user_id</th>\n",
       "      <th>item_id</th>\n",
       "    </tr>\n",
       "  </thead>\n",
       "  <tbody>\n",
       "    <tr>\n",
       "      <th>0</th>\n",
       "      <td>38753</td>\n",
       "      <td>[235407, 230067, 35265, 281005, 147734, 208935...</td>\n",
       "    </tr>\n",
       "    <tr>\n",
       "      <th>1</th>\n",
       "      <td>101642</td>\n",
       "      <td>[235407, 230067, 35265, 281005, 147734, 208935...</td>\n",
       "    </tr>\n",
       "    <tr>\n",
       "      <th>2</th>\n",
       "      <td>13548</td>\n",
       "      <td>[235407, 230067, 35265, 281005, 147734, 208935...</td>\n",
       "    </tr>\n",
       "    <tr>\n",
       "      <th>3</th>\n",
       "      <td>130425</td>\n",
       "      <td>[235407, 230067, 35265, 281005, 147734, 208935...</td>\n",
       "    </tr>\n",
       "    <tr>\n",
       "      <th>4</th>\n",
       "      <td>93986</td>\n",
       "      <td>[235407, 230067, 35265, 281005, 147734, 208935...</td>\n",
       "    </tr>\n",
       "  </tbody>\n",
       "</table>\n",
       "</div>"
      ],
      "text/plain": [
       "   user_id                                            item_id\n",
       "0    38753  [235407, 230067, 35265, 281005, 147734, 208935...\n",
       "1   101642  [235407, 230067, 35265, 281005, 147734, 208935...\n",
       "2    13548  [235407, 230067, 35265, 281005, 147734, 208935...\n",
       "3   130425  [235407, 230067, 35265, 281005, 147734, 208935...\n",
       "4    93986  [235407, 230067, 35265, 281005, 147734, 208935..."
      ]
     },
     "execution_count": 236,
     "metadata": {},
     "output_type": "execute_result"
    }
   ],
   "source": [
    "recs = pd.DataFrame({'user_id': test_data['user_id'].unique()})\n",
    "top_N = 10\n",
    "recs['item_id'] = pop_model.recommend(recs['user_id'], n=top_N)\n",
    "recs.head()"
   ]
  },
  {
   "cell_type": "code",
   "execution_count": 237,
   "id": "349482de-f0ef-4aca-85be-58577d4369ba",
   "metadata": {},
   "outputs": [
    {
     "data": {
      "text/html": [
       "<div>\n",
       "<style scoped>\n",
       "    .dataframe tbody tr th:only-of-type {\n",
       "        vertical-align: middle;\n",
       "    }\n",
       "\n",
       "    .dataframe tbody tr th {\n",
       "        vertical-align: top;\n",
       "    }\n",
       "\n",
       "    .dataframe thead th {\n",
       "        text-align: right;\n",
       "    }\n",
       "</style>\n",
       "<table border=\"1\" class=\"dataframe\">\n",
       "  <thead>\n",
       "    <tr style=\"text-align: right;\">\n",
       "      <th></th>\n",
       "      <th>user_id</th>\n",
       "      <th>item_id</th>\n",
       "    </tr>\n",
       "  </thead>\n",
       "  <tbody>\n",
       "    <tr>\n",
       "      <th>0</th>\n",
       "      <td>38753</td>\n",
       "      <td>235407</td>\n",
       "    </tr>\n",
       "    <tr>\n",
       "      <th>0</th>\n",
       "      <td>38753</td>\n",
       "      <td>230067</td>\n",
       "    </tr>\n",
       "    <tr>\n",
       "      <th>0</th>\n",
       "      <td>38753</td>\n",
       "      <td>35265</td>\n",
       "    </tr>\n",
       "    <tr>\n",
       "      <th>0</th>\n",
       "      <td>38753</td>\n",
       "      <td>281005</td>\n",
       "    </tr>\n",
       "    <tr>\n",
       "      <th>0</th>\n",
       "      <td>38753</td>\n",
       "      <td>147734</td>\n",
       "    </tr>\n",
       "    <tr>\n",
       "      <th>0</th>\n",
       "      <td>38753</td>\n",
       "      <td>208935</td>\n",
       "    </tr>\n",
       "    <tr>\n",
       "      <th>0</th>\n",
       "      <td>38753</td>\n",
       "      <td>285394</td>\n",
       "    </tr>\n",
       "    <tr>\n",
       "      <th>0</th>\n",
       "      <td>38753</td>\n",
       "      <td>96052</td>\n",
       "    </tr>\n",
       "    <tr>\n",
       "      <th>0</th>\n",
       "      <td>38753</td>\n",
       "      <td>62715</td>\n",
       "    </tr>\n",
       "    <tr>\n",
       "      <th>0</th>\n",
       "      <td>38753</td>\n",
       "      <td>151190</td>\n",
       "    </tr>\n",
       "    <tr>\n",
       "      <th>1</th>\n",
       "      <td>101642</td>\n",
       "      <td>235407</td>\n",
       "    </tr>\n",
       "    <tr>\n",
       "      <th>1</th>\n",
       "      <td>101642</td>\n",
       "      <td>230067</td>\n",
       "    </tr>\n",
       "  </tbody>\n",
       "</table>\n",
       "</div>"
      ],
      "text/plain": [
       "   user_id item_id\n",
       "0    38753  235407\n",
       "0    38753  230067\n",
       "0    38753   35265\n",
       "0    38753  281005\n",
       "0    38753  147734\n",
       "0    38753  208935\n",
       "0    38753  285394\n",
       "0    38753   96052\n",
       "0    38753   62715\n",
       "0    38753  151190\n",
       "1   101642  235407\n",
       "1   101642  230067"
      ]
     },
     "execution_count": 237,
     "metadata": {},
     "output_type": "execute_result"
    }
   ],
   "source": [
    "recs = recs.explode('item_id')\n",
    "recs.head(top_N + 2)"
   ]
  },
  {
   "cell_type": "code",
   "execution_count": 238,
   "id": "feb5bbf1-b130-47d0-92f6-7e15e1f5e108",
   "metadata": {},
   "outputs": [
    {
     "data": {
      "text/html": [
       "<div>\n",
       "<style scoped>\n",
       "    .dataframe tbody tr th:only-of-type {\n",
       "        vertical-align: middle;\n",
       "    }\n",
       "\n",
       "    .dataframe tbody tr th {\n",
       "        vertical-align: top;\n",
       "    }\n",
       "\n",
       "    .dataframe thead th {\n",
       "        text-align: right;\n",
       "    }\n",
       "</style>\n",
       "<table border=\"1\" class=\"dataframe\">\n",
       "  <thead>\n",
       "    <tr style=\"text-align: right;\">\n",
       "      <th></th>\n",
       "      <th>user_id</th>\n",
       "      <th>item_id</th>\n",
       "      <th>rank</th>\n",
       "    </tr>\n",
       "  </thead>\n",
       "  <tbody>\n",
       "    <tr>\n",
       "      <th>0</th>\n",
       "      <td>38753</td>\n",
       "      <td>235407</td>\n",
       "      <td>1</td>\n",
       "    </tr>\n",
       "    <tr>\n",
       "      <th>0</th>\n",
       "      <td>38753</td>\n",
       "      <td>230067</td>\n",
       "      <td>2</td>\n",
       "    </tr>\n",
       "    <tr>\n",
       "      <th>0</th>\n",
       "      <td>38753</td>\n",
       "      <td>35265</td>\n",
       "      <td>3</td>\n",
       "    </tr>\n",
       "    <tr>\n",
       "      <th>0</th>\n",
       "      <td>38753</td>\n",
       "      <td>281005</td>\n",
       "      <td>4</td>\n",
       "    </tr>\n",
       "    <tr>\n",
       "      <th>0</th>\n",
       "      <td>38753</td>\n",
       "      <td>147734</td>\n",
       "      <td>5</td>\n",
       "    </tr>\n",
       "    <tr>\n",
       "      <th>0</th>\n",
       "      <td>38753</td>\n",
       "      <td>208935</td>\n",
       "      <td>6</td>\n",
       "    </tr>\n",
       "    <tr>\n",
       "      <th>0</th>\n",
       "      <td>38753</td>\n",
       "      <td>285394</td>\n",
       "      <td>7</td>\n",
       "    </tr>\n",
       "    <tr>\n",
       "      <th>0</th>\n",
       "      <td>38753</td>\n",
       "      <td>96052</td>\n",
       "      <td>8</td>\n",
       "    </tr>\n",
       "    <tr>\n",
       "      <th>0</th>\n",
       "      <td>38753</td>\n",
       "      <td>62715</td>\n",
       "      <td>9</td>\n",
       "    </tr>\n",
       "    <tr>\n",
       "      <th>0</th>\n",
       "      <td>38753</td>\n",
       "      <td>151190</td>\n",
       "      <td>10</td>\n",
       "    </tr>\n",
       "    <tr>\n",
       "      <th>1</th>\n",
       "      <td>101642</td>\n",
       "      <td>235407</td>\n",
       "      <td>1</td>\n",
       "    </tr>\n",
       "    <tr>\n",
       "      <th>1</th>\n",
       "      <td>101642</td>\n",
       "      <td>230067</td>\n",
       "      <td>2</td>\n",
       "    </tr>\n",
       "  </tbody>\n",
       "</table>\n",
       "</div>"
      ],
      "text/plain": [
       "   user_id item_id  rank\n",
       "0    38753  235407     1\n",
       "0    38753  230067     2\n",
       "0    38753   35265     3\n",
       "0    38753  281005     4\n",
       "0    38753  147734     5\n",
       "0    38753  208935     6\n",
       "0    38753  285394     7\n",
       "0    38753   96052     8\n",
       "0    38753   62715     9\n",
       "0    38753  151190    10\n",
       "1   101642  235407     1\n",
       "1   101642  230067     2"
      ]
     },
     "execution_count": 238,
     "metadata": {},
     "output_type": "execute_result"
    }
   ],
   "source": [
    "recs['rank'] = recs.groupby('user_id').cumcount() + 1\n",
    "recs.head(top_N + 2)"
   ]
  },
  {
   "cell_type": "code",
   "execution_count": 239,
   "id": "45a6c2a6-36e2-480e-a52e-c3c4a12d8de4",
   "metadata": {},
   "outputs": [
    {
     "data": {
      "text/html": [
       "<div>\n",
       "<style scoped>\n",
       "    .dataframe tbody tr th:only-of-type {\n",
       "        vertical-align: middle;\n",
       "    }\n",
       "\n",
       "    .dataframe tbody tr th {\n",
       "        vertical-align: top;\n",
       "    }\n",
       "\n",
       "    .dataframe thead th {\n",
       "        text-align: right;\n",
       "    }\n",
       "</style>\n",
       "<table border=\"1\" class=\"dataframe\">\n",
       "  <thead>\n",
       "    <tr style=\"text-align: right;\">\n",
       "      <th></th>\n",
       "      <th></th>\n",
       "      <th>progress</th>\n",
       "      <th>rating</th>\n",
       "      <th>start_date</th>\n",
       "      <th>rank</th>\n",
       "    </tr>\n",
       "    <tr>\n",
       "      <th>user_id</th>\n",
       "      <th>item_id</th>\n",
       "      <th></th>\n",
       "      <th></th>\n",
       "      <th></th>\n",
       "      <th></th>\n",
       "    </tr>\n",
       "  </thead>\n",
       "  <tbody>\n",
       "    <tr>\n",
       "      <th>159294</th>\n",
       "      <th>110617</th>\n",
       "      <td>18</td>\n",
       "      <td>NaN</td>\n",
       "      <td>2019-12-25</td>\n",
       "      <td>NaN</td>\n",
       "    </tr>\n",
       "    <tr>\n",
       "      <th>159303</th>\n",
       "      <th>197759</th>\n",
       "      <td>64</td>\n",
       "      <td>NaN</td>\n",
       "      <td>2019-12-25</td>\n",
       "      <td>NaN</td>\n",
       "    </tr>\n",
       "    <tr>\n",
       "      <th>159466</th>\n",
       "      <th>124115</th>\n",
       "      <td>84</td>\n",
       "      <td>NaN</td>\n",
       "      <td>2019-12-25</td>\n",
       "      <td>NaN</td>\n",
       "    </tr>\n",
       "    <tr>\n",
       "      <th>159472</th>\n",
       "      <th>245992</th>\n",
       "      <td>78</td>\n",
       "      <td>NaN</td>\n",
       "      <td>2019-12-25</td>\n",
       "      <td>NaN</td>\n",
       "    </tr>\n",
       "    <tr>\n",
       "      <th>159511</th>\n",
       "      <th>31539</th>\n",
       "      <td>77</td>\n",
       "      <td>5.0</td>\n",
       "      <td>2019-12-25</td>\n",
       "      <td>NaN</td>\n",
       "    </tr>\n",
       "  </tbody>\n",
       "</table>\n",
       "</div>"
      ],
      "text/plain": [
       "                 progress  rating start_date  rank\n",
       "user_id item_id                                   \n",
       "159294  110617         18     NaN 2019-12-25   NaN\n",
       "159303  197759         64     NaN 2019-12-25   NaN\n",
       "159466  124115         84     NaN 2019-12-25   NaN\n",
       "159472  245992         78     NaN 2019-12-25   NaN\n",
       "159511  31539          77     5.0 2019-12-25   NaN"
      ]
     },
     "execution_count": 239,
     "metadata": {},
     "output_type": "execute_result"
    }
   ],
   "source": [
    "test_recs = test_data.set_index(['user_id', 'item_id']).join(recs.set_index(['user_id', 'item_id']))\n",
    "test_recs = test_recs.sort_values(by=['user_id', 'rank'])\n",
    "test_recs.tail()"
   ]
  },
  {
   "cell_type": "code",
   "execution_count": 240,
   "id": "55e96e5b-46c6-407b-a89c-5b64ea1777c4",
   "metadata": {},
   "outputs": [
    {
     "data": {
      "text/html": [
       "<div>\n",
       "<style scoped>\n",
       "    .dataframe tbody tr th:only-of-type {\n",
       "        vertical-align: middle;\n",
       "    }\n",
       "\n",
       "    .dataframe tbody tr th {\n",
       "        vertical-align: top;\n",
       "    }\n",
       "\n",
       "    .dataframe thead th {\n",
       "        text-align: right;\n",
       "    }\n",
       "</style>\n",
       "<table border=\"1\" class=\"dataframe\">\n",
       "  <thead>\n",
       "    <tr style=\"text-align: right;\">\n",
       "      <th></th>\n",
       "      <th></th>\n",
       "      <th>progress</th>\n",
       "      <th>rating</th>\n",
       "      <th>start_date</th>\n",
       "      <th>rank</th>\n",
       "      <th>users_item_count</th>\n",
       "      <th>reciprocal_rank</th>\n",
       "      <th>cumulative_rank</th>\n",
       "    </tr>\n",
       "    <tr>\n",
       "      <th>user_id</th>\n",
       "      <th>item_id</th>\n",
       "      <th></th>\n",
       "      <th></th>\n",
       "      <th></th>\n",
       "      <th></th>\n",
       "      <th></th>\n",
       "      <th></th>\n",
       "      <th></th>\n",
       "    </tr>\n",
       "  </thead>\n",
       "  <tbody>\n",
       "    <tr>\n",
       "      <th>159294</th>\n",
       "      <th>110617</th>\n",
       "      <td>18</td>\n",
       "      <td>NaN</td>\n",
       "      <td>2019-12-25</td>\n",
       "      <td>NaN</td>\n",
       "      <td>1.0</td>\n",
       "      <td>0.0</td>\n",
       "      <td>NaN</td>\n",
       "    </tr>\n",
       "    <tr>\n",
       "      <th>159303</th>\n",
       "      <th>197759</th>\n",
       "      <td>64</td>\n",
       "      <td>NaN</td>\n",
       "      <td>2019-12-25</td>\n",
       "      <td>NaN</td>\n",
       "      <td>1.0</td>\n",
       "      <td>0.0</td>\n",
       "      <td>NaN</td>\n",
       "    </tr>\n",
       "    <tr>\n",
       "      <th>159466</th>\n",
       "      <th>124115</th>\n",
       "      <td>84</td>\n",
       "      <td>NaN</td>\n",
       "      <td>2019-12-25</td>\n",
       "      <td>NaN</td>\n",
       "      <td>1.0</td>\n",
       "      <td>0.0</td>\n",
       "      <td>NaN</td>\n",
       "    </tr>\n",
       "    <tr>\n",
       "      <th>159472</th>\n",
       "      <th>245992</th>\n",
       "      <td>78</td>\n",
       "      <td>NaN</td>\n",
       "      <td>2019-12-25</td>\n",
       "      <td>NaN</td>\n",
       "      <td>1.0</td>\n",
       "      <td>0.0</td>\n",
       "      <td>NaN</td>\n",
       "    </tr>\n",
       "    <tr>\n",
       "      <th>159511</th>\n",
       "      <th>31539</th>\n",
       "      <td>77</td>\n",
       "      <td>5.0</td>\n",
       "      <td>2019-12-25</td>\n",
       "      <td>NaN</td>\n",
       "      <td>1.0</td>\n",
       "      <td>0.0</td>\n",
       "      <td>NaN</td>\n",
       "    </tr>\n",
       "  </tbody>\n",
       "</table>\n",
       "</div>"
      ],
      "text/plain": [
       "                 progress  rating start_date  rank  users_item_count  \\\n",
       "user_id item_id                                                        \n",
       "159294  110617         18     NaN 2019-12-25   NaN               1.0   \n",
       "159303  197759         64     NaN 2019-12-25   NaN               1.0   \n",
       "159466  124115         84     NaN 2019-12-25   NaN               1.0   \n",
       "159472  245992         78     NaN 2019-12-25   NaN               1.0   \n",
       "159511  31539          77     5.0 2019-12-25   NaN               1.0   \n",
       "\n",
       "                 reciprocal_rank  cumulative_rank  \n",
       "user_id item_id                                    \n",
       "159294  110617               0.0              NaN  \n",
       "159303  197759               0.0              NaN  \n",
       "159466  124115               0.0              NaN  \n",
       "159472  245992               0.0              NaN  \n",
       "159511  31539                0.0              NaN  "
      ]
     },
     "execution_count": 240,
     "metadata": {},
     "output_type": "execute_result"
    }
   ],
   "source": [
    "test_recs['users_item_count'] = test_recs.groupby(level='user_id', sort=False)['rank'].transform(np.size)\n",
    "test_recs['reciprocal_rank'] = 1 / test_recs['rank']\n",
    "test_recs['reciprocal_rank'] = test_recs['reciprocal_rank'].fillna(0)\n",
    "test_recs['cumulative_rank'] = test_recs.groupby(level='user_id').cumcount() + 1\n",
    "test_recs['cumulative_rank'] = test_recs['cumulative_rank'] / test_recs['rank']\n",
    "test_recs.tail()"
   ]
  },
  {
   "cell_type": "code",
   "execution_count": 242,
   "id": "58925fe0-302c-40ef-9a55-381ecadaf767",
   "metadata": {},
   "outputs": [
    {
     "data": {
      "text/html": [
       "<div>\n",
       "<style scoped>\n",
       "    .dataframe tbody tr th:only-of-type {\n",
       "        vertical-align: middle;\n",
       "    }\n",
       "\n",
       "    .dataframe tbody tr th {\n",
       "        vertical-align: top;\n",
       "    }\n",
       "\n",
       "    .dataframe thead th {\n",
       "        text-align: right;\n",
       "    }\n",
       "</style>\n",
       "<table border=\"1\" class=\"dataframe\">\n",
       "  <thead>\n",
       "    <tr style=\"text-align: right;\">\n",
       "      <th></th>\n",
       "      <th></th>\n",
       "      <th>progress</th>\n",
       "      <th>rating</th>\n",
       "      <th>start_date</th>\n",
       "      <th>rank</th>\n",
       "      <th>users_item_count</th>\n",
       "      <th>reciprocal_rank</th>\n",
       "      <th>cumulative_rank</th>\n",
       "    </tr>\n",
       "    <tr>\n",
       "      <th>user_id</th>\n",
       "      <th>item_id</th>\n",
       "      <th></th>\n",
       "      <th></th>\n",
       "      <th></th>\n",
       "      <th></th>\n",
       "      <th></th>\n",
       "      <th></th>\n",
       "      <th></th>\n",
       "    </tr>\n",
       "  </thead>\n",
       "  <tbody>\n",
       "    <tr>\n",
       "      <th>474</th>\n",
       "      <th>235407</th>\n",
       "      <td>100</td>\n",
       "      <td>5.0</td>\n",
       "      <td>2019-12-25</td>\n",
       "      <td>1.0</td>\n",
       "      <td>1.0</td>\n",
       "      <td>1.000000</td>\n",
       "      <td>1.000000</td>\n",
       "    </tr>\n",
       "    <tr>\n",
       "      <th>1672</th>\n",
       "      <th>230067</th>\n",
       "      <td>12</td>\n",
       "      <td>NaN</td>\n",
       "      <td>2019-12-25</td>\n",
       "      <td>2.0</td>\n",
       "      <td>1.0</td>\n",
       "      <td>0.500000</td>\n",
       "      <td>0.500000</td>\n",
       "    </tr>\n",
       "    <tr>\n",
       "      <th>2345</th>\n",
       "      <th>208935</th>\n",
       "      <td>76</td>\n",
       "      <td>NaN</td>\n",
       "      <td>2019-12-25</td>\n",
       "      <td>6.0</td>\n",
       "      <td>1.0</td>\n",
       "      <td>0.166667</td>\n",
       "      <td>0.166667</td>\n",
       "    </tr>\n",
       "    <tr>\n",
       "      <th>9279</th>\n",
       "      <th>96052</th>\n",
       "      <td>100</td>\n",
       "      <td>NaN</td>\n",
       "      <td>2019-12-25</td>\n",
       "      <td>8.0</td>\n",
       "      <td>1.0</td>\n",
       "      <td>0.125000</td>\n",
       "      <td>0.125000</td>\n",
       "    </tr>\n",
       "    <tr>\n",
       "      <th>10260</th>\n",
       "      <th>35265</th>\n",
       "      <td>0</td>\n",
       "      <td>NaN</td>\n",
       "      <td>2019-12-25</td>\n",
       "      <td>3.0</td>\n",
       "      <td>1.0</td>\n",
       "      <td>0.333333</td>\n",
       "      <td>0.333333</td>\n",
       "    </tr>\n",
       "  </tbody>\n",
       "</table>\n",
       "</div>"
      ],
      "text/plain": [
       "                 progress  rating start_date  rank  users_item_count  \\\n",
       "user_id item_id                                                        \n",
       "474     235407        100     5.0 2019-12-25   1.0               1.0   \n",
       "1672    230067         12     NaN 2019-12-25   2.0               1.0   \n",
       "2345    208935         76     NaN 2019-12-25   6.0               1.0   \n",
       "9279    96052         100     NaN 2019-12-25   8.0               1.0   \n",
       "10260   35265           0     NaN 2019-12-25   3.0               1.0   \n",
       "\n",
       "                 reciprocal_rank  cumulative_rank  \n",
       "user_id item_id                                    \n",
       "474     235407          1.000000         1.000000  \n",
       "1672    230067          0.500000         0.500000  \n",
       "2345    208935          0.166667         0.166667  \n",
       "9279    96052           0.125000         0.125000  \n",
       "10260   35265           0.333333         0.333333  "
      ]
     },
     "execution_count": 242,
     "metadata": {},
     "output_type": "execute_result"
    }
   ],
   "source": [
    "test_recs[test_recs['rank'].notnull()].head()"
   ]
  },
  {
   "cell_type": "code",
   "execution_count": 243,
   "id": "c337c59a-cf2a-4bf4-ad56-6767524b5339",
   "metadata": {},
   "outputs": [
    {
     "name": "stdout",
     "output_type": "stream",
     "text": [
      "Метрик по test (2019-12-25, 2019-12-26)\n",
      "Precision@1 = 0.0091\n",
      "Recall@1 = 0.0089\n",
      "Precision@2 = 0.0071\n",
      "Recall@2 = 0.0128\n",
      "Precision@3 = 0.0067\n",
      "Recall@3 = 0.0173\n",
      "Precision@4 = 0.0053\n",
      "Recall@4 = 0.0182\n",
      "Precision@5 = 0.0047\n",
      "Recall@5 = 0.0200\n",
      "Precision@6 = 0.0046\n",
      "Recall@6 = 0.0240\n",
      "Precision@7 = 0.0046\n",
      "Recall@7 = 0.0277\n",
      "Precision@8 = 0.0042\n",
      "Recall@8 = 0.0295\n",
      "Precision@9 = 0.0038\n",
      "Recall@9 = 0.0297\n",
      "Precision@10 = 0.0037\n",
      "Recall@10 = 0.0316\n",
      "MAP@10 = 0.014664636080969606\n",
      "MRR = 0.015906783425344247\n"
     ]
    }
   ],
   "source": [
    "print(f'Метрик по test ({str(split_dates[0])[:10]}, {str(split_dates[1])[:10]})')\n",
    "users_count = test_recs.index.get_level_values('user_id').nunique()\n",
    "for k in range(1, top_N + 1):\n",
    "    hit_k = f'hit@{k}'\n",
    "    test_recs[hit_k] = test_recs['rank'] <= k\n",
    "    print(f'Precision@{k} = {(test_recs[hit_k] / k).sum() / users_count:.4f}')\n",
    "    print(f\"Recall@{k} = {(test_recs[hit_k] / test_recs['users_item_count']).sum() / users_count:.4f}\")\n",
    "\n",
    "mapN = (test_recs[\"cumulative_rank\"] / test_recs[\"users_item_count\"]).sum() / users_count\n",
    "print(f\"MAP@{top_N} = {mapN}\")\n",
    "\n",
    "mrr = test_recs.groupby(level='user_id')['reciprocal_rank'].max().mean()\n",
    "print(f\"MRR = {mrr}\")"
   ]
  },
  {
   "cell_type": "code",
   "execution_count": null,
   "id": "0da244ae-df1d-4a1a-804b-cdfa69cc9b23",
   "metadata": {},
   "outputs": [],
   "source": []
  }
 ],
 "metadata": {
  "kernelspec": {
   "display_name": "Python 3",
   "language": "python",
   "name": "python3"
  },
  "language_info": {
   "codemirror_mode": {
    "name": "ipython",
    "version": 3
   },
   "file_extension": ".py",
   "mimetype": "text/x-python",
   "name": "python",
   "nbconvert_exporter": "python",
   "pygments_lexer": "ipython3",
   "version": "3.7.9"
  }
 },
 "nbformat": 4,
 "nbformat_minor": 5
}
