{
 "cells": [
  {
   "cell_type": "markdown",
   "id": "ff3fcbcb-f4d4-4217-847c-b997decd1b09",
   "metadata": {},
   "source": [
    "### Implicit & LightFM\n"
   ]
  },
  {
   "cell_type": "code",
   "execution_count": 70,
   "id": "63deda9b-98eb-44c5-9f2c-cff8d8bf7961",
   "metadata": {},
   "outputs": [],
   "source": [
    "import os\n",
    "import numpy as np \n",
    "import pandas as pd \n",
    "\n",
    "import scipy.sparse as sp\n",
    "from itertools import islice, cycle\n",
    "from more_itertools import pairwise\n",
    "from tqdm.auto import tqdm\n",
    "\n",
    "from src.validation import TimeRangeSplit\n",
    "from src.metrics import compute_metrics\n",
    "from src.sparse import get_coo_matrix\n",
    "from src.implicit import generate_implicit_recs_mapper\n",
    "\n",
    "from implicit.nearest_neighbours import CosineRecommender, BM25Recommender, TFIDFRecommender"
   ]
  },
  {
   "cell_type": "code",
   "execution_count": 42,
   "id": "30f03dce-b6d2-4025-8afa-d33303f10857",
   "metadata": {},
   "outputs": [
    {
     "name": "stdout",
     "output_type": "stream",
     "text": [
      "D:\\GIT_REPOES\\Courses-Cheat_Sheets\\Courses\\Your First RecSys [ODS]\\data\n"
     ]
    }
   ],
   "source": [
    "cd D:\\GIT_REPOES\\Courses-Cheat_Sheets\\Courses\\Your First RecSys [ODS]\\data"
   ]
  },
  {
   "cell_type": "code",
   "execution_count": 43,
   "id": "34a5a09f-693d-4e3e-8987-6303f1b18ac3",
   "metadata": {},
   "outputs": [],
   "source": [
    "# Data Loading\n",
    "users_df = pd.read_pickle('users_preprocessed.pickle')\n",
    "items_df = pd.read_pickle('items_preprocessed.pickle')\n",
    "interactions_df = pd.read_pickle('interactions_preprocessed.pickle')"
   ]
  },
  {
   "cell_type": "code",
   "execution_count": 44,
   "id": "d0492c7f-cbef-4418-882b-b0dbd55fb49d",
   "metadata": {},
   "outputs": [
    {
     "name": "stdout",
     "output_type": "stream",
     "text": [
      "Users:  (142888, 3)\n",
      "Items:  (59599, 5)\n",
      "Interatcions:  (1532998, 5)\n"
     ]
    }
   ],
   "source": [
    "# Matrices Shape\n",
    "print('Users: ', users_df.shape)\n",
    "print('Items: ', items_df.shape)\n",
    "print('Interatcions: ', interactions_df.shape)"
   ]
  },
  {
   "cell_type": "code",
   "execution_count": 45,
   "id": "39be76eb-1796-4f9f-880e-5e1e40c8ec29",
   "metadata": {},
   "outputs": [
    {
     "data": {
      "text/plain": [
       "151600"
      ]
     },
     "execution_count": 45,
     "metadata": {},
     "output_type": "execute_result"
    }
   ],
   "source": [
    "# Mapping unique users from interactions_df\n",
    "users_inv_mapping = dict(enumerate(interactions_df['user_id'].unique()))\n",
    "users_mapping = {v: k for k, v in users_inv_mapping.items()}\n",
    "len(users_mapping)"
   ]
  },
  {
   "cell_type": "code",
   "execution_count": 46,
   "id": "4621a200-7a6a-4cb1-8ea7-22cb611b0ae5",
   "metadata": {},
   "outputs": [
    {
     "data": {
      "text/plain": [
       "59599"
      ]
     },
     "execution_count": 46,
     "metadata": {},
     "output_type": "execute_result"
    }
   ],
   "source": [
    "# Mapping unique items from interactions_df\n",
    "items_inv_mapping = dict(enumerate(interactions_df['item_id'].unique()))\n",
    "items_mapping = {v: k for k, v in items_inv_mapping.items()}\n",
    "len(items_mapping)"
   ]
  },
  {
   "cell_type": "code",
   "execution_count": 47,
   "id": "ee56d193-27ec-4357-81cc-4079f0216bfe",
   "metadata": {},
   "outputs": [
    {
     "name": "stdout",
     "output_type": "stream",
     "text": [
      "Titles Count:  59599\n"
     ]
    },
    {
     "data": {
      "text/plain": [
       "'Праздный разговор'"
      ]
     },
     "execution_count": 47,
     "metadata": {},
     "output_type": "execute_result"
    }
   ],
   "source": [
    "titles = pd.Series(items_df['title'].values, items_df['id']).to_dict()\n",
    "print('Titles Count: ', len(titles))\n",
    "\n",
    "# Accessing a title using id \n",
    "titles[221944]"
   ]
  },
  {
   "cell_type": "code",
   "execution_count": 48,
   "id": "b5da4ed9-1427-4e80-a48c-f711f55e22e1",
   "metadata": {},
   "outputs": [
    {
     "data": {
      "text/plain": [
       "title\n",
       "# 20 восьмая                                                     [201623]\n",
       "# DUO                                                             [72582]\n",
       "# Me Too. Роман                                                  [171172]\n",
       "# Партия                                                         [224512]\n",
       "#1917: Человек из раньшего времени. Библиотека «Проекта 1917»    [230768]\n",
       "                                                                   ...   \n",
       "…хоть потоп!                                                      [55093]\n",
       "№ 12, или История одного прекрасного юноши                        [20979]\n",
       "伦巴德人的故事                                                          [119226]\n",
       "地球への旅                                                            [148400]\n",
       "�Baby blues�                                                      [98635]\n",
       "Name: id, Length: 57358, dtype: object"
      ]
     },
     "execution_count": 48,
     "metadata": {},
     "output_type": "execute_result"
    }
   ],
   "source": [
    "title_items = items_df.groupby('title')['id'].agg(list)\n",
    "title_items"
   ]
  },
  {
   "cell_type": "code",
   "execution_count": 49,
   "id": "5ccdfa9e-0b32-421a-a77c-0e92f0b0b206",
   "metadata": {},
   "outputs": [
    {
     "data": {
      "text/plain": [
       "1     55826\n",
       "2      1163\n",
       "3       232\n",
       "4        71\n",
       "5        36\n",
       "6        12\n",
       "7         7\n",
       "8         3\n",
       "9         2\n",
       "23        1\n",
       "18        1\n",
       "47        1\n",
       "13        1\n",
       "12        1\n",
       "11        1\n",
       "Name: id, dtype: int64"
      ]
     },
     "execution_count": 49,
     "metadata": {},
     "output_type": "execute_result"
    }
   ],
   "source": [
    "title_count = title_items.map(len)\n",
    "title_count.value_counts()"
   ]
  },
  {
   "cell_type": "code",
   "execution_count": 50,
   "id": "df82ed31-e0ef-4161-8991-d77c06fc15ad",
   "metadata": {},
   "outputs": [
    {
     "data": {
      "text/plain": [
       "title\n",
       "Яма                                              [60156, 165785]\n",
       "Янки из Коннектикута при дворе короля Артура      [14759, 56530]\n",
       "Японская диета                                   [168986, 74652]\n",
       "Яр                                                [168761, 5371]\n",
       "Ящик Пандоры                                    [236465, 158851]\n",
       "Name: id, dtype: object"
      ]
     },
     "execution_count": 50,
     "metadata": {},
     "output_type": "execute_result"
    }
   ],
   "source": [
    "title_items[title_count > 1].tail()"
   ]
  },
  {
   "cell_type": "code",
   "execution_count": 51,
   "id": "55bebea1-312e-45a0-a718-99e86755cbc1",
   "metadata": {},
   "outputs": [
    {
     "data": {
      "text/html": [
       "<div>\n",
       "<style scoped>\n",
       "    .dataframe tbody tr th:only-of-type {\n",
       "        vertical-align: middle;\n",
       "    }\n",
       "\n",
       "    .dataframe tbody tr th {\n",
       "        vertical-align: top;\n",
       "    }\n",
       "\n",
       "    .dataframe thead th {\n",
       "        text-align: right;\n",
       "    }\n",
       "</style>\n",
       "<table border=\"1\" class=\"dataframe\">\n",
       "  <thead>\n",
       "    <tr style=\"text-align: right;\">\n",
       "      <th></th>\n",
       "      <th>id</th>\n",
       "      <th>title</th>\n",
       "      <th>genres</th>\n",
       "      <th>authors</th>\n",
       "      <th>year</th>\n",
       "    </tr>\n",
       "  </thead>\n",
       "  <tbody>\n",
       "    <tr>\n",
       "      <th>40426</th>\n",
       "      <td>236465</td>\n",
       "      <td>Ящик Пандоры</td>\n",
       "      <td>Любовно-фантастические романы,Научная фантастика</td>\n",
       "      <td>Филипп Хорват</td>\n",
       "      <td>2017</td>\n",
       "    </tr>\n",
       "    <tr>\n",
       "      <th>54854</th>\n",
       "      <td>158851</td>\n",
       "      <td>Ящик Пандоры</td>\n",
       "      <td>Мистика,Современная зарубежная литература</td>\n",
       "      <td>Бернар Вербер</td>\n",
       "      <td>2018</td>\n",
       "    </tr>\n",
       "  </tbody>\n",
       "</table>\n",
       "</div>"
      ],
      "text/plain": [
       "           id         title                                            genres  \\\n",
       "40426  236465  Ящик Пандоры  Любовно-фантастические романы,Научная фантастика   \n",
       "54854  158851  Ящик Пандоры         Мистика,Современная зарубежная литература   \n",
       "\n",
       "             authors  year  \n",
       "40426  Филипп Хорват  2017  \n",
       "54854  Бернар Вербер  2018  "
      ]
     },
     "execution_count": 51,
     "metadata": {},
     "output_type": "execute_result"
    }
   ],
   "source": [
    "items_df[items_df['title'] == 'Ящик Пандоры']"
   ]
  },
  {
   "cell_type": "code",
   "execution_count": 52,
   "id": "630fe3c8-b9b8-48f3-a6b2-6ed00f7eb8ba",
   "metadata": {},
   "outputs": [],
   "source": [
    "interactions_df['rating'] = np.array(interactions_df['rating'].values, dtype=np.float32)"
   ]
  },
  {
   "cell_type": "code",
   "execution_count": 53,
   "id": "1f4ce3f4-b21b-4a07-9511-5a5cdc85dd78",
   "metadata": {},
   "outputs": [
    {
     "data": {
      "text/html": [
       "<div>\n",
       "<style scoped>\n",
       "    .dataframe tbody tr th:only-of-type {\n",
       "        vertical-align: middle;\n",
       "    }\n",
       "\n",
       "    .dataframe tbody tr th {\n",
       "        vertical-align: top;\n",
       "    }\n",
       "\n",
       "    .dataframe thead tr th {\n",
       "        text-align: left;\n",
       "    }\n",
       "\n",
       "    .dataframe thead tr:last-of-type th {\n",
       "        text-align: right;\n",
       "    }\n",
       "</style>\n",
       "<table border=\"1\" class=\"dataframe\">\n",
       "  <thead>\n",
       "    <tr>\n",
       "      <th></th>\n",
       "      <th>progress</th>\n",
       "      <th>rating</th>\n",
       "      <th colspan=\"2\" halign=\"left\">start_date</th>\n",
       "    </tr>\n",
       "    <tr>\n",
       "      <th></th>\n",
       "      <th>size</th>\n",
       "      <th>mean</th>\n",
       "      <th>min</th>\n",
       "      <th>max</th>\n",
       "    </tr>\n",
       "    <tr>\n",
       "      <th>item_id</th>\n",
       "      <th></th>\n",
       "      <th></th>\n",
       "      <th></th>\n",
       "      <th></th>\n",
       "    </tr>\n",
       "  </thead>\n",
       "  <tbody>\n",
       "    <tr>\n",
       "      <th>44681</th>\n",
       "      <td>353</td>\n",
       "      <td>4.56</td>\n",
       "      <td>2018-01-24</td>\n",
       "      <td>2019-12-20</td>\n",
       "    </tr>\n",
       "    <tr>\n",
       "      <th>162716</th>\n",
       "      <td>59</td>\n",
       "      <td>4.80</td>\n",
       "      <td>2018-01-25</td>\n",
       "      <td>2019-12-30</td>\n",
       "    </tr>\n",
       "  </tbody>\n",
       "</table>\n",
       "</div>"
      ],
      "text/plain": [
       "        progress rating start_date           \n",
       "            size   mean        min        max\n",
       "item_id                                      \n",
       "44681        353   4.56 2018-01-24 2019-12-20\n",
       "162716        59   4.80 2018-01-25 2019-12-30"
      ]
     },
     "execution_count": 53,
     "metadata": {},
     "output_type": "execute_result"
    }
   ],
   "source": [
    "interactions_df.loc[interactions_df['item_id'].isin([44681, 162716])].groupby('item_id').agg({\n",
    "    'progress': np.size,\n",
    "    'rating': ['mean'],\n",
    "    'start_date': ['min', 'max']\n",
    "})"
   ]
  },
  {
   "cell_type": "markdown",
   "id": "a747ef3f-c9e3-4730-97f6-58018ea3a028",
   "metadata": {},
   "source": [
    "### Validation\n",
    "Select 7 last days and test sequentially "
   ]
  },
  {
   "cell_type": "code",
   "execution_count": 54,
   "id": "393b6654-ac54-4c4f-b07f-ab7e4e935254",
   "metadata": {},
   "outputs": [
    {
     "data": {
      "text/plain": [
       "(Timestamp('2019-12-24 00:00:00'), Timestamp('2019-12-31 00:00:00'))"
      ]
     },
     "execution_count": 54,
     "metadata": {},
     "output_type": "execute_result"
    }
   ],
   "source": [
    "last_date = interactions_df['start_date'].max().normalize()\n",
    "folds = 7\n",
    "start_date = last_date - pd.Timedelta(days=folds)\n",
    "start_date, last_date"
   ]
  },
  {
   "cell_type": "code",
   "execution_count": 55,
   "id": "b7faafc7-86d5-4311-8967-b226943a399e",
   "metadata": {},
   "outputs": [
    {
     "data": {
      "text/plain": [
       "(7, 7)"
      ]
     },
     "execution_count": 55,
     "metadata": {},
     "output_type": "execute_result"
    }
   ],
   "source": [
    "cv = TimeRangeSplit(start_date=start_date, periods=folds+1)\n",
    "\n",
    "cv.max_n_splits, cv.get_n_splits(interactions_df, datetime_column='start_date')"
   ]
  },
  {
   "cell_type": "code",
   "execution_count": 56,
   "id": "a06b3e06-a6f2-4532-9a6d-9588c3fff078",
   "metadata": {},
   "outputs": [
    {
     "data": {
      "text/plain": [
       "DatetimeIndex(['2019-12-24', '2019-12-25', '2019-12-26', '2019-12-27',\n",
       "               '2019-12-28', '2019-12-29', '2019-12-30', '2019-12-31'],\n",
       "              dtype='datetime64[ns]', freq='D')"
      ]
     },
     "execution_count": 56,
     "metadata": {},
     "output_type": "execute_result"
    }
   ],
   "source": [
    "cv.date_range"
   ]
  },
  {
   "cell_type": "code",
   "execution_count": 57,
   "id": "3d030cbf-0882-40b1-ade5-4417fc55fd51",
   "metadata": {},
   "outputs": [],
   "source": [
    "folds_with_stats = list(cv.split(\n",
    "    interactions_df, \n",
    "    user_column='user_id',\n",
    "    item_column='item_id',\n",
    "    datetime_column='start_date',\n",
    "    fold_stats=True\n",
    "))\n",
    "\n",
    "folds_info_with_stats = pd.DataFrame([info for _, _, info in folds_with_stats])"
   ]
  },
  {
   "cell_type": "code",
   "execution_count": 58,
   "id": "3fa0adc5-83e9-47b3-9a17-6157a9bbf280",
   "metadata": {},
   "outputs": [
    {
     "data": {
      "text/html": [
       "<div>\n",
       "<style scoped>\n",
       "    .dataframe tbody tr th:only-of-type {\n",
       "        vertical-align: middle;\n",
       "    }\n",
       "\n",
       "    .dataframe tbody tr th {\n",
       "        vertical-align: top;\n",
       "    }\n",
       "\n",
       "    .dataframe thead th {\n",
       "        text-align: right;\n",
       "    }\n",
       "</style>\n",
       "<table border=\"1\" class=\"dataframe\">\n",
       "  <thead>\n",
       "    <tr style=\"text-align: right;\">\n",
       "      <th></th>\n",
       "      <th>Start date</th>\n",
       "      <th>End date</th>\n",
       "      <th>Train</th>\n",
       "      <th>New users</th>\n",
       "      <th>New users interactions</th>\n",
       "      <th>New items</th>\n",
       "      <th>New items interactions</th>\n",
       "      <th>Known interactions</th>\n",
       "      <th>Test</th>\n",
       "    </tr>\n",
       "  </thead>\n",
       "  <tbody>\n",
       "    <tr>\n",
       "      <th>0</th>\n",
       "      <td>2019-12-24</td>\n",
       "      <td>2019-12-25</td>\n",
       "      <td>1515946</td>\n",
       "      <td>3</td>\n",
       "      <td>3</td>\n",
       "      <td>0</td>\n",
       "      <td>0</td>\n",
       "      <td>0</td>\n",
       "      <td>2045</td>\n",
       "    </tr>\n",
       "    <tr>\n",
       "      <th>1</th>\n",
       "      <td>2019-12-25</td>\n",
       "      <td>2019-12-26</td>\n",
       "      <td>1517994</td>\n",
       "      <td>1</td>\n",
       "      <td>1</td>\n",
       "      <td>0</td>\n",
       "      <td>0</td>\n",
       "      <td>0</td>\n",
       "      <td>2141</td>\n",
       "    </tr>\n",
       "    <tr>\n",
       "      <th>2</th>\n",
       "      <td>2019-12-26</td>\n",
       "      <td>2019-12-27</td>\n",
       "      <td>1520136</td>\n",
       "      <td>0</td>\n",
       "      <td>0</td>\n",
       "      <td>0</td>\n",
       "      <td>0</td>\n",
       "      <td>0</td>\n",
       "      <td>2177</td>\n",
       "    </tr>\n",
       "    <tr>\n",
       "      <th>3</th>\n",
       "      <td>2019-12-27</td>\n",
       "      <td>2019-12-28</td>\n",
       "      <td>1522313</td>\n",
       "      <td>0</td>\n",
       "      <td>0</td>\n",
       "      <td>0</td>\n",
       "      <td>0</td>\n",
       "      <td>0</td>\n",
       "      <td>2110</td>\n",
       "    </tr>\n",
       "    <tr>\n",
       "      <th>4</th>\n",
       "      <td>2019-12-28</td>\n",
       "      <td>2019-12-29</td>\n",
       "      <td>1524423</td>\n",
       "      <td>2</td>\n",
       "      <td>4</td>\n",
       "      <td>0</td>\n",
       "      <td>0</td>\n",
       "      <td>0</td>\n",
       "      <td>2205</td>\n",
       "    </tr>\n",
       "    <tr>\n",
       "      <th>5</th>\n",
       "      <td>2019-12-29</td>\n",
       "      <td>2019-12-30</td>\n",
       "      <td>1526632</td>\n",
       "      <td>4</td>\n",
       "      <td>4</td>\n",
       "      <td>0</td>\n",
       "      <td>0</td>\n",
       "      <td>0</td>\n",
       "      <td>2118</td>\n",
       "    </tr>\n",
       "    <tr>\n",
       "      <th>6</th>\n",
       "      <td>2019-12-30</td>\n",
       "      <td>2019-12-31</td>\n",
       "      <td>1528754</td>\n",
       "      <td>1</td>\n",
       "      <td>1</td>\n",
       "      <td>0</td>\n",
       "      <td>0</td>\n",
       "      <td>0</td>\n",
       "      <td>2168</td>\n",
       "    </tr>\n",
       "  </tbody>\n",
       "</table>\n",
       "</div>"
      ],
      "text/plain": [
       "  Start date   End date    Train  New users  New users interactions  \\\n",
       "0 2019-12-24 2019-12-25  1515946          3                       3   \n",
       "1 2019-12-25 2019-12-26  1517994          1                       1   \n",
       "2 2019-12-26 2019-12-27  1520136          0                       0   \n",
       "3 2019-12-27 2019-12-28  1522313          0                       0   \n",
       "4 2019-12-28 2019-12-29  1524423          2                       4   \n",
       "5 2019-12-29 2019-12-30  1526632          4                       4   \n",
       "6 2019-12-30 2019-12-31  1528754          1                       1   \n",
       "\n",
       "   New items  New items interactions  Known interactions  Test  \n",
       "0          0                       0                   0  2045  \n",
       "1          0                       0                   0  2141  \n",
       "2          0                       0                   0  2177  \n",
       "3          0                       0                   0  2110  \n",
       "4          0                       0                   0  2205  \n",
       "5          0                       0                   0  2118  \n",
       "6          0                       0                   0  2168  "
      ]
     },
     "execution_count": 58,
     "metadata": {},
     "output_type": "execute_result"
    }
   ],
   "source": [
    "folds_info_with_stats"
   ]
  },
  {
   "cell_type": "code",
   "execution_count": 59,
   "id": "c583564d-463f-41ed-8c1b-8cd1fb8b2687",
   "metadata": {},
   "outputs": [
    {
     "data": {
      "text/plain": [
       "[(Timestamp('2019-12-24 00:00:00', freq='D'),\n",
       "  Timestamp('2019-12-25 00:00:00', freq='D')),\n",
       " (Timestamp('2019-12-25 00:00:00', freq='D'),\n",
       "  Timestamp('2019-12-26 00:00:00', freq='D')),\n",
       " (Timestamp('2019-12-26 00:00:00', freq='D'),\n",
       "  Timestamp('2019-12-27 00:00:00', freq='D')),\n",
       " (Timestamp('2019-12-27 00:00:00', freq='D'),\n",
       "  Timestamp('2019-12-28 00:00:00', freq='D')),\n",
       " (Timestamp('2019-12-28 00:00:00', freq='D'),\n",
       "  Timestamp('2019-12-29 00:00:00', freq='D')),\n",
       " (Timestamp('2019-12-29 00:00:00', freq='D'),\n",
       "  Timestamp('2019-12-30 00:00:00', freq='D')),\n",
       " (Timestamp('2019-12-30 00:00:00', freq='D'),\n",
       "  Timestamp('2019-12-31 00:00:00', freq='D'))]"
      ]
     },
     "execution_count": 59,
     "metadata": {},
     "output_type": "execute_result"
    }
   ],
   "source": [
    "fold_dates = [(info['Start date'], info['End date']) for _, _, info in folds_with_stats]\n",
    "fold_dates"
   ]
  },
  {
   "cell_type": "markdown",
   "id": "19f272a9-3ece-44b2-a933-deeeba1a24fa",
   "metadata": {},
   "source": [
    "### Implicit Library\n",
    "- Target - Implicit\n",
    "- Input data - Sparse matrices with float32/float64 datatype"
   ]
  },
  {
   "cell_type": "code",
   "execution_count": 60,
   "id": "98c44179-f696-426a-9071-9c996f6c6b65",
   "metadata": {},
   "outputs": [
    {
     "name": "stdout",
     "output_type": "stream",
     "text": [
      "Train Shape:  (1515946, 5)\n",
      "Test Shape:  (2045, 5)\n"
     ]
    }
   ],
   "source": [
    "train_idx, test_idx, info = folds_with_stats[0]\n",
    "\n",
    "train = interactions_df.loc[train_idx]\n",
    "test = interactions_df.loc[test_idx]\n",
    "\n",
    "\n",
    "print('Train Shape: ', train.shape)\n",
    "print('Test Shape: ', test.shape)"
   ]
  },
  {
   "cell_type": "code",
   "execution_count": 61,
   "id": "07aed80b-8893-4164-a1ce-e571ab0669eb",
   "metadata": {},
   "outputs": [
    {
     "data": {
      "text/plain": [
       "<151589x59599 sparse matrix of type '<class 'numpy.float32'>'\n",
       "\twith 1515946 stored elements in Compressed Sparse Row format>"
      ]
     },
     "execution_count": 61,
     "metadata": {},
     "output_type": "execute_result"
    }
   ],
   "source": [
    "train_sparse = get_coo_matrix(train, users_mapping=users_mapping, items_mapping=items_mapping).tocsr()\n",
    "train_sparse"
   ]
  },
  {
   "cell_type": "markdown",
   "id": "e14d85ca-2323-4027-a69e-c14b898b4a03",
   "metadata": {},
   "source": [
    "### Item2Item Models\n",
    "Similar items are defined using `cosine measure` for those objects that has been seen by a user (i.e. interacted)\n",
    "\n",
    "Models: \n",
    "- `CosineRecommender`,\n",
    "- `BM25Recommender`\n",
    "- `TFIDFRecommender`\n",
    "\n",
    "They take in a matrix (**item_user** not user_item), thus we have to pass `train_sparse.T`\n"
   ]
  },
  {
   "cell_type": "code",
   "execution_count": 62,
   "id": "5081bc5d-65af-4d71-9b32-56c6cf19db26",
   "metadata": {},
   "outputs": [
    {
     "data": {
      "application/vnd.jupyter.widget-view+json": {
       "model_id": "3d636cb96baf4f36a738ddbb3e086d53",
       "version_major": 2,
       "version_minor": 0
      },
      "text/plain": [
       "HBox(children=(HTML(value=''), FloatProgress(value=0.0, max=151589.0), HTML(value='')))"
      ]
     },
     "metadata": {},
     "output_type": "display_data"
    },
    {
     "name": "stdout",
     "output_type": "stream",
     "text": [
      "\n"
     ]
    }
   ],
   "source": [
    "# Model Building \n",
    "cosine_model = CosineRecommender(K=10)\n",
    "cosine_model.fit(train_sparse.T) "
   ]
  },
  {
   "cell_type": "code",
   "execution_count": 63,
   "id": "84789673-e6d8-43ff-bef4-20c1e12b4fc6",
   "metadata": {},
   "outputs": [
    {
     "name": "stdout",
     "output_type": "stream",
     "text": [
      "Рекомендации для пользователя 139942, номер строки - 10346\n"
     ]
    }
   ],
   "source": [
    "top_N = 10\n",
    "user_id = test['user_id'].iloc[0]\n",
    "row_id = users_mapping[user_id]\n",
    "print(f'Рекомендации для пользователя {user_id}, номер строки - {row_id}')"
   ]
  },
  {
   "cell_type": "markdown",
   "id": "131fbe33-e2d9-4277-b7d9-48ff09633c61",
   "metadata": {},
   "source": [
    "`K` parameter defines the size of a top-k elements in a final recommendation list. Thus, parameter `N` better to be lower than `K`\n",
    "\n",
    "\n"
   ]
  },
  {
   "cell_type": "code",
   "execution_count": 64,
   "id": "e5cf6ec9-53b4-4337-ace0-49d5c35d56b7",
   "metadata": {},
   "outputs": [
    {
     "data": {
      "text/html": [
       "<div>\n",
       "<style scoped>\n",
       "    .dataframe tbody tr th:only-of-type {\n",
       "        vertical-align: middle;\n",
       "    }\n",
       "\n",
       "    .dataframe tbody tr th {\n",
       "        vertical-align: top;\n",
       "    }\n",
       "\n",
       "    .dataframe thead th {\n",
       "        text-align: right;\n",
       "    }\n",
       "</style>\n",
       "<table border=\"1\" class=\"dataframe\">\n",
       "  <thead>\n",
       "    <tr style=\"text-align: right;\">\n",
       "      <th></th>\n",
       "      <th>col_id</th>\n",
       "      <th>similarity</th>\n",
       "    </tr>\n",
       "  </thead>\n",
       "  <tbody>\n",
       "    <tr>\n",
       "      <th>0</th>\n",
       "      <td>91935</td>\n",
       "      <td>0.333333</td>\n",
       "    </tr>\n",
       "    <tr>\n",
       "      <th>1</th>\n",
       "      <td>126579</td>\n",
       "      <td>0.333333</td>\n",
       "    </tr>\n",
       "    <tr>\n",
       "      <th>2</th>\n",
       "      <td>137749</td>\n",
       "      <td>0.353553</td>\n",
       "    </tr>\n",
       "    <tr>\n",
       "      <th>3</th>\n",
       "      <td>132059</td>\n",
       "      <td>0.353553</td>\n",
       "    </tr>\n",
       "    <tr>\n",
       "      <th>4</th>\n",
       "      <td>132029</td>\n",
       "      <td>0.353553</td>\n",
       "    </tr>\n",
       "    <tr>\n",
       "      <th>5</th>\n",
       "      <td>148884</td>\n",
       "      <td>0.353553</td>\n",
       "    </tr>\n",
       "    <tr>\n",
       "      <th>6</th>\n",
       "      <td>151350</td>\n",
       "      <td>0.377964</td>\n",
       "    </tr>\n",
       "    <tr>\n",
       "      <th>7</th>\n",
       "      <td>47006</td>\n",
       "      <td>0.408248</td>\n",
       "    </tr>\n",
       "    <tr>\n",
       "      <th>8</th>\n",
       "      <td>5254</td>\n",
       "      <td>0.518545</td>\n",
       "    </tr>\n",
       "    <tr>\n",
       "      <th>9</th>\n",
       "      <td>58022</td>\n",
       "      <td>0.377964</td>\n",
       "    </tr>\n",
       "  </tbody>\n",
       "</table>\n",
       "</div>"
      ],
      "text/plain": [
       "   col_id  similarity\n",
       "0   91935    0.333333\n",
       "1  126579    0.333333\n",
       "2  137749    0.353553\n",
       "3  132059    0.353553\n",
       "4  132029    0.353553\n",
       "5  148884    0.353553\n",
       "6  151350    0.377964\n",
       "7   47006    0.408248\n",
       "8    5254    0.518545\n",
       "9   58022    0.377964"
      ]
     },
     "execution_count": 64,
     "metadata": {},
     "output_type": "execute_result"
    }
   ],
   "source": [
    "recs = cosine_model.recommend(row_id, train_sparse, N=top_N, filter_already_liked_items=True)\n",
    "recs = pd.DataFrame({'col_id': recs[0] , 'similarity': recs[1]})\n",
    "recs"
   ]
  },
  {
   "cell_type": "code",
   "execution_count": null,
   "id": "440dff4e-e97f-4d55-8dc7-495431c84088",
   "metadata": {},
   "outputs": [],
   "source": []
  },
  {
   "cell_type": "code",
   "execution_count": 68,
   "id": "8bc4feb1-fddb-4cfa-90ee-ecfebc3ff14c",
   "metadata": {},
   "outputs": [
    {
     "data": {
      "text/html": [
       "<div>\n",
       "<style scoped>\n",
       "    .dataframe tbody tr th:only-of-type {\n",
       "        vertical-align: middle;\n",
       "    }\n",
       "\n",
       "    .dataframe tbody tr th {\n",
       "        vertical-align: top;\n",
       "    }\n",
       "\n",
       "    .dataframe thead th {\n",
       "        text-align: right;\n",
       "    }\n",
       "</style>\n",
       "<table border=\"1\" class=\"dataframe\">\n",
       "  <thead>\n",
       "    <tr style=\"text-align: right;\">\n",
       "      <th></th>\n",
       "      <th>col_id</th>\n",
       "      <th>similarity</th>\n",
       "      <th>item_id</th>\n",
       "      <th>title</th>\n",
       "    </tr>\n",
       "  </thead>\n",
       "  <tbody>\n",
       "    <tr>\n",
       "      <th>0</th>\n",
       "      <td>91935</td>\n",
       "      <td>0.333333</td>\n",
       "      <td>NaN</td>\n",
       "      <td>None</td>\n",
       "    </tr>\n",
       "    <tr>\n",
       "      <th>1</th>\n",
       "      <td>126579</td>\n",
       "      <td>0.333333</td>\n",
       "      <td>NaN</td>\n",
       "      <td>None</td>\n",
       "    </tr>\n",
       "    <tr>\n",
       "      <th>2</th>\n",
       "      <td>137749</td>\n",
       "      <td>0.353553</td>\n",
       "      <td>NaN</td>\n",
       "      <td>None</td>\n",
       "    </tr>\n",
       "    <tr>\n",
       "      <th>3</th>\n",
       "      <td>132059</td>\n",
       "      <td>0.353553</td>\n",
       "      <td>NaN</td>\n",
       "      <td>None</td>\n",
       "    </tr>\n",
       "    <tr>\n",
       "      <th>4</th>\n",
       "      <td>132029</td>\n",
       "      <td>0.353553</td>\n",
       "      <td>NaN</td>\n",
       "      <td>None</td>\n",
       "    </tr>\n",
       "    <tr>\n",
       "      <th>5</th>\n",
       "      <td>148884</td>\n",
       "      <td>0.353553</td>\n",
       "      <td>NaN</td>\n",
       "      <td>None</td>\n",
       "    </tr>\n",
       "    <tr>\n",
       "      <th>6</th>\n",
       "      <td>151350</td>\n",
       "      <td>0.377964</td>\n",
       "      <td>NaN</td>\n",
       "      <td>None</td>\n",
       "    </tr>\n",
       "    <tr>\n",
       "      <th>7</th>\n",
       "      <td>47006</td>\n",
       "      <td>0.408248</td>\n",
       "      <td>57989.0</td>\n",
       "      <td>39 ключей: Гнездо гадюки. Код императора</td>\n",
       "    </tr>\n",
       "    <tr>\n",
       "      <th>8</th>\n",
       "      <td>5254</td>\n",
       "      <td>0.518545</td>\n",
       "      <td>85506.0</td>\n",
       "      <td>Путь к теннисному Олимпу</td>\n",
       "    </tr>\n",
       "    <tr>\n",
       "      <th>9</th>\n",
       "      <td>58022</td>\n",
       "      <td>0.377964</td>\n",
       "      <td>148226.0</td>\n",
       "      <td>Известия 08-2019</td>\n",
       "    </tr>\n",
       "  </tbody>\n",
       "</table>\n",
       "</div>"
      ],
      "text/plain": [
       "   col_id  similarity   item_id                                     title\n",
       "0   91935    0.333333       NaN                                      None\n",
       "1  126579    0.333333       NaN                                      None\n",
       "2  137749    0.353553       NaN                                      None\n",
       "3  132059    0.353553       NaN                                      None\n",
       "4  132029    0.353553       NaN                                      None\n",
       "5  148884    0.353553       NaN                                      None\n",
       "6  151350    0.377964       NaN                                      None\n",
       "7   47006    0.408248   57989.0  39 ключей: Гнездо гадюки. Код императора\n",
       "8    5254    0.518545   85506.0                  Путь к теннисному Олимпу\n",
       "9   58022    0.377964  148226.0                          Известия 08-2019"
      ]
     },
     "execution_count": 68,
     "metadata": {},
     "output_type": "execute_result"
    }
   ],
   "source": [
    "# Add item name \n",
    "recs['item_id'] = recs['col_id'].map(items_inv_mapping.get)\n",
    "recs['title'] = recs['item_id'].map(titles.get)\n",
    "recs"
   ]
  },
  {
   "cell_type": "code",
   "execution_count": 72,
   "id": "37d7abdd-02f5-49d3-a38f-b5686deea6cd",
   "metadata": {},
   "outputs": [
    {
     "data": {
      "text/plain": [
       "<function src.implicit.generate_implicit_recs_mapper.<locals>._recs_mapper(user)>"
      ]
     },
     "execution_count": 72,
     "metadata": {},
     "output_type": "execute_result"
    }
   ],
   "source": [
    "mapper = generate_implicit_recs_mapper(cosine_model, train_sparse, top_N, users_mapping, items_inv_mapping)\n",
    "mapper"
   ]
  },
  {
   "cell_type": "code",
   "execution_count": null,
   "id": "6e36e4bb-40c7-4ef8-9af3-4bcdaebe1949",
   "metadata": {},
   "outputs": [],
   "source": []
  },
  {
   "cell_type": "code",
   "execution_count": 76,
   "id": "d10f8831-4f1b-49b6-9bda-eca3da8dd40f",
   "metadata": {},
   "outputs": [],
   "source": [
    "# recs = pd.DataFrame({\n",
    "#     'user_id': test['user_id'].unique()\n",
    "# })\n",
    "# recs['item_id'] = recs['user_id'].map(mapper)\n",
    "# recs.head()"
   ]
  },
  {
   "cell_type": "code",
   "execution_count": null,
   "id": "6c44cede-6cd7-4c34-8468-1ec97014fc07",
   "metadata": {},
   "outputs": [],
   "source": []
  },
  {
   "cell_type": "code",
   "execution_count": null,
   "id": "7133c766-2403-4f79-a991-847e745bf914",
   "metadata": {},
   "outputs": [],
   "source": []
  },
  {
   "cell_type": "code",
   "execution_count": null,
   "id": "77f3eec1-2d2c-42d7-9160-f582880dbf19",
   "metadata": {},
   "outputs": [],
   "source": []
  },
  {
   "cell_type": "code",
   "execution_count": null,
   "id": "7ac80665-8e27-4a59-be03-5bbdeda3b72b",
   "metadata": {},
   "outputs": [],
   "source": []
  },
  {
   "cell_type": "code",
   "execution_count": null,
   "id": "3e3f140c-2c90-48b2-9862-fc1e41eabf47",
   "metadata": {},
   "outputs": [],
   "source": []
  }
 ],
 "metadata": {
  "kernelspec": {
   "display_name": "Python 3",
   "language": "python",
   "name": "python3"
  },
  "language_info": {
   "codemirror_mode": {
    "name": "ipython",
    "version": 3
   },
   "file_extension": ".py",
   "mimetype": "text/x-python",
   "name": "python",
   "nbconvert_exporter": "python",
   "pygments_lexer": "ipython3",
   "version": "3.7.9"
  }
 },
 "nbformat": 4,
 "nbformat_minor": 5
}
