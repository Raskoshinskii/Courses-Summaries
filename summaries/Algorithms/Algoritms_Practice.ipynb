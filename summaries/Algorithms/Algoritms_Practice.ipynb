{
 "cells": [
  {
   "cell_type": "markdown",
   "metadata": {},
   "source": [
    "### List Sum and List Len "
   ]
  },
  {
   "cell_type": "code",
   "execution_count": 5,
   "metadata": {},
   "outputs": [
    {
     "name": "stdout",
     "output_type": "stream",
     "text": [
      "Lst sum:  31\n",
      "Len lst:  3\n"
     ]
    }
   ],
   "source": [
    "# List sum \n",
    "def lst_sum(arr):\n",
    "    if len(arr) == 0:\n",
    "        return 0 \n",
    "    else:\n",
    "        return arr[0] + lst_sum(arr[1:]) \n",
    "    \n",
    "sample = [1, 10, 20]\n",
    "print('Lst sum: ', lst_sum(sample))\n",
    "\n",
    "# Better use loop rather than recursion\n",
    "def len_lst(arr):\n",
    "    cnt  = 0 \n",
    "    while arr:\n",
    "        cnt += 1\n",
    "        arr = arr[1:]\n",
    "    return cnt\n",
    "\n",
    "sample = [1, 10, 20]\n",
    "print('Len lst: ', len_lst(sample))"
   ]
  },
  {
   "cell_type": "markdown",
   "metadata": {},
   "source": [
    "### Fibonaci Sequence "
   ]
  },
  {
   "cell_type": "code",
   "execution_count": 26,
   "metadata": {},
   "outputs": [
    {
     "name": "stdout",
     "output_type": "stream",
     "text": [
      "Fibonaci Sequence of 10 elements\n",
      "1 1 2 3 5 8 13 21 34 55 "
     ]
    }
   ],
   "source": [
    "# Fibonaci Sequence \n",
    "def show_fib_seq(n):\n",
    "    a, b = 0, 1\n",
    "    for i in range(n):\n",
    "        a, b = b, a + b\n",
    "        print(a, end=' ')\n",
    "    \n",
    "n = 10 \n",
    "print(f'Fibonaci Sequence of {n} elements') \n",
    "show_fib_seq(n)"
   ]
  },
  {
   "cell_type": "code",
   "execution_count": 25,
   "metadata": {},
   "outputs": [
    {
     "name": "stdout",
     "output_type": "stream",
     "text": [
      "Sum Fibonaci Sequence of 4 elements:  2\n"
     ]
    }
   ],
   "source": [
    "# Fibonaci Sequence Sum\n",
    "def fib_seq_sum(n):\n",
    "    if n == 1:\n",
    "        return 0\n",
    "    elif n < 2:\n",
    "        return 1\n",
    "    else:\n",
    "        return fib_seq_sum(n-1) + fib_seq_sum(n-2)\n",
    "n = 4\n",
    "print(f'Sum Fibonaci Sequence of {n} elements: ', fib_seq_sum(n)) "
   ]
  },
  {
   "cell_type": "markdown",
   "metadata": {},
   "source": [
    "### Find Mode"
   ]
  },
  {
   "cell_type": "code",
   "execution_count": 29,
   "metadata": {},
   "outputs": [],
   "source": [
    "def find_mode(val_sequence):\n",
    "    if len(val_sequence) % 2 == 0:\n",
    "        mid_indx = len(val_sequence)//2\n",
    "        return (val_sequence[mid_indx] + val_sequence[mid_indx+1])/2\n",
    "    else:\n",
    "        return len(val_sequence)//2 + 1  "
   ]
  },
  {
   "cell_type": "markdown",
   "metadata": {},
   "source": [
    "### String Validator\n",
    "You are given a string .\n",
    "Your task is to find out **if the string contains any:** \n",
    "- Alphanumeric characters\n",
    "- Alphabetical characters \n",
    "- Digits\n",
    "- Lowercase \n",
    "- Uppercase characters"
   ]
  },
  {
   "cell_type": "code",
   "execution_count": 63,
   "metadata": {},
   "outputs": [
    {
     "name": "stdout",
     "output_type": "stream",
     "text": [
      "True True True True True "
     ]
    }
   ],
   "source": [
    "my_str = 'qA2'\n",
    "\n",
    "func_options = ['isalnum', 'isalpha', 'isdigit', 'islower', 'isupper']\n",
    "for func in func_options:\n",
    "    print(any(eval('letter.' + func + '()') for letter in my_str), end=' ')"
   ]
  }
 ],
 "metadata": {
  "kernelspec": {
   "display_name": "Python 3",
   "language": "python",
   "name": "python3"
  },
  "language_info": {
   "codemirror_mode": {
    "name": "ipython",
    "version": 3
   },
   "file_extension": ".py",
   "mimetype": "text/x-python",
   "name": "python",
   "nbconvert_exporter": "python",
   "pygments_lexer": "ipython3",
   "version": "3.7.9"
  }
 },
 "nbformat": 4,
 "nbformat_minor": 4
}
